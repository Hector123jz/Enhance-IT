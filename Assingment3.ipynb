{
  "nbformat": 4,
  "nbformat_minor": 0,
  "metadata": {
    "colab": {
      "name": "Assingment3.ipynb",
      "provenance": []
    },
    "kernelspec": {
      "name": "python3",
      "display_name": "Python 3"
    },
    "language_info": {
      "name": "python"
    }
  },
  "cells": [
    {
      "cell_type": "code",
      "execution_count": 553,
      "metadata": {
        "id": "bS26FCZ8tUEE"
      },
      "outputs": [],
      "source": [
        "import numpy as np\n",
        "import pandas as pd\n",
        "import matplotlib.pyplot as plt\n",
        "import seaborn as sns\n",
        "from scipy.stats import multivariate_normal as mvn"
      ]
    },
    {
      "cell_type": "code",
      "source": [
        "data = pd.read_csv('/content/drive/MyDrive/raw_house_data.csv .csv')"
      ],
      "metadata": {
        "id": "WEdzFEDitedb"
      },
      "execution_count": 554,
      "outputs": []
    },
    {
      "cell_type": "code",
      "source": [
        "data.head()"
      ],
      "metadata": {
        "colab": {
          "base_uri": "https://localhost:8080/",
          "height": 285
        },
        "id": "z4QBZ8qJtz8-",
        "outputId": "5b5f0a8f-f466-4060-ed7a-05c850f23e13"
      },
      "execution_count": 555,
      "outputs": [
        {
          "output_type": "execute_result",
          "data": {
            "text/plain": [
              "        MLS  sold_price  zipcode     longitude    latitude  lot_acres  \\\n",
              "0  21530491   5300000.0    85637    -1.103.782  31.356.362    2154.00   \n",
              "1  21529082   4200000.0    85646  -111.045.371  31.594.213    1707.00   \n",
              "2   3054672   4200000.0    85646  -111.040.707  31.594.844    1707.00   \n",
              "3  21919321   4500000.0    85646  -111.035.925  31.645.878     636.67   \n",
              "4  21306357   3411450.0    85750  -110.813.768  32.285.162       3.21   \n",
              "\n",
              "      taxes  year_built  bedrooms bathrooms sqrt_ft garage  \\\n",
              "0   5272.00        1941        13        10   10500      0   \n",
              "1  10422.36        1997         2         2    7300      0   \n",
              "2  10482.00        1997         2         3    None   None   \n",
              "3   8418.58        1930         7         5    9019      4   \n",
              "4  15393.00        1995         4         6    6396      3   \n",
              "\n",
              "                                    kitchen_features  fireplaces  \\\n",
              "0            Dishwasher, Freezer, Refrigerator, Oven         6.0   \n",
              "1                       Dishwasher, Garbage Disposal         5.0   \n",
              "2         Dishwasher, Garbage Disposal, Refrigerator         5.0   \n",
              "3  Dishwasher, Double Sink, Pantry: Butler, Refri...         4.0   \n",
              "4  Dishwasher, Garbage Disposal, Refrigerator, Mi...         5.0   \n",
              "\n",
              "                 floor_covering   HOA  \n",
              "0            Mexican Tile, Wood     0  \n",
              "1          Natural Stone, Other     0  \n",
              "2    Natural Stone, Other: Rock  None  \n",
              "3  Ceramic Tile, Laminate, Wood  None  \n",
              "4              Carpet, Concrete    55  "
            ],
            "text/html": [
              "\n",
              "  <div id=\"df-d47db335-0619-45c6-88d2-a3015943e217\">\n",
              "    <div class=\"colab-df-container\">\n",
              "      <div>\n",
              "<style scoped>\n",
              "    .dataframe tbody tr th:only-of-type {\n",
              "        vertical-align: middle;\n",
              "    }\n",
              "\n",
              "    .dataframe tbody tr th {\n",
              "        vertical-align: top;\n",
              "    }\n",
              "\n",
              "    .dataframe thead th {\n",
              "        text-align: right;\n",
              "    }\n",
              "</style>\n",
              "<table border=\"1\" class=\"dataframe\">\n",
              "  <thead>\n",
              "    <tr style=\"text-align: right;\">\n",
              "      <th></th>\n",
              "      <th>MLS</th>\n",
              "      <th>sold_price</th>\n",
              "      <th>zipcode</th>\n",
              "      <th>longitude</th>\n",
              "      <th>latitude</th>\n",
              "      <th>lot_acres</th>\n",
              "      <th>taxes</th>\n",
              "      <th>year_built</th>\n",
              "      <th>bedrooms</th>\n",
              "      <th>bathrooms</th>\n",
              "      <th>sqrt_ft</th>\n",
              "      <th>garage</th>\n",
              "      <th>kitchen_features</th>\n",
              "      <th>fireplaces</th>\n",
              "      <th>floor_covering</th>\n",
              "      <th>HOA</th>\n",
              "    </tr>\n",
              "  </thead>\n",
              "  <tbody>\n",
              "    <tr>\n",
              "      <th>0</th>\n",
              "      <td>21530491</td>\n",
              "      <td>5300000.0</td>\n",
              "      <td>85637</td>\n",
              "      <td>-1.103.782</td>\n",
              "      <td>31.356.362</td>\n",
              "      <td>2154.00</td>\n",
              "      <td>5272.00</td>\n",
              "      <td>1941</td>\n",
              "      <td>13</td>\n",
              "      <td>10</td>\n",
              "      <td>10500</td>\n",
              "      <td>0</td>\n",
              "      <td>Dishwasher, Freezer, Refrigerator, Oven</td>\n",
              "      <td>6.0</td>\n",
              "      <td>Mexican Tile, Wood</td>\n",
              "      <td>0</td>\n",
              "    </tr>\n",
              "    <tr>\n",
              "      <th>1</th>\n",
              "      <td>21529082</td>\n",
              "      <td>4200000.0</td>\n",
              "      <td>85646</td>\n",
              "      <td>-111.045.371</td>\n",
              "      <td>31.594.213</td>\n",
              "      <td>1707.00</td>\n",
              "      <td>10422.36</td>\n",
              "      <td>1997</td>\n",
              "      <td>2</td>\n",
              "      <td>2</td>\n",
              "      <td>7300</td>\n",
              "      <td>0</td>\n",
              "      <td>Dishwasher, Garbage Disposal</td>\n",
              "      <td>5.0</td>\n",
              "      <td>Natural Stone, Other</td>\n",
              "      <td>0</td>\n",
              "    </tr>\n",
              "    <tr>\n",
              "      <th>2</th>\n",
              "      <td>3054672</td>\n",
              "      <td>4200000.0</td>\n",
              "      <td>85646</td>\n",
              "      <td>-111.040.707</td>\n",
              "      <td>31.594.844</td>\n",
              "      <td>1707.00</td>\n",
              "      <td>10482.00</td>\n",
              "      <td>1997</td>\n",
              "      <td>2</td>\n",
              "      <td>3</td>\n",
              "      <td>None</td>\n",
              "      <td>None</td>\n",
              "      <td>Dishwasher, Garbage Disposal, Refrigerator</td>\n",
              "      <td>5.0</td>\n",
              "      <td>Natural Stone, Other: Rock</td>\n",
              "      <td>None</td>\n",
              "    </tr>\n",
              "    <tr>\n",
              "      <th>3</th>\n",
              "      <td>21919321</td>\n",
              "      <td>4500000.0</td>\n",
              "      <td>85646</td>\n",
              "      <td>-111.035.925</td>\n",
              "      <td>31.645.878</td>\n",
              "      <td>636.67</td>\n",
              "      <td>8418.58</td>\n",
              "      <td>1930</td>\n",
              "      <td>7</td>\n",
              "      <td>5</td>\n",
              "      <td>9019</td>\n",
              "      <td>4</td>\n",
              "      <td>Dishwasher, Double Sink, Pantry: Butler, Refri...</td>\n",
              "      <td>4.0</td>\n",
              "      <td>Ceramic Tile, Laminate, Wood</td>\n",
              "      <td>None</td>\n",
              "    </tr>\n",
              "    <tr>\n",
              "      <th>4</th>\n",
              "      <td>21306357</td>\n",
              "      <td>3411450.0</td>\n",
              "      <td>85750</td>\n",
              "      <td>-110.813.768</td>\n",
              "      <td>32.285.162</td>\n",
              "      <td>3.21</td>\n",
              "      <td>15393.00</td>\n",
              "      <td>1995</td>\n",
              "      <td>4</td>\n",
              "      <td>6</td>\n",
              "      <td>6396</td>\n",
              "      <td>3</td>\n",
              "      <td>Dishwasher, Garbage Disposal, Refrigerator, Mi...</td>\n",
              "      <td>5.0</td>\n",
              "      <td>Carpet, Concrete</td>\n",
              "      <td>55</td>\n",
              "    </tr>\n",
              "  </tbody>\n",
              "</table>\n",
              "</div>\n",
              "      <button class=\"colab-df-convert\" onclick=\"convertToInteractive('df-d47db335-0619-45c6-88d2-a3015943e217')\"\n",
              "              title=\"Convert this dataframe to an interactive table.\"\n",
              "              style=\"display:none;\">\n",
              "        \n",
              "  <svg xmlns=\"http://www.w3.org/2000/svg\" height=\"24px\"viewBox=\"0 0 24 24\"\n",
              "       width=\"24px\">\n",
              "    <path d=\"M0 0h24v24H0V0z\" fill=\"none\"/>\n",
              "    <path d=\"M18.56 5.44l.94 2.06.94-2.06 2.06-.94-2.06-.94-.94-2.06-.94 2.06-2.06.94zm-11 1L8.5 8.5l.94-2.06 2.06-.94-2.06-.94L8.5 2.5l-.94 2.06-2.06.94zm10 10l.94 2.06.94-2.06 2.06-.94-2.06-.94-.94-2.06-.94 2.06-2.06.94z\"/><path d=\"M17.41 7.96l-1.37-1.37c-.4-.4-.92-.59-1.43-.59-.52 0-1.04.2-1.43.59L10.3 9.45l-7.72 7.72c-.78.78-.78 2.05 0 2.83L4 21.41c.39.39.9.59 1.41.59.51 0 1.02-.2 1.41-.59l7.78-7.78 2.81-2.81c.8-.78.8-2.07 0-2.86zM5.41 20L4 18.59l7.72-7.72 1.47 1.35L5.41 20z\"/>\n",
              "  </svg>\n",
              "      </button>\n",
              "      \n",
              "  <style>\n",
              "    .colab-df-container {\n",
              "      display:flex;\n",
              "      flex-wrap:wrap;\n",
              "      gap: 12px;\n",
              "    }\n",
              "\n",
              "    .colab-df-convert {\n",
              "      background-color: #E8F0FE;\n",
              "      border: none;\n",
              "      border-radius: 50%;\n",
              "      cursor: pointer;\n",
              "      display: none;\n",
              "      fill: #1967D2;\n",
              "      height: 32px;\n",
              "      padding: 0 0 0 0;\n",
              "      width: 32px;\n",
              "    }\n",
              "\n",
              "    .colab-df-convert:hover {\n",
              "      background-color: #E2EBFA;\n",
              "      box-shadow: 0px 1px 2px rgba(60, 64, 67, 0.3), 0px 1px 3px 1px rgba(60, 64, 67, 0.15);\n",
              "      fill: #174EA6;\n",
              "    }\n",
              "\n",
              "    [theme=dark] .colab-df-convert {\n",
              "      background-color: #3B4455;\n",
              "      fill: #D2E3FC;\n",
              "    }\n",
              "\n",
              "    [theme=dark] .colab-df-convert:hover {\n",
              "      background-color: #434B5C;\n",
              "      box-shadow: 0px 1px 3px 1px rgba(0, 0, 0, 0.15);\n",
              "      filter: drop-shadow(0px 1px 2px rgba(0, 0, 0, 0.3));\n",
              "      fill: #FFFFFF;\n",
              "    }\n",
              "  </style>\n",
              "\n",
              "      <script>\n",
              "        const buttonEl =\n",
              "          document.querySelector('#df-d47db335-0619-45c6-88d2-a3015943e217 button.colab-df-convert');\n",
              "        buttonEl.style.display =\n",
              "          google.colab.kernel.accessAllowed ? 'block' : 'none';\n",
              "\n",
              "        async function convertToInteractive(key) {\n",
              "          const element = document.querySelector('#df-d47db335-0619-45c6-88d2-a3015943e217');\n",
              "          const dataTable =\n",
              "            await google.colab.kernel.invokeFunction('convertToInteractive',\n",
              "                                                     [key], {});\n",
              "          if (!dataTable) return;\n",
              "\n",
              "          const docLinkHtml = 'Like what you see? Visit the ' +\n",
              "            '<a target=\"_blank\" href=https://colab.research.google.com/notebooks/data_table.ipynb>data table notebook</a>'\n",
              "            + ' to learn more about interactive tables.';\n",
              "          element.innerHTML = '';\n",
              "          dataTable['output_type'] = 'display_data';\n",
              "          await google.colab.output.renderOutput(dataTable, element);\n",
              "          const docLink = document.createElement('div');\n",
              "          docLink.innerHTML = docLinkHtml;\n",
              "          element.appendChild(docLink);\n",
              "        }\n",
              "      </script>\n",
              "    </div>\n",
              "  </div>\n",
              "  "
            ]
          },
          "metadata": {},
          "execution_count": 555
        }
      ]
    },
    {
      "cell_type": "code",
      "source": [
        "data.shape"
      ],
      "metadata": {
        "colab": {
          "base_uri": "https://localhost:8080/",
          "height": 0
        },
        "id": "yjNSSKJMuBcs",
        "outputId": "3702d305-19a2-4d6c-ba5d-adeb7f5d7e76"
      },
      "execution_count": 556,
      "outputs": [
        {
          "output_type": "execute_result",
          "data": {
            "text/plain": [
              "(5000, 16)"
            ]
          },
          "metadata": {},
          "execution_count": 556
        }
      ]
    },
    {
      "cell_type": "code",
      "source": [
        "data.columns"
      ],
      "metadata": {
        "colab": {
          "base_uri": "https://localhost:8080/",
          "height": 0
        },
        "id": "RQJNNuDcuWmj",
        "outputId": "e9ff6c0d-3468-43a9-f85b-cf54de58ee7b"
      },
      "execution_count": 557,
      "outputs": [
        {
          "output_type": "execute_result",
          "data": {
            "text/plain": [
              "Index(['MLS', 'sold_price', 'zipcode', 'longitude', 'latitude', 'lot_acres',\n",
              "       'taxes', 'year_built', 'bedrooms', 'bathrooms', 'sqrt_ft', 'garage',\n",
              "       'kitchen_features', 'fireplaces', 'floor_covering', 'HOA'],\n",
              "      dtype='object')"
            ]
          },
          "metadata": {},
          "execution_count": 557
        }
      ]
    },
    {
      "cell_type": "code",
      "source": [
        "data.dtypes"
      ],
      "metadata": {
        "colab": {
          "base_uri": "https://localhost:8080/",
          "height": 0
        },
        "id": "9R8R88-KxKR6",
        "outputId": "3871c08c-afea-4135-c3cf-c8be513c1780"
      },
      "execution_count": 558,
      "outputs": [
        {
          "output_type": "execute_result",
          "data": {
            "text/plain": [
              "MLS                   int64\n",
              "sold_price          float64\n",
              "zipcode               int64\n",
              "longitude            object\n",
              "latitude             object\n",
              "lot_acres           float64\n",
              "taxes               float64\n",
              "year_built            int64\n",
              "bedrooms              int64\n",
              "bathrooms            object\n",
              "sqrt_ft              object\n",
              "garage               object\n",
              "kitchen_features     object\n",
              "fireplaces          float64\n",
              "floor_covering       object\n",
              "HOA                  object\n",
              "dtype: object"
            ]
          },
          "metadata": {},
          "execution_count": 558
        }
      ]
    },
    {
      "cell_type": "code",
      "source": [
        "data.describe()"
      ],
      "metadata": {
        "colab": {
          "base_uri": "https://localhost:8080/",
          "height": 300
        },
        "id": "VusJDlOdKBsC",
        "outputId": "a18cf618-0e65-401c-c8c4-b57df20a22fe"
      },
      "execution_count": 559,
      "outputs": [
        {
          "output_type": "execute_result",
          "data": {
            "text/plain": [
              "                MLS    sold_price       zipcode    lot_acres         taxes  \\\n",
              "count  5.000000e+03  5.000000e+03   5000.000000  4990.000000  5.000000e+03   \n",
              "mean   2.127070e+07  7.746262e+05  85723.025600     4.661317  9.402828e+03   \n",
              "std    2.398508e+06  3.185556e+05     38.061712    51.685230  1.729385e+05   \n",
              "min    3.042851e+06  1.690000e+05  85118.000000     0.000000  0.000000e+00   \n",
              "25%    2.140718e+07  5.850000e+05  85718.000000     0.580000  4.803605e+03   \n",
              "50%    2.161469e+07  6.750000e+05  85737.000000     0.990000  6.223760e+03   \n",
              "75%    2.180480e+07  8.350000e+05  85749.000000     1.757500  8.082830e+03   \n",
              "max    2.192856e+07  5.300000e+06  86323.000000  2154.000000  1.221508e+07   \n",
              "\n",
              "       year_built     bedrooms   fireplaces  \n",
              "count  5000.00000  5000.000000  4975.000000  \n",
              "mean   1992.32800     3.933800     1.885226  \n",
              "std      65.48614     1.245362     1.136578  \n",
              "min       0.00000     1.000000     0.000000  \n",
              "25%    1987.00000     3.000000     1.000000  \n",
              "50%    1999.00000     4.000000     2.000000  \n",
              "75%    2006.00000     4.000000     3.000000  \n",
              "max    2019.00000    36.000000     9.000000  "
            ],
            "text/html": [
              "\n",
              "  <div id=\"df-1c01e949-8ce7-401c-b669-f704675c6ae5\">\n",
              "    <div class=\"colab-df-container\">\n",
              "      <div>\n",
              "<style scoped>\n",
              "    .dataframe tbody tr th:only-of-type {\n",
              "        vertical-align: middle;\n",
              "    }\n",
              "\n",
              "    .dataframe tbody tr th {\n",
              "        vertical-align: top;\n",
              "    }\n",
              "\n",
              "    .dataframe thead th {\n",
              "        text-align: right;\n",
              "    }\n",
              "</style>\n",
              "<table border=\"1\" class=\"dataframe\">\n",
              "  <thead>\n",
              "    <tr style=\"text-align: right;\">\n",
              "      <th></th>\n",
              "      <th>MLS</th>\n",
              "      <th>sold_price</th>\n",
              "      <th>zipcode</th>\n",
              "      <th>lot_acres</th>\n",
              "      <th>taxes</th>\n",
              "      <th>year_built</th>\n",
              "      <th>bedrooms</th>\n",
              "      <th>fireplaces</th>\n",
              "    </tr>\n",
              "  </thead>\n",
              "  <tbody>\n",
              "    <tr>\n",
              "      <th>count</th>\n",
              "      <td>5.000000e+03</td>\n",
              "      <td>5.000000e+03</td>\n",
              "      <td>5000.000000</td>\n",
              "      <td>4990.000000</td>\n",
              "      <td>5.000000e+03</td>\n",
              "      <td>5000.00000</td>\n",
              "      <td>5000.000000</td>\n",
              "      <td>4975.000000</td>\n",
              "    </tr>\n",
              "    <tr>\n",
              "      <th>mean</th>\n",
              "      <td>2.127070e+07</td>\n",
              "      <td>7.746262e+05</td>\n",
              "      <td>85723.025600</td>\n",
              "      <td>4.661317</td>\n",
              "      <td>9.402828e+03</td>\n",
              "      <td>1992.32800</td>\n",
              "      <td>3.933800</td>\n",
              "      <td>1.885226</td>\n",
              "    </tr>\n",
              "    <tr>\n",
              "      <th>std</th>\n",
              "      <td>2.398508e+06</td>\n",
              "      <td>3.185556e+05</td>\n",
              "      <td>38.061712</td>\n",
              "      <td>51.685230</td>\n",
              "      <td>1.729385e+05</td>\n",
              "      <td>65.48614</td>\n",
              "      <td>1.245362</td>\n",
              "      <td>1.136578</td>\n",
              "    </tr>\n",
              "    <tr>\n",
              "      <th>min</th>\n",
              "      <td>3.042851e+06</td>\n",
              "      <td>1.690000e+05</td>\n",
              "      <td>85118.000000</td>\n",
              "      <td>0.000000</td>\n",
              "      <td>0.000000e+00</td>\n",
              "      <td>0.00000</td>\n",
              "      <td>1.000000</td>\n",
              "      <td>0.000000</td>\n",
              "    </tr>\n",
              "    <tr>\n",
              "      <th>25%</th>\n",
              "      <td>2.140718e+07</td>\n",
              "      <td>5.850000e+05</td>\n",
              "      <td>85718.000000</td>\n",
              "      <td>0.580000</td>\n",
              "      <td>4.803605e+03</td>\n",
              "      <td>1987.00000</td>\n",
              "      <td>3.000000</td>\n",
              "      <td>1.000000</td>\n",
              "    </tr>\n",
              "    <tr>\n",
              "      <th>50%</th>\n",
              "      <td>2.161469e+07</td>\n",
              "      <td>6.750000e+05</td>\n",
              "      <td>85737.000000</td>\n",
              "      <td>0.990000</td>\n",
              "      <td>6.223760e+03</td>\n",
              "      <td>1999.00000</td>\n",
              "      <td>4.000000</td>\n",
              "      <td>2.000000</td>\n",
              "    </tr>\n",
              "    <tr>\n",
              "      <th>75%</th>\n",
              "      <td>2.180480e+07</td>\n",
              "      <td>8.350000e+05</td>\n",
              "      <td>85749.000000</td>\n",
              "      <td>1.757500</td>\n",
              "      <td>8.082830e+03</td>\n",
              "      <td>2006.00000</td>\n",
              "      <td>4.000000</td>\n",
              "      <td>3.000000</td>\n",
              "    </tr>\n",
              "    <tr>\n",
              "      <th>max</th>\n",
              "      <td>2.192856e+07</td>\n",
              "      <td>5.300000e+06</td>\n",
              "      <td>86323.000000</td>\n",
              "      <td>2154.000000</td>\n",
              "      <td>1.221508e+07</td>\n",
              "      <td>2019.00000</td>\n",
              "      <td>36.000000</td>\n",
              "      <td>9.000000</td>\n",
              "    </tr>\n",
              "  </tbody>\n",
              "</table>\n",
              "</div>\n",
              "      <button class=\"colab-df-convert\" onclick=\"convertToInteractive('df-1c01e949-8ce7-401c-b669-f704675c6ae5')\"\n",
              "              title=\"Convert this dataframe to an interactive table.\"\n",
              "              style=\"display:none;\">\n",
              "        \n",
              "  <svg xmlns=\"http://www.w3.org/2000/svg\" height=\"24px\"viewBox=\"0 0 24 24\"\n",
              "       width=\"24px\">\n",
              "    <path d=\"M0 0h24v24H0V0z\" fill=\"none\"/>\n",
              "    <path d=\"M18.56 5.44l.94 2.06.94-2.06 2.06-.94-2.06-.94-.94-2.06-.94 2.06-2.06.94zm-11 1L8.5 8.5l.94-2.06 2.06-.94-2.06-.94L8.5 2.5l-.94 2.06-2.06.94zm10 10l.94 2.06.94-2.06 2.06-.94-2.06-.94-.94-2.06-.94 2.06-2.06.94z\"/><path d=\"M17.41 7.96l-1.37-1.37c-.4-.4-.92-.59-1.43-.59-.52 0-1.04.2-1.43.59L10.3 9.45l-7.72 7.72c-.78.78-.78 2.05 0 2.83L4 21.41c.39.39.9.59 1.41.59.51 0 1.02-.2 1.41-.59l7.78-7.78 2.81-2.81c.8-.78.8-2.07 0-2.86zM5.41 20L4 18.59l7.72-7.72 1.47 1.35L5.41 20z\"/>\n",
              "  </svg>\n",
              "      </button>\n",
              "      \n",
              "  <style>\n",
              "    .colab-df-container {\n",
              "      display:flex;\n",
              "      flex-wrap:wrap;\n",
              "      gap: 12px;\n",
              "    }\n",
              "\n",
              "    .colab-df-convert {\n",
              "      background-color: #E8F0FE;\n",
              "      border: none;\n",
              "      border-radius: 50%;\n",
              "      cursor: pointer;\n",
              "      display: none;\n",
              "      fill: #1967D2;\n",
              "      height: 32px;\n",
              "      padding: 0 0 0 0;\n",
              "      width: 32px;\n",
              "    }\n",
              "\n",
              "    .colab-df-convert:hover {\n",
              "      background-color: #E2EBFA;\n",
              "      box-shadow: 0px 1px 2px rgba(60, 64, 67, 0.3), 0px 1px 3px 1px rgba(60, 64, 67, 0.15);\n",
              "      fill: #174EA6;\n",
              "    }\n",
              "\n",
              "    [theme=dark] .colab-df-convert {\n",
              "      background-color: #3B4455;\n",
              "      fill: #D2E3FC;\n",
              "    }\n",
              "\n",
              "    [theme=dark] .colab-df-convert:hover {\n",
              "      background-color: #434B5C;\n",
              "      box-shadow: 0px 1px 3px 1px rgba(0, 0, 0, 0.15);\n",
              "      filter: drop-shadow(0px 1px 2px rgba(0, 0, 0, 0.3));\n",
              "      fill: #FFFFFF;\n",
              "    }\n",
              "  </style>\n",
              "\n",
              "      <script>\n",
              "        const buttonEl =\n",
              "          document.querySelector('#df-1c01e949-8ce7-401c-b669-f704675c6ae5 button.colab-df-convert');\n",
              "        buttonEl.style.display =\n",
              "          google.colab.kernel.accessAllowed ? 'block' : 'none';\n",
              "\n",
              "        async function convertToInteractive(key) {\n",
              "          const element = document.querySelector('#df-1c01e949-8ce7-401c-b669-f704675c6ae5');\n",
              "          const dataTable =\n",
              "            await google.colab.kernel.invokeFunction('convertToInteractive',\n",
              "                                                     [key], {});\n",
              "          if (!dataTable) return;\n",
              "\n",
              "          const docLinkHtml = 'Like what you see? Visit the ' +\n",
              "            '<a target=\"_blank\" href=https://colab.research.google.com/notebooks/data_table.ipynb>data table notebook</a>'\n",
              "            + ' to learn more about interactive tables.';\n",
              "          element.innerHTML = '';\n",
              "          dataTable['output_type'] = 'display_data';\n",
              "          await google.colab.output.renderOutput(dataTable, element);\n",
              "          const docLink = document.createElement('div');\n",
              "          docLink.innerHTML = docLinkHtml;\n",
              "          element.appendChild(docLink);\n",
              "        }\n",
              "      </script>\n",
              "    </div>\n",
              "  </div>\n",
              "  "
            ]
          },
          "metadata": {},
          "execution_count": 559
        }
      ]
    },
    {
      "cell_type": "code",
      "source": [
        "corr = data.corr()\n",
        "corr"
      ],
      "metadata": {
        "colab": {
          "base_uri": "https://localhost:8080/",
          "height": 300
        },
        "id": "H0gy3zSAMHuc",
        "outputId": "94c2f1df-09a7-44f0-c085-ee828cc2f3fd"
      },
      "execution_count": 560,
      "outputs": [
        {
          "output_type": "execute_result",
          "data": {
            "text/plain": [
              "                 MLS  sold_price   zipcode  lot_acres     taxes  year_built  \\\n",
              "MLS         1.000000    0.031019  0.323165  -0.084742  0.003306   -0.003144   \n",
              "sold_price  0.031019    1.000000 -0.039925   0.332357  0.023326   -0.014064   \n",
              "zipcode     0.323165   -0.039925  1.000000  -0.127783 -0.001265    0.037776   \n",
              "lot_acres  -0.084742    0.332357 -0.127783   1.000000 -0.000571   -0.039552   \n",
              "taxes       0.003306    0.023326 -0.001265  -0.000571  1.000000    0.000021   \n",
              "year_built -0.003144   -0.014064  0.037776  -0.039552  0.000021    1.000000   \n",
              "bedrooms   -0.012254    0.115932  0.049982   0.069277  0.005259   -0.086302   \n",
              "fireplaces -0.062502    0.384388 -0.017290   0.086382  0.022555   -0.032150   \n",
              "\n",
              "            bedrooms  fireplaces  \n",
              "MLS        -0.012254   -0.062502  \n",
              "sold_price  0.115932    0.384388  \n",
              "zipcode     0.049982   -0.017290  \n",
              "lot_acres   0.069277    0.086382  \n",
              "taxes       0.005259    0.022555  \n",
              "year_built -0.086302   -0.032150  \n",
              "bedrooms    1.000000    0.145481  \n",
              "fireplaces  0.145481    1.000000  "
            ],
            "text/html": [
              "\n",
              "  <div id=\"df-005f85d1-1e1c-44fa-9522-c1605dea5823\">\n",
              "    <div class=\"colab-df-container\">\n",
              "      <div>\n",
              "<style scoped>\n",
              "    .dataframe tbody tr th:only-of-type {\n",
              "        vertical-align: middle;\n",
              "    }\n",
              "\n",
              "    .dataframe tbody tr th {\n",
              "        vertical-align: top;\n",
              "    }\n",
              "\n",
              "    .dataframe thead th {\n",
              "        text-align: right;\n",
              "    }\n",
              "</style>\n",
              "<table border=\"1\" class=\"dataframe\">\n",
              "  <thead>\n",
              "    <tr style=\"text-align: right;\">\n",
              "      <th></th>\n",
              "      <th>MLS</th>\n",
              "      <th>sold_price</th>\n",
              "      <th>zipcode</th>\n",
              "      <th>lot_acres</th>\n",
              "      <th>taxes</th>\n",
              "      <th>year_built</th>\n",
              "      <th>bedrooms</th>\n",
              "      <th>fireplaces</th>\n",
              "    </tr>\n",
              "  </thead>\n",
              "  <tbody>\n",
              "    <tr>\n",
              "      <th>MLS</th>\n",
              "      <td>1.000000</td>\n",
              "      <td>0.031019</td>\n",
              "      <td>0.323165</td>\n",
              "      <td>-0.084742</td>\n",
              "      <td>0.003306</td>\n",
              "      <td>-0.003144</td>\n",
              "      <td>-0.012254</td>\n",
              "      <td>-0.062502</td>\n",
              "    </tr>\n",
              "    <tr>\n",
              "      <th>sold_price</th>\n",
              "      <td>0.031019</td>\n",
              "      <td>1.000000</td>\n",
              "      <td>-0.039925</td>\n",
              "      <td>0.332357</td>\n",
              "      <td>0.023326</td>\n",
              "      <td>-0.014064</td>\n",
              "      <td>0.115932</td>\n",
              "      <td>0.384388</td>\n",
              "    </tr>\n",
              "    <tr>\n",
              "      <th>zipcode</th>\n",
              "      <td>0.323165</td>\n",
              "      <td>-0.039925</td>\n",
              "      <td>1.000000</td>\n",
              "      <td>-0.127783</td>\n",
              "      <td>-0.001265</td>\n",
              "      <td>0.037776</td>\n",
              "      <td>0.049982</td>\n",
              "      <td>-0.017290</td>\n",
              "    </tr>\n",
              "    <tr>\n",
              "      <th>lot_acres</th>\n",
              "      <td>-0.084742</td>\n",
              "      <td>0.332357</td>\n",
              "      <td>-0.127783</td>\n",
              "      <td>1.000000</td>\n",
              "      <td>-0.000571</td>\n",
              "      <td>-0.039552</td>\n",
              "      <td>0.069277</td>\n",
              "      <td>0.086382</td>\n",
              "    </tr>\n",
              "    <tr>\n",
              "      <th>taxes</th>\n",
              "      <td>0.003306</td>\n",
              "      <td>0.023326</td>\n",
              "      <td>-0.001265</td>\n",
              "      <td>-0.000571</td>\n",
              "      <td>1.000000</td>\n",
              "      <td>0.000021</td>\n",
              "      <td>0.005259</td>\n",
              "      <td>0.022555</td>\n",
              "    </tr>\n",
              "    <tr>\n",
              "      <th>year_built</th>\n",
              "      <td>-0.003144</td>\n",
              "      <td>-0.014064</td>\n",
              "      <td>0.037776</td>\n",
              "      <td>-0.039552</td>\n",
              "      <td>0.000021</td>\n",
              "      <td>1.000000</td>\n",
              "      <td>-0.086302</td>\n",
              "      <td>-0.032150</td>\n",
              "    </tr>\n",
              "    <tr>\n",
              "      <th>bedrooms</th>\n",
              "      <td>-0.012254</td>\n",
              "      <td>0.115932</td>\n",
              "      <td>0.049982</td>\n",
              "      <td>0.069277</td>\n",
              "      <td>0.005259</td>\n",
              "      <td>-0.086302</td>\n",
              "      <td>1.000000</td>\n",
              "      <td>0.145481</td>\n",
              "    </tr>\n",
              "    <tr>\n",
              "      <th>fireplaces</th>\n",
              "      <td>-0.062502</td>\n",
              "      <td>0.384388</td>\n",
              "      <td>-0.017290</td>\n",
              "      <td>0.086382</td>\n",
              "      <td>0.022555</td>\n",
              "      <td>-0.032150</td>\n",
              "      <td>0.145481</td>\n",
              "      <td>1.000000</td>\n",
              "    </tr>\n",
              "  </tbody>\n",
              "</table>\n",
              "</div>\n",
              "      <button class=\"colab-df-convert\" onclick=\"convertToInteractive('df-005f85d1-1e1c-44fa-9522-c1605dea5823')\"\n",
              "              title=\"Convert this dataframe to an interactive table.\"\n",
              "              style=\"display:none;\">\n",
              "        \n",
              "  <svg xmlns=\"http://www.w3.org/2000/svg\" height=\"24px\"viewBox=\"0 0 24 24\"\n",
              "       width=\"24px\">\n",
              "    <path d=\"M0 0h24v24H0V0z\" fill=\"none\"/>\n",
              "    <path d=\"M18.56 5.44l.94 2.06.94-2.06 2.06-.94-2.06-.94-.94-2.06-.94 2.06-2.06.94zm-11 1L8.5 8.5l.94-2.06 2.06-.94-2.06-.94L8.5 2.5l-.94 2.06-2.06.94zm10 10l.94 2.06.94-2.06 2.06-.94-2.06-.94-.94-2.06-.94 2.06-2.06.94z\"/><path d=\"M17.41 7.96l-1.37-1.37c-.4-.4-.92-.59-1.43-.59-.52 0-1.04.2-1.43.59L10.3 9.45l-7.72 7.72c-.78.78-.78 2.05 0 2.83L4 21.41c.39.39.9.59 1.41.59.51 0 1.02-.2 1.41-.59l7.78-7.78 2.81-2.81c.8-.78.8-2.07 0-2.86zM5.41 20L4 18.59l7.72-7.72 1.47 1.35L5.41 20z\"/>\n",
              "  </svg>\n",
              "      </button>\n",
              "      \n",
              "  <style>\n",
              "    .colab-df-container {\n",
              "      display:flex;\n",
              "      flex-wrap:wrap;\n",
              "      gap: 12px;\n",
              "    }\n",
              "\n",
              "    .colab-df-convert {\n",
              "      background-color: #E8F0FE;\n",
              "      border: none;\n",
              "      border-radius: 50%;\n",
              "      cursor: pointer;\n",
              "      display: none;\n",
              "      fill: #1967D2;\n",
              "      height: 32px;\n",
              "      padding: 0 0 0 0;\n",
              "      width: 32px;\n",
              "    }\n",
              "\n",
              "    .colab-df-convert:hover {\n",
              "      background-color: #E2EBFA;\n",
              "      box-shadow: 0px 1px 2px rgba(60, 64, 67, 0.3), 0px 1px 3px 1px rgba(60, 64, 67, 0.15);\n",
              "      fill: #174EA6;\n",
              "    }\n",
              "\n",
              "    [theme=dark] .colab-df-convert {\n",
              "      background-color: #3B4455;\n",
              "      fill: #D2E3FC;\n",
              "    }\n",
              "\n",
              "    [theme=dark] .colab-df-convert:hover {\n",
              "      background-color: #434B5C;\n",
              "      box-shadow: 0px 1px 3px 1px rgba(0, 0, 0, 0.15);\n",
              "      filter: drop-shadow(0px 1px 2px rgba(0, 0, 0, 0.3));\n",
              "      fill: #FFFFFF;\n",
              "    }\n",
              "  </style>\n",
              "\n",
              "      <script>\n",
              "        const buttonEl =\n",
              "          document.querySelector('#df-005f85d1-1e1c-44fa-9522-c1605dea5823 button.colab-df-convert');\n",
              "        buttonEl.style.display =\n",
              "          google.colab.kernel.accessAllowed ? 'block' : 'none';\n",
              "\n",
              "        async function convertToInteractive(key) {\n",
              "          const element = document.querySelector('#df-005f85d1-1e1c-44fa-9522-c1605dea5823');\n",
              "          const dataTable =\n",
              "            await google.colab.kernel.invokeFunction('convertToInteractive',\n",
              "                                                     [key], {});\n",
              "          if (!dataTable) return;\n",
              "\n",
              "          const docLinkHtml = 'Like what you see? Visit the ' +\n",
              "            '<a target=\"_blank\" href=https://colab.research.google.com/notebooks/data_table.ipynb>data table notebook</a>'\n",
              "            + ' to learn more about interactive tables.';\n",
              "          element.innerHTML = '';\n",
              "          dataTable['output_type'] = 'display_data';\n",
              "          await google.colab.output.renderOutput(dataTable, element);\n",
              "          const docLink = document.createElement('div');\n",
              "          docLink.innerHTML = docLinkHtml;\n",
              "          element.appendChild(docLink);\n",
              "        }\n",
              "      </script>\n",
              "    </div>\n",
              "  </div>\n",
              "  "
            ]
          },
          "metadata": {},
          "execution_count": 560
        }
      ]
    },
    {
      "cell_type": "code",
      "source": [
        "data['bathrooms'].value_counts()"
      ],
      "metadata": {
        "colab": {
          "base_uri": "https://localhost:8080/",
          "height": 0
        },
        "id": "_LzsJCqNx0ox",
        "outputId": "c6e7b229-0401-4712-b129-d4ba227fc5c8"
      },
      "execution_count": 561,
      "outputs": [
        {
          "output_type": "execute_result",
          "data": {
            "text/plain": [
              "3       1993\n",
              "4       1842\n",
              "5        654\n",
              "6        207\n",
              "2        189\n",
              "7         58\n",
              "8         19\n",
              "9          8\n",
              "3.5        7\n",
              "None       6\n",
              "1          3\n",
              "2.5        3\n",
              "35         3\n",
              "11         2\n",
              "10         1\n",
              "14         1\n",
              "18         1\n",
              "4.5        1\n",
              "15         1\n",
              "36         1\n",
              "Name: bathrooms, dtype: int64"
            ]
          },
          "metadata": {},
          "execution_count": 561
        }
      ]
    },
    {
      "cell_type": "code",
      "source": [
        "data['bathrooms'].replace('None', np.nan, inplace=True)\n",
        "datax= data['bathrooms'].median()\n",
        "data.fillna(datax, inplace= True)"
      ],
      "metadata": {
        "id": "W6_5nxxKAUlv"
      },
      "execution_count": 562,
      "outputs": []
    },
    {
      "cell_type": "code",
      "source": [
        "data['bathrooms'].value_counts()"
      ],
      "metadata": {
        "colab": {
          "base_uri": "https://localhost:8080/",
          "height": 0
        },
        "id": "OYOY3FkFAUeh",
        "outputId": "6d505d5b-a090-4cd3-8ea0-24ded1e65d87"
      },
      "execution_count": 563,
      "outputs": [
        {
          "output_type": "execute_result",
          "data": {
            "text/plain": [
              "3      1993\n",
              "4      1842\n",
              "5       654\n",
              "6       207\n",
              "2       189\n",
              "7        58\n",
              "8        19\n",
              "9         8\n",
              "3.5       7\n",
              "4.0       6\n",
              "1         3\n",
              "2.5       3\n",
              "35        3\n",
              "11        2\n",
              "10        1\n",
              "14        1\n",
              "18        1\n",
              "4.5       1\n",
              "15        1\n",
              "36        1\n",
              "Name: bathrooms, dtype: int64"
            ]
          },
          "metadata": {},
          "execution_count": 563
        }
      ]
    },
    {
      "cell_type": "code",
      "source": [
        "data['sqrt_ft'].value_counts()"
      ],
      "metadata": {
        "colab": {
          "base_uri": "https://localhost:8080/",
          "height": 0
        },
        "id": "rqPlxeAS-Aix",
        "outputId": "184ddf42-3cf6-4377-8876-a71a2a826861"
      },
      "execution_count": 564,
      "outputs": [
        {
          "output_type": "execute_result",
          "data": {
            "text/plain": [
              "None    56\n",
              "3541    50\n",
              "3052    25\n",
              "3420    18\n",
              "3002    16\n",
              "        ..\n",
              "4362     1\n",
              "5586     1\n",
              "5117     1\n",
              "3793     1\n",
              "1772     1\n",
              "Name: sqrt_ft, Length: 2362, dtype: int64"
            ]
          },
          "metadata": {},
          "execution_count": 564
        }
      ]
    },
    {
      "cell_type": "code",
      "source": [
        "data['sqrt_ft'].replace('None', np.nan, inplace=True)\n",
        "datax= data['sqrt_ft'].median()\n",
        "data.fillna(datax, inplace= True)"
      ],
      "metadata": {
        "id": "YH2NOr8sNT7_"
      },
      "execution_count": 565,
      "outputs": []
    },
    {
      "cell_type": "code",
      "source": [
        "data['sqrt_ft'].value_counts()"
      ],
      "metadata": {
        "colab": {
          "base_uri": "https://localhost:8080/",
          "height": 0
        },
        "id": "WCQZr0xhNauu",
        "outputId": "1b1798ea-f411-4adf-898b-822e907846c4"
      },
      "execution_count": 566,
      "outputs": [
        {
          "output_type": "execute_result",
          "data": {
            "text/plain": [
              "3512.0    56\n",
              "3541      50\n",
              "3052      25\n",
              "3420      18\n",
              "3002      16\n",
              "          ..\n",
              "4362       1\n",
              "5586       1\n",
              "5117       1\n",
              "3793       1\n",
              "1772       1\n",
              "Name: sqrt_ft, Length: 2362, dtype: int64"
            ]
          },
          "metadata": {},
          "execution_count": 566
        }
      ]
    },
    {
      "cell_type": "code",
      "source": [
        "data['garage'].value_counts()"
      ],
      "metadata": {
        "colab": {
          "base_uri": "https://localhost:8080/",
          "height": 0
        },
        "id": "nnYBo1fD-GMq",
        "outputId": "e93085c3-cebe-4bc4-b5ed-0fd731197a87"
      },
      "execution_count": 567,
      "outputs": [
        {
          "output_type": "execute_result",
          "data": {
            "text/plain": [
              "3       2797\n",
              "2       1337\n",
              "4        383\n",
              "0        184\n",
              "5         88\n",
              "6         61\n",
              "2.5       48\n",
              "1         30\n",
              "3.5       16\n",
              "8         14\n",
              "7         13\n",
              "None       7\n",
              "9          6\n",
              "4.5        4\n",
              "12         3\n",
              "10         3\n",
              "15         1\n",
              "22         1\n",
              "30         1\n",
              "11         1\n",
              "20         1\n",
              "13         1\n",
              "Name: garage, dtype: int64"
            ]
          },
          "metadata": {},
          "execution_count": 567
        }
      ]
    },
    {
      "cell_type": "code",
      "source": [
        "data['garage'].replace('None', np.nan, inplace=True)\n",
        "datax= data['garage'].median()\n",
        "data.fillna(datax, inplace= True)"
      ],
      "metadata": {
        "id": "0C7QxbmkNjFq"
      },
      "execution_count": 568,
      "outputs": []
    },
    {
      "cell_type": "code",
      "source": [
        "data['garage'].value_counts()"
      ],
      "metadata": {
        "colab": {
          "base_uri": "https://localhost:8080/",
          "height": 0
        },
        "id": "vriyclYrNn9T",
        "outputId": "e4b3b501-e803-4f7c-a694-3da203fb8e94"
      },
      "execution_count": 569,
      "outputs": [
        {
          "output_type": "execute_result",
          "data": {
            "text/plain": [
              "3      2797\n",
              "2      1337\n",
              "4       383\n",
              "0       184\n",
              "5        88\n",
              "6        61\n",
              "2.5      48\n",
              "1        30\n",
              "3.5      16\n",
              "8        14\n",
              "7        13\n",
              "3.0       7\n",
              "9         6\n",
              "4.5       4\n",
              "12        3\n",
              "10        3\n",
              "15        1\n",
              "22        1\n",
              "30        1\n",
              "11        1\n",
              "20        1\n",
              "13        1\n",
              "Name: garage, dtype: int64"
            ]
          },
          "metadata": {},
          "execution_count": 569
        }
      ]
    },
    {
      "cell_type": "code",
      "source": [
        "data['HOA'].value_counts()"
      ],
      "metadata": {
        "colab": {
          "base_uri": "https://localhost:8080/",
          "height": 0
        },
        "id": "ef9E9H0Y-GDh",
        "outputId": "ddef7bbe-39fd-438c-8739-f6fce5151ee0"
      },
      "execution_count": 570,
      "outputs": [
        {
          "output_type": "execute_result",
          "data": {
            "text/plain": [
              "0         824\n",
              "None      562\n",
              "5         123\n",
              "100       107\n",
              "50         85\n",
              "         ... \n",
              "178         1\n",
              "69.16       1\n",
              "332.67      1\n",
              "43.01       1\n",
              "78.65       1\n",
              "Name: HOA, Length: 378, dtype: int64"
            ]
          },
          "metadata": {},
          "execution_count": 570
        }
      ]
    },
    {
      "cell_type": "code",
      "source": [
        "data['HOA'].replace('None', np.nan, inplace=True)"
      ],
      "metadata": {
        "id": "RJi7OTnPOBd2"
      },
      "execution_count": 571,
      "outputs": []
    },
    {
      "cell_type": "code",
      "source": [
        "data['HOA'].value_counts()"
      ],
      "metadata": {
        "colab": {
          "base_uri": "https://localhost:8080/",
          "height": 0
        },
        "id": "ms-L7r_hOLG1",
        "outputId": "8f548b73-27c3-44c2-fcb8-bade18fdf31f"
      },
      "execution_count": 572,
      "outputs": [
        {
          "output_type": "execute_result",
          "data": {
            "text/plain": [
              "0         824\n",
              "5         123\n",
              "100       107\n",
              "50         85\n",
              "40         72\n",
              "         ... \n",
              "178         1\n",
              "69.16       1\n",
              "332.67      1\n",
              "43.01       1\n",
              "78.65       1\n",
              "Name: HOA, Length: 377, dtype: int64"
            ]
          },
          "metadata": {},
          "execution_count": 572
        }
      ]
    },
    {
      "cell_type": "code",
      "source": [
        "for HOA in data:\n",
        "  data['HOA'].unique()"
      ],
      "metadata": {
        "id": "RBVwIXZvOw0s"
      },
      "execution_count": 573,
      "outputs": []
    },
    {
      "cell_type": "code",
      "source": [
        "data['HOA'] = data['HOA'].replace(',','', regex=True)\n",
        "datax= data['HOA'].median()\n",
        "data.fillna(datax, inplace= True)"
      ],
      "metadata": {
        "id": "DadMziL_QBba"
      },
      "execution_count": 574,
      "outputs": []
    },
    {
      "cell_type": "code",
      "source": [
        "data['HOA'].value_counts()"
      ],
      "metadata": {
        "colab": {
          "base_uri": "https://localhost:8080/",
          "height": 0
        },
        "id": "RT7A0uPr8VCI",
        "outputId": "103229de-1d27-44c7-e92a-433ac1f8ec91"
      },
      "execution_count": 575,
      "outputs": [
        {
          "output_type": "execute_result",
          "data": {
            "text/plain": [
              "0         824\n",
              "55.0      562\n",
              "5         123\n",
              "100       107\n",
              "50         85\n",
              "         ... \n",
              "188.33      1\n",
              "149.5       1\n",
              "73.72       1\n",
              "50.42       1\n",
              "78.65       1\n",
              "Name: HOA, Length: 371, dtype: int64"
            ]
          },
          "metadata": {},
          "execution_count": 575
        }
      ]
    },
    {
      "cell_type": "code",
      "source": [
        "sns.heatmap(data = corr)"
      ],
      "metadata": {
        "colab": {
          "base_uri": "https://localhost:8080/",
          "height": 327
        },
        "id": "-khhP6R_0DXL",
        "outputId": "69314b3e-0d65-42a9-8f7a-df5718fb8e7a"
      },
      "execution_count": 576,
      "outputs": [
        {
          "output_type": "execute_result",
          "data": {
            "text/plain": [
              "<matplotlib.axes._subplots.AxesSubplot at 0x7fe11e393c50>"
            ]
          },
          "metadata": {},
          "execution_count": 576
        },
        {
          "output_type": "display_data",
          "data": {
            "text/plain": [
              "<Figure size 432x288 with 2 Axes>"
            ],
            "image/png": "[encoded data removed]"
          },
          "metadata": {
            "needs_background": "light"
          }
        }
      ]
    },
    {
      "cell_type": "code",
      "source": [
        "data.head()"
      ],
      "metadata": {
        "id": "xxtXe6SwDsYg",
        "colab": {
          "base_uri": "https://localhost:8080/",
          "height": 285
        },
        "outputId": "077c88f4-b038-40c0-ce21-4f277cbb7190"
      },
      "execution_count": 577,
      "outputs": [
        {
          "output_type": "execute_result",
          "data": {
            "text/plain": [
              "        MLS  sold_price  zipcode     longitude    latitude  lot_acres  \\\n",
              "0  21530491   5300000.0    85637    -1.103.782  31.356.362    2154.00   \n",
              "1  21529082   4200000.0    85646  -111.045.371  31.594.213    1707.00   \n",
              "2   3054672   4200000.0    85646  -111.040.707  31.594.844    1707.00   \n",
              "3  21919321   4500000.0    85646  -111.035.925  31.645.878     636.67   \n",
              "4  21306357   3411450.0    85750  -110.813.768  32.285.162       3.21   \n",
              "\n",
              "      taxes  year_built  bedrooms bathrooms sqrt_ft garage  \\\n",
              "0   5272.00        1941        13        10   10500      0   \n",
              "1  10422.36        1997         2         2    7300      0   \n",
              "2  10482.00        1997         2         3  3512.0    3.0   \n",
              "3   8418.58        1930         7         5    9019      4   \n",
              "4  15393.00        1995         4         6    6396      3   \n",
              "\n",
              "                                    kitchen_features  fireplaces  \\\n",
              "0            Dishwasher, Freezer, Refrigerator, Oven         6.0   \n",
              "1                       Dishwasher, Garbage Disposal         5.0   \n",
              "2         Dishwasher, Garbage Disposal, Refrigerator         5.0   \n",
              "3  Dishwasher, Double Sink, Pantry: Butler, Refri...         4.0   \n",
              "4  Dishwasher, Garbage Disposal, Refrigerator, Mi...         5.0   \n",
              "\n",
              "                 floor_covering   HOA  \n",
              "0            Mexican Tile, Wood     0  \n",
              "1          Natural Stone, Other     0  \n",
              "2    Natural Stone, Other: Rock  55.0  \n",
              "3  Ceramic Tile, Laminate, Wood  55.0  \n",
              "4              Carpet, Concrete    55  "
            ],
            "text/html": [
              "\n",
              "  <div id=\"df-868f7c35-156a-41dd-82f8-1bdcc8cb936f\">\n",
              "    <div class=\"colab-df-container\">\n",
              "      <div>\n",
              "<style scoped>\n",
              "    .dataframe tbody tr th:only-of-type {\n",
              "        vertical-align: middle;\n",
              "    }\n",
              "\n",
              "    .dataframe tbody tr th {\n",
              "        vertical-align: top;\n",
              "    }\n",
              "\n",
              "    .dataframe thead th {\n",
              "        text-align: right;\n",
              "    }\n",
              "</style>\n",
              "<table border=\"1\" class=\"dataframe\">\n",
              "  <thead>\n",
              "    <tr style=\"text-align: right;\">\n",
              "      <th></th>\n",
              "      <th>MLS</th>\n",
              "      <th>sold_price</th>\n",
              "      <th>zipcode</th>\n",
              "      <th>longitude</th>\n",
              "      <th>latitude</th>\n",
              "      <th>lot_acres</th>\n",
              "      <th>taxes</th>\n",
              "      <th>year_built</th>\n",
              "      <th>bedrooms</th>\n",
              "      <th>bathrooms</th>\n",
              "      <th>sqrt_ft</th>\n",
              "      <th>garage</th>\n",
              "      <th>kitchen_features</th>\n",
              "      <th>fireplaces</th>\n",
              "      <th>floor_covering</th>\n",
              "      <th>HOA</th>\n",
              "    </tr>\n",
              "  </thead>\n",
              "  <tbody>\n",
              "    <tr>\n",
              "      <th>0</th>\n",
              "      <td>21530491</td>\n",
              "      <td>5300000.0</td>\n",
              "      <td>85637</td>\n",
              "      <td>-1.103.782</td>\n",
              "      <td>31.356.362</td>\n",
              "      <td>2154.00</td>\n",
              "      <td>5272.00</td>\n",
              "      <td>1941</td>\n",
              "      <td>13</td>\n",
              "      <td>10</td>\n",
              "      <td>10500</td>\n",
              "      <td>0</td>\n",
              "      <td>Dishwasher, Freezer, Refrigerator, Oven</td>\n",
              "      <td>6.0</td>\n",
              "      <td>Mexican Tile, Wood</td>\n",
              "      <td>0</td>\n",
              "    </tr>\n",
              "    <tr>\n",
              "      <th>1</th>\n",
              "      <td>21529082</td>\n",
              "      <td>4200000.0</td>\n",
              "      <td>85646</td>\n",
              "      <td>-111.045.371</td>\n",
              "      <td>31.594.213</td>\n",
              "      <td>1707.00</td>\n",
              "      <td>10422.36</td>\n",
              "      <td>1997</td>\n",
              "      <td>2</td>\n",
              "      <td>2</td>\n",
              "      <td>7300</td>\n",
              "      <td>0</td>\n",
              "      <td>Dishwasher, Garbage Disposal</td>\n",
              "      <td>5.0</td>\n",
              "      <td>Natural Stone, Other</td>\n",
              "      <td>0</td>\n",
              "    </tr>\n",
              "    <tr>\n",
              "      <th>2</th>\n",
              "      <td>3054672</td>\n",
              "      <td>4200000.0</td>\n",
              "      <td>85646</td>\n",
              "      <td>-111.040.707</td>\n",
              "      <td>31.594.844</td>\n",
              "      <td>1707.00</td>\n",
              "      <td>10482.00</td>\n",
              "      <td>1997</td>\n",
              "      <td>2</td>\n",
              "      <td>3</td>\n",
              "      <td>3512.0</td>\n",
              "      <td>3.0</td>\n",
              "      <td>Dishwasher, Garbage Disposal, Refrigerator</td>\n",
              "      <td>5.0</td>\n",
              "      <td>Natural Stone, Other: Rock</td>\n",
              "      <td>55.0</td>\n",
              "    </tr>\n",
              "    <tr>\n",
              "      <th>3</th>\n",
              "      <td>21919321</td>\n",
              "      <td>4500000.0</td>\n",
              "      <td>85646</td>\n",
              "      <td>-111.035.925</td>\n",
              "      <td>31.645.878</td>\n",
              "      <td>636.67</td>\n",
              "      <td>8418.58</td>\n",
              "      <td>1930</td>\n",
              "      <td>7</td>\n",
              "      <td>5</td>\n",
              "      <td>9019</td>\n",
              "      <td>4</td>\n",
              "      <td>Dishwasher, Double Sink, Pantry: Butler, Refri...</td>\n",
              "      <td>4.0</td>\n",
              "      <td>Ceramic Tile, Laminate, Wood</td>\n",
              "      <td>55.0</td>\n",
              "    </tr>\n",
              "    <tr>\n",
              "      <th>4</th>\n",
              "      <td>21306357</td>\n",
              "      <td>3411450.0</td>\n",
              "      <td>85750</td>\n",
              "      <td>-110.813.768</td>\n",
              "      <td>32.285.162</td>\n",
              "      <td>3.21</td>\n",
              "      <td>15393.00</td>\n",
              "      <td>1995</td>\n",
              "      <td>4</td>\n",
              "      <td>6</td>\n",
              "      <td>6396</td>\n",
              "      <td>3</td>\n",
              "      <td>Dishwasher, Garbage Disposal, Refrigerator, Mi...</td>\n",
              "      <td>5.0</td>\n",
              "      <td>Carpet, Concrete</td>\n",
              "      <td>55</td>\n",
              "    </tr>\n",
              "  </tbody>\n",
              "</table>\n",
              "</div>\n",
              "      <button class=\"colab-df-convert\" onclick=\"convertToInteractive('df-868f7c35-156a-41dd-82f8-1bdcc8cb936f')\"\n",
              "              title=\"Convert this dataframe to an interactive table.\"\n",
              "              style=\"display:none;\">\n",
              "        \n",
              "  <svg xmlns=\"http://www.w3.org/2000/svg\" height=\"24px\"viewBox=\"0 0 24 24\"\n",
              "       width=\"24px\">\n",
              "    <path d=\"M0 0h24v24H0V0z\" fill=\"none\"/>\n",
              "    <path d=\"M18.56 5.44l.94 2.06.94-2.06 2.06-.94-2.06-.94-.94-2.06-.94 2.06-2.06.94zm-11 1L8.5 8.5l.94-2.06 2.06-.94-2.06-.94L8.5 2.5l-.94 2.06-2.06.94zm10 10l.94 2.06.94-2.06 2.06-.94-2.06-.94-.94-2.06-.94 2.06-2.06.94z\"/><path d=\"M17.41 7.96l-1.37-1.37c-.4-.4-.92-.59-1.43-.59-.52 0-1.04.2-1.43.59L10.3 9.45l-7.72 7.72c-.78.78-.78 2.05 0 2.83L4 21.41c.39.39.9.59 1.41.59.51 0 1.02-.2 1.41-.59l7.78-7.78 2.81-2.81c.8-.78.8-2.07 0-2.86zM5.41 20L4 18.59l7.72-7.72 1.47 1.35L5.41 20z\"/>\n",
              "  </svg>\n",
              "      </button>\n",
              "      \n",
              "  <style>\n",
              "    .colab-df-container {\n",
              "      display:flex;\n",
              "      flex-wrap:wrap;\n",
              "      gap: 12px;\n",
              "    }\n",
              "\n",
              "    .colab-df-convert {\n",
              "      background-color: #E8F0FE;\n",
              "      border: none;\n",
              "      border-radius: 50%;\n",
              "      cursor: pointer;\n",
              "      display: none;\n",
              "      fill: #1967D2;\n",
              "      height: 32px;\n",
              "      padding: 0 0 0 0;\n",
              "      width: 32px;\n",
              "    }\n",
              "\n",
              "    .colab-df-convert:hover {\n",
              "      background-color: #E2EBFA;\n",
              "      box-shadow: 0px 1px 2px rgba(60, 64, 67, 0.3), 0px 1px 3px 1px rgba(60, 64, 67, 0.15);\n",
              "      fill: #174EA6;\n",
              "    }\n",
              "\n",
              "    [theme=dark] .colab-df-convert {\n",
              "      background-color: #3B4455;\n",
              "      fill: #D2E3FC;\n",
              "    }\n",
              "\n",
              "    [theme=dark] .colab-df-convert:hover {\n",
              "      background-color: #434B5C;\n",
              "      box-shadow: 0px 1px 3px 1px rgba(0, 0, 0, 0.15);\n",
              "      filter: drop-shadow(0px 1px 2px rgba(0, 0, 0, 0.3));\n",
              "      fill: #FFFFFF;\n",
              "    }\n",
              "  </style>\n",
              "\n",
              "      <script>\n",
              "        const buttonEl =\n",
              "          document.querySelector('#df-868f7c35-156a-41dd-82f8-1bdcc8cb936f button.colab-df-convert');\n",
              "        buttonEl.style.display =\n",
              "          google.colab.kernel.accessAllowed ? 'block' : 'none';\n",
              "\n",
              "        async function convertToInteractive(key) {\n",
              "          const element = document.querySelector('#df-868f7c35-156a-41dd-82f8-1bdcc8cb936f');\n",
              "          const dataTable =\n",
              "            await google.colab.kernel.invokeFunction('convertToInteractive',\n",
              "                                                     [key], {});\n",
              "          if (!dataTable) return;\n",
              "\n",
              "          const docLinkHtml = 'Like what you see? Visit the ' +\n",
              "            '<a target=\"_blank\" href=https://colab.research.google.com/notebooks/data_table.ipynb>data table notebook</a>'\n",
              "            + ' to learn more about interactive tables.';\n",
              "          element.innerHTML = '';\n",
              "          dataTable['output_type'] = 'display_data';\n",
              "          await google.colab.output.renderOutput(dataTable, element);\n",
              "          const docLink = document.createElement('div');\n",
              "          docLink.innerHTML = docLinkHtml;\n",
              "          element.appendChild(docLink);\n",
              "        }\n",
              "      </script>\n",
              "    </div>\n",
              "  </div>\n",
              "  "
            ]
          },
          "metadata": {},
          "execution_count": 577
        }
      ]
    },
    {
      "cell_type": "code",
      "source": [
        "data['sqrt_ft'] = data.sqrt_ft.astype(float)\n",
        "data['bathrooms'] = data.bathrooms.astype(float)\n",
        "data['garage'] = data.garage.astype(float)\n",
        "data['HOA'] = data.HOA.astype(float)\n",
        "#data['zipcode'] = data.zipcode.astype(float)\n",
        "#data['bedrooms'] = data.bedrooms.astype(float)"
      ],
      "metadata": {
        "id": "vRAbZKCzUbQ0"
      },
      "execution_count": 578,
      "outputs": []
    },
    {
      "cell_type": "code",
      "source": [
        "data.dtypes"
      ],
      "metadata": {
        "colab": {
          "base_uri": "https://localhost:8080/",
          "height": 0
        },
        "id": "tcRDWAFcUMsw",
        "outputId": "b24ed154-50ba-4ef2-f8bc-ac402752b8b0"
      },
      "execution_count": 579,
      "outputs": [
        {
          "output_type": "execute_result",
          "data": {
            "text/plain": [
              "MLS                   int64\n",
              "sold_price          float64\n",
              "zipcode               int64\n",
              "longitude            object\n",
              "latitude             object\n",
              "lot_acres           float64\n",
              "taxes               float64\n",
              "year_built            int64\n",
              "bedrooms              int64\n",
              "bathrooms           float64\n",
              "sqrt_ft             float64\n",
              "garage              float64\n",
              "kitchen_features     object\n",
              "fireplaces          float64\n",
              "floor_covering       object\n",
              "HOA                 float64\n",
              "dtype: object"
            ]
          },
          "metadata": {},
          "execution_count": 579
        }
      ]
    },
    {
      "cell_type": "code",
      "source": [
        "data['floor_covering'].value_counts()"
      ],
      "metadata": {
        "colab": {
          "base_uri": "https://localhost:8080/",
          "height": 0
        },
        "id": "0FXpyuXgURRW",
        "outputId": "05ebfedb-6e31-4d7c-a304-37f52e8ced25"
      },
      "execution_count": 580,
      "outputs": [
        {
          "output_type": "execute_result",
          "data": {
            "text/plain": [
              "Carpet, Ceramic Tile                           1235\n",
              "Carpet, Natural Stone                           579\n",
              "Carpet, Ceramic Tile, Wood                      258\n",
              "Ceramic Tile                                    247\n",
              "Concrete                                        242\n",
              "                                               ... \n",
              "Carpet, Concrete, Wood, Other: travertine         1\n",
              "Concrete, Wood, Other: Mesquite wood floors       1\n",
              "Carpet, Ceramic Tile, Wood, Other: Slate          1\n",
              "Carpet, Other: brick pavers                       1\n",
              "Concrete, Other: Cork                             1\n",
              "Name: floor_covering, Length: 311, dtype: int64"
            ]
          },
          "metadata": {},
          "execution_count": 580
        }
      ]
    },
    {
      "cell_type": "code",
      "source": [
        "data.head()"
      ],
      "metadata": {
        "colab": {
          "base_uri": "https://localhost:8080/",
          "height": 285
        },
        "id": "dKC4-14fU0NK",
        "outputId": "496b5f5d-c81b-4eba-8ff9-df34dbb4e2bf"
      },
      "execution_count": 581,
      "outputs": [
        {
          "output_type": "execute_result",
          "data": {
            "text/plain": [
              "        MLS  sold_price  zipcode     longitude    latitude  lot_acres  \\\n",
              "0  21530491   5300000.0    85637    -1.103.782  31.356.362    2154.00   \n",
              "1  21529082   4200000.0    85646  -111.045.371  31.594.213    1707.00   \n",
              "2   3054672   4200000.0    85646  -111.040.707  31.594.844    1707.00   \n",
              "3  21919321   4500000.0    85646  -111.035.925  31.645.878     636.67   \n",
              "4  21306357   3411450.0    85750  -110.813.768  32.285.162       3.21   \n",
              "\n",
              "      taxes  year_built  bedrooms  bathrooms  sqrt_ft  garage  \\\n",
              "0   5272.00        1941        13       10.0  10500.0     0.0   \n",
              "1  10422.36        1997         2        2.0   7300.0     0.0   \n",
              "2  10482.00        1997         2        3.0   3512.0     3.0   \n",
              "3   8418.58        1930         7        5.0   9019.0     4.0   \n",
              "4  15393.00        1995         4        6.0   6396.0     3.0   \n",
              "\n",
              "                                    kitchen_features  fireplaces  \\\n",
              "0            Dishwasher, Freezer, Refrigerator, Oven         6.0   \n",
              "1                       Dishwasher, Garbage Disposal         5.0   \n",
              "2         Dishwasher, Garbage Disposal, Refrigerator         5.0   \n",
              "3  Dishwasher, Double Sink, Pantry: Butler, Refri...         4.0   \n",
              "4  Dishwasher, Garbage Disposal, Refrigerator, Mi...         5.0   \n",
              "\n",
              "                 floor_covering   HOA  \n",
              "0            Mexican Tile, Wood   0.0  \n",
              "1          Natural Stone, Other   0.0  \n",
              "2    Natural Stone, Other: Rock  55.0  \n",
              "3  Ceramic Tile, Laminate, Wood  55.0  \n",
              "4              Carpet, Concrete  55.0  "
            ],
            "text/html": [
              "\n",
              "  <div id=\"df-52e91f6c-8660-47b7-8c91-93315963a7c0\">\n",
              "    <div class=\"colab-df-container\">\n",
              "      <div>\n",
              "<style scoped>\n",
              "    .dataframe tbody tr th:only-of-type {\n",
              "        vertical-align: middle;\n",
              "    }\n",
              "\n",
              "    .dataframe tbody tr th {\n",
              "        vertical-align: top;\n",
              "    }\n",
              "\n",
              "    .dataframe thead th {\n",
              "        text-align: right;\n",
              "    }\n",
              "</style>\n",
              "<table border=\"1\" class=\"dataframe\">\n",
              "  <thead>\n",
              "    <tr style=\"text-align: right;\">\n",
              "      <th></th>\n",
              "      <th>MLS</th>\n",
              "      <th>sold_price</th>\n",
              "      <th>zipcode</th>\n",
              "      <th>longitude</th>\n",
              "      <th>latitude</th>\n",
              "      <th>lot_acres</th>\n",
              "      <th>taxes</th>\n",
              "      <th>year_built</th>\n",
              "      <th>bedrooms</th>\n",
              "      <th>bathrooms</th>\n",
              "      <th>sqrt_ft</th>\n",
              "      <th>garage</th>\n",
              "      <th>kitchen_features</th>\n",
              "      <th>fireplaces</th>\n",
              "      <th>floor_covering</th>\n",
              "      <th>HOA</th>\n",
              "    </tr>\n",
              "  </thead>\n",
              "  <tbody>\n",
              "    <tr>\n",
              "      <th>0</th>\n",
              "      <td>21530491</td>\n",
              "      <td>5300000.0</td>\n",
              "      <td>85637</td>\n",
              "      <td>-1.103.782</td>\n",
              "      <td>31.356.362</td>\n",
              "      <td>2154.00</td>\n",
              "      <td>5272.00</td>\n",
              "      <td>1941</td>\n",
              "      <td>13</td>\n",
              "      <td>10.0</td>\n",
              "      <td>10500.0</td>\n",
              "      <td>0.0</td>\n",
              "      <td>Dishwasher, Freezer, Refrigerator, Oven</td>\n",
              "      <td>6.0</td>\n",
              "      <td>Mexican Tile, Wood</td>\n",
              "      <td>0.0</td>\n",
              "    </tr>\n",
              "    <tr>\n",
              "      <th>1</th>\n",
              "      <td>21529082</td>\n",
              "      <td>4200000.0</td>\n",
              "      <td>85646</td>\n",
              "      <td>-111.045.371</td>\n",
              "      <td>31.594.213</td>\n",
              "      <td>1707.00</td>\n",
              "      <td>10422.36</td>\n",
              "      <td>1997</td>\n",
              "      <td>2</td>\n",
              "      <td>2.0</td>\n",
              "      <td>7300.0</td>\n",
              "      <td>0.0</td>\n",
              "      <td>Dishwasher, Garbage Disposal</td>\n",
              "      <td>5.0</td>\n",
              "      <td>Natural Stone, Other</td>\n",
              "      <td>0.0</td>\n",
              "    </tr>\n",
              "    <tr>\n",
              "      <th>2</th>\n",
              "      <td>3054672</td>\n",
              "      <td>4200000.0</td>\n",
              "      <td>85646</td>\n",
              "      <td>-111.040.707</td>\n",
              "      <td>31.594.844</td>\n",
              "      <td>1707.00</td>\n",
              "      <td>10482.00</td>\n",
              "      <td>1997</td>\n",
              "      <td>2</td>\n",
              "      <td>3.0</td>\n",
              "      <td>3512.0</td>\n",
              "      <td>3.0</td>\n",
              "      <td>Dishwasher, Garbage Disposal, Refrigerator</td>\n",
              "      <td>5.0</td>\n",
              "      <td>Natural Stone, Other: Rock</td>\n",
              "      <td>55.0</td>\n",
              "    </tr>\n",
              "    <tr>\n",
              "      <th>3</th>\n",
              "      <td>21919321</td>\n",
              "      <td>4500000.0</td>\n",
              "      <td>85646</td>\n",
              "      <td>-111.035.925</td>\n",
              "      <td>31.645.878</td>\n",
              "      <td>636.67</td>\n",
              "      <td>8418.58</td>\n",
              "      <td>1930</td>\n",
              "      <td>7</td>\n",
              "      <td>5.0</td>\n",
              "      <td>9019.0</td>\n",
              "      <td>4.0</td>\n",
              "      <td>Dishwasher, Double Sink, Pantry: Butler, Refri...</td>\n",
              "      <td>4.0</td>\n",
              "      <td>Ceramic Tile, Laminate, Wood</td>\n",
              "      <td>55.0</td>\n",
              "    </tr>\n",
              "    <tr>\n",
              "      <th>4</th>\n",
              "      <td>21306357</td>\n",
              "      <td>3411450.0</td>\n",
              "      <td>85750</td>\n",
              "      <td>-110.813.768</td>\n",
              "      <td>32.285.162</td>\n",
              "      <td>3.21</td>\n",
              "      <td>15393.00</td>\n",
              "      <td>1995</td>\n",
              "      <td>4</td>\n",
              "      <td>6.0</td>\n",
              "      <td>6396.0</td>\n",
              "      <td>3.0</td>\n",
              "      <td>Dishwasher, Garbage Disposal, Refrigerator, Mi...</td>\n",
              "      <td>5.0</td>\n",
              "      <td>Carpet, Concrete</td>\n",
              "      <td>55.0</td>\n",
              "    </tr>\n",
              "  </tbody>\n",
              "</table>\n",
              "</div>\n",
              "      <button class=\"colab-df-convert\" onclick=\"convertToInteractive('df-52e91f6c-8660-47b7-8c91-93315963a7c0')\"\n",
              "              title=\"Convert this dataframe to an interactive table.\"\n",
              "              style=\"display:none;\">\n",
              "        \n",
              "  <svg xmlns=\"http://www.w3.org/2000/svg\" height=\"24px\"viewBox=\"0 0 24 24\"\n",
              "       width=\"24px\">\n",
              "    <path d=\"M0 0h24v24H0V0z\" fill=\"none\"/>\n",
              "    <path d=\"M18.56 5.44l.94 2.06.94-2.06 2.06-.94-2.06-.94-.94-2.06-.94 2.06-2.06.94zm-11 1L8.5 8.5l.94-2.06 2.06-.94-2.06-.94L8.5 2.5l-.94 2.06-2.06.94zm10 10l.94 2.06.94-2.06 2.06-.94-2.06-.94-.94-2.06-.94 2.06-2.06.94z\"/><path d=\"M17.41 7.96l-1.37-1.37c-.4-.4-.92-.59-1.43-.59-.52 0-1.04.2-1.43.59L10.3 9.45l-7.72 7.72c-.78.78-.78 2.05 0 2.83L4 21.41c.39.39.9.59 1.41.59.51 0 1.02-.2 1.41-.59l7.78-7.78 2.81-2.81c.8-.78.8-2.07 0-2.86zM5.41 20L4 18.59l7.72-7.72 1.47 1.35L5.41 20z\"/>\n",
              "  </svg>\n",
              "      </button>\n",
              "      \n",
              "  <style>\n",
              "    .colab-df-container {\n",
              "      display:flex;\n",
              "      flex-wrap:wrap;\n",
              "      gap: 12px;\n",
              "    }\n",
              "\n",
              "    .colab-df-convert {\n",
              "      background-color: #E8F0FE;\n",
              "      border: none;\n",
              "      border-radius: 50%;\n",
              "      cursor: pointer;\n",
              "      display: none;\n",
              "      fill: #1967D2;\n",
              "      height: 32px;\n",
              "      padding: 0 0 0 0;\n",
              "      width: 32px;\n",
              "    }\n",
              "\n",
              "    .colab-df-convert:hover {\n",
              "      background-color: #E2EBFA;\n",
              "      box-shadow: 0px 1px 2px rgba(60, 64, 67, 0.3), 0px 1px 3px 1px rgba(60, 64, 67, 0.15);\n",
              "      fill: #174EA6;\n",
              "    }\n",
              "\n",
              "    [theme=dark] .colab-df-convert {\n",
              "      background-color: #3B4455;\n",
              "      fill: #D2E3FC;\n",
              "    }\n",
              "\n",
              "    [theme=dark] .colab-df-convert:hover {\n",
              "      background-color: #434B5C;\n",
              "      box-shadow: 0px 1px 3px 1px rgba(0, 0, 0, 0.15);\n",
              "      filter: drop-shadow(0px 1px 2px rgba(0, 0, 0, 0.3));\n",
              "      fill: #FFFFFF;\n",
              "    }\n",
              "  </style>\n",
              "\n",
              "      <script>\n",
              "        const buttonEl =\n",
              "          document.querySelector('#df-52e91f6c-8660-47b7-8c91-93315963a7c0 button.colab-df-convert');\n",
              "        buttonEl.style.display =\n",
              "          google.colab.kernel.accessAllowed ? 'block' : 'none';\n",
              "\n",
              "        async function convertToInteractive(key) {\n",
              "          const element = document.querySelector('#df-52e91f6c-8660-47b7-8c91-93315963a7c0');\n",
              "          const dataTable =\n",
              "            await google.colab.kernel.invokeFunction('convertToInteractive',\n",
              "                                                     [key], {});\n",
              "          if (!dataTable) return;\n",
              "\n",
              "          const docLinkHtml = 'Like what you see? Visit the ' +\n",
              "            '<a target=\"_blank\" href=https://colab.research.google.com/notebooks/data_table.ipynb>data table notebook</a>'\n",
              "            + ' to learn more about interactive tables.';\n",
              "          element.innerHTML = '';\n",
              "          dataTable['output_type'] = 'display_data';\n",
              "          await google.colab.output.renderOutput(dataTable, element);\n",
              "          const docLink = document.createElement('div');\n",
              "          docLink.innerHTML = docLinkHtml;\n",
              "          element.appendChild(docLink);\n",
              "        }\n",
              "      </script>\n",
              "    </div>\n",
              "  </div>\n",
              "  "
            ]
          },
          "metadata": {},
          "execution_count": 581
        }
      ]
    },
    {
      "cell_type": "code",
      "source": [
        "data.describe()"
      ],
      "metadata": {
        "colab": {
          "base_uri": "https://localhost:8080/",
          "height": 300
        },
        "id": "Y-ZgFSrSba4g",
        "outputId": "687aca12-fb7b-45d4-efab-9d5f7a9ad660"
      },
      "execution_count": 582,
      "outputs": [
        {
          "output_type": "execute_result",
          "data": {
            "text/plain": [
              "                MLS    sold_price       zipcode    lot_acres         taxes  \\\n",
              "count  5.000000e+03  5.000000e+03   5000.000000  5000.000000  5.000000e+03   \n",
              "mean   2.127070e+07  7.746262e+05  85723.025600     4.659994  9.402828e+03   \n",
              "std    2.398508e+06  3.185556e+05     38.061712    51.633517  1.729385e+05   \n",
              "min    3.042851e+06  1.690000e+05  85118.000000     0.000000  0.000000e+00   \n",
              "25%    2.140718e+07  5.850000e+05  85718.000000     0.580000  4.803605e+03   \n",
              "50%    2.161469e+07  6.750000e+05  85737.000000     0.990000  6.223760e+03   \n",
              "75%    2.180480e+07  8.350000e+05  85749.000000     1.770000  8.082830e+03   \n",
              "max    2.192856e+07  5.300000e+06  86323.000000  2154.000000  1.221508e+07   \n",
              "\n",
              "       year_built     bedrooms    bathrooms       sqrt_ft       garage  \\\n",
              "count  5000.00000  5000.000000  5000.000000   5000.000000  5000.000000   \n",
              "mean   1992.32800     3.933800     3.830100   3714.077920     2.816400   \n",
              "std      65.48614     1.245362     1.386243   1114.596305     1.192131   \n",
              "min       0.00000     1.000000     1.000000   1100.000000     0.000000   \n",
              "25%    1987.00000     3.000000     3.000000   3051.000000     2.000000   \n",
              "50%    1999.00000     4.000000     4.000000   3512.000000     3.000000   \n",
              "75%    2006.00000     4.000000     4.000000   4120.000000     3.000000   \n",
              "max    2019.00000    36.000000    36.000000  22408.000000    30.000000   \n",
              "\n",
              "        fireplaces          HOA  \n",
              "count  5000.000000  5000.000000  \n",
              "mean      1.895800    82.274618  \n",
              "std       1.143505   151.842160  \n",
              "min       0.000000     0.000000  \n",
              "25%       1.000000    13.750000  \n",
              "50%       2.000000    55.000000  \n",
              "75%       3.000000   122.000000  \n",
              "max       9.000000  8333.000000  "
            ],
            "text/html": [
              "\n",
              "  <div id=\"df-aafc073e-ee86-4766-b798-699541a8feb9\">\n",
              "    <div class=\"colab-df-container\">\n",
              "      <div>\n",
              "<style scoped>\n",
              "    .dataframe tbody tr th:only-of-type {\n",
              "        vertical-align: middle;\n",
              "    }\n",
              "\n",
              "    .dataframe tbody tr th {\n",
              "        vertical-align: top;\n",
              "    }\n",
              "\n",
              "    .dataframe thead th {\n",
              "        text-align: right;\n",
              "    }\n",
              "</style>\n",
              "<table border=\"1\" class=\"dataframe\">\n",
              "  <thead>\n",
              "    <tr style=\"text-align: right;\">\n",
              "      <th></th>\n",
              "      <th>MLS</th>\n",
              "      <th>sold_price</th>\n",
              "      <th>zipcode</th>\n",
              "      <th>lot_acres</th>\n",
              "      <th>taxes</th>\n",
              "      <th>year_built</th>\n",
              "      <th>bedrooms</th>\n",
              "      <th>bathrooms</th>\n",
              "      <th>sqrt_ft</th>\n",
              "      <th>garage</th>\n",
              "      <th>fireplaces</th>\n",
              "      <th>HOA</th>\n",
              "    </tr>\n",
              "  </thead>\n",
              "  <tbody>\n",
              "    <tr>\n",
              "      <th>count</th>\n",
              "      <td>5.000000e+03</td>\n",
              "      <td>5.000000e+03</td>\n",
              "      <td>5000.000000</td>\n",
              "      <td>5000.000000</td>\n",
              "      <td>5.000000e+03</td>\n",
              "      <td>5000.00000</td>\n",
              "      <td>5000.000000</td>\n",
              "      <td>5000.000000</td>\n",
              "      <td>5000.000000</td>\n",
              "      <td>5000.000000</td>\n",
              "      <td>5000.000000</td>\n",
              "      <td>5000.000000</td>\n",
              "    </tr>\n",
              "    <tr>\n",
              "      <th>mean</th>\n",
              "      <td>2.127070e+07</td>\n",
              "      <td>7.746262e+05</td>\n",
              "      <td>85723.025600</td>\n",
              "      <td>4.659994</td>\n",
              "      <td>9.402828e+03</td>\n",
              "      <td>1992.32800</td>\n",
              "      <td>3.933800</td>\n",
              "      <td>3.830100</td>\n",
              "      <td>3714.077920</td>\n",
              "      <td>2.816400</td>\n",
              "      <td>1.895800</td>\n",
              "      <td>82.274618</td>\n",
              "    </tr>\n",
              "    <tr>\n",
              "      <th>std</th>\n",
              "      <td>2.398508e+06</td>\n",
              "      <td>3.185556e+05</td>\n",
              "      <td>38.061712</td>\n",
              "      <td>51.633517</td>\n",
              "      <td>1.729385e+05</td>\n",
              "      <td>65.48614</td>\n",
              "      <td>1.245362</td>\n",
              "      <td>1.386243</td>\n",
              "      <td>1114.596305</td>\n",
              "      <td>1.192131</td>\n",
              "      <td>1.143505</td>\n",
              "      <td>151.842160</td>\n",
              "    </tr>\n",
              "    <tr>\n",
              "      <th>min</th>\n",
              "      <td>3.042851e+06</td>\n",
              "      <td>1.690000e+05</td>\n",
              "      <td>85118.000000</td>\n",
              "      <td>0.000000</td>\n",
              "      <td>0.000000e+00</td>\n",
              "      <td>0.00000</td>\n",
              "      <td>1.000000</td>\n",
              "      <td>1.000000</td>\n",
              "      <td>1100.000000</td>\n",
              "      <td>0.000000</td>\n",
              "      <td>0.000000</td>\n",
              "      <td>0.000000</td>\n",
              "    </tr>\n",
              "    <tr>\n",
              "      <th>25%</th>\n",
              "      <td>2.140718e+07</td>\n",
              "      <td>5.850000e+05</td>\n",
              "      <td>85718.000000</td>\n",
              "      <td>0.580000</td>\n",
              "      <td>4.803605e+03</td>\n",
              "      <td>1987.00000</td>\n",
              "      <td>3.000000</td>\n",
              "      <td>3.000000</td>\n",
              "      <td>3051.000000</td>\n",
              "      <td>2.000000</td>\n",
              "      <td>1.000000</td>\n",
              "      <td>13.750000</td>\n",
              "    </tr>\n",
              "    <tr>\n",
              "      <th>50%</th>\n",
              "      <td>2.161469e+07</td>\n",
              "      <td>6.750000e+05</td>\n",
              "      <td>85737.000000</td>\n",
              "      <td>0.990000</td>\n",
              "      <td>6.223760e+03</td>\n",
              "      <td>1999.00000</td>\n",
              "      <td>4.000000</td>\n",
              "      <td>4.000000</td>\n",
              "      <td>3512.000000</td>\n",
              "      <td>3.000000</td>\n",
              "      <td>2.000000</td>\n",
              "      <td>55.000000</td>\n",
              "    </tr>\n",
              "    <tr>\n",
              "      <th>75%</th>\n",
              "      <td>2.180480e+07</td>\n",
              "      <td>8.350000e+05</td>\n",
              "      <td>85749.000000</td>\n",
              "      <td>1.770000</td>\n",
              "      <td>8.082830e+03</td>\n",
              "      <td>2006.00000</td>\n",
              "      <td>4.000000</td>\n",
              "      <td>4.000000</td>\n",
              "      <td>4120.000000</td>\n",
              "      <td>3.000000</td>\n",
              "      <td>3.000000</td>\n",
              "      <td>122.000000</td>\n",
              "    </tr>\n",
              "    <tr>\n",
              "      <th>max</th>\n",
              "      <td>2.192856e+07</td>\n",
              "      <td>5.300000e+06</td>\n",
              "      <td>86323.000000</td>\n",
              "      <td>2154.000000</td>\n",
              "      <td>1.221508e+07</td>\n",
              "      <td>2019.00000</td>\n",
              "      <td>36.000000</td>\n",
              "      <td>36.000000</td>\n",
              "      <td>22408.000000</td>\n",
              "      <td>30.000000</td>\n",
              "      <td>9.000000</td>\n",
              "      <td>8333.000000</td>\n",
              "    </tr>\n",
              "  </tbody>\n",
              "</table>\n",
              "</div>\n",
              "      <button class=\"colab-df-convert\" onclick=\"convertToInteractive('df-aafc073e-ee86-4766-b798-699541a8feb9')\"\n",
              "              title=\"Convert this dataframe to an interactive table.\"\n",
              "              style=\"display:none;\">\n",
              "        \n",
              "  <svg xmlns=\"http://www.w3.org/2000/svg\" height=\"24px\"viewBox=\"0 0 24 24\"\n",
              "       width=\"24px\">\n",
              "    <path d=\"M0 0h24v24H0V0z\" fill=\"none\"/>\n",
              "    <path d=\"M18.56 5.44l.94 2.06.94-2.06 2.06-.94-2.06-.94-.94-2.06-.94 2.06-2.06.94zm-11 1L8.5 8.5l.94-2.06 2.06-.94-2.06-.94L8.5 2.5l-.94 2.06-2.06.94zm10 10l.94 2.06.94-2.06 2.06-.94-2.06-.94-.94-2.06-.94 2.06-2.06.94z\"/><path d=\"M17.41 7.96l-1.37-1.37c-.4-.4-.92-.59-1.43-.59-.52 0-1.04.2-1.43.59L10.3 9.45l-7.72 7.72c-.78.78-.78 2.05 0 2.83L4 21.41c.39.39.9.59 1.41.59.51 0 1.02-.2 1.41-.59l7.78-7.78 2.81-2.81c.8-.78.8-2.07 0-2.86zM5.41 20L4 18.59l7.72-7.72 1.47 1.35L5.41 20z\"/>\n",
              "  </svg>\n",
              "      </button>\n",
              "      \n",
              "  <style>\n",
              "    .colab-df-container {\n",
              "      display:flex;\n",
              "      flex-wrap:wrap;\n",
              "      gap: 12px;\n",
              "    }\n",
              "\n",
              "    .colab-df-convert {\n",
              "      background-color: #E8F0FE;\n",
              "      border: none;\n",
              "      border-radius: 50%;\n",
              "      cursor: pointer;\n",
              "      display: none;\n",
              "      fill: #1967D2;\n",
              "      height: 32px;\n",
              "      padding: 0 0 0 0;\n",
              "      width: 32px;\n",
              "    }\n",
              "\n",
              "    .colab-df-convert:hover {\n",
              "      background-color: #E2EBFA;\n",
              "      box-shadow: 0px 1px 2px rgba(60, 64, 67, 0.3), 0px 1px 3px 1px rgba(60, 64, 67, 0.15);\n",
              "      fill: #174EA6;\n",
              "    }\n",
              "\n",
              "    [theme=dark] .colab-df-convert {\n",
              "      background-color: #3B4455;\n",
              "      fill: #D2E3FC;\n",
              "    }\n",
              "\n",
              "    [theme=dark] .colab-df-convert:hover {\n",
              "      background-color: #434B5C;\n",
              "      box-shadow: 0px 1px 3px 1px rgba(0, 0, 0, 0.15);\n",
              "      filter: drop-shadow(0px 1px 2px rgba(0, 0, 0, 0.3));\n",
              "      fill: #FFFFFF;\n",
              "    }\n",
              "  </style>\n",
              "\n",
              "      <script>\n",
              "        const buttonEl =\n",
              "          document.querySelector('#df-aafc073e-ee86-4766-b798-699541a8feb9 button.colab-df-convert');\n",
              "        buttonEl.style.display =\n",
              "          google.colab.kernel.accessAllowed ? 'block' : 'none';\n",
              "\n",
              "        async function convertToInteractive(key) {\n",
              "          const element = document.querySelector('#df-aafc073e-ee86-4766-b798-699541a8feb9');\n",
              "          const dataTable =\n",
              "            await google.colab.kernel.invokeFunction('convertToInteractive',\n",
              "                                                     [key], {});\n",
              "          if (!dataTable) return;\n",
              "\n",
              "          const docLinkHtml = 'Like what you see? Visit the ' +\n",
              "            '<a target=\"_blank\" href=https://colab.research.google.com/notebooks/data_table.ipynb>data table notebook</a>'\n",
              "            + ' to learn more about interactive tables.';\n",
              "          element.innerHTML = '';\n",
              "          dataTable['output_type'] = 'display_data';\n",
              "          await google.colab.output.renderOutput(dataTable, element);\n",
              "          const docLink = document.createElement('div');\n",
              "          docLink.innerHTML = docLinkHtml;\n",
              "          element.appendChild(docLink);\n",
              "        }\n",
              "      </script>\n",
              "    </div>\n",
              "  </div>\n",
              "  "
            ]
          },
          "metadata": {},
          "execution_count": 582
        }
      ]
    },
    {
      "cell_type": "code",
      "source": [
        "def class_price(sold_price):\n",
        "  if sold_price <=500000:\n",
        "    return 1\n",
        "  if sold_price <=1500000 >=500001:\n",
        "    return 2\n",
        "  if sold_price <=5000000 >=1500001:\n",
        "    return 3\n",
        "  if sold_price <=10000000 >=5000001:\n",
        "    return 4\n"
      ],
      "metadata": {
        "id": "soS6E4nEW6MO"
      },
      "execution_count": 583,
      "outputs": []
    },
    {
      "cell_type": "code",
      "source": [
        "data['class_price'] = data [[\"sold_price\"]].apply (lambda x : class_price(*x), axis=1)"
      ],
      "metadata": {
        "id": "3A81gR_weS6D"
      },
      "execution_count": 584,
      "outputs": []
    },
    {
      "cell_type": "code",
      "source": [
        "data.head()"
      ],
      "metadata": {
        "colab": {
          "base_uri": "https://localhost:8080/",
          "height": 320
        },
        "id": "oWHK1sIyg3_K",
        "outputId": "456a1c6a-c7fd-42c3-c99d-1dcaff286901"
      },
      "execution_count": 585,
      "outputs": [
        {
          "output_type": "execute_result",
          "data": {
            "text/plain": [
              "        MLS  sold_price  zipcode     longitude    latitude  lot_acres  \\\n",
              "0  21530491   5300000.0    85637    -1.103.782  31.356.362    2154.00   \n",
              "1  21529082   4200000.0    85646  -111.045.371  31.594.213    1707.00   \n",
              "2   3054672   4200000.0    85646  -111.040.707  31.594.844    1707.00   \n",
              "3  21919321   4500000.0    85646  -111.035.925  31.645.878     636.67   \n",
              "4  21306357   3411450.0    85750  -110.813.768  32.285.162       3.21   \n",
              "\n",
              "      taxes  year_built  bedrooms  bathrooms  sqrt_ft  garage  \\\n",
              "0   5272.00        1941        13       10.0  10500.0     0.0   \n",
              "1  10422.36        1997         2        2.0   7300.0     0.0   \n",
              "2  10482.00        1997         2        3.0   3512.0     3.0   \n",
              "3   8418.58        1930         7        5.0   9019.0     4.0   \n",
              "4  15393.00        1995         4        6.0   6396.0     3.0   \n",
              "\n",
              "                                    kitchen_features  fireplaces  \\\n",
              "0            Dishwasher, Freezer, Refrigerator, Oven         6.0   \n",
              "1                       Dishwasher, Garbage Disposal         5.0   \n",
              "2         Dishwasher, Garbage Disposal, Refrigerator         5.0   \n",
              "3  Dishwasher, Double Sink, Pantry: Butler, Refri...         4.0   \n",
              "4  Dishwasher, Garbage Disposal, Refrigerator, Mi...         5.0   \n",
              "\n",
              "                 floor_covering   HOA  class_price  \n",
              "0            Mexican Tile, Wood   0.0            4  \n",
              "1          Natural Stone, Other   0.0            3  \n",
              "2    Natural Stone, Other: Rock  55.0            3  \n",
              "3  Ceramic Tile, Laminate, Wood  55.0            3  \n",
              "4              Carpet, Concrete  55.0            3  "
            ],
            "text/html": [
              "\n",
              "  <div id=\"df-9696df8e-880c-4139-889e-29945d99ab89\">\n",
              "    <div class=\"colab-df-container\">\n",
              "      <div>\n",
              "<style scoped>\n",
              "    .dataframe tbody tr th:only-of-type {\n",
              "        vertical-align: middle;\n",
              "    }\n",
              "\n",
              "    .dataframe tbody tr th {\n",
              "        vertical-align: top;\n",
              "    }\n",
              "\n",
              "    .dataframe thead th {\n",
              "        text-align: right;\n",
              "    }\n",
              "</style>\n",
              "<table border=\"1\" class=\"dataframe\">\n",
              "  <thead>\n",
              "    <tr style=\"text-align: right;\">\n",
              "      <th></th>\n",
              "      <th>MLS</th>\n",
              "      <th>sold_price</th>\n",
              "      <th>zipcode</th>\n",
              "      <th>longitude</th>\n",
              "      <th>latitude</th>\n",
              "      <th>lot_acres</th>\n",
              "      <th>taxes</th>\n",
              "      <th>year_built</th>\n",
              "      <th>bedrooms</th>\n",
              "      <th>bathrooms</th>\n",
              "      <th>sqrt_ft</th>\n",
              "      <th>garage</th>\n",
              "      <th>kitchen_features</th>\n",
              "      <th>fireplaces</th>\n",
              "      <th>floor_covering</th>\n",
              "      <th>HOA</th>\n",
              "      <th>class_price</th>\n",
              "    </tr>\n",
              "  </thead>\n",
              "  <tbody>\n",
              "    <tr>\n",
              "      <th>0</th>\n",
              "      <td>21530491</td>\n",
              "      <td>5300000.0</td>\n",
              "      <td>85637</td>\n",
              "      <td>-1.103.782</td>\n",
              "      <td>31.356.362</td>\n",
              "      <td>2154.00</td>\n",
              "      <td>5272.00</td>\n",
              "      <td>1941</td>\n",
              "      <td>13</td>\n",
              "      <td>10.0</td>\n",
              "      <td>10500.0</td>\n",
              "      <td>0.0</td>\n",
              "      <td>Dishwasher, Freezer, Refrigerator, Oven</td>\n",
              "      <td>6.0</td>\n",
              "      <td>Mexican Tile, Wood</td>\n",
              "      <td>0.0</td>\n",
              "      <td>4</td>\n",
              "    </tr>\n",
              "    <tr>\n",
              "      <th>1</th>\n",
              "      <td>21529082</td>\n",
              "      <td>4200000.0</td>\n",
              "      <td>85646</td>\n",
              "      <td>-111.045.371</td>\n",
              "      <td>31.594.213</td>\n",
              "      <td>1707.00</td>\n",
              "      <td>10422.36</td>\n",
              "      <td>1997</td>\n",
              "      <td>2</td>\n",
              "      <td>2.0</td>\n",
              "      <td>7300.0</td>\n",
              "      <td>0.0</td>\n",
              "      <td>Dishwasher, Garbage Disposal</td>\n",
              "      <td>5.0</td>\n",
              "      <td>Natural Stone, Other</td>\n",
              "      <td>0.0</td>\n",
              "      <td>3</td>\n",
              "    </tr>\n",
              "    <tr>\n",
              "      <th>2</th>\n",
              "      <td>3054672</td>\n",
              "      <td>4200000.0</td>\n",
              "      <td>85646</td>\n",
              "      <td>-111.040.707</td>\n",
              "      <td>31.594.844</td>\n",
              "      <td>1707.00</td>\n",
              "      <td>10482.00</td>\n",
              "      <td>1997</td>\n",
              "      <td>2</td>\n",
              "      <td>3.0</td>\n",
              "      <td>3512.0</td>\n",
              "      <td>3.0</td>\n",
              "      <td>Dishwasher, Garbage Disposal, Refrigerator</td>\n",
              "      <td>5.0</td>\n",
              "      <td>Natural Stone, Other: Rock</td>\n",
              "      <td>55.0</td>\n",
              "      <td>3</td>\n",
              "    </tr>\n",
              "    <tr>\n",
              "      <th>3</th>\n",
              "      <td>21919321</td>\n",
              "      <td>4500000.0</td>\n",
              "      <td>85646</td>\n",
              "      <td>-111.035.925</td>\n",
              "      <td>31.645.878</td>\n",
              "      <td>636.67</td>\n",
              "      <td>8418.58</td>\n",
              "      <td>1930</td>\n",
              "      <td>7</td>\n",
              "      <td>5.0</td>\n",
              "      <td>9019.0</td>\n",
              "      <td>4.0</td>\n",
              "      <td>Dishwasher, Double Sink, Pantry: Butler, Refri...</td>\n",
              "      <td>4.0</td>\n",
              "      <td>Ceramic Tile, Laminate, Wood</td>\n",
              "      <td>55.0</td>\n",
              "      <td>3</td>\n",
              "    </tr>\n",
              "    <tr>\n",
              "      <th>4</th>\n",
              "      <td>21306357</td>\n",
              "      <td>3411450.0</td>\n",
              "      <td>85750</td>\n",
              "      <td>-110.813.768</td>\n",
              "      <td>32.285.162</td>\n",
              "      <td>3.21</td>\n",
              "      <td>15393.00</td>\n",
              "      <td>1995</td>\n",
              "      <td>4</td>\n",
              "      <td>6.0</td>\n",
              "      <td>6396.0</td>\n",
              "      <td>3.0</td>\n",
              "      <td>Dishwasher, Garbage Disposal, Refrigerator, Mi...</td>\n",
              "      <td>5.0</td>\n",
              "      <td>Carpet, Concrete</td>\n",
              "      <td>55.0</td>\n",
              "      <td>3</td>\n",
              "    </tr>\n",
              "  </tbody>\n",
              "</table>\n",
              "</div>\n",
              "      <button class=\"colab-df-convert\" onclick=\"convertToInteractive('df-9696df8e-880c-4139-889e-29945d99ab89')\"\n",
              "              title=\"Convert this dataframe to an interactive table.\"\n",
              "              style=\"display:none;\">\n",
              "        \n",
              "  <svg xmlns=\"http://www.w3.org/2000/svg\" height=\"24px\"viewBox=\"0 0 24 24\"\n",
              "       width=\"24px\">\n",
              "    <path d=\"M0 0h24v24H0V0z\" fill=\"none\"/>\n",
              "    <path d=\"M18.56 5.44l.94 2.06.94-2.06 2.06-.94-2.06-.94-.94-2.06-.94 2.06-2.06.94zm-11 1L8.5 8.5l.94-2.06 2.06-.94-2.06-.94L8.5 2.5l-.94 2.06-2.06.94zm10 10l.94 2.06.94-2.06 2.06-.94-2.06-.94-.94-2.06-.94 2.06-2.06.94z\"/><path d=\"M17.41 7.96l-1.37-1.37c-.4-.4-.92-.59-1.43-.59-.52 0-1.04.2-1.43.59L10.3 9.45l-7.72 7.72c-.78.78-.78 2.05 0 2.83L4 21.41c.39.39.9.59 1.41.59.51 0 1.02-.2 1.41-.59l7.78-7.78 2.81-2.81c.8-.78.8-2.07 0-2.86zM5.41 20L4 18.59l7.72-7.72 1.47 1.35L5.41 20z\"/>\n",
              "  </svg>\n",
              "      </button>\n",
              "      \n",
              "  <style>\n",
              "    .colab-df-container {\n",
              "      display:flex;\n",
              "      flex-wrap:wrap;\n",
              "      gap: 12px;\n",
              "    }\n",
              "\n",
              "    .colab-df-convert {\n",
              "      background-color: #E8F0FE;\n",
              "      border: none;\n",
              "      border-radius: 50%;\n",
              "      cursor: pointer;\n",
              "      display: none;\n",
              "      fill: #1967D2;\n",
              "      height: 32px;\n",
              "      padding: 0 0 0 0;\n",
              "      width: 32px;\n",
              "    }\n",
              "\n",
              "    .colab-df-convert:hover {\n",
              "      background-color: #E2EBFA;\n",
              "      box-shadow: 0px 1px 2px rgba(60, 64, 67, 0.3), 0px 1px 3px 1px rgba(60, 64, 67, 0.15);\n",
              "      fill: #174EA6;\n",
              "    }\n",
              "\n",
              "    [theme=dark] .colab-df-convert {\n",
              "      background-color: #3B4455;\n",
              "      fill: #D2E3FC;\n",
              "    }\n",
              "\n",
              "    [theme=dark] .colab-df-convert:hover {\n",
              "      background-color: #434B5C;\n",
              "      box-shadow: 0px 1px 3px 1px rgba(0, 0, 0, 0.15);\n",
              "      filter: drop-shadow(0px 1px 2px rgba(0, 0, 0, 0.3));\n",
              "      fill: #FFFFFF;\n",
              "    }\n",
              "  </style>\n",
              "\n",
              "      <script>\n",
              "        const buttonEl =\n",
              "          document.querySelector('#df-9696df8e-880c-4139-889e-29945d99ab89 button.colab-df-convert');\n",
              "        buttonEl.style.display =\n",
              "          google.colab.kernel.accessAllowed ? 'block' : 'none';\n",
              "\n",
              "        async function convertToInteractive(key) {\n",
              "          const element = document.querySelector('#df-9696df8e-880c-4139-889e-29945d99ab89');\n",
              "          const dataTable =\n",
              "            await google.colab.kernel.invokeFunction('convertToInteractive',\n",
              "                                                     [key], {});\n",
              "          if (!dataTable) return;\n",
              "\n",
              "          const docLinkHtml = 'Like what you see? Visit the ' +\n",
              "            '<a target=\"_blank\" href=https://colab.research.google.com/notebooks/data_table.ipynb>data table notebook</a>'\n",
              "            + ' to learn more about interactive tables.';\n",
              "          element.innerHTML = '';\n",
              "          dataTable['output_type'] = 'display_data';\n",
              "          await google.colab.output.renderOutput(dataTable, element);\n",
              "          const docLink = document.createElement('div');\n",
              "          docLink.innerHTML = docLinkHtml;\n",
              "          element.appendChild(docLink);\n",
              "        }\n",
              "      </script>\n",
              "    </div>\n",
              "  </div>\n",
              "  "
            ]
          },
          "metadata": {},
          "execution_count": 585
        }
      ]
    },
    {
      "cell_type": "code",
      "source": [
        "data['class_price'].value_counts()"
      ],
      "metadata": {
        "colab": {
          "base_uri": "https://localhost:8080/",
          "height": 0
        },
        "id": "JAex3_ntTy0K",
        "outputId": "86c5f61d-b939-4d98-83fd-ee7e2b3630bf"
      },
      "execution_count": 586,
      "outputs": [
        {
          "output_type": "execute_result",
          "data": {
            "text/plain": [
              "2    4775\n",
              "3     165\n",
              "1      59\n",
              "4       1\n",
              "Name: class_price, dtype: int64"
            ]
          },
          "metadata": {},
          "execution_count": 586
        }
      ]
    },
    {
      "cell_type": "code",
      "source": [
        "plt.scatter(data['sold_price'], data['year_built'])\n",
        "plt.xlabel('sold_price')\n",
        "plt.ylabel('year_built')\n",
        "plt.show()"
      ],
      "metadata": {
        "colab": {
          "base_uri": "https://localhost:8080/",
          "height": 280
        },
        "id": "vGx8PlnVLdct",
        "outputId": "1cfb68ae-360c-4382-cff2-89b3cde7bc3b"
      },
      "execution_count": 587,
      "outputs": [
        {
          "output_type": "display_data",
          "data": {
            "text/plain": [
              "<Figure size 432x288 with 1 Axes>"
            ],
            "image/png": "[encoded data removed]"
          },
          "metadata": {
            "needs_background": "light"
          }
        }
      ]
    },
    {
      "cell_type": "code",
      "source": [
        "data['year_built'].value_counts()"
      ],
      "metadata": {
        "colab": {
          "base_uri": "https://localhost:8080/",
          "height": 0
        },
        "id": "c5uRHszGOK0D",
        "outputId": "a457c63d-a776-4fc2-f3b2-20e5e62a38c5"
      },
      "execution_count": 588,
      "outputs": [
        {
          "output_type": "execute_result",
          "data": {
            "text/plain": [
              "2006    247\n",
              "2007    236\n",
              "2002    235\n",
              "2005    230\n",
              "2004    202\n",
              "       ... \n",
              "1913      1\n",
              "1923      1\n",
              "1907      1\n",
              "1911      1\n",
              "1927      1\n",
              "Name: year_built, Length: 112, dtype: int64"
            ]
          },
          "metadata": {},
          "execution_count": 588
        }
      ]
    },
    {
      "cell_type": "code",
      "source": [
        "X= data[['sold_price', 'zipcode', 'bedrooms', 'bathrooms', 'sqrt_ft', 'class_price']].copy()"
      ],
      "metadata": {
        "id": "xrPuxG1WOXoF"
      },
      "execution_count": 589,
      "outputs": []
    },
    {
      "cell_type": "code",
      "source": [
        "X"
      ],
      "metadata": {
        "colab": {
          "base_uri": "https://localhost:8080/",
          "height": 424
        },
        "id": "Dv7ZtVNwpAvH",
        "outputId": "a69fa582-0b3f-4259-f339-583400b3f2a0"
      },
      "execution_count": 590,
      "outputs": [
        {
          "output_type": "execute_result",
          "data": {
            "text/plain": [
              "      sold_price  zipcode  bedrooms  bathrooms  sqrt_ft  class_price\n",
              "0      5300000.0    85637        13       10.0  10500.0            4\n",
              "1      4200000.0    85646         2        2.0   7300.0            3\n",
              "2      4200000.0    85646         2        3.0   3512.0            3\n",
              "3      4500000.0    85646         7        5.0   9019.0            3\n",
              "4      3411450.0    85750         4        6.0   6396.0            3\n",
              "...          ...      ...       ...        ...      ...          ...\n",
              "4995    495000.0    85641         5        3.0   3601.0            1\n",
              "4996    550000.0    85750         4        3.0   2318.0            2\n",
              "4997    475000.0    85192         3        2.0   1772.0            1\n",
              "4998    550000.0    85745         4        4.0   3724.0            2\n",
              "4999    450000.0    85621         4        4.0   4317.0            1\n",
              "\n",
              "[5000 rows x 6 columns]"
            ],
            "text/html": [
              "\n",
              "  <div id=\"df-0bb880b7-ff8d-4e1e-aaa3-70ec50ad1a0c\">\n",
              "    <div class=\"colab-df-container\">\n",
              "      <div>\n",
              "<style scoped>\n",
              "    .dataframe tbody tr th:only-of-type {\n",
              "        vertical-align: middle;\n",
              "    }\n",
              "\n",
              "    .dataframe tbody tr th {\n",
              "        vertical-align: top;\n",
              "    }\n",
              "\n",
              "    .dataframe thead th {\n",
              "        text-align: right;\n",
              "    }\n",
              "</style>\n",
              "<table border=\"1\" class=\"dataframe\">\n",
              "  <thead>\n",
              "    <tr style=\"text-align: right;\">\n",
              "      <th></th>\n",
              "      <th>sold_price</th>\n",
              "      <th>zipcode</th>\n",
              "      <th>bedrooms</th>\n",
              "      <th>bathrooms</th>\n",
              "      <th>sqrt_ft</th>\n",
              "      <th>class_price</th>\n",
              "    </tr>\n",
              "  </thead>\n",
              "  <tbody>\n",
              "    <tr>\n",
              "      <th>0</th>\n",
              "      <td>5300000.0</td>\n",
              "      <td>85637</td>\n",
              "      <td>13</td>\n",
              "      <td>10.0</td>\n",
              "      <td>10500.0</td>\n",
              "      <td>4</td>\n",
              "    </tr>\n",
              "    <tr>\n",
              "      <th>1</th>\n",
              "      <td>4200000.0</td>\n",
              "      <td>85646</td>\n",
              "      <td>2</td>\n",
              "      <td>2.0</td>\n",
              "      <td>7300.0</td>\n",
              "      <td>3</td>\n",
              "    </tr>\n",
              "    <tr>\n",
              "      <th>2</th>\n",
              "      <td>4200000.0</td>\n",
              "      <td>85646</td>\n",
              "      <td>2</td>\n",
              "      <td>3.0</td>\n",
              "      <td>3512.0</td>\n",
              "      <td>3</td>\n",
              "    </tr>\n",
              "    <tr>\n",
              "      <th>3</th>\n",
              "      <td>4500000.0</td>\n",
              "      <td>85646</td>\n",
              "      <td>7</td>\n",
              "      <td>5.0</td>\n",
              "      <td>9019.0</td>\n",
              "      <td>3</td>\n",
              "    </tr>\n",
              "    <tr>\n",
              "      <th>4</th>\n",
              "      <td>3411450.0</td>\n",
              "      <td>85750</td>\n",
              "      <td>4</td>\n",
              "      <td>6.0</td>\n",
              "      <td>6396.0</td>\n",
              "      <td>3</td>\n",
              "    </tr>\n",
              "    <tr>\n",
              "      <th>...</th>\n",
              "      <td>...</td>\n",
              "      <td>...</td>\n",
              "      <td>...</td>\n",
              "      <td>...</td>\n",
              "      <td>...</td>\n",
              "      <td>...</td>\n",
              "    </tr>\n",
              "    <tr>\n",
              "      <th>4995</th>\n",
              "      <td>495000.0</td>\n",
              "      <td>85641</td>\n",
              "      <td>5</td>\n",
              "      <td>3.0</td>\n",
              "      <td>3601.0</td>\n",
              "      <td>1</td>\n",
              "    </tr>\n",
              "    <tr>\n",
              "      <th>4996</th>\n",
              "      <td>550000.0</td>\n",
              "      <td>85750</td>\n",
              "      <td>4</td>\n",
              "      <td>3.0</td>\n",
              "      <td>2318.0</td>\n",
              "      <td>2</td>\n",
              "    </tr>\n",
              "    <tr>\n",
              "      <th>4997</th>\n",
              "      <td>475000.0</td>\n",
              "      <td>85192</td>\n",
              "      <td>3</td>\n",
              "      <td>2.0</td>\n",
              "      <td>1772.0</td>\n",
              "      <td>1</td>\n",
              "    </tr>\n",
              "    <tr>\n",
              "      <th>4998</th>\n",
              "      <td>550000.0</td>\n",
              "      <td>85745</td>\n",
              "      <td>4</td>\n",
              "      <td>4.0</td>\n",
              "      <td>3724.0</td>\n",
              "      <td>2</td>\n",
              "    </tr>\n",
              "    <tr>\n",
              "      <th>4999</th>\n",
              "      <td>450000.0</td>\n",
              "      <td>85621</td>\n",
              "      <td>4</td>\n",
              "      <td>4.0</td>\n",
              "      <td>4317.0</td>\n",
              "      <td>1</td>\n",
              "    </tr>\n",
              "  </tbody>\n",
              "</table>\n",
              "<p>5000 rows × 6 columns</p>\n",
              "</div>\n",
              "      <button class=\"colab-df-convert\" onclick=\"convertToInteractive('df-0bb880b7-ff8d-4e1e-aaa3-70ec50ad1a0c')\"\n",
              "              title=\"Convert this dataframe to an interactive table.\"\n",
              "              style=\"display:none;\">\n",
              "        \n",
              "  <svg xmlns=\"http://www.w3.org/2000/svg\" height=\"24px\"viewBox=\"0 0 24 24\"\n",
              "       width=\"24px\">\n",
              "    <path d=\"M0 0h24v24H0V0z\" fill=\"none\"/>\n",
              "    <path d=\"M18.56 5.44l.94 2.06.94-2.06 2.06-.94-2.06-.94-.94-2.06-.94 2.06-2.06.94zm-11 1L8.5 8.5l.94-2.06 2.06-.94-2.06-.94L8.5 2.5l-.94 2.06-2.06.94zm10 10l.94 2.06.94-2.06 2.06-.94-2.06-.94-.94-2.06-.94 2.06-2.06.94z\"/><path d=\"M17.41 7.96l-1.37-1.37c-.4-.4-.92-.59-1.43-.59-.52 0-1.04.2-1.43.59L10.3 9.45l-7.72 7.72c-.78.78-.78 2.05 0 2.83L4 21.41c.39.39.9.59 1.41.59.51 0 1.02-.2 1.41-.59l7.78-7.78 2.81-2.81c.8-.78.8-2.07 0-2.86zM5.41 20L4 18.59l7.72-7.72 1.47 1.35L5.41 20z\"/>\n",
              "  </svg>\n",
              "      </button>\n",
              "      \n",
              "  <style>\n",
              "    .colab-df-container {\n",
              "      display:flex;\n",
              "      flex-wrap:wrap;\n",
              "      gap: 12px;\n",
              "    }\n",
              "\n",
              "    .colab-df-convert {\n",
              "      background-color: #E8F0FE;\n",
              "      border: none;\n",
              "      border-radius: 50%;\n",
              "      cursor: pointer;\n",
              "      display: none;\n",
              "      fill: #1967D2;\n",
              "      height: 32px;\n",
              "      padding: 0 0 0 0;\n",
              "      width: 32px;\n",
              "    }\n",
              "\n",
              "    .colab-df-convert:hover {\n",
              "      background-color: #E2EBFA;\n",
              "      box-shadow: 0px 1px 2px rgba(60, 64, 67, 0.3), 0px 1px 3px 1px rgba(60, 64, 67, 0.15);\n",
              "      fill: #174EA6;\n",
              "    }\n",
              "\n",
              "    [theme=dark] .colab-df-convert {\n",
              "      background-color: #3B4455;\n",
              "      fill: #D2E3FC;\n",
              "    }\n",
              "\n",
              "    [theme=dark] .colab-df-convert:hover {\n",
              "      background-color: #434B5C;\n",
              "      box-shadow: 0px 1px 3px 1px rgba(0, 0, 0, 0.15);\n",
              "      filter: drop-shadow(0px 1px 2px rgba(0, 0, 0, 0.3));\n",
              "      fill: #FFFFFF;\n",
              "    }\n",
              "  </style>\n",
              "\n",
              "      <script>\n",
              "        const buttonEl =\n",
              "          document.querySelector('#df-0bb880b7-ff8d-4e1e-aaa3-70ec50ad1a0c button.colab-df-convert');\n",
              "        buttonEl.style.display =\n",
              "          google.colab.kernel.accessAllowed ? 'block' : 'none';\n",
              "\n",
              "        async function convertToInteractive(key) {\n",
              "          const element = document.querySelector('#df-0bb880b7-ff8d-4e1e-aaa3-70ec50ad1a0c');\n",
              "          const dataTable =\n",
              "            await google.colab.kernel.invokeFunction('convertToInteractive',\n",
              "                                                     [key], {});\n",
              "          if (!dataTable) return;\n",
              "\n",
              "          const docLinkHtml = 'Like what you see? Visit the ' +\n",
              "            '<a target=\"_blank\" href=https://colab.research.google.com/notebooks/data_table.ipynb>data table notebook</a>'\n",
              "            + ' to learn more about interactive tables.';\n",
              "          element.innerHTML = '';\n",
              "          dataTable['output_type'] = 'display_data';\n",
              "          await google.colab.output.renderOutput(dataTable, element);\n",
              "          const docLink = document.createElement('div');\n",
              "          docLink.innerHTML = docLinkHtml;\n",
              "          element.appendChild(docLink);\n",
              "        }\n",
              "      </script>\n",
              "    </div>\n",
              "  </div>\n",
              "  "
            ]
          },
          "metadata": {},
          "execution_count": 590
        }
      ]
    },
    {
      "cell_type": "code",
      "source": [
        "data['class_price'].describe()"
      ],
      "metadata": {
        "colab": {
          "base_uri": "https://localhost:8080/",
          "height": 0
        },
        "id": "8TXqriT5z1Gb",
        "outputId": "03e219cc-2602-4c30-d740-2f614dc98b9b"
      },
      "execution_count": 591,
      "outputs": [
        {
          "output_type": "execute_result",
          "data": {
            "text/plain": [
              "count    5000.000000\n",
              "mean        2.021600\n",
              "std         0.212468\n",
              "min         1.000000\n",
              "25%         2.000000\n",
              "50%         2.000000\n",
              "75%         2.000000\n",
              "max         4.000000\n",
              "Name: class_price, dtype: float64"
            ]
          },
          "metadata": {},
          "execution_count": 591
        }
      ]
    },
    {
      "cell_type": "code",
      "source": [
        "data['class_price'].value_counts()"
      ],
      "metadata": {
        "colab": {
          "base_uri": "https://localhost:8080/",
          "height": 0
        },
        "id": "4ZFoPqIE0DnS",
        "outputId": "27fb5725-04d3-41cc-f96d-b4c4be91e202"
      },
      "execution_count": 592,
      "outputs": [
        {
          "output_type": "execute_result",
          "data": {
            "text/plain": [
              "2    4775\n",
              "3     165\n",
              "1      59\n",
              "4       1\n",
              "Name: class_price, dtype: int64"
            ]
          },
          "metadata": {},
          "execution_count": 592
        }
      ]
    },
    {
      "cell_type": "code",
      "source": [
        "X = X.to_numpy()"
      ],
      "metadata": {
        "id": "GZ1BQBBEUbNy"
      },
      "execution_count": 593,
      "outputs": []
    },
    {
      "cell_type": "code",
      "source": [
        "X"
      ],
      "metadata": {
        "colab": {
          "base_uri": "https://localhost:8080/",
          "height": 0
        },
        "id": "zRvD4536UmlV",
        "outputId": "2b7135a8-c307-4c99-a7fb-2131d9da8a65"
      },
      "execution_count": 594,
      "outputs": [
        {
          "output_type": "execute_result",
          "data": {
            "text/plain": [
              "array([[5.3000e+06, 8.5637e+04, 1.3000e+01, 1.0000e+01, 1.0500e+04,\n",
              "        4.0000e+00],\n",
              "       [4.2000e+06, 8.5646e+04, 2.0000e+00, 2.0000e+00, 7.3000e+03,\n",
              "        3.0000e+00],\n",
              "       [4.2000e+06, 8.5646e+04, 2.0000e+00, 3.0000e+00, 3.5120e+03,\n",
              "        3.0000e+00],\n",
              "       ...,\n",
              "       [4.7500e+05, 8.5192e+04, 3.0000e+00, 2.0000e+00, 1.7720e+03,\n",
              "        1.0000e+00],\n",
              "       [5.5000e+05, 8.5745e+04, 4.0000e+00, 4.0000e+00, 3.7240e+03,\n",
              "        2.0000e+00],\n",
              "       [4.5000e+05, 8.5621e+04, 4.0000e+00, 4.0000e+00, 4.3170e+03,\n",
              "        1.0000e+00]])"
            ]
          },
          "metadata": {},
          "execution_count": 594
        }
      ]
    },
    {
      "cell_type": "code",
      "source": [
        "X[:,0]"
      ],
      "metadata": {
        "colab": {
          "base_uri": "https://localhost:8080/",
          "height": 0
        },
        "id": "AuNsCl8qVfL2",
        "outputId": "1ae449ed-125c-4e3a-8938-da1731b5a475"
      },
      "execution_count": 595,
      "outputs": [
        {
          "output_type": "execute_result",
          "data": {
            "text/plain": [
              "array([5300000., 4200000., 4200000., ...,  475000.,  550000.,  450000.])"
            ]
          },
          "metadata": {},
          "execution_count": 595
        }
      ]
    },
    {
      "cell_type": "code",
      "source": [
        "from sklearn.model_selection import train_test_split"
      ],
      "metadata": {
        "id": "pXoBBT97NkbZ"
      },
      "execution_count": 596,
      "outputs": []
    },
    {
      "cell_type": "code",
      "source": [
        "y_train=X[:,0]"
      ],
      "metadata": {
        "id": "LUKu5RboUugb"
      },
      "execution_count": 597,
      "outputs": []
    },
    {
      "cell_type": "code",
      "source": [
        "X_train=X[:,1:]"
      ],
      "metadata": {
        "id": "4IMISrPpVGVF"
      },
      "execution_count": 598,
      "outputs": []
    },
    {
      "cell_type": "code",
      "source": [
        "y_test=X_train[:,0]"
      ],
      "metadata": {
        "id": "xZXJd0VGPD-d"
      },
      "execution_count": 599,
      "outputs": []
    },
    {
      "cell_type": "code",
      "source": [
        "X_test=X_train[:,0:]"
      ],
      "metadata": {
        "id": "4YDn1kfcPZRs"
      },
      "execution_count": 600,
      "outputs": []
    },
    {
      "cell_type": "code",
      "source": [
        "X_train"
      ],
      "metadata": {
        "colab": {
          "base_uri": "https://localhost:8080/",
          "height": 0
        },
        "id": "1Wh9854oVI0S",
        "outputId": "65df9439-7c06-4efd-c12d-e995725e8e96"
      },
      "execution_count": 601,
      "outputs": [
        {
          "output_type": "execute_result",
          "data": {
            "text/plain": [
              "array([[8.5637e+04, 1.3000e+01, 1.0000e+01, 1.0500e+04, 4.0000e+00],\n",
              "       [8.5646e+04, 2.0000e+00, 2.0000e+00, 7.3000e+03, 3.0000e+00],\n",
              "       [8.5646e+04, 2.0000e+00, 3.0000e+00, 3.5120e+03, 3.0000e+00],\n",
              "       ...,\n",
              "       [8.5192e+04, 3.0000e+00, 2.0000e+00, 1.7720e+03, 1.0000e+00],\n",
              "       [8.5745e+04, 4.0000e+00, 4.0000e+00, 3.7240e+03, 2.0000e+00],\n",
              "       [8.5621e+04, 4.0000e+00, 4.0000e+00, 4.3170e+03, 1.0000e+00]])"
            ]
          },
          "metadata": {},
          "execution_count": 601
        }
      ]
    },
    {
      "cell_type": "code",
      "source": [
        "y"
      ],
      "metadata": {
        "colab": {
          "base_uri": "https://localhost:8080/",
          "height": 0
        },
        "id": "mE23b9zZr4k0",
        "outputId": "dbacf93b-b87b-41d1-f2c7-d5879f8bf38c"
      },
      "execution_count": 602,
      "outputs": [
        {
          "output_type": "execute_result",
          "data": {
            "text/plain": [
              "array([5300000., 4200000., 4200000., ...,  475000.,  550000.,  450000.])"
            ]
          },
          "metadata": {},
          "execution_count": 602
        }
      ]
    },
    {
      "cell_type": "code",
      "source": [
        "X_test"
      ],
      "metadata": {
        "colab": {
          "base_uri": "https://localhost:8080/",
          "height": 0
        },
        "id": "5caSmLyDQ3aW",
        "outputId": "42d461b0-8f84-454a-e332-ec964b961d9b"
      },
      "execution_count": 603,
      "outputs": [
        {
          "output_type": "execute_result",
          "data": {
            "text/plain": [
              "array([[8.5637e+04, 1.3000e+01, 1.0000e+01, 1.0500e+04, 4.0000e+00],\n",
              "       [8.5646e+04, 2.0000e+00, 2.0000e+00, 7.3000e+03, 3.0000e+00],\n",
              "       [8.5646e+04, 2.0000e+00, 3.0000e+00, 3.5120e+03, 3.0000e+00],\n",
              "       ...,\n",
              "       [8.5192e+04, 3.0000e+00, 2.0000e+00, 1.7720e+03, 1.0000e+00],\n",
              "       [8.5745e+04, 4.0000e+00, 4.0000e+00, 3.7240e+03, 2.0000e+00],\n",
              "       [8.5621e+04, 4.0000e+00, 4.0000e+00, 4.3170e+03, 1.0000e+00]])"
            ]
          },
          "metadata": {},
          "execution_count": 603
        }
      ]
    },
    {
      "cell_type": "code",
      "source": [
        "y_test"
      ],
      "metadata": {
        "colab": {
          "base_uri": "https://localhost:8080/",
          "height": 0
        },
        "id": "N2oS2QBNQ7oH",
        "outputId": "b237fb37-ade7-4312-9baa-cbfc2889c167"
      },
      "execution_count": 604,
      "outputs": [
        {
          "output_type": "execute_result",
          "data": {
            "text/plain": [
              "array([85637., 85646., 85646., ..., 85192., 85745., 85621.])"
            ]
          },
          "metadata": {},
          "execution_count": 604
        }
      ]
    },
    {
      "cell_type": "code",
      "source": [
        "y_train.shape"
      ],
      "metadata": {
        "colab": {
          "base_uri": "https://localhost:8080/",
          "height": 0
        },
        "id": "4kPaz-J0XQW1",
        "outputId": "06c10725-9139-4ea2-bdb4-614ec51fb97f"
      },
      "execution_count": 605,
      "outputs": [
        {
          "output_type": "execute_result",
          "data": {
            "text/plain": [
              "(5000,)"
            ]
          },
          "metadata": {},
          "execution_count": 605
        }
      ]
    },
    {
      "cell_type": "code",
      "source": [
        "X_train.shape"
      ],
      "metadata": {
        "colab": {
          "base_uri": "https://localhost:8080/",
          "height": 0
        },
        "id": "GoCxCAiOXW9m",
        "outputId": "1ab92965-19bf-42ee-fe35-ebcd4ec67feb"
      },
      "execution_count": 606,
      "outputs": [
        {
          "output_type": "execute_result",
          "data": {
            "text/plain": [
              "(5000, 5)"
            ]
          },
          "metadata": {},
          "execution_count": 606
        }
      ]
    },
    {
      "cell_type": "code",
      "source": [
        "X_test.shape"
      ],
      "metadata": {
        "colab": {
          "base_uri": "https://localhost:8080/",
          "height": 0
        },
        "id": "Ix2QAMebS0Yl",
        "outputId": "c79d4d7d-3cb3-4ef2-906e-beca87c32ab3"
      },
      "execution_count": 607,
      "outputs": [
        {
          "output_type": "execute_result",
          "data": {
            "text/plain": [
              "(5000, 5)"
            ]
          },
          "metadata": {},
          "execution_count": 607
        }
      ]
    },
    {
      "cell_type": "code",
      "source": [
        "len(X_test)"
      ],
      "metadata": {
        "colab": {
          "base_uri": "https://localhost:8080/",
          "height": 0
        },
        "id": "_LyGdyNnScDA",
        "outputId": "e01aea9a-a341-48bc-d000-6aaf3cbfdf70"
      },
      "execution_count": 608,
      "outputs": [
        {
          "output_type": "execute_result",
          "data": {
            "text/plain": [
              "5000"
            ]
          },
          "metadata": {},
          "execution_count": 608
        }
      ]
    },
    {
      "cell_type": "code",
      "source": [
        "SEED = 500\n",
        "X_train, X_test, y_train, y_test = train_test_split(X, y, test_size=0.1, random_state=SEED)"
      ],
      "metadata": {
        "id": "s52thZazTOch"
      },
      "execution_count": 609,
      "outputs": []
    },
    {
      "cell_type": "code",
      "source": [
        "len(X_test)"
      ],
      "metadata": {
        "colab": {
          "base_uri": "https://localhost:8080/",
          "height": 0
        },
        "id": "tz5qKoIaTP7u",
        "outputId": "a9da3024-74ce-4f4e-df04-02d70fb3e43c"
      },
      "execution_count": 610,
      "outputs": [
        {
          "output_type": "execute_result",
          "data": {
            "text/plain": [
              "500"
            ]
          },
          "metadata": {},
          "execution_count": 610
        }
      ]
    },
    {
      "cell_type": "markdown",
      "source": [
        "### KNN"
      ],
      "metadata": {
        "id": "pyYxn4WQTwOB"
      }
    },
    {
      "cell_type": "code",
      "source": [
        "class KNNClassifire():\n",
        "\n",
        "  def fit(self, X , y):\n",
        "    self.X=X\n",
        "    self.y=y.astype(int)\n",
        "\n",
        "  def predict(self, X, K, epsilon= 1e-3):\n",
        "\n",
        "    N=len(X)\n",
        "    y_hat = np.zeros(N)\n",
        "\n",
        "    for i in range(N):\n",
        "      dist2 = np.sum((self.X-X[i])**2, axis=1)\n",
        "      idxt = np.argsort(dist2)[:K]\n",
        "      gamma_k = 1/(np.sqrt(dist2[idxt]+epsilon))\n",
        "      y_hat[i] = np.bincount(self.y[idxt], weights = gamma_k).argmax()\n",
        "\n",
        "    return y_hat"
      ],
      "metadata": {
        "id": "v1DU6GDAPyId"
      },
      "execution_count": 611,
      "outputs": []
    },
    {
      "cell_type": "code",
      "source": [
        "def accuracy(y, y_hat):\n",
        "  return np.mean(y==y_hat)"
      ],
      "metadata": {
        "id": "kxZ6pOFJP2uF"
      },
      "execution_count": 612,
      "outputs": []
    },
    {
      "cell_type": "code",
      "source": [
        "knn = KNNClassifire()"
      ],
      "metadata": {
        "id": "sKX1tnGfP8jA"
      },
      "execution_count": 613,
      "outputs": []
    },
    {
      "cell_type": "code",
      "source": [
        "knn.fit(X_train, y_train)"
      ],
      "metadata": {
        "id": "6e7k9KPBP_rW"
      },
      "execution_count": 614,
      "outputs": []
    },
    {
      "cell_type": "code",
      "source": [
        "y_hatknn = knn.predict(X_test, 10)"
      ],
      "metadata": {
        "id": "1gluhpNgQFIp"
      },
      "execution_count": 615,
      "outputs": []
    },
    {
      "cell_type": "code",
      "source": [
        "accuracy(y_test, y_hatknn)"
      ],
      "metadata": {
        "colab": {
          "base_uri": "https://localhost:8080/",
          "height": 0
        },
        "id": "htrZS-s9kRI8",
        "outputId": "f1d84623-184b-43ae-c624-ef1385439cac"
      },
      "execution_count": 616,
      "outputs": [
        {
          "output_type": "execute_result",
          "data": {
            "text/plain": [
              "0.788"
            ]
          },
          "metadata": {},
          "execution_count": 616
        }
      ]
    },
    {
      "cell_type": "markdown",
      "source": [
        "### KNN Regression"
      ],
      "metadata": {
        "id": "8c6ixyU5lMHe"
      }
    },
    {
      "cell_type": "code",
      "source": [
        "class KNNRegresor():\n",
        "\n",
        "  def fit(self,X,y):\n",
        "    self.X=X\n",
        "    self.y=y\n",
        "\n",
        "  def predict(self, X, K, epsilon=1e-3):\n",
        "    N= len(X)\n",
        "    y_hat =np.zeros(N)\n",
        "\n",
        "    for i in range(N):\n",
        "      dist2 = np.sum((self.X-X[i])**2, axis=1)\n",
        "      idxt = np.argsort(dist2)[:K]\n",
        "      gamma_K = np.exp(-dist2[idxt])/np.exp(-dist2[idxt]).sum()\n",
        "      y_hat[i]= gamma_K.dot(self.y[idxt])\n",
        "\n",
        "    return y_hat"
      ],
      "metadata": {
        "id": "0ghya04iVJ0R"
      },
      "execution_count": 617,
      "outputs": []
    },
    {
      "cell_type": "code",
      "source": [
        "knn_reg=KNNRegresor()"
      ],
      "metadata": {
        "id": "6n7UC0GLVNp-"
      },
      "execution_count": 618,
      "outputs": []
    },
    {
      "cell_type": "code",
      "source": [
        "knn_reg.fit(X_train,y_train)"
      ],
      "metadata": {
        "id": "vbTUYBROVRTA"
      },
      "execution_count": 619,
      "outputs": []
    },
    {
      "cell_type": "code",
      "source": [
        "y_hatknnrg = knn_reg.predict(X_test, 10)\n",
        "y_hatknnrg2 = knn_reg.predict(X_test, 300)"
      ],
      "metadata": {
        "colab": {
          "base_uri": "https://localhost:8080/",
          "height": 0
        },
        "id": "pv75naJnVXXX",
        "outputId": "79700036-deb5-4e3f-a8e4-b78e448ff8ba"
      },
      "execution_count": 620,
      "outputs": [
        {
          "output_type": "stream",
          "name": "stderr",
          "text": [
            "/usr/local/lib/python3.7/dist-packages/ipykernel_launcher.py:14: RuntimeWarning: invalid value encountered in true_divide\n",
            "  \n"
          ]
        }
      ]
    },
    {
      "cell_type": "code",
      "source": [
        "accuracy(y_test, y_hatknnrg)"
      ],
      "metadata": {
        "colab": {
          "base_uri": "https://localhost:8080/",
          "height": 0
        },
        "id": "BC47-4l-WzPN",
        "outputId": "9c421c18-07c2-4cd7-fb3f-837e7ae04e59"
      },
      "execution_count": 621,
      "outputs": [
        {
          "output_type": "execute_result",
          "data": {
            "text/plain": [
              "0.236"
            ]
          },
          "metadata": {},
          "execution_count": 621
        }
      ]
    },
    {
      "cell_type": "code",
      "source": [
        "class MultipleLinearRegression():\n",
        "  \n",
        "  def fit(self, X, y):\n",
        "\n",
        "    self.W = np.linealg.solve(X.T@X, X.T@y)\n",
        "\n",
        "  def predict(self, X):\n",
        "\n",
        "    return np.matmul(X, self.W)"
      ],
      "metadata": {
        "id": "DyeBZvUSbe49"
      },
      "execution_count": 622,
      "outputs": []
    },
    {
      "cell_type": "markdown",
      "source": [
        "### OLS Regression with Gradient Decent"
      ],
      "metadata": {
        "id": "ztqkzU-DaU8X"
      }
    },
    {
      "cell_type": "code",
      "source": [
        "def OLS(Y, Y_hat, N):\n",
        "  return (1/(2^N)*np.sum((Y-Y_hat)**2))\n",
        "\n",
        "def R2(Y, Y_hat):\n",
        "  return (1-(np.sum((Y-Y_hat)**2)/np.sum((Y-np.mean(Y))**2)))\n"
      ],
      "metadata": {
        "id": "2JYgLeCwCWMX"
      },
      "execution_count": 623,
      "outputs": []
    },
    {
      "cell_type": "code",
      "source": [
        "class OurLinearRegression():\n",
        "\n",
        "  def fit(self, X, y, eta=1e-3, epochs =1e3, show_curve=False):\n",
        "\n",
        "    epochs = int(epochs)\n",
        "    N, D = X.shape\n",
        "    Y=y\n",
        "\n",
        "    #Stochastic Gradient Descent:\n",
        "    #Initialize the weights\n",
        "    self.W = np.random.randn(D)\n",
        "\n",
        "    J= np.zeros(epochs)\n",
        "\n",
        "    #Gradient Descent Step\n",
        "\n",
        "    for epoch in range(epochs):\n",
        "      Y_hat = self.predict(X)\n",
        "      J[epoch] = OLS(Y, Y_hat, N) # calculate erro/loss\n",
        "      # Weights update rule\n",
        "      self.W -= eta*(1/N)*(X.T@(Y_hat-Y))\n",
        "\n",
        "    if show_curve:\n",
        "      plt.figure()\n",
        "      plt.plot(J)\n",
        "      plt.xlabel(\"epochs\")\n",
        "      plt.ylabel(\"$\\mathcal{J}$\")\n",
        "      plt.title(\"Training Curve\")\n",
        "      plt.show()\n",
        "\n",
        "  def predict(self, X):\n",
        "    return X@self.W"
      ],
      "metadata": {
        "id": "wbPfufupiffT"
      },
      "execution_count": 624,
      "outputs": []
    },
    {
      "cell_type": "code",
      "source": [
        "myReg= OurLinearRegression()"
      ],
      "metadata": {
        "id": "2T-34ZOYlRaY"
      },
      "execution_count": 625,
      "outputs": []
    },
    {
      "cell_type": "code",
      "source": [
        "myReg.fit(X_train,y_train, epochs=1e4, eta=1e-15, show_curve=True)"
      ],
      "metadata": {
        "colab": {
          "base_uri": "https://localhost:8080/",
          "height": 295
        },
        "id": "zCiChC0RlaXc",
        "outputId": "49410099-c669-42e5-cdc7-724ba887ea0e"
      },
      "execution_count": 626,
      "outputs": [
        {
          "output_type": "display_data",
          "data": {
            "text/plain": [
              "<Figure size 432x288 with 1 Axes>"
            ],
            "image/png": "[encoded data removed]"
          },
          "metadata": {
            "needs_background": "light"
          }
        }
      ]
    },
    {
      "cell_type": "code",
      "source": [
        "Xtest = np.array([[X_test]])"
      ],
      "metadata": {
        "id": "GWWyMo7FlzlX"
      },
      "execution_count": 627,
      "outputs": []
    },
    {
      "cell_type": "code",
      "source": [
        "myReg.predict(Xtest)"
      ],
      "metadata": {
        "colab": {
          "base_uri": "https://localhost:8080/",
          "height": 0
        },
        "id": "_ftrWGeLxPMz",
        "outputId": "bb217768-9116-4880-c0eb-b09844008164"
      },
      "execution_count": 628,
      "outputs": [
        {
          "output_type": "execute_result",
          "data": {
            "text/plain": [
              "array([[[ 666204.06275849, 1754966.04671273,  476126.05164785,\n",
              "          971009.98514334,  797991.8070825 ,  666622.12091278,\n",
              "          580314.42903062,  469764.35091966,  449886.04249283,\n",
              "          625815.57725929,  493256.96292269, 1339246.82885891,\n",
              "         1098140.79503719,  677346.16499914,  510575.10392715,\n",
              "          552510.12257824,  522234.40861272,  810178.74555205,\n",
              "          787676.55332807,  799221.77173241,  977613.38473861,\n",
              "          648775.70728167, 1081494.71959327,  983201.50491948,\n",
              "          937032.5046057 ,  406961.24651982,  666800.47861645,\n",
              "          534230.43497672,  654611.78004714,  493874.40559397,\n",
              "          965806.77833092,  510270.04281443,  925834.47423449,\n",
              "          602401.58101283,  551453.71862834,  649707.27665915,\n",
              "          487380.04897814,  926774.8309003 ,  776465.36112825,\n",
              "         1000378.41568592, 1481398.13103489,  546115.78623822,\n",
              "          527538.14463045,  585645.64215281,  644030.2815961 ,\n",
              "          897046.53381377,  792858.69817678,  666822.71884426,\n",
              "          515850.14042776,  582935.81403779,  597388.50872264,\n",
              "          516225.67749316,  551480.39332762,  700729.09072377,\n",
              "         1327326.56646299,  937222.44687058,  607511.84850028,\n",
              "          776453.46554096,  672128.21371774,  661242.72517252,\n",
              "          579699.7276134 ,  721242.9188385 ,  909228.04085674,\n",
              "          504613.40797518,  464640.29804122, 1530676.16082569,\n",
              "          475891.9998455 ,  437817.09811642,  883693.33140139,\n",
              "          951739.03865644,  476347.88138005,  736467.56548126,\n",
              "          724784.37003591,  722317.57749183,  596952.87835978,\n",
              "          697808.18525711,  446905.23454381, 2336570.79453044,\n",
              "          604071.42327844,  511945.12464297,  580083.65511634,\n",
              "          642700.98972786,  632161.04884585,  614691.24735607,\n",
              "          712042.39740799,  568382.50690331,  840023.22553555,\n",
              "          677843.81700669,  665934.26246619,  593933.82206857,\n",
              "          504063.5655945 ,  867694.19270708,  643558.63769831,\n",
              "          632839.44899378, 1588220.89493176,  608691.50923846,\n",
              "          534355.84164499,  465091.01521954,  566572.45996882,\n",
              "          822498.63944305,  465104.22098552,  770202.30980722,\n",
              "          527490.31206702,  787872.99881749,  723993.75057368,\n",
              "          579647.40989962,  753345.08198205,  505092.51385255,\n",
              "          925127.01756376,  695766.34627926,  696334.08241553,\n",
              "          677736.93798462,  556827.34577743,  552546.16930998,\n",
              "          712304.20445784,  477277.75575435, 1023079.08096833,\n",
              "          459553.82283969,  522464.15605377,  649098.02349664,\n",
              "         1052114.98903049,  717188.30593654,  510820.56147923,\n",
              "          724512.56352346,  853202.6029246 ,  839173.6875365 ,\n",
              "         1529804.97615011,  464479.14212588,  481527.55455876,\n",
              "          586137.22945478,  896573.48825768,  528163.6611931 ,\n",
              "          839209.98479525,  828187.8701097 ,  553605.52470161,\n",
              "          493580.16178768,  723580.60072144,  665827.38820896,\n",
              "          481608.29624302,  608770.28120672,  580023.02560027,\n",
              "          510509.39225847,  700640.59527496,  928034.60789064,\n",
              "          913684.80117238, 1241647.327501  ,  724613.90490941,\n",
              "          603018.37658541,  673841.24772579,  643047.56906455,\n",
              "          516223.21540772,  838758.09146765, 2852267.3264204 ,\n",
              "          701620.6348072 ,  631572.29992001,  660426.27407145,\n",
              "          649245.50413876,  620444.61169822, 1242611.94519371,\n",
              "          494005.9018498 ,  890754.79663594,  475911.28147988,\n",
              "          972791.13520643, 1017362.70559629,  478246.41340312,\n",
              "          940059.88701233,  532999.60684592,  537817.98452011,\n",
              "          695893.70535952,  868260.07698293,  602658.24777246,\n",
              "          701036.37850144,  839002.49888458,  493003.0739086 ,\n",
              "          764898.87573046,  550763.21449386,  579541.58686551,\n",
              "          464580.30135038,  896618.76460438, 1875716.27310936,\n",
              "         1030010.32602787, 1190096.10928816, 1878847.43369675,\n",
              "          590667.99407934,  807754.54719306,  421443.0950513 ,\n",
              "          473054.52735675,  608376.87104644,  752238.08134697,\n",
              "          683569.15324095,  729127.83087476,  637229.98617328,\n",
              "          867649.07706322,  568749.67053058,  781535.4688149 ,\n",
              "          493130.29341394,  552075.90959334,  510914.53204747,\n",
              "          580033.72035117, 1876387.73383601,  712267.32109892,\n",
              "          502703.71354833,  821554.37157364,  841740.7075119 ,\n",
              "          482247.66397837,  458489.14888126,  571634.27073221,\n",
              "          698272.42456895,  660443.41415903, 1155626.24111066,\n",
              "          608885.34849356,  753568.7873726 ,  535910.97357151,\n",
              "          539592.29194974,  564694.21013532, 1264846.63368828,\n",
              "          667300.8717404 ,  478966.43299703,  747280.96085446,\n",
              "          481710.93805056,  619960.23744939,  481868.8346755 ,\n",
              "          538710.35751069,  723553.55080453,  585437.10983873,\n",
              "          487780.83648305,  551153.34640204,  424853.64009163,\n",
              "         1564595.94243311, 1300145.07957198,  504000.06640603,\n",
              "          573932.96764823,  510739.32123466,  989080.3433435 ,\n",
              "          585633.97590579,  493195.7756247 ,  914184.93443448,\n",
              "          522607.62354814,  507959.33474338,  869816.08984862,\n",
              "          550869.75342764,  913939.72887985,  579030.36863685,\n",
              "          623295.63068985,  425139.05505744,  845313.53528763,\n",
              "          896742.34157309,  483659.39489553,  458306.19350792,\n",
              "          954471.1044953 ,  497325.6732075 , 1588045.34650979,\n",
              "          804049.78582122,  584620.19342383,  672226.67726034,\n",
              "          971424.18970988,  596952.87835978,  793042.61489024,\n",
              "          492955.64896078,  666450.7661831 ,  544971.22062324,\n",
              "          512702.73690441, 1128474.39446554, 1333239.0105304 ,\n",
              "         1243981.40530841,  528013.9826397 ,  707081.28861867,\n",
              "          770771.04303675,  585297.98441759,  291963.76874066,\n",
              "          436086.58991458,  522262.83031371,  651626.83225254,\n",
              "         1477958.12148581, 2063536.30203873,  610595.09020265,\n",
              "          757785.0914909 , 1693792.86891032,  573532.98598085,\n",
              "          642516.89311634,  602639.60478988,  729606.06319244,\n",
              "          476355.64617141,  521695.10476884,  798269.20936472,\n",
              "          608716.11149651,  504704.83640406,  568556.83520213,\n",
              "          953899.64576848,  614407.34356359,  682330.72298576,\n",
              "          528009.04978259,  681742.98839468,  579918.97211446,\n",
              "         1328523.58504641, 1702846.4721735 ,  747252.91915825,\n",
              "          631478.37741057,  520063.79048951,  879721.75077216,\n",
              "          597295.7005257 ,  613127.64115361,  884819.19587069,\n",
              "          873759.97008257,  758182.80588562,  706532.13004122,\n",
              "          531992.92903556,  533641.28908549,  707678.75460268,\n",
              "          494523.51693802,  499148.11768417, 1587199.86944526,\n",
              "          852458.71098136,  527226.45687332,  580096.68373147,\n",
              "          486953.7997197 ,  868105.04328052,  671805.78210756,\n",
              "          455961.80517638,  446768.39955692,  521819.15263216,\n",
              "          510385.32884802,  919941.45644978, 1259803.83089263,\n",
              "          504197.01589787,  754647.42414094,  536624.83492241,\n",
              "          574243.54189169,  574503.92811413,  839067.25942399,\n",
              "          504670.44965592,  745791.20578057,  507465.77172573,\n",
              "          666602.31226382,  779525.65744157, 2798088.861119  ,\n",
              "          559672.50404894,  476406.62894618, 1069061.12493068,\n",
              "          943252.53669457,  640345.7090689 ,  879346.28981178,\n",
              "          827188.78479899, 2624325.97620022,  643404.64130504,\n",
              "          764127.14248672,  557172.89286922, 1992101.47678706,\n",
              "          475005.8839068 ,  683181.33183323,  551259.3323736 ,\n",
              "         1298794.19552051,  590949.6379604 ,  730178.60823915,\n",
              "          473406.69650063,  909575.43535265,  753026.34559612,\n",
              "          810344.58978237,  839094.19415764,  493055.93531072,\n",
              "          955020.99041599,  719219.60337227,  868434.05890397,\n",
              "          718360.79155823,  856129.7511237 ,  528237.67833719,\n",
              "          914112.7540666 ,  527486.77000478,  723928.20560046,\n",
              "          551324.12348947,  723412.10192092,  596638.77741031,\n",
              "          516196.29025862,  560279.73573781,  651743.62448141,\n",
              "          971520.14732916,  515411.21936833,  630435.84469562,\n",
              "          573686.47395723,  919720.24018406,  493509.03212637,\n",
              "          533664.27400529,  781885.66054718,  695469.14367392,\n",
              "          424389.43423947,  550896.8419496 ,  526245.69752003,\n",
              "          545924.58658283,  466038.38025407,  666795.84337087,\n",
              "          579874.89753775,  550854.37718653,  534131.41621499,\n",
              "          783127.06447052,  654326.20579338,  497032.5405264 ,\n",
              "          493368.49616981, 1817874.1856924 ,  643020.59605151,\n",
              "          694937.25563584,  493221.40892992,  482142.50459172,\n",
              "          493214.86456111,  476496.2095754 ,  551039.94016659,\n",
              "          781215.93985284, 2158087.98533324,  573926.05510559,\n",
              "          441857.28808569,  499833.0828763 ,  670599.26832153,\n",
              "          752027.80184028, 1299857.39935848,  642900.01751766,\n",
              "          865662.710161  ,  868398.45293102,  516212.86017368,\n",
              "          697878.66861915,  527961.87084665,  533276.03820344,\n",
              "          492595.23858767,  492949.56889896, 1155606.44700199,\n",
              "          527568.32825398,  706696.9564309 ,  528044.96265224,\n",
              "          574459.98714977,  637316.32147761,  551845.98811084,\n",
              "          729069.59654188,  522923.8219345 ,  498823.48334299,\n",
              "          522622.96508923,  643740.18893422,  458424.63658835,\n",
              "          581146.41261474,  493460.03384169,  709475.01737705,\n",
              "          748294.66773879,  667017.24174316,  470606.407842  ,\n",
              "          693670.1550014 ,  787286.16510187,  482042.93389693,\n",
              "          804588.0873716 ,  544680.53909378,  557132.26731522,\n",
              "          475814.75287213,  740974.19504843,  711905.37323662,\n",
              "          649194.41367231,  677656.93714082,  637715.82773004,\n",
              "          522315.8842229 ,  551141.61782796,  578418.16000653,\n",
              "          591078.54595327,  499930.19758423,  504506.42289669,\n",
              "          775446.18432474, 1088136.4410206 ,  741005.96115797,\n",
              "          573833.91468285,  516602.94753654,  498709.70908152,\n",
              "          631413.1937633 ,  527573.68822272,  641264.08157984,\n",
              "          510602.00571372,  573958.85597847,  653939.49252759,\n",
              "          839176.70563472,  493719.01840583,  775534.03153721,\n",
              "         1206730.55331896, 1069152.21182901, 2334221.27527898,\n",
              "          654654.22840849,  500315.66729061,  641619.58537517,\n",
              "          494349.24702828,  538478.48746454,  616861.4854968 ,\n",
              "          821527.17380867,  591119.77721198,  712033.70204385,\n",
              "          521751.37666456,  672154.17929586,  739782.23022739,\n",
              "          637565.00875046,  539540.28005965,  476232.61018615,\n",
              "         1904588.97579695,  956139.74146429, 1359238.07845707,\n",
              "          582191.31678723,  485092.61849184,  643195.08265375,\n",
              "         1356311.47500341,  896533.10909611]]])"
            ]
          },
          "metadata": {},
          "execution_count": 628
        }
      ]
    },
    {
      "cell_type": "code",
      "source": [
        "Xtest"
      ],
      "metadata": {
        "colab": {
          "base_uri": "https://localhost:8080/",
          "height": 0
        },
        "id": "cRZ4lYls0wlS",
        "outputId": "3225ada3-bde2-4bf5-cf32-7b1667a64018"
      },
      "execution_count": 632,
      "outputs": [
        {
          "output_type": "execute_result",
          "data": {
            "text/plain": [
              "array([[[[7.0000e+05, 8.5718e+04, 4.0000e+00, 4.0000e+00, 3.3660e+03,\n",
              "          2.0000e+00],\n",
              "         [1.6450e+06, 8.5718e+04, 6.0000e+00, 5.0000e+00, 5.4430e+03,\n",
              "          3.0000e+00],\n",
              "         [5.3500e+05, 8.5718e+04, 3.0000e+00, 3.0000e+00, 3.0390e+03,\n",
              "          2.0000e+00],\n",
              "         ...,\n",
              "         [6.8000e+05, 8.5730e+04, 4.0000e+00, 3.0000e+00, 3.4020e+03,\n",
              "          2.0000e+00],\n",
              "         [1.3000e+06, 8.5658e+04, 2.0000e+00, 3.0000e+00, 2.7710e+03,\n",
              "          2.0000e+00],\n",
              "         [9.0000e+05, 8.5718e+04, 4.0000e+00, 3.0000e+00, 3.6590e+03,\n",
              "          2.0000e+00]]]])"
            ]
          },
          "metadata": {},
          "execution_count": 632
        }
      ]
    },
    {
      "cell_type": "code",
      "source": [],
      "metadata": {
        "id": "AeS8_02402lG"
      },
      "execution_count": null,
      "outputs": []
    }
  ]
}