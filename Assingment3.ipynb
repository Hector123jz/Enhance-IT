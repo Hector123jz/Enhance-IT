{
  "nbformat": 4,
  "nbformat_minor": 0,
  "metadata": {
    "colab": {
      "name": "Assingment3.ipynb",
      "provenance": []
    },
    "kernelspec": {
      "name": "python3",
      "display_name": "Python 3"
    },
    "language_info": {
      "name": "python"
    }
  },
  "cells": [
    {
      "cell_type": "code",
      "execution_count": 513,
      "metadata": {
        "id": "bS26FCZ8tUEE"
      },
      "outputs": [],
      "source": [
        "import numpy as np\n",
        "import pandas as pd\n",
        "import matplotlib.pyplot as plt\n",
        "import seaborn as sns\n",
        "from scipy.stats import multivariate_normal as mvn"
      ]
    },
    {
      "cell_type": "code",
      "source": [
        "data = pd.read_csv('/content/drive/MyDrive/raw_house_data.csv .csv')"
      ],
      "metadata": {
        "id": "WEdzFEDitedb"
      },
      "execution_count": 514,
      "outputs": []
    },
    {
      "cell_type": "code",
      "source": [
        "data.head()"
      ],
      "metadata": {
        "colab": {
          "base_uri": "https://localhost:8080/",
          "height": 444
        },
        "id": "z4QBZ8qJtz8-",
        "outputId": "415c8fc4-175b-4bbe-de36-81c0c03621e7"
      },
      "execution_count": 515,
      "outputs": [
        {
          "output_type": "execute_result",
          "data": {
            "text/plain": [
              "        MLS  sold_price  zipcode     longitude    latitude  lot_acres  \\\n",
              "0  21530491   5300000.0    85637    -1.103.782  31.356.362    2154.00   \n",
              "1  21529082   4200000.0    85646  -111.045.371  31.594.213    1707.00   \n",
              "2   3054672   4200000.0    85646  -111.040.707  31.594.844    1707.00   \n",
              "3  21919321   4500000.0    85646  -111.035.925  31.645.878     636.67   \n",
              "4  21306357   3411450.0    85750  -110.813.768  32.285.162       3.21   \n",
              "\n",
              "      taxes  year_built  bedrooms bathrooms sqrt_ft garage  \\\n",
              "0   5272.00        1941        13        10   10500      0   \n",
              "1  10422.36        1997         2         2    7300      0   \n",
              "2  10482.00        1997         2         3    None   None   \n",
              "3   8418.58        1930         7         5    9019      4   \n",
              "4  15393.00        1995         4         6    6396      3   \n",
              "\n",
              "                                    kitchen_features  fireplaces  \\\n",
              "0            Dishwasher, Freezer, Refrigerator, Oven         6.0   \n",
              "1                       Dishwasher, Garbage Disposal         5.0   \n",
              "2         Dishwasher, Garbage Disposal, Refrigerator         5.0   \n",
              "3  Dishwasher, Double Sink, Pantry: Butler, Refri...         4.0   \n",
              "4  Dishwasher, Garbage Disposal, Refrigerator, Mi...         5.0   \n",
              "\n",
              "                 floor_covering   HOA  \n",
              "0            Mexican Tile, Wood     0  \n",
              "1          Natural Stone, Other     0  \n",
              "2    Natural Stone, Other: Rock  None  \n",
              "3  Ceramic Tile, Laminate, Wood  None  \n",
              "4              Carpet, Concrete    55  "
            ],
            "text/html": [
              "\n",
              "  <div id=\"df-a6f4d525-d478-46ee-978d-3d86f1738516\">\n",
              "    <div class=\"colab-df-container\">\n",
              "      <div>\n",
              "<style scoped>\n",
              "    .dataframe tbody tr th:only-of-type {\n",
              "        vertical-align: middle;\n",
              "    }\n",
              "\n",
              "    .dataframe tbody tr th {\n",
              "        vertical-align: top;\n",
              "    }\n",
              "\n",
              "    .dataframe thead th {\n",
              "        text-align: right;\n",
              "    }\n",
              "</style>\n",
              "<table border=\"1\" class=\"dataframe\">\n",
              "  <thead>\n",
              "    <tr style=\"text-align: right;\">\n",
              "      <th></th>\n",
              "      <th>MLS</th>\n",
              "      <th>sold_price</th>\n",
              "      <th>zipcode</th>\n",
              "      <th>longitude</th>\n",
              "      <th>latitude</th>\n",
              "      <th>lot_acres</th>\n",
              "      <th>taxes</th>\n",
              "      <th>year_built</th>\n",
              "      <th>bedrooms</th>\n",
              "      <th>bathrooms</th>\n",
              "      <th>sqrt_ft</th>\n",
              "      <th>garage</th>\n",
              "      <th>kitchen_features</th>\n",
              "      <th>fireplaces</th>\n",
              "      <th>floor_covering</th>\n",
              "      <th>HOA</th>\n",
              "    </tr>\n",
              "  </thead>\n",
              "  <tbody>\n",
              "    <tr>\n",
              "      <th>0</th>\n",
              "      <td>21530491</td>\n",
              "      <td>5300000.0</td>\n",
              "      <td>85637</td>\n",
              "      <td>-1.103.782</td>\n",
              "      <td>31.356.362</td>\n",
              "      <td>2154.00</td>\n",
              "      <td>5272.00</td>\n",
              "      <td>1941</td>\n",
              "      <td>13</td>\n",
              "      <td>10</td>\n",
              "      <td>10500</td>\n",
              "      <td>0</td>\n",
              "      <td>Dishwasher, Freezer, Refrigerator, Oven</td>\n",
              "      <td>6.0</td>\n",
              "      <td>Mexican Tile, Wood</td>\n",
              "      <td>0</td>\n",
              "    </tr>\n",
              "    <tr>\n",
              "      <th>1</th>\n",
              "      <td>21529082</td>\n",
              "      <td>4200000.0</td>\n",
              "      <td>85646</td>\n",
              "      <td>-111.045.371</td>\n",
              "      <td>31.594.213</td>\n",
              "      <td>1707.00</td>\n",
              "      <td>10422.36</td>\n",
              "      <td>1997</td>\n",
              "      <td>2</td>\n",
              "      <td>2</td>\n",
              "      <td>7300</td>\n",
              "      <td>0</td>\n",
              "      <td>Dishwasher, Garbage Disposal</td>\n",
              "      <td>5.0</td>\n",
              "      <td>Natural Stone, Other</td>\n",
              "      <td>0</td>\n",
              "    </tr>\n",
              "    <tr>\n",
              "      <th>2</th>\n",
              "      <td>3054672</td>\n",
              "      <td>4200000.0</td>\n",
              "      <td>85646</td>\n",
              "      <td>-111.040.707</td>\n",
              "      <td>31.594.844</td>\n",
              "      <td>1707.00</td>\n",
              "      <td>10482.00</td>\n",
              "      <td>1997</td>\n",
              "      <td>2</td>\n",
              "      <td>3</td>\n",
              "      <td>None</td>\n",
              "      <td>None</td>\n",
              "      <td>Dishwasher, Garbage Disposal, Refrigerator</td>\n",
              "      <td>5.0</td>\n",
              "      <td>Natural Stone, Other: Rock</td>\n",
              "      <td>None</td>\n",
              "    </tr>\n",
              "    <tr>\n",
              "      <th>3</th>\n",
              "      <td>21919321</td>\n",
              "      <td>4500000.0</td>\n",
              "      <td>85646</td>\n",
              "      <td>-111.035.925</td>\n",
              "      <td>31.645.878</td>\n",
              "      <td>636.67</td>\n",
              "      <td>8418.58</td>\n",
              "      <td>1930</td>\n",
              "      <td>7</td>\n",
              "      <td>5</td>\n",
              "      <td>9019</td>\n",
              "      <td>4</td>\n",
              "      <td>Dishwasher, Double Sink, Pantry: Butler, Refri...</td>\n",
              "      <td>4.0</td>\n",
              "      <td>Ceramic Tile, Laminate, Wood</td>\n",
              "      <td>None</td>\n",
              "    </tr>\n",
              "    <tr>\n",
              "      <th>4</th>\n",
              "      <td>21306357</td>\n",
              "      <td>3411450.0</td>\n",
              "      <td>85750</td>\n",
              "      <td>-110.813.768</td>\n",
              "      <td>32.285.162</td>\n",
              "      <td>3.21</td>\n",
              "      <td>15393.00</td>\n",
              "      <td>1995</td>\n",
              "      <td>4</td>\n",
              "      <td>6</td>\n",
              "      <td>6396</td>\n",
              "      <td>3</td>\n",
              "      <td>Dishwasher, Garbage Disposal, Refrigerator, Mi...</td>\n",
              "      <td>5.0</td>\n",
              "      <td>Carpet, Concrete</td>\n",
              "      <td>55</td>\n",
              "    </tr>\n",
              "  </tbody>\n",
              "</table>\n",
              "</div>\n",
              "      <button class=\"colab-df-convert\" onclick=\"convertToInteractive('df-a6f4d525-d478-46ee-978d-3d86f1738516')\"\n",
              "              title=\"Convert this dataframe to an interactive table.\"\n",
              "              style=\"display:none;\">\n",
              "        \n",
              "  <svg xmlns=\"http://www.w3.org/2000/svg\" height=\"24px\"viewBox=\"0 0 24 24\"\n",
              "       width=\"24px\">\n",
              "    <path d=\"M0 0h24v24H0V0z\" fill=\"none\"/>\n",
              "    <path d=\"M18.56 5.44l.94 2.06.94-2.06 2.06-.94-2.06-.94-.94-2.06-.94 2.06-2.06.94zm-11 1L8.5 8.5l.94-2.06 2.06-.94-2.06-.94L8.5 2.5l-.94 2.06-2.06.94zm10 10l.94 2.06.94-2.06 2.06-.94-2.06-.94-.94-2.06-.94 2.06-2.06.94z\"/><path d=\"M17.41 7.96l-1.37-1.37c-.4-.4-.92-.59-1.43-.59-.52 0-1.04.2-1.43.59L10.3 9.45l-7.72 7.72c-.78.78-.78 2.05 0 2.83L4 21.41c.39.39.9.59 1.41.59.51 0 1.02-.2 1.41-.59l7.78-7.78 2.81-2.81c.8-.78.8-2.07 0-2.86zM5.41 20L4 18.59l7.72-7.72 1.47 1.35L5.41 20z\"/>\n",
              "  </svg>\n",
              "      </button>\n",
              "      \n",
              "  <style>\n",
              "    .colab-df-container {\n",
              "      display:flex;\n",
              "      flex-wrap:wrap;\n",
              "      gap: 12px;\n",
              "    }\n",
              "\n",
              "    .colab-df-convert {\n",
              "      background-color: #E8F0FE;\n",
              "      border: none;\n",
              "      border-radius: 50%;\n",
              "      cursor: pointer;\n",
              "      display: none;\n",
              "      fill: #1967D2;\n",
              "      height: 32px;\n",
              "      padding: 0 0 0 0;\n",
              "      width: 32px;\n",
              "    }\n",
              "\n",
              "    .colab-df-convert:hover {\n",
              "      background-color: #E2EBFA;\n",
              "      box-shadow: 0px 1px 2px rgba(60, 64, 67, 0.3), 0px 1px 3px 1px rgba(60, 64, 67, 0.15);\n",
              "      fill: #174EA6;\n",
              "    }\n",
              "\n",
              "    [theme=dark] .colab-df-convert {\n",
              "      background-color: #3B4455;\n",
              "      fill: #D2E3FC;\n",
              "    }\n",
              "\n",
              "    [theme=dark] .colab-df-convert:hover {\n",
              "      background-color: #434B5C;\n",
              "      box-shadow: 0px 1px 3px 1px rgba(0, 0, 0, 0.15);\n",
              "      filter: drop-shadow(0px 1px 2px rgba(0, 0, 0, 0.3));\n",
              "      fill: #FFFFFF;\n",
              "    }\n",
              "  </style>\n",
              "\n",
              "      <script>\n",
              "        const buttonEl =\n",
              "          document.querySelector('#df-a6f4d525-d478-46ee-978d-3d86f1738516 button.colab-df-convert');\n",
              "        buttonEl.style.display =\n",
              "          google.colab.kernel.accessAllowed ? 'block' : 'none';\n",
              "\n",
              "        async function convertToInteractive(key) {\n",
              "          const element = document.querySelector('#df-a6f4d525-d478-46ee-978d-3d86f1738516');\n",
              "          const dataTable =\n",
              "            await google.colab.kernel.invokeFunction('convertToInteractive',\n",
              "                                                     [key], {});\n",
              "          if (!dataTable) return;\n",
              "\n",
              "          const docLinkHtml = 'Like what you see? Visit the ' +\n",
              "            '<a target=\"_blank\" href=https://colab.research.google.com/notebooks/data_table.ipynb>data table notebook</a>'\n",
              "            + ' to learn more about interactive tables.';\n",
              "          element.innerHTML = '';\n",
              "          dataTable['output_type'] = 'display_data';\n",
              "          await google.colab.output.renderOutput(dataTable, element);\n",
              "          const docLink = document.createElement('div');\n",
              "          docLink.innerHTML = docLinkHtml;\n",
              "          element.appendChild(docLink);\n",
              "        }\n",
              "      </script>\n",
              "    </div>\n",
              "  </div>\n",
              "  "
            ]
          },
          "metadata": {},
          "execution_count": 515
        }
      ]
    },
    {
      "cell_type": "code",
      "source": [
        "data.shape"
      ],
      "metadata": {
        "colab": {
          "base_uri": "https://localhost:8080/"
        },
        "id": "yjNSSKJMuBcs",
        "outputId": "bdf619ff-5969-4104-9e96-9141b342ae32"
      },
      "execution_count": 516,
      "outputs": [
        {
          "output_type": "execute_result",
          "data": {
            "text/plain": [
              "(5000, 16)"
            ]
          },
          "metadata": {},
          "execution_count": 516
        }
      ]
    },
    {
      "cell_type": "code",
      "source": [
        "data.columns"
      ],
      "metadata": {
        "colab": {
          "base_uri": "https://localhost:8080/"
        },
        "id": "RQJNNuDcuWmj",
        "outputId": "5cb8e7a7-dbd8-4310-d13f-0688a7062010"
      },
      "execution_count": 517,
      "outputs": [
        {
          "output_type": "execute_result",
          "data": {
            "text/plain": [
              "Index(['MLS', 'sold_price', 'zipcode', 'longitude', 'latitude', 'lot_acres',\n",
              "       'taxes', 'year_built', 'bedrooms', 'bathrooms', 'sqrt_ft', 'garage',\n",
              "       'kitchen_features', 'fireplaces', 'floor_covering', 'HOA'],\n",
              "      dtype='object')"
            ]
          },
          "metadata": {},
          "execution_count": 517
        }
      ]
    },
    {
      "cell_type": "code",
      "source": [
        "data.dtypes"
      ],
      "metadata": {
        "colab": {
          "base_uri": "https://localhost:8080/"
        },
        "id": "9R8R88-KxKR6",
        "outputId": "dc2d2d68-896d-4392-d87b-60e62fde926b"
      },
      "execution_count": 518,
      "outputs": [
        {
          "output_type": "execute_result",
          "data": {
            "text/plain": [
              "MLS                   int64\n",
              "sold_price          float64\n",
              "zipcode               int64\n",
              "longitude            object\n",
              "latitude             object\n",
              "lot_acres           float64\n",
              "taxes               float64\n",
              "year_built            int64\n",
              "bedrooms              int64\n",
              "bathrooms            object\n",
              "sqrt_ft              object\n",
              "garage               object\n",
              "kitchen_features     object\n",
              "fireplaces          float64\n",
              "floor_covering       object\n",
              "HOA                  object\n",
              "dtype: object"
            ]
          },
          "metadata": {},
          "execution_count": 518
        }
      ]
    },
    {
      "cell_type": "code",
      "source": [
        "data.describe()"
      ],
      "metadata": {
        "colab": {
          "base_uri": "https://localhost:8080/",
          "height": 300
        },
        "id": "VusJDlOdKBsC",
        "outputId": "9227c00c-e125-4463-ed43-835e1a5431a5"
      },
      "execution_count": 519,
      "outputs": [
        {
          "output_type": "execute_result",
          "data": {
            "text/plain": [
              "                MLS    sold_price       zipcode    lot_acres         taxes  \\\n",
              "count  5.000000e+03  5.000000e+03   5000.000000  4990.000000  5.000000e+03   \n",
              "mean   2.127070e+07  7.746262e+05  85723.025600     4.661317  9.402828e+03   \n",
              "std    2.398508e+06  3.185556e+05     38.061712    51.685230  1.729385e+05   \n",
              "min    3.042851e+06  1.690000e+05  85118.000000     0.000000  0.000000e+00   \n",
              "25%    2.140718e+07  5.850000e+05  85718.000000     0.580000  4.803605e+03   \n",
              "50%    2.161469e+07  6.750000e+05  85737.000000     0.990000  6.223760e+03   \n",
              "75%    2.180480e+07  8.350000e+05  85749.000000     1.757500  8.082830e+03   \n",
              "max    2.192856e+07  5.300000e+06  86323.000000  2154.000000  1.221508e+07   \n",
              "\n",
              "       year_built     bedrooms   fireplaces  \n",
              "count  5000.00000  5000.000000  4975.000000  \n",
              "mean   1992.32800     3.933800     1.885226  \n",
              "std      65.48614     1.245362     1.136578  \n",
              "min       0.00000     1.000000     0.000000  \n",
              "25%    1987.00000     3.000000     1.000000  \n",
              "50%    1999.00000     4.000000     2.000000  \n",
              "75%    2006.00000     4.000000     3.000000  \n",
              "max    2019.00000    36.000000     9.000000  "
            ],
            "text/html": [
              "\n",
              "  <div id=\"df-e540c448-5bca-41f6-ac06-c142f53dc41d\">\n",
              "    <div class=\"colab-df-container\">\n",
              "      <div>\n",
              "<style scoped>\n",
              "    .dataframe tbody tr th:only-of-type {\n",
              "        vertical-align: middle;\n",
              "    }\n",
              "\n",
              "    .dataframe tbody tr th {\n",
              "        vertical-align: top;\n",
              "    }\n",
              "\n",
              "    .dataframe thead th {\n",
              "        text-align: right;\n",
              "    }\n",
              "</style>\n",
              "<table border=\"1\" class=\"dataframe\">\n",
              "  <thead>\n",
              "    <tr style=\"text-align: right;\">\n",
              "      <th></th>\n",
              "      <th>MLS</th>\n",
              "      <th>sold_price</th>\n",
              "      <th>zipcode</th>\n",
              "      <th>lot_acres</th>\n",
              "      <th>taxes</th>\n",
              "      <th>year_built</th>\n",
              "      <th>bedrooms</th>\n",
              "      <th>fireplaces</th>\n",
              "    </tr>\n",
              "  </thead>\n",
              "  <tbody>\n",
              "    <tr>\n",
              "      <th>count</th>\n",
              "      <td>5.000000e+03</td>\n",
              "      <td>5.000000e+03</td>\n",
              "      <td>5000.000000</td>\n",
              "      <td>4990.000000</td>\n",
              "      <td>5.000000e+03</td>\n",
              "      <td>5000.00000</td>\n",
              "      <td>5000.000000</td>\n",
              "      <td>4975.000000</td>\n",
              "    </tr>\n",
              "    <tr>\n",
              "      <th>mean</th>\n",
              "      <td>2.127070e+07</td>\n",
              "      <td>7.746262e+05</td>\n",
              "      <td>85723.025600</td>\n",
              "      <td>4.661317</td>\n",
              "      <td>9.402828e+03</td>\n",
              "      <td>1992.32800</td>\n",
              "      <td>3.933800</td>\n",
              "      <td>1.885226</td>\n",
              "    </tr>\n",
              "    <tr>\n",
              "      <th>std</th>\n",
              "      <td>2.398508e+06</td>\n",
              "      <td>3.185556e+05</td>\n",
              "      <td>38.061712</td>\n",
              "      <td>51.685230</td>\n",
              "      <td>1.729385e+05</td>\n",
              "      <td>65.48614</td>\n",
              "      <td>1.245362</td>\n",
              "      <td>1.136578</td>\n",
              "    </tr>\n",
              "    <tr>\n",
              "      <th>min</th>\n",
              "      <td>3.042851e+06</td>\n",
              "      <td>1.690000e+05</td>\n",
              "      <td>85118.000000</td>\n",
              "      <td>0.000000</td>\n",
              "      <td>0.000000e+00</td>\n",
              "      <td>0.00000</td>\n",
              "      <td>1.000000</td>\n",
              "      <td>0.000000</td>\n",
              "    </tr>\n",
              "    <tr>\n",
              "      <th>25%</th>\n",
              "      <td>2.140718e+07</td>\n",
              "      <td>5.850000e+05</td>\n",
              "      <td>85718.000000</td>\n",
              "      <td>0.580000</td>\n",
              "      <td>4.803605e+03</td>\n",
              "      <td>1987.00000</td>\n",
              "      <td>3.000000</td>\n",
              "      <td>1.000000</td>\n",
              "    </tr>\n",
              "    <tr>\n",
              "      <th>50%</th>\n",
              "      <td>2.161469e+07</td>\n",
              "      <td>6.750000e+05</td>\n",
              "      <td>85737.000000</td>\n",
              "      <td>0.990000</td>\n",
              "      <td>6.223760e+03</td>\n",
              "      <td>1999.00000</td>\n",
              "      <td>4.000000</td>\n",
              "      <td>2.000000</td>\n",
              "    </tr>\n",
              "    <tr>\n",
              "      <th>75%</th>\n",
              "      <td>2.180480e+07</td>\n",
              "      <td>8.350000e+05</td>\n",
              "      <td>85749.000000</td>\n",
              "      <td>1.757500</td>\n",
              "      <td>8.082830e+03</td>\n",
              "      <td>2006.00000</td>\n",
              "      <td>4.000000</td>\n",
              "      <td>3.000000</td>\n",
              "    </tr>\n",
              "    <tr>\n",
              "      <th>max</th>\n",
              "      <td>2.192856e+07</td>\n",
              "      <td>5.300000e+06</td>\n",
              "      <td>86323.000000</td>\n",
              "      <td>2154.000000</td>\n",
              "      <td>1.221508e+07</td>\n",
              "      <td>2019.00000</td>\n",
              "      <td>36.000000</td>\n",
              "      <td>9.000000</td>\n",
              "    </tr>\n",
              "  </tbody>\n",
              "</table>\n",
              "</div>\n",
              "      <button class=\"colab-df-convert\" onclick=\"convertToInteractive('df-e540c448-5bca-41f6-ac06-c142f53dc41d')\"\n",
              "              title=\"Convert this dataframe to an interactive table.\"\n",
              "              style=\"display:none;\">\n",
              "        \n",
              "  <svg xmlns=\"http://www.w3.org/2000/svg\" height=\"24px\"viewBox=\"0 0 24 24\"\n",
              "       width=\"24px\">\n",
              "    <path d=\"M0 0h24v24H0V0z\" fill=\"none\"/>\n",
              "    <path d=\"M18.56 5.44l.94 2.06.94-2.06 2.06-.94-2.06-.94-.94-2.06-.94 2.06-2.06.94zm-11 1L8.5 8.5l.94-2.06 2.06-.94-2.06-.94L8.5 2.5l-.94 2.06-2.06.94zm10 10l.94 2.06.94-2.06 2.06-.94-2.06-.94-.94-2.06-.94 2.06-2.06.94z\"/><path d=\"M17.41 7.96l-1.37-1.37c-.4-.4-.92-.59-1.43-.59-.52 0-1.04.2-1.43.59L10.3 9.45l-7.72 7.72c-.78.78-.78 2.05 0 2.83L4 21.41c.39.39.9.59 1.41.59.51 0 1.02-.2 1.41-.59l7.78-7.78 2.81-2.81c.8-.78.8-2.07 0-2.86zM5.41 20L4 18.59l7.72-7.72 1.47 1.35L5.41 20z\"/>\n",
              "  </svg>\n",
              "      </button>\n",
              "      \n",
              "  <style>\n",
              "    .colab-df-container {\n",
              "      display:flex;\n",
              "      flex-wrap:wrap;\n",
              "      gap: 12px;\n",
              "    }\n",
              "\n",
              "    .colab-df-convert {\n",
              "      background-color: #E8F0FE;\n",
              "      border: none;\n",
              "      border-radius: 50%;\n",
              "      cursor: pointer;\n",
              "      display: none;\n",
              "      fill: #1967D2;\n",
              "      height: 32px;\n",
              "      padding: 0 0 0 0;\n",
              "      width: 32px;\n",
              "    }\n",
              "\n",
              "    .colab-df-convert:hover {\n",
              "      background-color: #E2EBFA;\n",
              "      box-shadow: 0px 1px 2px rgba(60, 64, 67, 0.3), 0px 1px 3px 1px rgba(60, 64, 67, 0.15);\n",
              "      fill: #174EA6;\n",
              "    }\n",
              "\n",
              "    [theme=dark] .colab-df-convert {\n",
              "      background-color: #3B4455;\n",
              "      fill: #D2E3FC;\n",
              "    }\n",
              "\n",
              "    [theme=dark] .colab-df-convert:hover {\n",
              "      background-color: #434B5C;\n",
              "      box-shadow: 0px 1px 3px 1px rgba(0, 0, 0, 0.15);\n",
              "      filter: drop-shadow(0px 1px 2px rgba(0, 0, 0, 0.3));\n",
              "      fill: #FFFFFF;\n",
              "    }\n",
              "  </style>\n",
              "\n",
              "      <script>\n",
              "        const buttonEl =\n",
              "          document.querySelector('#df-e540c448-5bca-41f6-ac06-c142f53dc41d button.colab-df-convert');\n",
              "        buttonEl.style.display =\n",
              "          google.colab.kernel.accessAllowed ? 'block' : 'none';\n",
              "\n",
              "        async function convertToInteractive(key) {\n",
              "          const element = document.querySelector('#df-e540c448-5bca-41f6-ac06-c142f53dc41d');\n",
              "          const dataTable =\n",
              "            await google.colab.kernel.invokeFunction('convertToInteractive',\n",
              "                                                     [key], {});\n",
              "          if (!dataTable) return;\n",
              "\n",
              "          const docLinkHtml = 'Like what you see? Visit the ' +\n",
              "            '<a target=\"_blank\" href=https://colab.research.google.com/notebooks/data_table.ipynb>data table notebook</a>'\n",
              "            + ' to learn more about interactive tables.';\n",
              "          element.innerHTML = '';\n",
              "          dataTable['output_type'] = 'display_data';\n",
              "          await google.colab.output.renderOutput(dataTable, element);\n",
              "          const docLink = document.createElement('div');\n",
              "          docLink.innerHTML = docLinkHtml;\n",
              "          element.appendChild(docLink);\n",
              "        }\n",
              "      </script>\n",
              "    </div>\n",
              "  </div>\n",
              "  "
            ]
          },
          "metadata": {},
          "execution_count": 519
        }
      ]
    },
    {
      "cell_type": "code",
      "source": [
        "corr = data.corr()\n",
        "corr"
      ],
      "metadata": {
        "colab": {
          "base_uri": "https://localhost:8080/",
          "height": 300
        },
        "id": "H0gy3zSAMHuc",
        "outputId": "a3f4486c-8feb-47f4-b80d-00c9fdc63e86"
      },
      "execution_count": 520,
      "outputs": [
        {
          "output_type": "execute_result",
          "data": {
            "text/plain": [
              "                 MLS  sold_price   zipcode  lot_acres     taxes  year_built  \\\n",
              "MLS         1.000000    0.031019  0.323165  -0.084742  0.003306   -0.003144   \n",
              "sold_price  0.031019    1.000000 -0.039925   0.332357  0.023326   -0.014064   \n",
              "zipcode     0.323165   -0.039925  1.000000  -0.127783 -0.001265    0.037776   \n",
              "lot_acres  -0.084742    0.332357 -0.127783   1.000000 -0.000571   -0.039552   \n",
              "taxes       0.003306    0.023326 -0.001265  -0.000571  1.000000    0.000021   \n",
              "year_built -0.003144   -0.014064  0.037776  -0.039552  0.000021    1.000000   \n",
              "bedrooms   -0.012254    0.115932  0.049982   0.069277  0.005259   -0.086302   \n",
              "fireplaces -0.062502    0.384388 -0.017290   0.086382  0.022555   -0.032150   \n",
              "\n",
              "            bedrooms  fireplaces  \n",
              "MLS        -0.012254   -0.062502  \n",
              "sold_price  0.115932    0.384388  \n",
              "zipcode     0.049982   -0.017290  \n",
              "lot_acres   0.069277    0.086382  \n",
              "taxes       0.005259    0.022555  \n",
              "year_built -0.086302   -0.032150  \n",
              "bedrooms    1.000000    0.145481  \n",
              "fireplaces  0.145481    1.000000  "
            ],
            "text/html": [
              "\n",
              "  <div id=\"df-d947e191-1c73-4631-a9d2-df010979c1f1\">\n",
              "    <div class=\"colab-df-container\">\n",
              "      <div>\n",
              "<style scoped>\n",
              "    .dataframe tbody tr th:only-of-type {\n",
              "        vertical-align: middle;\n",
              "    }\n",
              "\n",
              "    .dataframe tbody tr th {\n",
              "        vertical-align: top;\n",
              "    }\n",
              "\n",
              "    .dataframe thead th {\n",
              "        text-align: right;\n",
              "    }\n",
              "</style>\n",
              "<table border=\"1\" class=\"dataframe\">\n",
              "  <thead>\n",
              "    <tr style=\"text-align: right;\">\n",
              "      <th></th>\n",
              "      <th>MLS</th>\n",
              "      <th>sold_price</th>\n",
              "      <th>zipcode</th>\n",
              "      <th>lot_acres</th>\n",
              "      <th>taxes</th>\n",
              "      <th>year_built</th>\n",
              "      <th>bedrooms</th>\n",
              "      <th>fireplaces</th>\n",
              "    </tr>\n",
              "  </thead>\n",
              "  <tbody>\n",
              "    <tr>\n",
              "      <th>MLS</th>\n",
              "      <td>1.000000</td>\n",
              "      <td>0.031019</td>\n",
              "      <td>0.323165</td>\n",
              "      <td>-0.084742</td>\n",
              "      <td>0.003306</td>\n",
              "      <td>-0.003144</td>\n",
              "      <td>-0.012254</td>\n",
              "      <td>-0.062502</td>\n",
              "    </tr>\n",
              "    <tr>\n",
              "      <th>sold_price</th>\n",
              "      <td>0.031019</td>\n",
              "      <td>1.000000</td>\n",
              "      <td>-0.039925</td>\n",
              "      <td>0.332357</td>\n",
              "      <td>0.023326</td>\n",
              "      <td>-0.014064</td>\n",
              "      <td>0.115932</td>\n",
              "      <td>0.384388</td>\n",
              "    </tr>\n",
              "    <tr>\n",
              "      <th>zipcode</th>\n",
              "      <td>0.323165</td>\n",
              "      <td>-0.039925</td>\n",
              "      <td>1.000000</td>\n",
              "      <td>-0.127783</td>\n",
              "      <td>-0.001265</td>\n",
              "      <td>0.037776</td>\n",
              "      <td>0.049982</td>\n",
              "      <td>-0.017290</td>\n",
              "    </tr>\n",
              "    <tr>\n",
              "      <th>lot_acres</th>\n",
              "      <td>-0.084742</td>\n",
              "      <td>0.332357</td>\n",
              "      <td>-0.127783</td>\n",
              "      <td>1.000000</td>\n",
              "      <td>-0.000571</td>\n",
              "      <td>-0.039552</td>\n",
              "      <td>0.069277</td>\n",
              "      <td>0.086382</td>\n",
              "    </tr>\n",
              "    <tr>\n",
              "      <th>taxes</th>\n",
              "      <td>0.003306</td>\n",
              "      <td>0.023326</td>\n",
              "      <td>-0.001265</td>\n",
              "      <td>-0.000571</td>\n",
              "      <td>1.000000</td>\n",
              "      <td>0.000021</td>\n",
              "      <td>0.005259</td>\n",
              "      <td>0.022555</td>\n",
              "    </tr>\n",
              "    <tr>\n",
              "      <th>year_built</th>\n",
              "      <td>-0.003144</td>\n",
              "      <td>-0.014064</td>\n",
              "      <td>0.037776</td>\n",
              "      <td>-0.039552</td>\n",
              "      <td>0.000021</td>\n",
              "      <td>1.000000</td>\n",
              "      <td>-0.086302</td>\n",
              "      <td>-0.032150</td>\n",
              "    </tr>\n",
              "    <tr>\n",
              "      <th>bedrooms</th>\n",
              "      <td>-0.012254</td>\n",
              "      <td>0.115932</td>\n",
              "      <td>0.049982</td>\n",
              "      <td>0.069277</td>\n",
              "      <td>0.005259</td>\n",
              "      <td>-0.086302</td>\n",
              "      <td>1.000000</td>\n",
              "      <td>0.145481</td>\n",
              "    </tr>\n",
              "    <tr>\n",
              "      <th>fireplaces</th>\n",
              "      <td>-0.062502</td>\n",
              "      <td>0.384388</td>\n",
              "      <td>-0.017290</td>\n",
              "      <td>0.086382</td>\n",
              "      <td>0.022555</td>\n",
              "      <td>-0.032150</td>\n",
              "      <td>0.145481</td>\n",
              "      <td>1.000000</td>\n",
              "    </tr>\n",
              "  </tbody>\n",
              "</table>\n",
              "</div>\n",
              "      <button class=\"colab-df-convert\" onclick=\"convertToInteractive('df-d947e191-1c73-4631-a9d2-df010979c1f1')\"\n",
              "              title=\"Convert this dataframe to an interactive table.\"\n",
              "              style=\"display:none;\">\n",
              "        \n",
              "  <svg xmlns=\"http://www.w3.org/2000/svg\" height=\"24px\"viewBox=\"0 0 24 24\"\n",
              "       width=\"24px\">\n",
              "    <path d=\"M0 0h24v24H0V0z\" fill=\"none\"/>\n",
              "    <path d=\"M18.56 5.44l.94 2.06.94-2.06 2.06-.94-2.06-.94-.94-2.06-.94 2.06-2.06.94zm-11 1L8.5 8.5l.94-2.06 2.06-.94-2.06-.94L8.5 2.5l-.94 2.06-2.06.94zm10 10l.94 2.06.94-2.06 2.06-.94-2.06-.94-.94-2.06-.94 2.06-2.06.94z\"/><path d=\"M17.41 7.96l-1.37-1.37c-.4-.4-.92-.59-1.43-.59-.52 0-1.04.2-1.43.59L10.3 9.45l-7.72 7.72c-.78.78-.78 2.05 0 2.83L4 21.41c.39.39.9.59 1.41.59.51 0 1.02-.2 1.41-.59l7.78-7.78 2.81-2.81c.8-.78.8-2.07 0-2.86zM5.41 20L4 18.59l7.72-7.72 1.47 1.35L5.41 20z\"/>\n",
              "  </svg>\n",
              "      </button>\n",
              "      \n",
              "  <style>\n",
              "    .colab-df-container {\n",
              "      display:flex;\n",
              "      flex-wrap:wrap;\n",
              "      gap: 12px;\n",
              "    }\n",
              "\n",
              "    .colab-df-convert {\n",
              "      background-color: #E8F0FE;\n",
              "      border: none;\n",
              "      border-radius: 50%;\n",
              "      cursor: pointer;\n",
              "      display: none;\n",
              "      fill: #1967D2;\n",
              "      height: 32px;\n",
              "      padding: 0 0 0 0;\n",
              "      width: 32px;\n",
              "    }\n",
              "\n",
              "    .colab-df-convert:hover {\n",
              "      background-color: #E2EBFA;\n",
              "      box-shadow: 0px 1px 2px rgba(60, 64, 67, 0.3), 0px 1px 3px 1px rgba(60, 64, 67, 0.15);\n",
              "      fill: #174EA6;\n",
              "    }\n",
              "\n",
              "    [theme=dark] .colab-df-convert {\n",
              "      background-color: #3B4455;\n",
              "      fill: #D2E3FC;\n",
              "    }\n",
              "\n",
              "    [theme=dark] .colab-df-convert:hover {\n",
              "      background-color: #434B5C;\n",
              "      box-shadow: 0px 1px 3px 1px rgba(0, 0, 0, 0.15);\n",
              "      filter: drop-shadow(0px 1px 2px rgba(0, 0, 0, 0.3));\n",
              "      fill: #FFFFFF;\n",
              "    }\n",
              "  </style>\n",
              "\n",
              "      <script>\n",
              "        const buttonEl =\n",
              "          document.querySelector('#df-d947e191-1c73-4631-a9d2-df010979c1f1 button.colab-df-convert');\n",
              "        buttonEl.style.display =\n",
              "          google.colab.kernel.accessAllowed ? 'block' : 'none';\n",
              "\n",
              "        async function convertToInteractive(key) {\n",
              "          const element = document.querySelector('#df-d947e191-1c73-4631-a9d2-df010979c1f1');\n",
              "          const dataTable =\n",
              "            await google.colab.kernel.invokeFunction('convertToInteractive',\n",
              "                                                     [key], {});\n",
              "          if (!dataTable) return;\n",
              "\n",
              "          const docLinkHtml = 'Like what you see? Visit the ' +\n",
              "            '<a target=\"_blank\" href=https://colab.research.google.com/notebooks/data_table.ipynb>data table notebook</a>'\n",
              "            + ' to learn more about interactive tables.';\n",
              "          element.innerHTML = '';\n",
              "          dataTable['output_type'] = 'display_data';\n",
              "          await google.colab.output.renderOutput(dataTable, element);\n",
              "          const docLink = document.createElement('div');\n",
              "          docLink.innerHTML = docLinkHtml;\n",
              "          element.appendChild(docLink);\n",
              "        }\n",
              "      </script>\n",
              "    </div>\n",
              "  </div>\n",
              "  "
            ]
          },
          "metadata": {},
          "execution_count": 520
        }
      ]
    },
    {
      "cell_type": "code",
      "source": [
        "data['bathrooms'].value_counts()"
      ],
      "metadata": {
        "colab": {
          "base_uri": "https://localhost:8080/"
        },
        "id": "_LzsJCqNx0ox",
        "outputId": "a66eddf3-a10c-4938-bffd-1db02b0ab704"
      },
      "execution_count": 521,
      "outputs": [
        {
          "output_type": "execute_result",
          "data": {
            "text/plain": [
              "3       1993\n",
              "4       1842\n",
              "5        654\n",
              "6        207\n",
              "2        189\n",
              "7         58\n",
              "8         19\n",
              "9          8\n",
              "3.5        7\n",
              "None       6\n",
              "1          3\n",
              "2.5        3\n",
              "35         3\n",
              "11         2\n",
              "10         1\n",
              "14         1\n",
              "18         1\n",
              "4.5        1\n",
              "15         1\n",
              "36         1\n",
              "Name: bathrooms, dtype: int64"
            ]
          },
          "metadata": {},
          "execution_count": 521
        }
      ]
    },
    {
      "cell_type": "code",
      "source": [
        "data['bathrooms'].replace('None', np.nan, inplace=True)\n",
        "datax= data['bathrooms'].median()\n",
        "data.fillna(datax, inplace= True)"
      ],
      "metadata": {
        "id": "W6_5nxxKAUlv"
      },
      "execution_count": 522,
      "outputs": []
    },
    {
      "cell_type": "code",
      "source": [
        "data['bathrooms'].value_counts()"
      ],
      "metadata": {
        "colab": {
          "base_uri": "https://localhost:8080/"
        },
        "id": "OYOY3FkFAUeh",
        "outputId": "85b52983-1a13-4795-82e9-21d7a9edbcdf"
      },
      "execution_count": 523,
      "outputs": [
        {
          "output_type": "execute_result",
          "data": {
            "text/plain": [
              "3      1993\n",
              "4      1842\n",
              "5       654\n",
              "6       207\n",
              "2       189\n",
              "7        58\n",
              "8        19\n",
              "9         8\n",
              "3.5       7\n",
              "4.0       6\n",
              "1         3\n",
              "2.5       3\n",
              "35        3\n",
              "11        2\n",
              "10        1\n",
              "14        1\n",
              "18        1\n",
              "4.5       1\n",
              "15        1\n",
              "36        1\n",
              "Name: bathrooms, dtype: int64"
            ]
          },
          "metadata": {},
          "execution_count": 523
        }
      ]
    },
    {
      "cell_type": "code",
      "source": [
        "data['sqrt_ft'].value_counts()"
      ],
      "metadata": {
        "colab": {
          "base_uri": "https://localhost:8080/"
        },
        "id": "rqPlxeAS-Aix",
        "outputId": "2dde5797-aed1-4c14-84c8-0521f6fbe37d"
      },
      "execution_count": 524,
      "outputs": [
        {
          "output_type": "execute_result",
          "data": {
            "text/plain": [
              "None    56\n",
              "3541    50\n",
              "3052    25\n",
              "3420    18\n",
              "3002    16\n",
              "        ..\n",
              "4362     1\n",
              "5586     1\n",
              "5117     1\n",
              "3793     1\n",
              "1772     1\n",
              "Name: sqrt_ft, Length: 2362, dtype: int64"
            ]
          },
          "metadata": {},
          "execution_count": 524
        }
      ]
    },
    {
      "cell_type": "code",
      "source": [
        "data['sqrt_ft'].replace('None', np.nan, inplace=True)\n",
        "datax= data['sqrt_ft'].median()\n",
        "data.fillna(datax, inplace= True)"
      ],
      "metadata": {
        "id": "YH2NOr8sNT7_"
      },
      "execution_count": 525,
      "outputs": []
    },
    {
      "cell_type": "code",
      "source": [
        "data['sqrt_ft'].value_counts()"
      ],
      "metadata": {
        "colab": {
          "base_uri": "https://localhost:8080/"
        },
        "id": "WCQZr0xhNauu",
        "outputId": "294e4d00-2deb-485f-8d6d-23c074b1429c"
      },
      "execution_count": 526,
      "outputs": [
        {
          "output_type": "execute_result",
          "data": {
            "text/plain": [
              "3512.0    56\n",
              "3541      50\n",
              "3052      25\n",
              "3420      18\n",
              "3002      16\n",
              "          ..\n",
              "4362       1\n",
              "5586       1\n",
              "5117       1\n",
              "3793       1\n",
              "1772       1\n",
              "Name: sqrt_ft, Length: 2362, dtype: int64"
            ]
          },
          "metadata": {},
          "execution_count": 526
        }
      ]
    },
    {
      "cell_type": "code",
      "source": [
        "data['garage'].value_counts()"
      ],
      "metadata": {
        "colab": {
          "base_uri": "https://localhost:8080/"
        },
        "id": "nnYBo1fD-GMq",
        "outputId": "4844bef7-883a-451b-e0a0-16f37e2afb94"
      },
      "execution_count": 527,
      "outputs": [
        {
          "output_type": "execute_result",
          "data": {
            "text/plain": [
              "3       2797\n",
              "2       1337\n",
              "4        383\n",
              "0        184\n",
              "5         88\n",
              "6         61\n",
              "2.5       48\n",
              "1         30\n",
              "3.5       16\n",
              "8         14\n",
              "7         13\n",
              "None       7\n",
              "9          6\n",
              "4.5        4\n",
              "12         3\n",
              "10         3\n",
              "15         1\n",
              "22         1\n",
              "30         1\n",
              "11         1\n",
              "20         1\n",
              "13         1\n",
              "Name: garage, dtype: int64"
            ]
          },
          "metadata": {},
          "execution_count": 527
        }
      ]
    },
    {
      "cell_type": "code",
      "source": [
        "data['garage'].replace('None', np.nan, inplace=True)\n",
        "datax= data['garage'].median()\n",
        "data.fillna(datax, inplace= True)"
      ],
      "metadata": {
        "id": "0C7QxbmkNjFq"
      },
      "execution_count": 528,
      "outputs": []
    },
    {
      "cell_type": "code",
      "source": [
        "data['garage'].value_counts()"
      ],
      "metadata": {
        "colab": {
          "base_uri": "https://localhost:8080/"
        },
        "id": "vriyclYrNn9T",
        "outputId": "0881cedc-a0c2-4b98-bbb4-c2ac6d82b129"
      },
      "execution_count": 529,
      "outputs": [
        {
          "output_type": "execute_result",
          "data": {
            "text/plain": [
              "3      2797\n",
              "2      1337\n",
              "4       383\n",
              "0       184\n",
              "5        88\n",
              "6        61\n",
              "2.5      48\n",
              "1        30\n",
              "3.5      16\n",
              "8        14\n",
              "7        13\n",
              "3.0       7\n",
              "9         6\n",
              "4.5       4\n",
              "12        3\n",
              "10        3\n",
              "15        1\n",
              "22        1\n",
              "30        1\n",
              "11        1\n",
              "20        1\n",
              "13        1\n",
              "Name: garage, dtype: int64"
            ]
          },
          "metadata": {},
          "execution_count": 529
        }
      ]
    },
    {
      "cell_type": "code",
      "source": [
        "data['HOA'].value_counts()"
      ],
      "metadata": {
        "colab": {
          "base_uri": "https://localhost:8080/"
        },
        "id": "ef9E9H0Y-GDh",
        "outputId": "6e2ce49e-87f5-4136-da67-301e4a5401f5"
      },
      "execution_count": 530,
      "outputs": [
        {
          "output_type": "execute_result",
          "data": {
            "text/plain": [
              "0         824\n",
              "None      562\n",
              "5         123\n",
              "100       107\n",
              "50         85\n",
              "         ... \n",
              "178         1\n",
              "69.16       1\n",
              "332.67      1\n",
              "43.01       1\n",
              "78.65       1\n",
              "Name: HOA, Length: 378, dtype: int64"
            ]
          },
          "metadata": {},
          "execution_count": 530
        }
      ]
    },
    {
      "cell_type": "code",
      "source": [
        "data['HOA'].replace('None', np.nan, inplace=True)"
      ],
      "metadata": {
        "id": "RJi7OTnPOBd2"
      },
      "execution_count": 531,
      "outputs": []
    },
    {
      "cell_type": "code",
      "source": [
        "data['HOA'].value_counts()"
      ],
      "metadata": {
        "colab": {
          "base_uri": "https://localhost:8080/"
        },
        "id": "ms-L7r_hOLG1",
        "outputId": "d742d6ca-8c72-40ac-9cde-f37f110ee1e9"
      },
      "execution_count": 532,
      "outputs": [
        {
          "output_type": "execute_result",
          "data": {
            "text/plain": [
              "0         824\n",
              "5         123\n",
              "100       107\n",
              "50         85\n",
              "40         72\n",
              "         ... \n",
              "178         1\n",
              "69.16       1\n",
              "332.67      1\n",
              "43.01       1\n",
              "78.65       1\n",
              "Name: HOA, Length: 377, dtype: int64"
            ]
          },
          "metadata": {},
          "execution_count": 532
        }
      ]
    },
    {
      "cell_type": "code",
      "source": [
        "for HOA in data:\n",
        "  data['HOA'].unique()"
      ],
      "metadata": {
        "id": "RBVwIXZvOw0s"
      },
      "execution_count": 533,
      "outputs": []
    },
    {
      "cell_type": "code",
      "source": [
        "data['HOA'] = data['HOA'].replace(',','', regex=True)\n",
        "datax= data['HOA'].median()\n",
        "data.fillna(datax, inplace= True)"
      ],
      "metadata": {
        "id": "DadMziL_QBba"
      },
      "execution_count": 534,
      "outputs": []
    },
    {
      "cell_type": "code",
      "source": [
        "data['HOA'].value_counts()"
      ],
      "metadata": {
        "colab": {
          "base_uri": "https://localhost:8080/"
        },
        "id": "RT7A0uPr8VCI",
        "outputId": "45397c12-d2cc-4091-aa09-4ee5d9b6dd00"
      },
      "execution_count": 535,
      "outputs": [
        {
          "output_type": "execute_result",
          "data": {
            "text/plain": [
              "0         824\n",
              "55.0      562\n",
              "5         123\n",
              "100       107\n",
              "50         85\n",
              "         ... \n",
              "188.33      1\n",
              "149.5       1\n",
              "73.72       1\n",
              "50.42       1\n",
              "78.65       1\n",
              "Name: HOA, Length: 371, dtype: int64"
            ]
          },
          "metadata": {},
          "execution_count": 535
        }
      ]
    },
    {
      "cell_type": "code",
      "source": [
        "sns.heatmap(data = corr)"
      ],
      "metadata": {
        "colab": {
          "base_uri": "https://localhost:8080/",
          "height": 327
        },
        "id": "-khhP6R_0DXL",
        "outputId": "1cc47aed-f2b1-4020-e66b-05af0f5573cc"
      },
      "execution_count": 536,
      "outputs": [
        {
          "output_type": "execute_result",
          "data": {
            "text/plain": [
              "<matplotlib.axes._subplots.AxesSubplot at 0x7f5f5c087e90>"
            ]
          },
          "metadata": {},
          "execution_count": 536
        },
        {
          "output_type": "display_data",
          "data": {
            "text/plain": [
              "<Figure size 432x288 with 2 Axes>"
            ],
            "image/png": "[encoded data removed]"
          },
          "metadata": {
            "needs_background": "light"
          }
        }
      ]
    },
    {
      "cell_type": "code",
      "source": [
        "data.head()"
      ],
      "metadata": {
        "id": "xxtXe6SwDsYg",
        "colab": {
          "base_uri": "https://localhost:8080/",
          "height": 444
        },
        "outputId": "1d5624cb-2f5d-4f3c-cec5-73f646813ea0"
      },
      "execution_count": 537,
      "outputs": [
        {
          "output_type": "execute_result",
          "data": {
            "text/plain": [
              "        MLS  sold_price  zipcode     longitude    latitude  lot_acres  \\\n",
              "0  21530491   5300000.0    85637    -1.103.782  31.356.362    2154.00   \n",
              "1  21529082   4200000.0    85646  -111.045.371  31.594.213    1707.00   \n",
              "2   3054672   4200000.0    85646  -111.040.707  31.594.844    1707.00   \n",
              "3  21919321   4500000.0    85646  -111.035.925  31.645.878     636.67   \n",
              "4  21306357   3411450.0    85750  -110.813.768  32.285.162       3.21   \n",
              "\n",
              "      taxes  year_built  bedrooms bathrooms sqrt_ft garage  \\\n",
              "0   5272.00        1941        13        10   10500      0   \n",
              "1  10422.36        1997         2         2    7300      0   \n",
              "2  10482.00        1997         2         3  3512.0    3.0   \n",
              "3   8418.58        1930         7         5    9019      4   \n",
              "4  15393.00        1995         4         6    6396      3   \n",
              "\n",
              "                                    kitchen_features  fireplaces  \\\n",
              "0            Dishwasher, Freezer, Refrigerator, Oven         6.0   \n",
              "1                       Dishwasher, Garbage Disposal         5.0   \n",
              "2         Dishwasher, Garbage Disposal, Refrigerator         5.0   \n",
              "3  Dishwasher, Double Sink, Pantry: Butler, Refri...         4.0   \n",
              "4  Dishwasher, Garbage Disposal, Refrigerator, Mi...         5.0   \n",
              "\n",
              "                 floor_covering   HOA  \n",
              "0            Mexican Tile, Wood     0  \n",
              "1          Natural Stone, Other     0  \n",
              "2    Natural Stone, Other: Rock  55.0  \n",
              "3  Ceramic Tile, Laminate, Wood  55.0  \n",
              "4              Carpet, Concrete    55  "
            ],
            "text/html": [
              "\n",
              "  <div id=\"df-dcc77ae5-14c5-487f-981c-adac4f5500d5\">\n",
              "    <div class=\"colab-df-container\">\n",
              "      <div>\n",
              "<style scoped>\n",
              "    .dataframe tbody tr th:only-of-type {\n",
              "        vertical-align: middle;\n",
              "    }\n",
              "\n",
              "    .dataframe tbody tr th {\n",
              "        vertical-align: top;\n",
              "    }\n",
              "\n",
              "    .dataframe thead th {\n",
              "        text-align: right;\n",
              "    }\n",
              "</style>\n",
              "<table border=\"1\" class=\"dataframe\">\n",
              "  <thead>\n",
              "    <tr style=\"text-align: right;\">\n",
              "      <th></th>\n",
              "      <th>MLS</th>\n",
              "      <th>sold_price</th>\n",
              "      <th>zipcode</th>\n",
              "      <th>longitude</th>\n",
              "      <th>latitude</th>\n",
              "      <th>lot_acres</th>\n",
              "      <th>taxes</th>\n",
              "      <th>year_built</th>\n",
              "      <th>bedrooms</th>\n",
              "      <th>bathrooms</th>\n",
              "      <th>sqrt_ft</th>\n",
              "      <th>garage</th>\n",
              "      <th>kitchen_features</th>\n",
              "      <th>fireplaces</th>\n",
              "      <th>floor_covering</th>\n",
              "      <th>HOA</th>\n",
              "    </tr>\n",
              "  </thead>\n",
              "  <tbody>\n",
              "    <tr>\n",
              "      <th>0</th>\n",
              "      <td>21530491</td>\n",
              "      <td>5300000.0</td>\n",
              "      <td>85637</td>\n",
              "      <td>-1.103.782</td>\n",
              "      <td>31.356.362</td>\n",
              "      <td>2154.00</td>\n",
              "      <td>5272.00</td>\n",
              "      <td>1941</td>\n",
              "      <td>13</td>\n",
              "      <td>10</td>\n",
              "      <td>10500</td>\n",
              "      <td>0</td>\n",
              "      <td>Dishwasher, Freezer, Refrigerator, Oven</td>\n",
              "      <td>6.0</td>\n",
              "      <td>Mexican Tile, Wood</td>\n",
              "      <td>0</td>\n",
              "    </tr>\n",
              "    <tr>\n",
              "      <th>1</th>\n",
              "      <td>21529082</td>\n",
              "      <td>4200000.0</td>\n",
              "      <td>85646</td>\n",
              "      <td>-111.045.371</td>\n",
              "      <td>31.594.213</td>\n",
              "      <td>1707.00</td>\n",
              "      <td>10422.36</td>\n",
              "      <td>1997</td>\n",
              "      <td>2</td>\n",
              "      <td>2</td>\n",
              "      <td>7300</td>\n",
              "      <td>0</td>\n",
              "      <td>Dishwasher, Garbage Disposal</td>\n",
              "      <td>5.0</td>\n",
              "      <td>Natural Stone, Other</td>\n",
              "      <td>0</td>\n",
              "    </tr>\n",
              "    <tr>\n",
              "      <th>2</th>\n",
              "      <td>3054672</td>\n",
              "      <td>4200000.0</td>\n",
              "      <td>85646</td>\n",
              "      <td>-111.040.707</td>\n",
              "      <td>31.594.844</td>\n",
              "      <td>1707.00</td>\n",
              "      <td>10482.00</td>\n",
              "      <td>1997</td>\n",
              "      <td>2</td>\n",
              "      <td>3</td>\n",
              "      <td>3512.0</td>\n",
              "      <td>3.0</td>\n",
              "      <td>Dishwasher, Garbage Disposal, Refrigerator</td>\n",
              "      <td>5.0</td>\n",
              "      <td>Natural Stone, Other: Rock</td>\n",
              "      <td>55.0</td>\n",
              "    </tr>\n",
              "    <tr>\n",
              "      <th>3</th>\n",
              "      <td>21919321</td>\n",
              "      <td>4500000.0</td>\n",
              "      <td>85646</td>\n",
              "      <td>-111.035.925</td>\n",
              "      <td>31.645.878</td>\n",
              "      <td>636.67</td>\n",
              "      <td>8418.58</td>\n",
              "      <td>1930</td>\n",
              "      <td>7</td>\n",
              "      <td>5</td>\n",
              "      <td>9019</td>\n",
              "      <td>4</td>\n",
              "      <td>Dishwasher, Double Sink, Pantry: Butler, Refri...</td>\n",
              "      <td>4.0</td>\n",
              "      <td>Ceramic Tile, Laminate, Wood</td>\n",
              "      <td>55.0</td>\n",
              "    </tr>\n",
              "    <tr>\n",
              "      <th>4</th>\n",
              "      <td>21306357</td>\n",
              "      <td>3411450.0</td>\n",
              "      <td>85750</td>\n",
              "      <td>-110.813.768</td>\n",
              "      <td>32.285.162</td>\n",
              "      <td>3.21</td>\n",
              "      <td>15393.00</td>\n",
              "      <td>1995</td>\n",
              "      <td>4</td>\n",
              "      <td>6</td>\n",
              "      <td>6396</td>\n",
              "      <td>3</td>\n",
              "      <td>Dishwasher, Garbage Disposal, Refrigerator, Mi...</td>\n",
              "      <td>5.0</td>\n",
              "      <td>Carpet, Concrete</td>\n",
              "      <td>55</td>\n",
              "    </tr>\n",
              "  </tbody>\n",
              "</table>\n",
              "</div>\n",
              "      <button class=\"colab-df-convert\" onclick=\"convertToInteractive('df-dcc77ae5-14c5-487f-981c-adac4f5500d5')\"\n",
              "              title=\"Convert this dataframe to an interactive table.\"\n",
              "              style=\"display:none;\">\n",
              "        \n",
              "  <svg xmlns=\"http://www.w3.org/2000/svg\" height=\"24px\"viewBox=\"0 0 24 24\"\n",
              "       width=\"24px\">\n",
              "    <path d=\"M0 0h24v24H0V0z\" fill=\"none\"/>\n",
              "    <path d=\"M18.56 5.44l.94 2.06.94-2.06 2.06-.94-2.06-.94-.94-2.06-.94 2.06-2.06.94zm-11 1L8.5 8.5l.94-2.06 2.06-.94-2.06-.94L8.5 2.5l-.94 2.06-2.06.94zm10 10l.94 2.06.94-2.06 2.06-.94-2.06-.94-.94-2.06-.94 2.06-2.06.94z\"/><path d=\"M17.41 7.96l-1.37-1.37c-.4-.4-.92-.59-1.43-.59-.52 0-1.04.2-1.43.59L10.3 9.45l-7.72 7.72c-.78.78-.78 2.05 0 2.83L4 21.41c.39.39.9.59 1.41.59.51 0 1.02-.2 1.41-.59l7.78-7.78 2.81-2.81c.8-.78.8-2.07 0-2.86zM5.41 20L4 18.59l7.72-7.72 1.47 1.35L5.41 20z\"/>\n",
              "  </svg>\n",
              "      </button>\n",
              "      \n",
              "  <style>\n",
              "    .colab-df-container {\n",
              "      display:flex;\n",
              "      flex-wrap:wrap;\n",
              "      gap: 12px;\n",
              "    }\n",
              "\n",
              "    .colab-df-convert {\n",
              "      background-color: #E8F0FE;\n",
              "      border: none;\n",
              "      border-radius: 50%;\n",
              "      cursor: pointer;\n",
              "      display: none;\n",
              "      fill: #1967D2;\n",
              "      height: 32px;\n",
              "      padding: 0 0 0 0;\n",
              "      width: 32px;\n",
              "    }\n",
              "\n",
              "    .colab-df-convert:hover {\n",
              "      background-color: #E2EBFA;\n",
              "      box-shadow: 0px 1px 2px rgba(60, 64, 67, 0.3), 0px 1px 3px 1px rgba(60, 64, 67, 0.15);\n",
              "      fill: #174EA6;\n",
              "    }\n",
              "\n",
              "    [theme=dark] .colab-df-convert {\n",
              "      background-color: #3B4455;\n",
              "      fill: #D2E3FC;\n",
              "    }\n",
              "\n",
              "    [theme=dark] .colab-df-convert:hover {\n",
              "      background-color: #434B5C;\n",
              "      box-shadow: 0px 1px 3px 1px rgba(0, 0, 0, 0.15);\n",
              "      filter: drop-shadow(0px 1px 2px rgba(0, 0, 0, 0.3));\n",
              "      fill: #FFFFFF;\n",
              "    }\n",
              "  </style>\n",
              "\n",
              "      <script>\n",
              "        const buttonEl =\n",
              "          document.querySelector('#df-dcc77ae5-14c5-487f-981c-adac4f5500d5 button.colab-df-convert');\n",
              "        buttonEl.style.display =\n",
              "          google.colab.kernel.accessAllowed ? 'block' : 'none';\n",
              "\n",
              "        async function convertToInteractive(key) {\n",
              "          const element = document.querySelector('#df-dcc77ae5-14c5-487f-981c-adac4f5500d5');\n",
              "          const dataTable =\n",
              "            await google.colab.kernel.invokeFunction('convertToInteractive',\n",
              "                                                     [key], {});\n",
              "          if (!dataTable) return;\n",
              "\n",
              "          const docLinkHtml = 'Like what you see? Visit the ' +\n",
              "            '<a target=\"_blank\" href=https://colab.research.google.com/notebooks/data_table.ipynb>data table notebook</a>'\n",
              "            + ' to learn more about interactive tables.';\n",
              "          element.innerHTML = '';\n",
              "          dataTable['output_type'] = 'display_data';\n",
              "          await google.colab.output.renderOutput(dataTable, element);\n",
              "          const docLink = document.createElement('div');\n",
              "          docLink.innerHTML = docLinkHtml;\n",
              "          element.appendChild(docLink);\n",
              "        }\n",
              "      </script>\n",
              "    </div>\n",
              "  </div>\n",
              "  "
            ]
          },
          "metadata": {},
          "execution_count": 537
        }
      ]
    },
    {
      "cell_type": "code",
      "source": [
        "data['sqrt_ft'] = data.sqrt_ft.astype(float)\n",
        "data['bathrooms'] = data.bathrooms.astype(float)\n",
        "data['garage'] = data.garage.astype(float)\n",
        "data['HOA'] = data.HOA.astype(float)\n",
        "#data['zipcode'] = data.zipcode.astype(float)\n",
        "#data['bedrooms'] = data.bedrooms.astype(float)"
      ],
      "metadata": {
        "id": "vRAbZKCzUbQ0"
      },
      "execution_count": 538,
      "outputs": []
    },
    {
      "cell_type": "code",
      "source": [
        "data.dtypes"
      ],
      "metadata": {
        "colab": {
          "base_uri": "https://localhost:8080/"
        },
        "id": "tcRDWAFcUMsw",
        "outputId": "58dfd4ca-ea16-4e2d-f536-1f8c155ae698"
      },
      "execution_count": 539,
      "outputs": [
        {
          "output_type": "execute_result",
          "data": {
            "text/plain": [
              "MLS                   int64\n",
              "sold_price          float64\n",
              "zipcode               int64\n",
              "longitude            object\n",
              "latitude             object\n",
              "lot_acres           float64\n",
              "taxes               float64\n",
              "year_built            int64\n",
              "bedrooms              int64\n",
              "bathrooms           float64\n",
              "sqrt_ft             float64\n",
              "garage              float64\n",
              "kitchen_features     object\n",
              "fireplaces          float64\n",
              "floor_covering       object\n",
              "HOA                 float64\n",
              "dtype: object"
            ]
          },
          "metadata": {},
          "execution_count": 539
        }
      ]
    },
    {
      "cell_type": "code",
      "source": [
        "data['floor_covering'].value_counts()"
      ],
      "metadata": {
        "colab": {
          "base_uri": "https://localhost:8080/"
        },
        "id": "0FXpyuXgURRW",
        "outputId": "fbd24da0-f551-4077-b21f-739faaf86768"
      },
      "execution_count": 540,
      "outputs": [
        {
          "output_type": "execute_result",
          "data": {
            "text/plain": [
              "Carpet, Ceramic Tile                           1235\n",
              "Carpet, Natural Stone                           579\n",
              "Carpet, Ceramic Tile, Wood                      258\n",
              "Ceramic Tile                                    247\n",
              "Concrete                                        242\n",
              "                                               ... \n",
              "Carpet, Concrete, Wood, Other: travertine         1\n",
              "Concrete, Wood, Other: Mesquite wood floors       1\n",
              "Carpet, Ceramic Tile, Wood, Other: Slate          1\n",
              "Carpet, Other: brick pavers                       1\n",
              "Concrete, Other: Cork                             1\n",
              "Name: floor_covering, Length: 311, dtype: int64"
            ]
          },
          "metadata": {},
          "execution_count": 540
        }
      ]
    },
    {
      "cell_type": "code",
      "source": [
        "data.head()"
      ],
      "metadata": {
        "colab": {
          "base_uri": "https://localhost:8080/",
          "height": 444
        },
        "id": "dKC4-14fU0NK",
        "outputId": "8254fca1-55a5-4a24-9d19-697b80c890f0"
      },
      "execution_count": 541,
      "outputs": [
        {
          "output_type": "execute_result",
          "data": {
            "text/plain": [
              "        MLS  sold_price  zipcode     longitude    latitude  lot_acres  \\\n",
              "0  21530491   5300000.0    85637    -1.103.782  31.356.362    2154.00   \n",
              "1  21529082   4200000.0    85646  -111.045.371  31.594.213    1707.00   \n",
              "2   3054672   4200000.0    85646  -111.040.707  31.594.844    1707.00   \n",
              "3  21919321   4500000.0    85646  -111.035.925  31.645.878     636.67   \n",
              "4  21306357   3411450.0    85750  -110.813.768  32.285.162       3.21   \n",
              "\n",
              "      taxes  year_built  bedrooms  bathrooms  sqrt_ft  garage  \\\n",
              "0   5272.00        1941        13       10.0  10500.0     0.0   \n",
              "1  10422.36        1997         2        2.0   7300.0     0.0   \n",
              "2  10482.00        1997         2        3.0   3512.0     3.0   \n",
              "3   8418.58        1930         7        5.0   9019.0     4.0   \n",
              "4  15393.00        1995         4        6.0   6396.0     3.0   \n",
              "\n",
              "                                    kitchen_features  fireplaces  \\\n",
              "0            Dishwasher, Freezer, Refrigerator, Oven         6.0   \n",
              "1                       Dishwasher, Garbage Disposal         5.0   \n",
              "2         Dishwasher, Garbage Disposal, Refrigerator         5.0   \n",
              "3  Dishwasher, Double Sink, Pantry: Butler, Refri...         4.0   \n",
              "4  Dishwasher, Garbage Disposal, Refrigerator, Mi...         5.0   \n",
              "\n",
              "                 floor_covering   HOA  \n",
              "0            Mexican Tile, Wood   0.0  \n",
              "1          Natural Stone, Other   0.0  \n",
              "2    Natural Stone, Other: Rock  55.0  \n",
              "3  Ceramic Tile, Laminate, Wood  55.0  \n",
              "4              Carpet, Concrete  55.0  "
            ],
            "text/html": [
              "\n",
              "  <div id=\"df-c9f218a5-ae0d-4995-a8b2-15fe813262aa\">\n",
              "    <div class=\"colab-df-container\">\n",
              "      <div>\n",
              "<style scoped>\n",
              "    .dataframe tbody tr th:only-of-type {\n",
              "        vertical-align: middle;\n",
              "    }\n",
              "\n",
              "    .dataframe tbody tr th {\n",
              "        vertical-align: top;\n",
              "    }\n",
              "\n",
              "    .dataframe thead th {\n",
              "        text-align: right;\n",
              "    }\n",
              "</style>\n",
              "<table border=\"1\" class=\"dataframe\">\n",
              "  <thead>\n",
              "    <tr style=\"text-align: right;\">\n",
              "      <th></th>\n",
              "      <th>MLS</th>\n",
              "      <th>sold_price</th>\n",
              "      <th>zipcode</th>\n",
              "      <th>longitude</th>\n",
              "      <th>latitude</th>\n",
              "      <th>lot_acres</th>\n",
              "      <th>taxes</th>\n",
              "      <th>year_built</th>\n",
              "      <th>bedrooms</th>\n",
              "      <th>bathrooms</th>\n",
              "      <th>sqrt_ft</th>\n",
              "      <th>garage</th>\n",
              "      <th>kitchen_features</th>\n",
              "      <th>fireplaces</th>\n",
              "      <th>floor_covering</th>\n",
              "      <th>HOA</th>\n",
              "    </tr>\n",
              "  </thead>\n",
              "  <tbody>\n",
              "    <tr>\n",
              "      <th>0</th>\n",
              "      <td>21530491</td>\n",
              "      <td>5300000.0</td>\n",
              "      <td>85637</td>\n",
              "      <td>-1.103.782</td>\n",
              "      <td>31.356.362</td>\n",
              "      <td>2154.00</td>\n",
              "      <td>5272.00</td>\n",
              "      <td>1941</td>\n",
              "      <td>13</td>\n",
              "      <td>10.0</td>\n",
              "      <td>10500.0</td>\n",
              "      <td>0.0</td>\n",
              "      <td>Dishwasher, Freezer, Refrigerator, Oven</td>\n",
              "      <td>6.0</td>\n",
              "      <td>Mexican Tile, Wood</td>\n",
              "      <td>0.0</td>\n",
              "    </tr>\n",
              "    <tr>\n",
              "      <th>1</th>\n",
              "      <td>21529082</td>\n",
              "      <td>4200000.0</td>\n",
              "      <td>85646</td>\n",
              "      <td>-111.045.371</td>\n",
              "      <td>31.594.213</td>\n",
              "      <td>1707.00</td>\n",
              "      <td>10422.36</td>\n",
              "      <td>1997</td>\n",
              "      <td>2</td>\n",
              "      <td>2.0</td>\n",
              "      <td>7300.0</td>\n",
              "      <td>0.0</td>\n",
              "      <td>Dishwasher, Garbage Disposal</td>\n",
              "      <td>5.0</td>\n",
              "      <td>Natural Stone, Other</td>\n",
              "      <td>0.0</td>\n",
              "    </tr>\n",
              "    <tr>\n",
              "      <th>2</th>\n",
              "      <td>3054672</td>\n",
              "      <td>4200000.0</td>\n",
              "      <td>85646</td>\n",
              "      <td>-111.040.707</td>\n",
              "      <td>31.594.844</td>\n",
              "      <td>1707.00</td>\n",
              "      <td>10482.00</td>\n",
              "      <td>1997</td>\n",
              "      <td>2</td>\n",
              "      <td>3.0</td>\n",
              "      <td>3512.0</td>\n",
              "      <td>3.0</td>\n",
              "      <td>Dishwasher, Garbage Disposal, Refrigerator</td>\n",
              "      <td>5.0</td>\n",
              "      <td>Natural Stone, Other: Rock</td>\n",
              "      <td>55.0</td>\n",
              "    </tr>\n",
              "    <tr>\n",
              "      <th>3</th>\n",
              "      <td>21919321</td>\n",
              "      <td>4500000.0</td>\n",
              "      <td>85646</td>\n",
              "      <td>-111.035.925</td>\n",
              "      <td>31.645.878</td>\n",
              "      <td>636.67</td>\n",
              "      <td>8418.58</td>\n",
              "      <td>1930</td>\n",
              "      <td>7</td>\n",
              "      <td>5.0</td>\n",
              "      <td>9019.0</td>\n",
              "      <td>4.0</td>\n",
              "      <td>Dishwasher, Double Sink, Pantry: Butler, Refri...</td>\n",
              "      <td>4.0</td>\n",
              "      <td>Ceramic Tile, Laminate, Wood</td>\n",
              "      <td>55.0</td>\n",
              "    </tr>\n",
              "    <tr>\n",
              "      <th>4</th>\n",
              "      <td>21306357</td>\n",
              "      <td>3411450.0</td>\n",
              "      <td>85750</td>\n",
              "      <td>-110.813.768</td>\n",
              "      <td>32.285.162</td>\n",
              "      <td>3.21</td>\n",
              "      <td>15393.00</td>\n",
              "      <td>1995</td>\n",
              "      <td>4</td>\n",
              "      <td>6.0</td>\n",
              "      <td>6396.0</td>\n",
              "      <td>3.0</td>\n",
              "      <td>Dishwasher, Garbage Disposal, Refrigerator, Mi...</td>\n",
              "      <td>5.0</td>\n",
              "      <td>Carpet, Concrete</td>\n",
              "      <td>55.0</td>\n",
              "    </tr>\n",
              "  </tbody>\n",
              "</table>\n",
              "</div>\n",
              "      <button class=\"colab-df-convert\" onclick=\"convertToInteractive('df-c9f218a5-ae0d-4995-a8b2-15fe813262aa')\"\n",
              "              title=\"Convert this dataframe to an interactive table.\"\n",
              "              style=\"display:none;\">\n",
              "        \n",
              "  <svg xmlns=\"http://www.w3.org/2000/svg\" height=\"24px\"viewBox=\"0 0 24 24\"\n",
              "       width=\"24px\">\n",
              "    <path d=\"M0 0h24v24H0V0z\" fill=\"none\"/>\n",
              "    <path d=\"M18.56 5.44l.94 2.06.94-2.06 2.06-.94-2.06-.94-.94-2.06-.94 2.06-2.06.94zm-11 1L8.5 8.5l.94-2.06 2.06-.94-2.06-.94L8.5 2.5l-.94 2.06-2.06.94zm10 10l.94 2.06.94-2.06 2.06-.94-2.06-.94-.94-2.06-.94 2.06-2.06.94z\"/><path d=\"M17.41 7.96l-1.37-1.37c-.4-.4-.92-.59-1.43-.59-.52 0-1.04.2-1.43.59L10.3 9.45l-7.72 7.72c-.78.78-.78 2.05 0 2.83L4 21.41c.39.39.9.59 1.41.59.51 0 1.02-.2 1.41-.59l7.78-7.78 2.81-2.81c.8-.78.8-2.07 0-2.86zM5.41 20L4 18.59l7.72-7.72 1.47 1.35L5.41 20z\"/>\n",
              "  </svg>\n",
              "      </button>\n",
              "      \n",
              "  <style>\n",
              "    .colab-df-container {\n",
              "      display:flex;\n",
              "      flex-wrap:wrap;\n",
              "      gap: 12px;\n",
              "    }\n",
              "\n",
              "    .colab-df-convert {\n",
              "      background-color: #E8F0FE;\n",
              "      border: none;\n",
              "      border-radius: 50%;\n",
              "      cursor: pointer;\n",
              "      display: none;\n",
              "      fill: #1967D2;\n",
              "      height: 32px;\n",
              "      padding: 0 0 0 0;\n",
              "      width: 32px;\n",
              "    }\n",
              "\n",
              "    .colab-df-convert:hover {\n",
              "      background-color: #E2EBFA;\n",
              "      box-shadow: 0px 1px 2px rgba(60, 64, 67, 0.3), 0px 1px 3px 1px rgba(60, 64, 67, 0.15);\n",
              "      fill: #174EA6;\n",
              "    }\n",
              "\n",
              "    [theme=dark] .colab-df-convert {\n",
              "      background-color: #3B4455;\n",
              "      fill: #D2E3FC;\n",
              "    }\n",
              "\n",
              "    [theme=dark] .colab-df-convert:hover {\n",
              "      background-color: #434B5C;\n",
              "      box-shadow: 0px 1px 3px 1px rgba(0, 0, 0, 0.15);\n",
              "      filter: drop-shadow(0px 1px 2px rgba(0, 0, 0, 0.3));\n",
              "      fill: #FFFFFF;\n",
              "    }\n",
              "  </style>\n",
              "\n",
              "      <script>\n",
              "        const buttonEl =\n",
              "          document.querySelector('#df-c9f218a5-ae0d-4995-a8b2-15fe813262aa button.colab-df-convert');\n",
              "        buttonEl.style.display =\n",
              "          google.colab.kernel.accessAllowed ? 'block' : 'none';\n",
              "\n",
              "        async function convertToInteractive(key) {\n",
              "          const element = document.querySelector('#df-c9f218a5-ae0d-4995-a8b2-15fe813262aa');\n",
              "          const dataTable =\n",
              "            await google.colab.kernel.invokeFunction('convertToInteractive',\n",
              "                                                     [key], {});\n",
              "          if (!dataTable) return;\n",
              "\n",
              "          const docLinkHtml = 'Like what you see? Visit the ' +\n",
              "            '<a target=\"_blank\" href=https://colab.research.google.com/notebooks/data_table.ipynb>data table notebook</a>'\n",
              "            + ' to learn more about interactive tables.';\n",
              "          element.innerHTML = '';\n",
              "          dataTable['output_type'] = 'display_data';\n",
              "          await google.colab.output.renderOutput(dataTable, element);\n",
              "          const docLink = document.createElement('div');\n",
              "          docLink.innerHTML = docLinkHtml;\n",
              "          element.appendChild(docLink);\n",
              "        }\n",
              "      </script>\n",
              "    </div>\n",
              "  </div>\n",
              "  "
            ]
          },
          "metadata": {},
          "execution_count": 541
        }
      ]
    },
    {
      "cell_type": "code",
      "source": [
        "data.describe()"
      ],
      "metadata": {
        "colab": {
          "base_uri": "https://localhost:8080/",
          "height": 300
        },
        "id": "Y-ZgFSrSba4g",
        "outputId": "8aed6867-2638-4def-de07-c1ab7d312bca"
      },
      "execution_count": 542,
      "outputs": [
        {
          "output_type": "execute_result",
          "data": {
            "text/plain": [
              "                MLS    sold_price       zipcode    lot_acres         taxes  \\\n",
              "count  5.000000e+03  5.000000e+03   5000.000000  5000.000000  5.000000e+03   \n",
              "mean   2.127070e+07  7.746262e+05  85723.025600     4.659994  9.402828e+03   \n",
              "std    2.398508e+06  3.185556e+05     38.061712    51.633517  1.729385e+05   \n",
              "min    3.042851e+06  1.690000e+05  85118.000000     0.000000  0.000000e+00   \n",
              "25%    2.140718e+07  5.850000e+05  85718.000000     0.580000  4.803605e+03   \n",
              "50%    2.161469e+07  6.750000e+05  85737.000000     0.990000  6.223760e+03   \n",
              "75%    2.180480e+07  8.350000e+05  85749.000000     1.770000  8.082830e+03   \n",
              "max    2.192856e+07  5.300000e+06  86323.000000  2154.000000  1.221508e+07   \n",
              "\n",
              "       year_built     bedrooms    bathrooms       sqrt_ft       garage  \\\n",
              "count  5000.00000  5000.000000  5000.000000   5000.000000  5000.000000   \n",
              "mean   1992.32800     3.933800     3.830100   3714.077920     2.816400   \n",
              "std      65.48614     1.245362     1.386243   1114.596305     1.192131   \n",
              "min       0.00000     1.000000     1.000000   1100.000000     0.000000   \n",
              "25%    1987.00000     3.000000     3.000000   3051.000000     2.000000   \n",
              "50%    1999.00000     4.000000     4.000000   3512.000000     3.000000   \n",
              "75%    2006.00000     4.000000     4.000000   4120.000000     3.000000   \n",
              "max    2019.00000    36.000000    36.000000  22408.000000    30.000000   \n",
              "\n",
              "        fireplaces          HOA  \n",
              "count  5000.000000  5000.000000  \n",
              "mean      1.895800    82.274618  \n",
              "std       1.143505   151.842160  \n",
              "min       0.000000     0.000000  \n",
              "25%       1.000000    13.750000  \n",
              "50%       2.000000    55.000000  \n",
              "75%       3.000000   122.000000  \n",
              "max       9.000000  8333.000000  "
            ],
            "text/html": [
              "\n",
              "  <div id=\"df-6dad38c9-1218-4619-93ac-d5ed4a82ae08\">\n",
              "    <div class=\"colab-df-container\">\n",
              "      <div>\n",
              "<style scoped>\n",
              "    .dataframe tbody tr th:only-of-type {\n",
              "        vertical-align: middle;\n",
              "    }\n",
              "\n",
              "    .dataframe tbody tr th {\n",
              "        vertical-align: top;\n",
              "    }\n",
              "\n",
              "    .dataframe thead th {\n",
              "        text-align: right;\n",
              "    }\n",
              "</style>\n",
              "<table border=\"1\" class=\"dataframe\">\n",
              "  <thead>\n",
              "    <tr style=\"text-align: right;\">\n",
              "      <th></th>\n",
              "      <th>MLS</th>\n",
              "      <th>sold_price</th>\n",
              "      <th>zipcode</th>\n",
              "      <th>lot_acres</th>\n",
              "      <th>taxes</th>\n",
              "      <th>year_built</th>\n",
              "      <th>bedrooms</th>\n",
              "      <th>bathrooms</th>\n",
              "      <th>sqrt_ft</th>\n",
              "      <th>garage</th>\n",
              "      <th>fireplaces</th>\n",
              "      <th>HOA</th>\n",
              "    </tr>\n",
              "  </thead>\n",
              "  <tbody>\n",
              "    <tr>\n",
              "      <th>count</th>\n",
              "      <td>5.000000e+03</td>\n",
              "      <td>5.000000e+03</td>\n",
              "      <td>5000.000000</td>\n",
              "      <td>5000.000000</td>\n",
              "      <td>5.000000e+03</td>\n",
              "      <td>5000.00000</td>\n",
              "      <td>5000.000000</td>\n",
              "      <td>5000.000000</td>\n",
              "      <td>5000.000000</td>\n",
              "      <td>5000.000000</td>\n",
              "      <td>5000.000000</td>\n",
              "      <td>5000.000000</td>\n",
              "    </tr>\n",
              "    <tr>\n",
              "      <th>mean</th>\n",
              "      <td>2.127070e+07</td>\n",
              "      <td>7.746262e+05</td>\n",
              "      <td>85723.025600</td>\n",
              "      <td>4.659994</td>\n",
              "      <td>9.402828e+03</td>\n",
              "      <td>1992.32800</td>\n",
              "      <td>3.933800</td>\n",
              "      <td>3.830100</td>\n",
              "      <td>3714.077920</td>\n",
              "      <td>2.816400</td>\n",
              "      <td>1.895800</td>\n",
              "      <td>82.274618</td>\n",
              "    </tr>\n",
              "    <tr>\n",
              "      <th>std</th>\n",
              "      <td>2.398508e+06</td>\n",
              "      <td>3.185556e+05</td>\n",
              "      <td>38.061712</td>\n",
              "      <td>51.633517</td>\n",
              "      <td>1.729385e+05</td>\n",
              "      <td>65.48614</td>\n",
              "      <td>1.245362</td>\n",
              "      <td>1.386243</td>\n",
              "      <td>1114.596305</td>\n",
              "      <td>1.192131</td>\n",
              "      <td>1.143505</td>\n",
              "      <td>151.842160</td>\n",
              "    </tr>\n",
              "    <tr>\n",
              "      <th>min</th>\n",
              "      <td>3.042851e+06</td>\n",
              "      <td>1.690000e+05</td>\n",
              "      <td>85118.000000</td>\n",
              "      <td>0.000000</td>\n",
              "      <td>0.000000e+00</td>\n",
              "      <td>0.00000</td>\n",
              "      <td>1.000000</td>\n",
              "      <td>1.000000</td>\n",
              "      <td>1100.000000</td>\n",
              "      <td>0.000000</td>\n",
              "      <td>0.000000</td>\n",
              "      <td>0.000000</td>\n",
              "    </tr>\n",
              "    <tr>\n",
              "      <th>25%</th>\n",
              "      <td>2.140718e+07</td>\n",
              "      <td>5.850000e+05</td>\n",
              "      <td>85718.000000</td>\n",
              "      <td>0.580000</td>\n",
              "      <td>4.803605e+03</td>\n",
              "      <td>1987.00000</td>\n",
              "      <td>3.000000</td>\n",
              "      <td>3.000000</td>\n",
              "      <td>3051.000000</td>\n",
              "      <td>2.000000</td>\n",
              "      <td>1.000000</td>\n",
              "      <td>13.750000</td>\n",
              "    </tr>\n",
              "    <tr>\n",
              "      <th>50%</th>\n",
              "      <td>2.161469e+07</td>\n",
              "      <td>6.750000e+05</td>\n",
              "      <td>85737.000000</td>\n",
              "      <td>0.990000</td>\n",
              "      <td>6.223760e+03</td>\n",
              "      <td>1999.00000</td>\n",
              "      <td>4.000000</td>\n",
              "      <td>4.000000</td>\n",
              "      <td>3512.000000</td>\n",
              "      <td>3.000000</td>\n",
              "      <td>2.000000</td>\n",
              "      <td>55.000000</td>\n",
              "    </tr>\n",
              "    <tr>\n",
              "      <th>75%</th>\n",
              "      <td>2.180480e+07</td>\n",
              "      <td>8.350000e+05</td>\n",
              "      <td>85749.000000</td>\n",
              "      <td>1.770000</td>\n",
              "      <td>8.082830e+03</td>\n",
              "      <td>2006.00000</td>\n",
              "      <td>4.000000</td>\n",
              "      <td>4.000000</td>\n",
              "      <td>4120.000000</td>\n",
              "      <td>3.000000</td>\n",
              "      <td>3.000000</td>\n",
              "      <td>122.000000</td>\n",
              "    </tr>\n",
              "    <tr>\n",
              "      <th>max</th>\n",
              "      <td>2.192856e+07</td>\n",
              "      <td>5.300000e+06</td>\n",
              "      <td>86323.000000</td>\n",
              "      <td>2154.000000</td>\n",
              "      <td>1.221508e+07</td>\n",
              "      <td>2019.00000</td>\n",
              "      <td>36.000000</td>\n",
              "      <td>36.000000</td>\n",
              "      <td>22408.000000</td>\n",
              "      <td>30.000000</td>\n",
              "      <td>9.000000</td>\n",
              "      <td>8333.000000</td>\n",
              "    </tr>\n",
              "  </tbody>\n",
              "</table>\n",
              "</div>\n",
              "      <button class=\"colab-df-convert\" onclick=\"convertToInteractive('df-6dad38c9-1218-4619-93ac-d5ed4a82ae08')\"\n",
              "              title=\"Convert this dataframe to an interactive table.\"\n",
              "              style=\"display:none;\">\n",
              "        \n",
              "  <svg xmlns=\"http://www.w3.org/2000/svg\" height=\"24px\"viewBox=\"0 0 24 24\"\n",
              "       width=\"24px\">\n",
              "    <path d=\"M0 0h24v24H0V0z\" fill=\"none\"/>\n",
              "    <path d=\"M18.56 5.44l.94 2.06.94-2.06 2.06-.94-2.06-.94-.94-2.06-.94 2.06-2.06.94zm-11 1L8.5 8.5l.94-2.06 2.06-.94-2.06-.94L8.5 2.5l-.94 2.06-2.06.94zm10 10l.94 2.06.94-2.06 2.06-.94-2.06-.94-.94-2.06-.94 2.06-2.06.94z\"/><path d=\"M17.41 7.96l-1.37-1.37c-.4-.4-.92-.59-1.43-.59-.52 0-1.04.2-1.43.59L10.3 9.45l-7.72 7.72c-.78.78-.78 2.05 0 2.83L4 21.41c.39.39.9.59 1.41.59.51 0 1.02-.2 1.41-.59l7.78-7.78 2.81-2.81c.8-.78.8-2.07 0-2.86zM5.41 20L4 18.59l7.72-7.72 1.47 1.35L5.41 20z\"/>\n",
              "  </svg>\n",
              "      </button>\n",
              "      \n",
              "  <style>\n",
              "    .colab-df-container {\n",
              "      display:flex;\n",
              "      flex-wrap:wrap;\n",
              "      gap: 12px;\n",
              "    }\n",
              "\n",
              "    .colab-df-convert {\n",
              "      background-color: #E8F0FE;\n",
              "      border: none;\n",
              "      border-radius: 50%;\n",
              "      cursor: pointer;\n",
              "      display: none;\n",
              "      fill: #1967D2;\n",
              "      height: 32px;\n",
              "      padding: 0 0 0 0;\n",
              "      width: 32px;\n",
              "    }\n",
              "\n",
              "    .colab-df-convert:hover {\n",
              "      background-color: #E2EBFA;\n",
              "      box-shadow: 0px 1px 2px rgba(60, 64, 67, 0.3), 0px 1px 3px 1px rgba(60, 64, 67, 0.15);\n",
              "      fill: #174EA6;\n",
              "    }\n",
              "\n",
              "    [theme=dark] .colab-df-convert {\n",
              "      background-color: #3B4455;\n",
              "      fill: #D2E3FC;\n",
              "    }\n",
              "\n",
              "    [theme=dark] .colab-df-convert:hover {\n",
              "      background-color: #434B5C;\n",
              "      box-shadow: 0px 1px 3px 1px rgba(0, 0, 0, 0.15);\n",
              "      filter: drop-shadow(0px 1px 2px rgba(0, 0, 0, 0.3));\n",
              "      fill: #FFFFFF;\n",
              "    }\n",
              "  </style>\n",
              "\n",
              "      <script>\n",
              "        const buttonEl =\n",
              "          document.querySelector('#df-6dad38c9-1218-4619-93ac-d5ed4a82ae08 button.colab-df-convert');\n",
              "        buttonEl.style.display =\n",
              "          google.colab.kernel.accessAllowed ? 'block' : 'none';\n",
              "\n",
              "        async function convertToInteractive(key) {\n",
              "          const element = document.querySelector('#df-6dad38c9-1218-4619-93ac-d5ed4a82ae08');\n",
              "          const dataTable =\n",
              "            await google.colab.kernel.invokeFunction('convertToInteractive',\n",
              "                                                     [key], {});\n",
              "          if (!dataTable) return;\n",
              "\n",
              "          const docLinkHtml = 'Like what you see? Visit the ' +\n",
              "            '<a target=\"_blank\" href=https://colab.research.google.com/notebooks/data_table.ipynb>data table notebook</a>'\n",
              "            + ' to learn more about interactive tables.';\n",
              "          element.innerHTML = '';\n",
              "          dataTable['output_type'] = 'display_data';\n",
              "          await google.colab.output.renderOutput(dataTable, element);\n",
              "          const docLink = document.createElement('div');\n",
              "          docLink.innerHTML = docLinkHtml;\n",
              "          element.appendChild(docLink);\n",
              "        }\n",
              "      </script>\n",
              "    </div>\n",
              "  </div>\n",
              "  "
            ]
          },
          "metadata": {},
          "execution_count": 542
        }
      ]
    },
    {
      "cell_type": "code",
      "source": [
        "def class_price(sold_price):\n",
        "  if sold_price <=500000:\n",
        "    return 1\n",
        "  if sold_price <=1500000 >=500001:\n",
        "    return 2\n",
        "  if sold_price <=5000000 >=1500001:\n",
        "    return 3\n",
        "  if sold_price <=10000000 >=5000001:\n",
        "    return 4\n"
      ],
      "metadata": {
        "id": "soS6E4nEW6MO"
      },
      "execution_count": 543,
      "outputs": []
    },
    {
      "cell_type": "code",
      "source": [
        "data['class_price'] = data [[\"sold_price\"]].apply (lambda x : class_price(*x), axis=1)"
      ],
      "metadata": {
        "id": "3A81gR_weS6D"
      },
      "execution_count": 544,
      "outputs": []
    },
    {
      "cell_type": "code",
      "source": [
        "data.head()"
      ],
      "metadata": {
        "colab": {
          "base_uri": "https://localhost:8080/",
          "height": 444
        },
        "id": "oWHK1sIyg3_K",
        "outputId": "0803ef97-34da-4730-b9c7-b16b404ef673"
      },
      "execution_count": 545,
      "outputs": [
        {
          "output_type": "execute_result",
          "data": {
            "text/plain": [
              "        MLS  sold_price  zipcode     longitude    latitude  lot_acres  \\\n",
              "0  21530491   5300000.0    85637    -1.103.782  31.356.362    2154.00   \n",
              "1  21529082   4200000.0    85646  -111.045.371  31.594.213    1707.00   \n",
              "2   3054672   4200000.0    85646  -111.040.707  31.594.844    1707.00   \n",
              "3  21919321   4500000.0    85646  -111.035.925  31.645.878     636.67   \n",
              "4  21306357   3411450.0    85750  -110.813.768  32.285.162       3.21   \n",
              "\n",
              "      taxes  year_built  bedrooms  bathrooms  sqrt_ft  garage  \\\n",
              "0   5272.00        1941        13       10.0  10500.0     0.0   \n",
              "1  10422.36        1997         2        2.0   7300.0     0.0   \n",
              "2  10482.00        1997         2        3.0   3512.0     3.0   \n",
              "3   8418.58        1930         7        5.0   9019.0     4.0   \n",
              "4  15393.00        1995         4        6.0   6396.0     3.0   \n",
              "\n",
              "                                    kitchen_features  fireplaces  \\\n",
              "0            Dishwasher, Freezer, Refrigerator, Oven         6.0   \n",
              "1                       Dishwasher, Garbage Disposal         5.0   \n",
              "2         Dishwasher, Garbage Disposal, Refrigerator         5.0   \n",
              "3  Dishwasher, Double Sink, Pantry: Butler, Refri...         4.0   \n",
              "4  Dishwasher, Garbage Disposal, Refrigerator, Mi...         5.0   \n",
              "\n",
              "                 floor_covering   HOA  class_price  \n",
              "0            Mexican Tile, Wood   0.0            4  \n",
              "1          Natural Stone, Other   0.0            3  \n",
              "2    Natural Stone, Other: Rock  55.0            3  \n",
              "3  Ceramic Tile, Laminate, Wood  55.0            3  \n",
              "4              Carpet, Concrete  55.0            3  "
            ],
            "text/html": [
              "\n",
              "  <div id=\"df-87114f61-59c5-41ff-9c8d-81a61897ad3e\">\n",
              "    <div class=\"colab-df-container\">\n",
              "      <div>\n",
              "<style scoped>\n",
              "    .dataframe tbody tr th:only-of-type {\n",
              "        vertical-align: middle;\n",
              "    }\n",
              "\n",
              "    .dataframe tbody tr th {\n",
              "        vertical-align: top;\n",
              "    }\n",
              "\n",
              "    .dataframe thead th {\n",
              "        text-align: right;\n",
              "    }\n",
              "</style>\n",
              "<table border=\"1\" class=\"dataframe\">\n",
              "  <thead>\n",
              "    <tr style=\"text-align: right;\">\n",
              "      <th></th>\n",
              "      <th>MLS</th>\n",
              "      <th>sold_price</th>\n",
              "      <th>zipcode</th>\n",
              "      <th>longitude</th>\n",
              "      <th>latitude</th>\n",
              "      <th>lot_acres</th>\n",
              "      <th>taxes</th>\n",
              "      <th>year_built</th>\n",
              "      <th>bedrooms</th>\n",
              "      <th>bathrooms</th>\n",
              "      <th>sqrt_ft</th>\n",
              "      <th>garage</th>\n",
              "      <th>kitchen_features</th>\n",
              "      <th>fireplaces</th>\n",
              "      <th>floor_covering</th>\n",
              "      <th>HOA</th>\n",
              "      <th>class_price</th>\n",
              "    </tr>\n",
              "  </thead>\n",
              "  <tbody>\n",
              "    <tr>\n",
              "      <th>0</th>\n",
              "      <td>21530491</td>\n",
              "      <td>5300000.0</td>\n",
              "      <td>85637</td>\n",
              "      <td>-1.103.782</td>\n",
              "      <td>31.356.362</td>\n",
              "      <td>2154.00</td>\n",
              "      <td>5272.00</td>\n",
              "      <td>1941</td>\n",
              "      <td>13</td>\n",
              "      <td>10.0</td>\n",
              "      <td>10500.0</td>\n",
              "      <td>0.0</td>\n",
              "      <td>Dishwasher, Freezer, Refrigerator, Oven</td>\n",
              "      <td>6.0</td>\n",
              "      <td>Mexican Tile, Wood</td>\n",
              "      <td>0.0</td>\n",
              "      <td>4</td>\n",
              "    </tr>\n",
              "    <tr>\n",
              "      <th>1</th>\n",
              "      <td>21529082</td>\n",
              "      <td>4200000.0</td>\n",
              "      <td>85646</td>\n",
              "      <td>-111.045.371</td>\n",
              "      <td>31.594.213</td>\n",
              "      <td>1707.00</td>\n",
              "      <td>10422.36</td>\n",
              "      <td>1997</td>\n",
              "      <td>2</td>\n",
              "      <td>2.0</td>\n",
              "      <td>7300.0</td>\n",
              "      <td>0.0</td>\n",
              "      <td>Dishwasher, Garbage Disposal</td>\n",
              "      <td>5.0</td>\n",
              "      <td>Natural Stone, Other</td>\n",
              "      <td>0.0</td>\n",
              "      <td>3</td>\n",
              "    </tr>\n",
              "    <tr>\n",
              "      <th>2</th>\n",
              "      <td>3054672</td>\n",
              "      <td>4200000.0</td>\n",
              "      <td>85646</td>\n",
              "      <td>-111.040.707</td>\n",
              "      <td>31.594.844</td>\n",
              "      <td>1707.00</td>\n",
              "      <td>10482.00</td>\n",
              "      <td>1997</td>\n",
              "      <td>2</td>\n",
              "      <td>3.0</td>\n",
              "      <td>3512.0</td>\n",
              "      <td>3.0</td>\n",
              "      <td>Dishwasher, Garbage Disposal, Refrigerator</td>\n",
              "      <td>5.0</td>\n",
              "      <td>Natural Stone, Other: Rock</td>\n",
              "      <td>55.0</td>\n",
              "      <td>3</td>\n",
              "    </tr>\n",
              "    <tr>\n",
              "      <th>3</th>\n",
              "      <td>21919321</td>\n",
              "      <td>4500000.0</td>\n",
              "      <td>85646</td>\n",
              "      <td>-111.035.925</td>\n",
              "      <td>31.645.878</td>\n",
              "      <td>636.67</td>\n",
              "      <td>8418.58</td>\n",
              "      <td>1930</td>\n",
              "      <td>7</td>\n",
              "      <td>5.0</td>\n",
              "      <td>9019.0</td>\n",
              "      <td>4.0</td>\n",
              "      <td>Dishwasher, Double Sink, Pantry: Butler, Refri...</td>\n",
              "      <td>4.0</td>\n",
              "      <td>Ceramic Tile, Laminate, Wood</td>\n",
              "      <td>55.0</td>\n",
              "      <td>3</td>\n",
              "    </tr>\n",
              "    <tr>\n",
              "      <th>4</th>\n",
              "      <td>21306357</td>\n",
              "      <td>3411450.0</td>\n",
              "      <td>85750</td>\n",
              "      <td>-110.813.768</td>\n",
              "      <td>32.285.162</td>\n",
              "      <td>3.21</td>\n",
              "      <td>15393.00</td>\n",
              "      <td>1995</td>\n",
              "      <td>4</td>\n",
              "      <td>6.0</td>\n",
              "      <td>6396.0</td>\n",
              "      <td>3.0</td>\n",
              "      <td>Dishwasher, Garbage Disposal, Refrigerator, Mi...</td>\n",
              "      <td>5.0</td>\n",
              "      <td>Carpet, Concrete</td>\n",
              "      <td>55.0</td>\n",
              "      <td>3</td>\n",
              "    </tr>\n",
              "  </tbody>\n",
              "</table>\n",
              "</div>\n",
              "      <button class=\"colab-df-convert\" onclick=\"convertToInteractive('df-87114f61-59c5-41ff-9c8d-81a61897ad3e')\"\n",
              "              title=\"Convert this dataframe to an interactive table.\"\n",
              "              style=\"display:none;\">\n",
              "        \n",
              "  <svg xmlns=\"http://www.w3.org/2000/svg\" height=\"24px\"viewBox=\"0 0 24 24\"\n",
              "       width=\"24px\">\n",
              "    <path d=\"M0 0h24v24H0V0z\" fill=\"none\"/>\n",
              "    <path d=\"M18.56 5.44l.94 2.06.94-2.06 2.06-.94-2.06-.94-.94-2.06-.94 2.06-2.06.94zm-11 1L8.5 8.5l.94-2.06 2.06-.94-2.06-.94L8.5 2.5l-.94 2.06-2.06.94zm10 10l.94 2.06.94-2.06 2.06-.94-2.06-.94-.94-2.06-.94 2.06-2.06.94z\"/><path d=\"M17.41 7.96l-1.37-1.37c-.4-.4-.92-.59-1.43-.59-.52 0-1.04.2-1.43.59L10.3 9.45l-7.72 7.72c-.78.78-.78 2.05 0 2.83L4 21.41c.39.39.9.59 1.41.59.51 0 1.02-.2 1.41-.59l7.78-7.78 2.81-2.81c.8-.78.8-2.07 0-2.86zM5.41 20L4 18.59l7.72-7.72 1.47 1.35L5.41 20z\"/>\n",
              "  </svg>\n",
              "      </button>\n",
              "      \n",
              "  <style>\n",
              "    .colab-df-container {\n",
              "      display:flex;\n",
              "      flex-wrap:wrap;\n",
              "      gap: 12px;\n",
              "    }\n",
              "\n",
              "    .colab-df-convert {\n",
              "      background-color: #E8F0FE;\n",
              "      border: none;\n",
              "      border-radius: 50%;\n",
              "      cursor: pointer;\n",
              "      display: none;\n",
              "      fill: #1967D2;\n",
              "      height: 32px;\n",
              "      padding: 0 0 0 0;\n",
              "      width: 32px;\n",
              "    }\n",
              "\n",
              "    .colab-df-convert:hover {\n",
              "      background-color: #E2EBFA;\n",
              "      box-shadow: 0px 1px 2px rgba(60, 64, 67, 0.3), 0px 1px 3px 1px rgba(60, 64, 67, 0.15);\n",
              "      fill: #174EA6;\n",
              "    }\n",
              "\n",
              "    [theme=dark] .colab-df-convert {\n",
              "      background-color: #3B4455;\n",
              "      fill: #D2E3FC;\n",
              "    }\n",
              "\n",
              "    [theme=dark] .colab-df-convert:hover {\n",
              "      background-color: #434B5C;\n",
              "      box-shadow: 0px 1px 3px 1px rgba(0, 0, 0, 0.15);\n",
              "      filter: drop-shadow(0px 1px 2px rgba(0, 0, 0, 0.3));\n",
              "      fill: #FFFFFF;\n",
              "    }\n",
              "  </style>\n",
              "\n",
              "      <script>\n",
              "        const buttonEl =\n",
              "          document.querySelector('#df-87114f61-59c5-41ff-9c8d-81a61897ad3e button.colab-df-convert');\n",
              "        buttonEl.style.display =\n",
              "          google.colab.kernel.accessAllowed ? 'block' : 'none';\n",
              "\n",
              "        async function convertToInteractive(key) {\n",
              "          const element = document.querySelector('#df-87114f61-59c5-41ff-9c8d-81a61897ad3e');\n",
              "          const dataTable =\n",
              "            await google.colab.kernel.invokeFunction('convertToInteractive',\n",
              "                                                     [key], {});\n",
              "          if (!dataTable) return;\n",
              "\n",
              "          const docLinkHtml = 'Like what you see? Visit the ' +\n",
              "            '<a target=\"_blank\" href=https://colab.research.google.com/notebooks/data_table.ipynb>data table notebook</a>'\n",
              "            + ' to learn more about interactive tables.';\n",
              "          element.innerHTML = '';\n",
              "          dataTable['output_type'] = 'display_data';\n",
              "          await google.colab.output.renderOutput(dataTable, element);\n",
              "          const docLink = document.createElement('div');\n",
              "          docLink.innerHTML = docLinkHtml;\n",
              "          element.appendChild(docLink);\n",
              "        }\n",
              "      </script>\n",
              "    </div>\n",
              "  </div>\n",
              "  "
            ]
          },
          "metadata": {},
          "execution_count": 545
        }
      ]
    },
    {
      "cell_type": "code",
      "source": [
        "data['class_price'].value_counts()"
      ],
      "metadata": {
        "colab": {
          "base_uri": "https://localhost:8080/"
        },
        "id": "JAex3_ntTy0K",
        "outputId": "fe76d3be-1810-4c95-a82b-296d3c401a69"
      },
      "execution_count": 546,
      "outputs": [
        {
          "output_type": "execute_result",
          "data": {
            "text/plain": [
              "2    4775\n",
              "3     165\n",
              "1      59\n",
              "4       1\n",
              "Name: class_price, dtype: int64"
            ]
          },
          "metadata": {},
          "execution_count": 546
        }
      ]
    },
    {
      "cell_type": "code",
      "source": [
        "plt.scatter(data['sold_price'], data['year_built'])\n",
        "plt.xlabel('sold_price')\n",
        "plt.ylabel('year_built')\n",
        "plt.show()"
      ],
      "metadata": {
        "colab": {
          "base_uri": "https://localhost:8080/",
          "height": 280
        },
        "id": "vGx8PlnVLdct",
        "outputId": "b35e4ca5-eb95-4013-9c84-15615353d341"
      },
      "execution_count": 547,
      "outputs": [
        {
          "output_type": "display_data",
          "data": {
            "text/plain": [
              "<Figure size 432x288 with 1 Axes>"
            ],
            "image/png": "[encoded data removed]"
          },
          "metadata": {
            "needs_background": "light"
          }
        }
      ]
    },
    {
      "cell_type": "code",
      "source": [
        "data['year_built'].value_counts()"
      ],
      "metadata": {
        "colab": {
          "base_uri": "https://localhost:8080/"
        },
        "id": "c5uRHszGOK0D",
        "outputId": "cdfb618f-0986-4b08-e7a2-96f991e4c613"
      },
      "execution_count": 548,
      "outputs": [
        {
          "output_type": "execute_result",
          "data": {
            "text/plain": [
              "2006    247\n",
              "2007    236\n",
              "2002    235\n",
              "2005    230\n",
              "2004    202\n",
              "       ... \n",
              "1913      1\n",
              "1923      1\n",
              "1907      1\n",
              "1911      1\n",
              "1927      1\n",
              "Name: year_built, Length: 112, dtype: int64"
            ]
          },
          "metadata": {},
          "execution_count": 548
        }
      ]
    },
    {
      "cell_type": "code",
      "source": [
        "X= data[['sold_price', 'zipcode', 'bedrooms', 'bathrooms', 'sqrt_ft', 'class_price']].copy()"
      ],
      "metadata": {
        "id": "xrPuxG1WOXoF"
      },
      "execution_count": 549,
      "outputs": []
    },
    {
      "cell_type": "code",
      "source": [
        "X"
      ],
      "metadata": {
        "colab": {
          "base_uri": "https://localhost:8080/",
          "height": 424
        },
        "id": "Dv7ZtVNwpAvH",
        "outputId": "fc744b03-a4cd-4b85-dc99-3bf1e52365d8"
      },
      "execution_count": 550,
      "outputs": [
        {
          "output_type": "execute_result",
          "data": {
            "text/plain": [
              "      sold_price  zipcode  bedrooms  bathrooms  sqrt_ft  class_price\n",
              "0      5300000.0    85637        13       10.0  10500.0            4\n",
              "1      4200000.0    85646         2        2.0   7300.0            3\n",
              "2      4200000.0    85646         2        3.0   3512.0            3\n",
              "3      4500000.0    85646         7        5.0   9019.0            3\n",
              "4      3411450.0    85750         4        6.0   6396.0            3\n",
              "...          ...      ...       ...        ...      ...          ...\n",
              "4995    495000.0    85641         5        3.0   3601.0            1\n",
              "4996    550000.0    85750         4        3.0   2318.0            2\n",
              "4997    475000.0    85192         3        2.0   1772.0            1\n",
              "4998    550000.0    85745         4        4.0   3724.0            2\n",
              "4999    450000.0    85621         4        4.0   4317.0            1\n",
              "\n",
              "[5000 rows x 6 columns]"
            ],
            "text/html": [
              "\n",
              "  <div id=\"df-d5ea9149-b468-4087-91b1-295237fbfc10\">\n",
              "    <div class=\"colab-df-container\">\n",
              "      <div>\n",
              "<style scoped>\n",
              "    .dataframe tbody tr th:only-of-type {\n",
              "        vertical-align: middle;\n",
              "    }\n",
              "\n",
              "    .dataframe tbody tr th {\n",
              "        vertical-align: top;\n",
              "    }\n",
              "\n",
              "    .dataframe thead th {\n",
              "        text-align: right;\n",
              "    }\n",
              "</style>\n",
              "<table border=\"1\" class=\"dataframe\">\n",
              "  <thead>\n",
              "    <tr style=\"text-align: right;\">\n",
              "      <th></th>\n",
              "      <th>sold_price</th>\n",
              "      <th>zipcode</th>\n",
              "      <th>bedrooms</th>\n",
              "      <th>bathrooms</th>\n",
              "      <th>sqrt_ft</th>\n",
              "      <th>class_price</th>\n",
              "    </tr>\n",
              "  </thead>\n",
              "  <tbody>\n",
              "    <tr>\n",
              "      <th>0</th>\n",
              "      <td>5300000.0</td>\n",
              "      <td>85637</td>\n",
              "      <td>13</td>\n",
              "      <td>10.0</td>\n",
              "      <td>10500.0</td>\n",
              "      <td>4</td>\n",
              "    </tr>\n",
              "    <tr>\n",
              "      <th>1</th>\n",
              "      <td>4200000.0</td>\n",
              "      <td>85646</td>\n",
              "      <td>2</td>\n",
              "      <td>2.0</td>\n",
              "      <td>7300.0</td>\n",
              "      <td>3</td>\n",
              "    </tr>\n",
              "    <tr>\n",
              "      <th>2</th>\n",
              "      <td>4200000.0</td>\n",
              "      <td>85646</td>\n",
              "      <td>2</td>\n",
              "      <td>3.0</td>\n",
              "      <td>3512.0</td>\n",
              "      <td>3</td>\n",
              "    </tr>\n",
              "    <tr>\n",
              "      <th>3</th>\n",
              "      <td>4500000.0</td>\n",
              "      <td>85646</td>\n",
              "      <td>7</td>\n",
              "      <td>5.0</td>\n",
              "      <td>9019.0</td>\n",
              "      <td>3</td>\n",
              "    </tr>\n",
              "    <tr>\n",
              "      <th>4</th>\n",
              "      <td>3411450.0</td>\n",
              "      <td>85750</td>\n",
              "      <td>4</td>\n",
              "      <td>6.0</td>\n",
              "      <td>6396.0</td>\n",
              "      <td>3</td>\n",
              "    </tr>\n",
              "    <tr>\n",
              "      <th>...</th>\n",
              "      <td>...</td>\n",
              "      <td>...</td>\n",
              "      <td>...</td>\n",
              "      <td>...</td>\n",
              "      <td>...</td>\n",
              "      <td>...</td>\n",
              "    </tr>\n",
              "    <tr>\n",
              "      <th>4995</th>\n",
              "      <td>495000.0</td>\n",
              "      <td>85641</td>\n",
              "      <td>5</td>\n",
              "      <td>3.0</td>\n",
              "      <td>3601.0</td>\n",
              "      <td>1</td>\n",
              "    </tr>\n",
              "    <tr>\n",
              "      <th>4996</th>\n",
              "      <td>550000.0</td>\n",
              "      <td>85750</td>\n",
              "      <td>4</td>\n",
              "      <td>3.0</td>\n",
              "      <td>2318.0</td>\n",
              "      <td>2</td>\n",
              "    </tr>\n",
              "    <tr>\n",
              "      <th>4997</th>\n",
              "      <td>475000.0</td>\n",
              "      <td>85192</td>\n",
              "      <td>3</td>\n",
              "      <td>2.0</td>\n",
              "      <td>1772.0</td>\n",
              "      <td>1</td>\n",
              "    </tr>\n",
              "    <tr>\n",
              "      <th>4998</th>\n",
              "      <td>550000.0</td>\n",
              "      <td>85745</td>\n",
              "      <td>4</td>\n",
              "      <td>4.0</td>\n",
              "      <td>3724.0</td>\n",
              "      <td>2</td>\n",
              "    </tr>\n",
              "    <tr>\n",
              "      <th>4999</th>\n",
              "      <td>450000.0</td>\n",
              "      <td>85621</td>\n",
              "      <td>4</td>\n",
              "      <td>4.0</td>\n",
              "      <td>4317.0</td>\n",
              "      <td>1</td>\n",
              "    </tr>\n",
              "  </tbody>\n",
              "</table>\n",
              "<p>5000 rows × 6 columns</p>\n",
              "</div>\n",
              "      <button class=\"colab-df-convert\" onclick=\"convertToInteractive('df-d5ea9149-b468-4087-91b1-295237fbfc10')\"\n",
              "              title=\"Convert this dataframe to an interactive table.\"\n",
              "              style=\"display:none;\">\n",
              "        \n",
              "  <svg xmlns=\"http://www.w3.org/2000/svg\" height=\"24px\"viewBox=\"0 0 24 24\"\n",
              "       width=\"24px\">\n",
              "    <path d=\"M0 0h24v24H0V0z\" fill=\"none\"/>\n",
              "    <path d=\"M18.56 5.44l.94 2.06.94-2.06 2.06-.94-2.06-.94-.94-2.06-.94 2.06-2.06.94zm-11 1L8.5 8.5l.94-2.06 2.06-.94-2.06-.94L8.5 2.5l-.94 2.06-2.06.94zm10 10l.94 2.06.94-2.06 2.06-.94-2.06-.94-.94-2.06-.94 2.06-2.06.94z\"/><path d=\"M17.41 7.96l-1.37-1.37c-.4-.4-.92-.59-1.43-.59-.52 0-1.04.2-1.43.59L10.3 9.45l-7.72 7.72c-.78.78-.78 2.05 0 2.83L4 21.41c.39.39.9.59 1.41.59.51 0 1.02-.2 1.41-.59l7.78-7.78 2.81-2.81c.8-.78.8-2.07 0-2.86zM5.41 20L4 18.59l7.72-7.72 1.47 1.35L5.41 20z\"/>\n",
              "  </svg>\n",
              "      </button>\n",
              "      \n",
              "  <style>\n",
              "    .colab-df-container {\n",
              "      display:flex;\n",
              "      flex-wrap:wrap;\n",
              "      gap: 12px;\n",
              "    }\n",
              "\n",
              "    .colab-df-convert {\n",
              "      background-color: #E8F0FE;\n",
              "      border: none;\n",
              "      border-radius: 50%;\n",
              "      cursor: pointer;\n",
              "      display: none;\n",
              "      fill: #1967D2;\n",
              "      height: 32px;\n",
              "      padding: 0 0 0 0;\n",
              "      width: 32px;\n",
              "    }\n",
              "\n",
              "    .colab-df-convert:hover {\n",
              "      background-color: #E2EBFA;\n",
              "      box-shadow: 0px 1px 2px rgba(60, 64, 67, 0.3), 0px 1px 3px 1px rgba(60, 64, 67, 0.15);\n",
              "      fill: #174EA6;\n",
              "    }\n",
              "\n",
              "    [theme=dark] .colab-df-convert {\n",
              "      background-color: #3B4455;\n",
              "      fill: #D2E3FC;\n",
              "    }\n",
              "\n",
              "    [theme=dark] .colab-df-convert:hover {\n",
              "      background-color: #434B5C;\n",
              "      box-shadow: 0px 1px 3px 1px rgba(0, 0, 0, 0.15);\n",
              "      filter: drop-shadow(0px 1px 2px rgba(0, 0, 0, 0.3));\n",
              "      fill: #FFFFFF;\n",
              "    }\n",
              "  </style>\n",
              "\n",
              "      <script>\n",
              "        const buttonEl =\n",
              "          document.querySelector('#df-d5ea9149-b468-4087-91b1-295237fbfc10 button.colab-df-convert');\n",
              "        buttonEl.style.display =\n",
              "          google.colab.kernel.accessAllowed ? 'block' : 'none';\n",
              "\n",
              "        async function convertToInteractive(key) {\n",
              "          const element = document.querySelector('#df-d5ea9149-b468-4087-91b1-295237fbfc10');\n",
              "          const dataTable =\n",
              "            await google.colab.kernel.invokeFunction('convertToInteractive',\n",
              "                                                     [key], {});\n",
              "          if (!dataTable) return;\n",
              "\n",
              "          const docLinkHtml = 'Like what you see? Visit the ' +\n",
              "            '<a target=\"_blank\" href=https://colab.research.google.com/notebooks/data_table.ipynb>data table notebook</a>'\n",
              "            + ' to learn more about interactive tables.';\n",
              "          element.innerHTML = '';\n",
              "          dataTable['output_type'] = 'display_data';\n",
              "          await google.colab.output.renderOutput(dataTable, element);\n",
              "          const docLink = document.createElement('div');\n",
              "          docLink.innerHTML = docLinkHtml;\n",
              "          element.appendChild(docLink);\n",
              "        }\n",
              "      </script>\n",
              "    </div>\n",
              "  </div>\n",
              "  "
            ]
          },
          "metadata": {},
          "execution_count": 550
        }
      ]
    },
    {
      "cell_type": "code",
      "source": [
        "data['class_price'].describe()"
      ],
      "metadata": {
        "colab": {
          "base_uri": "https://localhost:8080/"
        },
        "id": "8TXqriT5z1Gb",
        "outputId": "debb368f-7af8-445d-9aff-9c12fb4447b4"
      },
      "execution_count": 551,
      "outputs": [
        {
          "output_type": "execute_result",
          "data": {
            "text/plain": [
              "count    5000.000000\n",
              "mean        2.021600\n",
              "std         0.212468\n",
              "min         1.000000\n",
              "25%         2.000000\n",
              "50%         2.000000\n",
              "75%         2.000000\n",
              "max         4.000000\n",
              "Name: class_price, dtype: float64"
            ]
          },
          "metadata": {},
          "execution_count": 551
        }
      ]
    },
    {
      "cell_type": "code",
      "source": [
        "data['class_price'].value_counts()"
      ],
      "metadata": {
        "colab": {
          "base_uri": "https://localhost:8080/"
        },
        "id": "4ZFoPqIE0DnS",
        "outputId": "cd9989de-eb50-4b59-eb2c-e94a029558c9"
      },
      "execution_count": 552,
      "outputs": [
        {
          "output_type": "execute_result",
          "data": {
            "text/plain": [
              "2    4775\n",
              "3     165\n",
              "1      59\n",
              "4       1\n",
              "Name: class_price, dtype: int64"
            ]
          },
          "metadata": {},
          "execution_count": 552
        }
      ]
    },
    {
      "cell_type": "code",
      "source": [
        "X = X.to_numpy()"
      ],
      "metadata": {
        "id": "GZ1BQBBEUbNy"
      },
      "execution_count": 553,
      "outputs": []
    },
    {
      "cell_type": "code",
      "source": [
        "X"
      ],
      "metadata": {
        "colab": {
          "base_uri": "https://localhost:8080/"
        },
        "id": "zRvD4536UmlV",
        "outputId": "3fef4cc1-ca3e-418a-f711-15d411a47ae7"
      },
      "execution_count": 554,
      "outputs": [
        {
          "output_type": "execute_result",
          "data": {
            "text/plain": [
              "array([[5.3000e+06, 8.5637e+04, 1.3000e+01, 1.0000e+01, 1.0500e+04,\n",
              "        4.0000e+00],\n",
              "       [4.2000e+06, 8.5646e+04, 2.0000e+00, 2.0000e+00, 7.3000e+03,\n",
              "        3.0000e+00],\n",
              "       [4.2000e+06, 8.5646e+04, 2.0000e+00, 3.0000e+00, 3.5120e+03,\n",
              "        3.0000e+00],\n",
              "       ...,\n",
              "       [4.7500e+05, 8.5192e+04, 3.0000e+00, 2.0000e+00, 1.7720e+03,\n",
              "        1.0000e+00],\n",
              "       [5.5000e+05, 8.5745e+04, 4.0000e+00, 4.0000e+00, 3.7240e+03,\n",
              "        2.0000e+00],\n",
              "       [4.5000e+05, 8.5621e+04, 4.0000e+00, 4.0000e+00, 4.3170e+03,\n",
              "        1.0000e+00]])"
            ]
          },
          "metadata": {},
          "execution_count": 554
        }
      ]
    },
    {
      "cell_type": "code",
      "source": [
        "X[:,0]"
      ],
      "metadata": {
        "colab": {
          "base_uri": "https://localhost:8080/"
        },
        "id": "AuNsCl8qVfL2",
        "outputId": "ab5270a7-92e3-4852-ee75-23620f52b9af"
      },
      "execution_count": 555,
      "outputs": [
        {
          "output_type": "execute_result",
          "data": {
            "text/plain": [
              "array([5300000., 4200000., 4200000., ...,  475000.,  550000.,  450000.])"
            ]
          },
          "metadata": {},
          "execution_count": 555
        }
      ]
    },
    {
      "cell_type": "code",
      "source": [
        "from sklearn.model_selection import train_test_split"
      ],
      "metadata": {
        "id": "pXoBBT97NkbZ"
      },
      "execution_count": 556,
      "outputs": []
    },
    {
      "cell_type": "code",
      "source": [
        "y=X[:,0]"
      ],
      "metadata": {
        "id": "LUKu5RboUugb"
      },
      "execution_count": 557,
      "outputs": []
    },
    {
      "cell_type": "code",
      "source": [
        "X=X[:,1:]"
      ],
      "metadata": {
        "id": "4IMISrPpVGVF"
      },
      "execution_count": 558,
      "outputs": []
    },
    {
      "cell_type": "code",
      "source": [
        "#y_test=X[:,0]"
      ],
      "metadata": {
        "id": "xZXJd0VGPD-d"
      },
      "execution_count": 559,
      "outputs": []
    },
    {
      "cell_type": "code",
      "source": [
        "#X_test=X[:,1:]"
      ],
      "metadata": {
        "id": "4YDn1kfcPZRs"
      },
      "execution_count": 560,
      "outputs": []
    },
    {
      "cell_type": "code",
      "source": [
        "X"
      ],
      "metadata": {
        "colab": {
          "base_uri": "https://localhost:8080/"
        },
        "id": "1Wh9854oVI0S",
        "outputId": "3fbb7969-84d1-410f-f8dd-ea8b36439467"
      },
      "execution_count": 561,
      "outputs": [
        {
          "output_type": "execute_result",
          "data": {
            "text/plain": [
              "array([[8.5637e+04, 1.3000e+01, 1.0000e+01, 1.0500e+04, 4.0000e+00],\n",
              "       [8.5646e+04, 2.0000e+00, 2.0000e+00, 7.3000e+03, 3.0000e+00],\n",
              "       [8.5646e+04, 2.0000e+00, 3.0000e+00, 3.5120e+03, 3.0000e+00],\n",
              "       ...,\n",
              "       [8.5192e+04, 3.0000e+00, 2.0000e+00, 1.7720e+03, 1.0000e+00],\n",
              "       [8.5745e+04, 4.0000e+00, 4.0000e+00, 3.7240e+03, 2.0000e+00],\n",
              "       [8.5621e+04, 4.0000e+00, 4.0000e+00, 4.3170e+03, 1.0000e+00]])"
            ]
          },
          "metadata": {},
          "execution_count": 561
        }
      ]
    },
    {
      "cell_type": "code",
      "source": [
        "y"
      ],
      "metadata": {
        "colab": {
          "base_uri": "https://localhost:8080/"
        },
        "id": "mE23b9zZr4k0",
        "outputId": "a1f771f4-a05c-497a-a78b-fcd70eb52fe7"
      },
      "execution_count": 562,
      "outputs": [
        {
          "output_type": "execute_result",
          "data": {
            "text/plain": [
              "array([5300000., 4200000., 4200000., ...,  475000.,  550000.,  450000.])"
            ]
          },
          "metadata": {},
          "execution_count": 562
        }
      ]
    },
    {
      "cell_type": "code",
      "source": [
        "#X_test"
      ],
      "metadata": {
        "id": "5caSmLyDQ3aW"
      },
      "execution_count": 563,
      "outputs": []
    },
    {
      "cell_type": "code",
      "source": [
        "#y_test"
      ],
      "metadata": {
        "id": "N2oS2QBNQ7oH"
      },
      "execution_count": 564,
      "outputs": []
    },
    {
      "cell_type": "code",
      "source": [
        "y.shape"
      ],
      "metadata": {
        "colab": {
          "base_uri": "https://localhost:8080/"
        },
        "id": "4kPaz-J0XQW1",
        "outputId": "84b15627-f82e-4212-f723-70aae7577ea4"
      },
      "execution_count": 565,
      "outputs": [
        {
          "output_type": "execute_result",
          "data": {
            "text/plain": [
              "(5000,)"
            ]
          },
          "metadata": {},
          "execution_count": 565
        }
      ]
    },
    {
      "cell_type": "code",
      "source": [
        "X.shape"
      ],
      "metadata": {
        "colab": {
          "base_uri": "https://localhost:8080/"
        },
        "id": "GoCxCAiOXW9m",
        "outputId": "88b7df4e-7148-4be0-b375-ef6f7a051da5"
      },
      "execution_count": 566,
      "outputs": [
        {
          "output_type": "execute_result",
          "data": {
            "text/plain": [
              "(5000, 5)"
            ]
          },
          "metadata": {},
          "execution_count": 566
        }
      ]
    },
    {
      "cell_type": "code",
      "source": [
        "#X_test.shape"
      ],
      "metadata": {
        "id": "Ix2QAMebS0Yl"
      },
      "execution_count": 567,
      "outputs": []
    },
    {
      "cell_type": "code",
      "source": [
        "#len(X_test)"
      ],
      "metadata": {
        "id": "_LyGdyNnScDA"
      },
      "execution_count": 568,
      "outputs": []
    },
    {
      "cell_type": "code",
      "source": [
        "SEED = 500\n",
        "X_train, X_test, y_train, y_test = train_test_split(X, y, test_size=0.1, random_state=SEED)"
      ],
      "metadata": {
        "id": "s52thZazTOch"
      },
      "execution_count": 569,
      "outputs": []
    },
    {
      "cell_type": "code",
      "source": [
        "len(X_test)"
      ],
      "metadata": {
        "colab": {
          "base_uri": "https://localhost:8080/"
        },
        "id": "tz5qKoIaTP7u",
        "outputId": "f95f60d5-5cf7-411d-df2f-230c0074a6af"
      },
      "execution_count": 570,
      "outputs": [
        {
          "output_type": "execute_result",
          "data": {
            "text/plain": [
              "500"
            ]
          },
          "metadata": {},
          "execution_count": 570
        }
      ]
    },
    {
      "cell_type": "markdown",
      "source": [
        "### KNN"
      ],
      "metadata": {
        "id": "pyYxn4WQTwOB"
      }
    },
    {
      "cell_type": "code",
      "source": [
        "class KNNClassifire():\n",
        "\n",
        "  def fit(self, X , y):\n",
        "    self.X=X\n",
        "    self.y=y.astype(int)\n",
        "\n",
        "  def predict(self, X, K, epsilon= 1e-3):\n",
        "\n",
        "    N=len(X)\n",
        "    y_hat = np.zeros(N)\n",
        "\n",
        "    for i in range(N):\n",
        "      dist2 = np.sum((self.X-X[i])**2, axis=1)\n",
        "      idxt = np.argsort(dist2)[:K]\n",
        "      gamma_k = 1/(np.sqrt(dist2[idxt]+epsilon))\n",
        "      y_hat[i] = np.bincount(self.y[idxt], weights = gamma_k).argmax()\n",
        "\n",
        "    return y_hat"
      ],
      "metadata": {
        "id": "v1DU6GDAPyId"
      },
      "execution_count": 571,
      "outputs": []
    },
    {
      "cell_type": "code",
      "source": [
        "def accuracy(y, y_hat):\n",
        "  return np.mean(y==y_hat)"
      ],
      "metadata": {
        "id": "kxZ6pOFJP2uF"
      },
      "execution_count": 572,
      "outputs": []
    },
    {
      "cell_type": "code",
      "source": [
        "knn = KNNClassifire()"
      ],
      "metadata": {
        "id": "sKX1tnGfP8jA"
      },
      "execution_count": 573,
      "outputs": []
    },
    {
      "cell_type": "code",
      "source": [
        "knn.fit(X, y)"
      ],
      "metadata": {
        "id": "6e7k9KPBP_rW"
      },
      "execution_count": 574,
      "outputs": []
    },
    {
      "cell_type": "code",
      "source": [
        "y_hatknn = knn.predict(X_test, 10)"
      ],
      "metadata": {
        "id": "1gluhpNgQFIp"
      },
      "execution_count": 575,
      "outputs": []
    },
    {
      "cell_type": "code",
      "source": [
        "accuracy(y_test, y_hatknn)"
      ],
      "metadata": {
        "colab": {
          "base_uri": "https://localhost:8080/"
        },
        "id": "htrZS-s9kRI8",
        "outputId": "bb4f4c18-12fe-432a-e01b-73d724ecd0a0"
      },
      "execution_count": 576,
      "outputs": [
        {
          "output_type": "execute_result",
          "data": {
            "text/plain": [
              "0.882"
            ]
          },
          "metadata": {},
          "execution_count": 576
        }
      ]
    },
    {
      "cell_type": "markdown",
      "source": [
        "### Simple Linear Regression"
      ],
      "metadata": {
        "id": "lLe1j4NgI9CE"
      }
    },
    {
      "cell_type": "code",
      "source": [
        "class SimpleLinearRegression():\n",
        "\n",
        "  def fit(self, X, y):\n",
        "    self.y = y\n",
        "\n",
        "    self.d = np.mean(X**2)-np.mean(X)**2\n",
        "    self.w0 = (np.mean(y)*np.mean(X**2)- np.mean(X)*np.mean(X*y))/self.d\n",
        "    self.w1 = (np.mean(X*y)-(np.mean(X)*np.mean(y)))/self.d\n",
        "\n",
        "  def predict(self, X,y=X[:,0], show=False):\n",
        "    \n",
        "    y_hat = self.w1*X +self.w0\n",
        "\n",
        "    if show:\n",
        "      plt.figure()\n",
        "      plt.scatter(X,y,s=8)\n",
        "      plt.plot(X,y_hat, color=\"#FF0070\")\n",
        "\n",
        "    return y_hat"
      ],
      "metadata": {
        "id": "9KwsTrZQI_Xl"
      },
      "execution_count": 577,
      "outputs": []
    },
    {
      "cell_type": "code",
      "source": [
        "def R2(Y, Y_hat):\n",
        "  return ( 1-(np.sum(Y-Y_hat)**2/np.sum((Y-np.mean(Y))**2)))"
      ],
      "metadata": {
        "id": "gJ3365n_KKrB"
      },
      "execution_count": 578,
      "outputs": []
    },
    {
      "cell_type": "code",
      "source": [
        "class MultipleLinearRegression():\n",
        "  \n",
        "  def fit(self, X, y):\n",
        "\n",
        "    self.W = np.linealg.solve(X.T@X, X.T@y)\n",
        "\n",
        "  def predict(self, X):\n",
        "\n",
        "    return np.matmul(X, self.W)"
      ],
      "metadata": {
        "id": "DyeBZvUSbe49"
      },
      "execution_count": 579,
      "outputs": []
    },
    {
      "cell_type": "markdown",
      "source": [
        "### OLS Regression with Gradient Decent"
      ],
      "metadata": {
        "id": "ztqkzU-DaU8X"
      }
    },
    {
      "cell_type": "code",
      "source": [
        "def OLS(Y, Y_hat, N):\n",
        "  return (1/(2^N)*np.sum((Y-Y_hat)**2))\n",
        "\n",
        "def R2(Y, Y_hat):\n",
        "  return (1-(np.sum((Y-Y_hat)**2)/np.sum((Y-np.mean(Y))**2)))\n"
      ],
      "metadata": {
        "id": "2JYgLeCwCWMX"
      },
      "execution_count": 580,
      "outputs": []
    },
    {
      "cell_type": "code",
      "source": [
        "class OurLinearRegression():\n",
        "\n",
        "  def fit(self, X, y, eta=1e-3, epochs =1e3, show_curve=False):\n",
        "\n",
        "    epochs = int(epochs)\n",
        "    N, D = X.shape\n",
        "    Y=y\n",
        "\n",
        "    #Stochastic Gradient Descent:\n",
        "    #Initialize the weights\n",
        "    self.W = np.random.randn(D)\n",
        "\n",
        "    J= np.zeros(epochs)\n",
        "\n",
        "    #Gradient Descent Step\n",
        "\n",
        "    for epoch in range(epochs):\n",
        "      Y_hat = self.predict(X)\n",
        "      J[epoch] = OLS(Y, Y_hat, N) # calculate erro/loss\n",
        "      # Weights update rule\n",
        "      self.W -= eta*(1/N)*(X.T@(Y_hat-Y))\n",
        "\n",
        "    if show_curve:\n",
        "      plt.figure()\n",
        "      plt.plot(J)\n",
        "      plt.xlabel(\"epochs\")\n",
        "      plt.ylabel(\"$\\mathcal{J}$\")\n",
        "      plt.title(\"Training Curve\")\n",
        "      plt.show()\n",
        "\n",
        "  def predict(self, X):\n",
        "    return X@self.W"
      ],
      "metadata": {
        "id": "wbPfufupiffT"
      },
      "execution_count": 581,
      "outputs": []
    },
    {
      "cell_type": "code",
      "source": [
        "myReg= OurLinearRegression()"
      ],
      "metadata": {
        "id": "2T-34ZOYlRaY"
      },
      "execution_count": 582,
      "outputs": []
    },
    {
      "cell_type": "code",
      "source": [
        "myReg.fit(X_test,y_test, epochs=1e3, eta=1e-12, show_curve=True)"
      ],
      "metadata": {
        "colab": {
          "base_uri": "https://localhost:8080/",
          "height": 295
        },
        "id": "zCiChC0RlaXc",
        "outputId": "7ba1f34f-3e03-4c3b-c2a6-5fffc10100c2"
      },
      "execution_count": 583,
      "outputs": [
        {
          "output_type": "display_data",
          "data": {
            "text/plain": [
              "<Figure size 432x288 with 1 Axes>"
            ],
            "image/png": "[encoded data removed]"
          },
          "metadata": {
            "needs_background": "light"
          }
        }
      ]
    },
    {
      "cell_type": "code",
      "source": [
        "Xtest = np.array([[X_test]])"
      ],
      "metadata": {
        "id": "GWWyMo7FlzlX"
      },
      "execution_count": 584,
      "outputs": []
    },
    {
      "cell_type": "code",
      "source": [
        "myReg.predict(Xtest)"
      ],
      "metadata": {
        "colab": {
          "base_uri": "https://localhost:8080/"
        },
        "id": "_ftrWGeLxPMz",
        "outputId": "183d6061-5c54-4156-d94f-6394e8f6c622"
      },
      "execution_count": 585,
      "outputs": [
        {
          "output_type": "execute_result",
          "data": {
            "text/plain": [
              "array([[[757060.222796  , 758177.17459713, 756883.90209443,\n",
              "         756968.82588025, 756997.85589925, 757592.37495618,\n",
              "         757708.30442776, 757303.25695983, 756577.64675278,\n",
              "         757753.97694458, 756632.84848286, 757913.5976292 ,\n",
              "         757412.38075716, 757081.16609501, 757149.0902054 ,\n",
              "         757147.51405449, 757140.84119606, 757112.87094132,\n",
              "         757864.58273131, 757155.35736985, 757895.59068683,\n",
              "         757246.25574041, 758234.91076601, 757710.8881601 ,\n",
              "         757715.57827301, 755814.08463161, 757545.6299884 ,\n",
              "         757172.58259467, 756259.72314427, 757282.04834369,\n",
              "         757622.45993044, 756901.37162451, 757044.60097089,\n",
              "         757421.0394727 , 756533.35381497, 757676.67798972,\n",
              "         756677.10767923, 758737.21032439, 756895.41716478,\n",
              "         757449.12665705, 757058.70853599, 756720.70694169,\n",
              "         756585.4267493 , 757373.48354041, 757740.91836727,\n",
              "         757634.08996137, 757505.33592352, 757655.02618162,\n",
              "         756758.99634854, 757314.25390108, 757485.63426204,\n",
              "         756997.04894696, 757196.69525396, 757254.64834205,\n",
              "         756969.48612866, 757882.037217  , 757366.52492533,\n",
              "         757816.2527914 , 757521.11073449, 757974.3994072 ,\n",
              "         755934.65222434, 757230.0885374 , 757246.38513014,\n",
              "         756872.80888966, 756901.32225254, 758249.82956724,\n",
              "         757018.51607094, 757665.06702182, 759242.44834143,\n",
              "         757663.32029501, 757254.64834205, 757496.38864049,\n",
              "         757767.0463572 , 757216.88097266, 756891.23889898,\n",
              "         757492.78833772, 756893.29114147, 758600.7843629 ,\n",
              "         757386.07226308, 756537.64922103, 757528.62630074,\n",
              "         756877.93543028, 757769.9029677 , 756223.46469858,\n",
              "         756764.84530009, 757239.0803834 , 758027.91889206,\n",
              "         757494.74383443, 756697.08886041, 756775.82127452,\n",
              "         757333.37224944, 757128.56686175, 757734.08628602,\n",
              "         757376.48290139, 758574.68846631, 757318.5649827 ,\n",
              "         757771.51344618, 756291.98267199, 757224.06710615,\n",
              "         757689.38532564, 756221.49615563, 757354.14760829,\n",
              "         756922.16341065, 757747.89710735, 756291.57122333,\n",
              "         756824.00766717, 757743.96056254, 757015.29654193,\n",
              "         757402.05167039, 758029.84317278, 758023.64926183,\n",
              "         757095.81250035, 757252.89342945, 757543.98117012,\n",
              "         757442.43900991, 757211.83644795, 757194.72444125,\n",
              "         757754.65023923, 757457.11207793, 757377.93959723,\n",
              "         757410.94904037, 762550.80220937, 755969.72468645,\n",
              "         758061.97072649, 757444.91574731, 757734.62311218,\n",
              "         757921.01813329, 756963.50980147, 756811.78946907,\n",
              "         757770.08172939, 757252.52290487, 756035.10113452,\n",
              "         757711.38891623, 758096.42974166, 756942.23822603,\n",
              "         757232.10164331, 756346.10278412, 756762.68463469,\n",
              "         756986.96870498, 756625.51850138, 757155.12468289,\n",
              "         756771.05225728, 756990.07733069, 757427.52422091,\n",
              "         757342.71054162, 757146.41008682, 757740.49530032,\n",
              "         757395.66906309, 757192.81885759, 756944.26834537,\n",
              "         756933.74264167, 757265.7772573 , 757101.36677967,\n",
              "         757982.46881303, 756979.92046793, 757414.02155099,\n",
              "         757302.75187697, 756223.46469858, 757931.55461347,\n",
              "         757246.97815134, 757197.65029304, 756707.46504938,\n",
              "         757130.81002532, 757257.77482299, 757207.9444661 ,\n",
              "         757596.33421027, 756588.12334021, 756846.07853   ,\n",
              "         758135.41916467, 757616.25835459, 757093.992886  ,\n",
              "         757311.34109554, 757540.85695894, 756815.02204433,\n",
              "         758094.81926318, 757084.07182179, 756766.33716532,\n",
              "         757164.97339423, 757283.06807073, 758121.99784611,\n",
              "         758466.95613576, 757657.28581752, 759422.01204469,\n",
              "         756455.69358019, 757863.84754576, 756807.29409841,\n",
              "         757101.46334819, 757753.14902547, 757037.05498543,\n",
              "         757472.43885668, 757426.9071213 , 756887.96401674,\n",
              "         757120.52608764, 757721.73928433, 757515.58018353,\n",
              "         756869.32350243, 757351.72843506, 757071.36818358,\n",
              "         757408.86812112, 758670.57176374, 757416.36721503,\n",
              "         757766.01980708, 757282.94407614, 757435.6929568 ,\n",
              "         757560.27095357, 756791.148354  , 757208.67790919,\n",
              "         757727.49370104, 757054.31770823, 756766.28329887,\n",
              "         756625.51850138, 757214.46448757, 757113.50900776,\n",
              "         757009.31794497, 757325.77298366, 757301.73214993,\n",
              "         756993.92874801, 757532.09383273, 757806.65995858,\n",
              "         757070.17675983, 757257.56341736, 757151.67759042,\n",
              "         757089.01368043, 757233.37191257, 756881.99651077,\n",
              "         757326.77966446, 757069.41125893, 756103.39025592,\n",
              "         757765.43360895, 758253.16285546, 757091.22932357,\n",
              "         757206.53060455, 757261.91733326, 757993.37332145,\n",
              "         757236.33383439, 756971.23845698, 757860.20610612,\n",
              "         757575.33017668, 756946.85741402, 757232.80699578,\n",
              "         757219.26999828, 757477.25243688, 756605.21923413,\n",
              "         756789.42069021, 757502.31683262, 757984.70694102,\n",
              "         757580.32305966, 757357.22507682, 756704.14333441,\n",
              "         757740.41359892, 756774.66333652, 758121.17059155,\n",
              "         757244.79593299, 756491.44383144, 756221.08470697,\n",
              "         757294.45776358, 756891.23889898, 757244.2262072 ,\n",
              "         756857.35187936, 757546.74473255, 757009.85561295,\n",
              "         757041.1186502 , 758685.25854255, 758017.69505779,\n",
              "         759293.53787658, 756362.23196185, 757326.66020939,\n",
              "         757847.97687586, 757091.64980624, 757159.59871841,\n",
              "         757504.93938703, 757298.14911627, 757093.60049395,\n",
              "         757816.30270446, 758806.45174159, 757221.27064409,\n",
              "         756950.54654199, 756486.82487954, 755950.48629689,\n",
              "         757353.65530005, 757108.91025928, 757155.35736985,\n",
              "         756175.00051491, 756835.58372778, 756847.63963651,\n",
              "         757097.26380106, 757003.57598838, 757492.45747702,\n",
              "         757081.99094758, 757290.47126067, 757356.3720748 ,\n",
              "         757340.77147221, 757254.64834205, 757377.15619604,\n",
              "         757626.08040325, 757908.2786161 , 757716.45841999,\n",
              "         756891.30131719, 757370.9358781 , 757563.68060688,\n",
              "         757165.32437993, 756941.87931974, 757019.05432505,\n",
              "         757735.54609344, 757409.16687896, 757315.21606396,\n",
              "         755969.6880891 , 756875.30178488, 757089.1163465 ,\n",
              "         756262.26595254, 756890.88083451, 756824.50224517,\n",
              "         757716.11509918, 756293.17266779, 757539.60454493,\n",
              "         756291.98267199, 757817.26001329, 756937.28960529,\n",
              "         757305.82474715, 755400.18645793, 756935.72849877,\n",
              "         756672.39258727, 757537.99807867, 757873.51442887,\n",
              "         756327.61372386, 758800.13934085, 757278.46531003,\n",
              "         757458.30207374, 757720.54928853, 757589.78218981,\n",
              "         757077.18982749, 757214.82873017, 757416.74486341,\n",
              "         757698.10473071, 755570.78083343, 759615.98559134,\n",
              "         757739.53656353, 756174.38732366, 756549.82601278,\n",
              "         758152.45262659, 757085.99045169, 757276.85884378,\n",
              "         756969.14111043, 758673.61395901, 756626.70849719,\n",
              "         757154.16737405, 757480.35705036, 758590.3520377 ,\n",
              "         757293.88883457, 757153.38481468, 757472.27967891,\n",
              "         757159.4817692 , 756877.25955135, 757938.10831757,\n",
              "         757334.2952307 , 757852.29165519, 757483.24181032,\n",
              "         757623.24417344, 757609.28669327, 756614.29901847,\n",
              "         757991.85790512, 758380.88518842, 756713.45051445,\n",
              "         756634.66952516, 757114.55858167, 757426.95306717,\n",
              "         757801.69205464, 756921.20610181, 757212.32336105,\n",
              "         756601.24498068, 757011.31003902, 756634.27792988,\n",
              "         756934.54389809, 757939.01625444, 757710.09055635,\n",
              "         757697.43143606, 757499.1351895 , 757194.00969521,\n",
              "         756681.93911467, 757558.07200719, 755930.35761505,\n",
              "         756276.76025887, 757558.63919375, 756505.43885463,\n",
              "         755727.07511754, 756863.38635685, 756792.93274013,\n",
              "         757823.70192722, 756741.73278392, 757544.61929537,\n",
              "         757014.3281421 , 757115.07354037, 757264.3954986 ,\n",
              "         758569.66215639, 757083.71375732, 757508.71436084,\n",
              "         756867.68096614, 757264.92770681, 757510.59496545,\n",
              "         756425.93551323, 757075.12453876, 756313.7919154 ,\n",
              "         756743.13729694, 757399.43535292, 757357.23432148,\n",
              "         757014.88767754, 758817.54177595, 756148.51074824,\n",
              "         757088.13775633, 757720.59697686, 756889.69083871,\n",
              "         757048.85438448, 757667.06645984, 756832.47203553,\n",
              "         757380.52925201, 757712.38145328, 756732.51711722,\n",
              "         756621.00393471, 757168.67414049, 756765.71605349,\n",
              "         756753.87382015, 756844.60452001, 757359.59303176,\n",
              "         756932.74926279, 757562.80441331, 756994.37193997,\n",
              "         757430.78662925, 757274.48593093, 757614.8578538 ,\n",
              "         757180.29255313, 757824.25887838, 757003.22416085,\n",
              "         757578.03443249, 757826.69019721, 756850.48948276,\n",
              "         756668.09797798, 757266.65513451, 757373.13087107,\n",
              "         756771.65156047, 757910.35480477, 756291.89838631,\n",
              "         757250.86557988, 757057.26484135, 757337.39984418,\n",
              "         757285.78341753, 755666.03000831, 757449.33747655,\n",
              "         756953.98058822, 757292.48209683, 757011.31003902,\n",
              "         757502.5800122 , 757014.2345079 , 757560.08595493,\n",
              "         757011.72913879, 757254.64834205, 756321.6033836 ,\n",
              "         756792.75799066, 757523.38742886, 756948.04740983,\n",
              "         756857.59988234, 759012.80674097, 757066.42298893,\n",
              "         756803.37817038, 757361.4517689 , 756474.58463672,\n",
              "         756229.51955676, 756614.65708294, 757637.68402719,\n",
              "         756854.36556462, 756905.08003567, 756771.65156047,\n",
              "         757361.14055094, 757154.16737405, 757397.99878209,\n",
              "         758070.84084766, 757606.20531638, 756906.0784008 ,\n",
              "         757347.71588471, 757537.57358377, 757041.48325235,\n",
              "         756647.06669558, 757248.09008464, 757079.45347562,\n",
              "         757370.62064792, 756213.41477196, 757275.39502413,\n",
              "         756882.69905238, 757593.32148854, 757007.61383229,\n",
              "         756382.32690223, 757360.63404014, 756359.43148756,\n",
              "         757601.22260415, 758176.55114214, 759191.01120377,\n",
              "         757259.67639442, 757625.85880727, 757183.30976935,\n",
              "         756212.5738066 , 757215.54431802]]])"
            ]
          },
          "metadata": {},
          "execution_count": 585
        }
      ]
    },
    {
      "cell_type": "code",
      "source": [
        "y_hatols=myReg.predict(X_test)"
      ],
      "metadata": {
        "id": "AeS8_02402lG"
      },
      "execution_count": 586,
      "outputs": []
    },
    {
      "cell_type": "code",
      "source": [
        "R2(y_test,y_hatols)"
      ],
      "metadata": {
        "colab": {
          "base_uri": "https://localhost:8080/"
        },
        "id": "SpdEssoBLXp4",
        "outputId": "ee86d9b3-2401-427f-9f8b-ef376adb9e11"
      },
      "execution_count": 587,
      "outputs": [
        {
          "output_type": "execute_result",
          "data": {
            "text/plain": [
              "0.001925213392468872"
            ]
          },
          "metadata": {},
          "execution_count": 587
        }
      ]
    },
    {
      "cell_type": "code",
      "source": [],
      "metadata": {
        "id": "9Rjy64lXLiHc"
      },
      "execution_count": 587,
      "outputs": []
    }
  ]
}