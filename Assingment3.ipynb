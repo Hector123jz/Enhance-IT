{
  "nbformat": 4,
  "nbformat_minor": 0,
  "metadata": {
    "colab": {
      "name": "Assingment3.ipynb",
      "provenance": []
    },
    "kernelspec": {
      "name": "python3",
      "display_name": "Python 3"
    },
    "language_info": {
      "name": "python"
    }
  },
  "cells": [
    {
      "cell_type": "code",
      "execution_count": 343,
      "metadata": {
        "id": "bS26FCZ8tUEE"
      },
      "outputs": [],
      "source": [
        "import numpy as np\n",
        "import pandas as pd\n",
        "import matplotlib.pyplot as plt\n",
        "import seaborn as sns\n",
        "from scipy.stats import multivariate_normal as mvn"
      ]
    },
    {
      "cell_type": "code",
      "source": [
        "data = pd.read_csv('/content/drive/MyDrive/raw_house_data.csv .csv')"
      ],
      "metadata": {
        "id": "WEdzFEDitedb"
      },
      "execution_count": 344,
      "outputs": []
    },
    {
      "cell_type": "code",
      "source": [
        "data.head()"
      ],
      "metadata": {
        "colab": {
          "base_uri": "https://localhost:8080/",
          "height": 320
        },
        "id": "z4QBZ8qJtz8-",
        "outputId": "0198f29b-8ad2-4622-ed30-32d7fefad7a0"
      },
      "execution_count": 345,
      "outputs": [
        {
          "output_type": "execute_result",
          "data": {
            "text/plain": [
              "        MLS  sold_price  zipcode     longitude    latitude  lot_acres  \\\n",
              "0  21530491   5300000.0    85637    -1.103.782  31.356.362    2154.00   \n",
              "1  21529082   4200000.0    85646  -111.045.371  31.594.213    1707.00   \n",
              "2   3054672   4200000.0    85646  -111.040.707  31.594.844    1707.00   \n",
              "3  21919321   4500000.0    85646  -111.035.925  31.645.878     636.67   \n",
              "4  21306357   3411450.0    85750  -110.813.768  32.285.162       3.21   \n",
              "\n",
              "      taxes  year_built  bedrooms bathrooms sqrt_ft garage  \\\n",
              "0   5272.00        1941        13        10   10500      0   \n",
              "1  10422.36        1997         2         2    7300      0   \n",
              "2  10482.00        1997         2         3    None   None   \n",
              "3   8418.58        1930         7         5    9019      4   \n",
              "4  15393.00        1995         4         6    6396      3   \n",
              "\n",
              "                                    kitchen_features  fireplaces  \\\n",
              "0            Dishwasher, Freezer, Refrigerator, Oven         6.0   \n",
              "1                       Dishwasher, Garbage Disposal         5.0   \n",
              "2         Dishwasher, Garbage Disposal, Refrigerator         5.0   \n",
              "3  Dishwasher, Double Sink, Pantry: Butler, Refri...         4.0   \n",
              "4  Dishwasher, Garbage Disposal, Refrigerator, Mi...         5.0   \n",
              "\n",
              "                 floor_covering   HOA  \n",
              "0            Mexican Tile, Wood     0  \n",
              "1          Natural Stone, Other     0  \n",
              "2    Natural Stone, Other: Rock  None  \n",
              "3  Ceramic Tile, Laminate, Wood  None  \n",
              "4              Carpet, Concrete    55  "
            ],
            "text/html": [
              "\n",
              "  <div id=\"df-141c92cf-22b4-4150-9d3f-52365763e9f5\">\n",
              "    <div class=\"colab-df-container\">\n",
              "      <div>\n",
              "<style scoped>\n",
              "    .dataframe tbody tr th:only-of-type {\n",
              "        vertical-align: middle;\n",
              "    }\n",
              "\n",
              "    .dataframe tbody tr th {\n",
              "        vertical-align: top;\n",
              "    }\n",
              "\n",
              "    .dataframe thead th {\n",
              "        text-align: right;\n",
              "    }\n",
              "</style>\n",
              "<table border=\"1\" class=\"dataframe\">\n",
              "  <thead>\n",
              "    <tr style=\"text-align: right;\">\n",
              "      <th></th>\n",
              "      <th>MLS</th>\n",
              "      <th>sold_price</th>\n",
              "      <th>zipcode</th>\n",
              "      <th>longitude</th>\n",
              "      <th>latitude</th>\n",
              "      <th>lot_acres</th>\n",
              "      <th>taxes</th>\n",
              "      <th>year_built</th>\n",
              "      <th>bedrooms</th>\n",
              "      <th>bathrooms</th>\n",
              "      <th>sqrt_ft</th>\n",
              "      <th>garage</th>\n",
              "      <th>kitchen_features</th>\n",
              "      <th>fireplaces</th>\n",
              "      <th>floor_covering</th>\n",
              "      <th>HOA</th>\n",
              "    </tr>\n",
              "  </thead>\n",
              "  <tbody>\n",
              "    <tr>\n",
              "      <th>0</th>\n",
              "      <td>21530491</td>\n",
              "      <td>5300000.0</td>\n",
              "      <td>85637</td>\n",
              "      <td>-1.103.782</td>\n",
              "      <td>31.356.362</td>\n",
              "      <td>2154.00</td>\n",
              "      <td>5272.00</td>\n",
              "      <td>1941</td>\n",
              "      <td>13</td>\n",
              "      <td>10</td>\n",
              "      <td>10500</td>\n",
              "      <td>0</td>\n",
              "      <td>Dishwasher, Freezer, Refrigerator, Oven</td>\n",
              "      <td>6.0</td>\n",
              "      <td>Mexican Tile, Wood</td>\n",
              "      <td>0</td>\n",
              "    </tr>\n",
              "    <tr>\n",
              "      <th>1</th>\n",
              "      <td>21529082</td>\n",
              "      <td>4200000.0</td>\n",
              "      <td>85646</td>\n",
              "      <td>-111.045.371</td>\n",
              "      <td>31.594.213</td>\n",
              "      <td>1707.00</td>\n",
              "      <td>10422.36</td>\n",
              "      <td>1997</td>\n",
              "      <td>2</td>\n",
              "      <td>2</td>\n",
              "      <td>7300</td>\n",
              "      <td>0</td>\n",
              "      <td>Dishwasher, Garbage Disposal</td>\n",
              "      <td>5.0</td>\n",
              "      <td>Natural Stone, Other</td>\n",
              "      <td>0</td>\n",
              "    </tr>\n",
              "    <tr>\n",
              "      <th>2</th>\n",
              "      <td>3054672</td>\n",
              "      <td>4200000.0</td>\n",
              "      <td>85646</td>\n",
              "      <td>-111.040.707</td>\n",
              "      <td>31.594.844</td>\n",
              "      <td>1707.00</td>\n",
              "      <td>10482.00</td>\n",
              "      <td>1997</td>\n",
              "      <td>2</td>\n",
              "      <td>3</td>\n",
              "      <td>None</td>\n",
              "      <td>None</td>\n",
              "      <td>Dishwasher, Garbage Disposal, Refrigerator</td>\n",
              "      <td>5.0</td>\n",
              "      <td>Natural Stone, Other: Rock</td>\n",
              "      <td>None</td>\n",
              "    </tr>\n",
              "    <tr>\n",
              "      <th>3</th>\n",
              "      <td>21919321</td>\n",
              "      <td>4500000.0</td>\n",
              "      <td>85646</td>\n",
              "      <td>-111.035.925</td>\n",
              "      <td>31.645.878</td>\n",
              "      <td>636.67</td>\n",
              "      <td>8418.58</td>\n",
              "      <td>1930</td>\n",
              "      <td>7</td>\n",
              "      <td>5</td>\n",
              "      <td>9019</td>\n",
              "      <td>4</td>\n",
              "      <td>Dishwasher, Double Sink, Pantry: Butler, Refri...</td>\n",
              "      <td>4.0</td>\n",
              "      <td>Ceramic Tile, Laminate, Wood</td>\n",
              "      <td>None</td>\n",
              "    </tr>\n",
              "    <tr>\n",
              "      <th>4</th>\n",
              "      <td>21306357</td>\n",
              "      <td>3411450.0</td>\n",
              "      <td>85750</td>\n",
              "      <td>-110.813.768</td>\n",
              "      <td>32.285.162</td>\n",
              "      <td>3.21</td>\n",
              "      <td>15393.00</td>\n",
              "      <td>1995</td>\n",
              "      <td>4</td>\n",
              "      <td>6</td>\n",
              "      <td>6396</td>\n",
              "      <td>3</td>\n",
              "      <td>Dishwasher, Garbage Disposal, Refrigerator, Mi...</td>\n",
              "      <td>5.0</td>\n",
              "      <td>Carpet, Concrete</td>\n",
              "      <td>55</td>\n",
              "    </tr>\n",
              "  </tbody>\n",
              "</table>\n",
              "</div>\n",
              "      <button class=\"colab-df-convert\" onclick=\"convertToInteractive('df-141c92cf-22b4-4150-9d3f-52365763e9f5')\"\n",
              "              title=\"Convert this dataframe to an interactive table.\"\n",
              "              style=\"display:none;\">\n",
              "        \n",
              "  <svg xmlns=\"http://www.w3.org/2000/svg\" height=\"24px\"viewBox=\"0 0 24 24\"\n",
              "       width=\"24px\">\n",
              "    <path d=\"M0 0h24v24H0V0z\" fill=\"none\"/>\n",
              "    <path d=\"M18.56 5.44l.94 2.06.94-2.06 2.06-.94-2.06-.94-.94-2.06-.94 2.06-2.06.94zm-11 1L8.5 8.5l.94-2.06 2.06-.94-2.06-.94L8.5 2.5l-.94 2.06-2.06.94zm10 10l.94 2.06.94-2.06 2.06-.94-2.06-.94-.94-2.06-.94 2.06-2.06.94z\"/><path d=\"M17.41 7.96l-1.37-1.37c-.4-.4-.92-.59-1.43-.59-.52 0-1.04.2-1.43.59L10.3 9.45l-7.72 7.72c-.78.78-.78 2.05 0 2.83L4 21.41c.39.39.9.59 1.41.59.51 0 1.02-.2 1.41-.59l7.78-7.78 2.81-2.81c.8-.78.8-2.07 0-2.86zM5.41 20L4 18.59l7.72-7.72 1.47 1.35L5.41 20z\"/>\n",
              "  </svg>\n",
              "      </button>\n",
              "      \n",
              "  <style>\n",
              "    .colab-df-container {\n",
              "      display:flex;\n",
              "      flex-wrap:wrap;\n",
              "      gap: 12px;\n",
              "    }\n",
              "\n",
              "    .colab-df-convert {\n",
              "      background-color: #E8F0FE;\n",
              "      border: none;\n",
              "      border-radius: 50%;\n",
              "      cursor: pointer;\n",
              "      display: none;\n",
              "      fill: #1967D2;\n",
              "      height: 32px;\n",
              "      padding: 0 0 0 0;\n",
              "      width: 32px;\n",
              "    }\n",
              "\n",
              "    .colab-df-convert:hover {\n",
              "      background-color: #E2EBFA;\n",
              "      box-shadow: 0px 1px 2px rgba(60, 64, 67, 0.3), 0px 1px 3px 1px rgba(60, 64, 67, 0.15);\n",
              "      fill: #174EA6;\n",
              "    }\n",
              "\n",
              "    [theme=dark] .colab-df-convert {\n",
              "      background-color: #3B4455;\n",
              "      fill: #D2E3FC;\n",
              "    }\n",
              "\n",
              "    [theme=dark] .colab-df-convert:hover {\n",
              "      background-color: #434B5C;\n",
              "      box-shadow: 0px 1px 3px 1px rgba(0, 0, 0, 0.15);\n",
              "      filter: drop-shadow(0px 1px 2px rgba(0, 0, 0, 0.3));\n",
              "      fill: #FFFFFF;\n",
              "    }\n",
              "  </style>\n",
              "\n",
              "      <script>\n",
              "        const buttonEl =\n",
              "          document.querySelector('#df-141c92cf-22b4-4150-9d3f-52365763e9f5 button.colab-df-convert');\n",
              "        buttonEl.style.display =\n",
              "          google.colab.kernel.accessAllowed ? 'block' : 'none';\n",
              "\n",
              "        async function convertToInteractive(key) {\n",
              "          const element = document.querySelector('#df-141c92cf-22b4-4150-9d3f-52365763e9f5');\n",
              "          const dataTable =\n",
              "            await google.colab.kernel.invokeFunction('convertToInteractive',\n",
              "                                                     [key], {});\n",
              "          if (!dataTable) return;\n",
              "\n",
              "          const docLinkHtml = 'Like what you see? Visit the ' +\n",
              "            '<a target=\"_blank\" href=https://colab.research.google.com/notebooks/data_table.ipynb>data table notebook</a>'\n",
              "            + ' to learn more about interactive tables.';\n",
              "          element.innerHTML = '';\n",
              "          dataTable['output_type'] = 'display_data';\n",
              "          await google.colab.output.renderOutput(dataTable, element);\n",
              "          const docLink = document.createElement('div');\n",
              "          docLink.innerHTML = docLinkHtml;\n",
              "          element.appendChild(docLink);\n",
              "        }\n",
              "      </script>\n",
              "    </div>\n",
              "  </div>\n",
              "  "
            ]
          },
          "metadata": {},
          "execution_count": 345
        }
      ]
    },
    {
      "cell_type": "code",
      "source": [
        "data.shape"
      ],
      "metadata": {
        "colab": {
          "base_uri": "https://localhost:8080/",
          "height": 0
        },
        "id": "yjNSSKJMuBcs",
        "outputId": "8cf8f3e2-8704-4b26-8011-f7f378ef5ab3"
      },
      "execution_count": 346,
      "outputs": [
        {
          "output_type": "execute_result",
          "data": {
            "text/plain": [
              "(5000, 16)"
            ]
          },
          "metadata": {},
          "execution_count": 346
        }
      ]
    },
    {
      "cell_type": "code",
      "source": [
        "data.columns"
      ],
      "metadata": {
        "colab": {
          "base_uri": "https://localhost:8080/",
          "height": 0
        },
        "id": "RQJNNuDcuWmj",
        "outputId": "f7ffc14d-9d97-49cb-b462-1893439ba5ee"
      },
      "execution_count": 347,
      "outputs": [
        {
          "output_type": "execute_result",
          "data": {
            "text/plain": [
              "Index(['MLS', 'sold_price', 'zipcode', 'longitude', 'latitude', 'lot_acres',\n",
              "       'taxes', 'year_built', 'bedrooms', 'bathrooms', 'sqrt_ft', 'garage',\n",
              "       'kitchen_features', 'fireplaces', 'floor_covering', 'HOA'],\n",
              "      dtype='object')"
            ]
          },
          "metadata": {},
          "execution_count": 347
        }
      ]
    },
    {
      "cell_type": "code",
      "source": [
        "data.dtypes"
      ],
      "metadata": {
        "colab": {
          "base_uri": "https://localhost:8080/",
          "height": 0
        },
        "id": "9R8R88-KxKR6",
        "outputId": "92ada64d-c9b6-4b07-e600-c4227e999a35"
      },
      "execution_count": 348,
      "outputs": [
        {
          "output_type": "execute_result",
          "data": {
            "text/plain": [
              "MLS                   int64\n",
              "sold_price          float64\n",
              "zipcode               int64\n",
              "longitude            object\n",
              "latitude             object\n",
              "lot_acres           float64\n",
              "taxes               float64\n",
              "year_built            int64\n",
              "bedrooms              int64\n",
              "bathrooms            object\n",
              "sqrt_ft              object\n",
              "garage               object\n",
              "kitchen_features     object\n",
              "fireplaces          float64\n",
              "floor_covering       object\n",
              "HOA                  object\n",
              "dtype: object"
            ]
          },
          "metadata": {},
          "execution_count": 348
        }
      ]
    },
    {
      "cell_type": "code",
      "source": [
        "data.describe()"
      ],
      "metadata": {
        "colab": {
          "base_uri": "https://localhost:8080/",
          "height": 300
        },
        "id": "VusJDlOdKBsC",
        "outputId": "b0e93080-115b-486e-f5e5-d5c77db98cb4"
      },
      "execution_count": 349,
      "outputs": [
        {
          "output_type": "execute_result",
          "data": {
            "text/plain": [
              "                MLS    sold_price       zipcode    lot_acres         taxes  \\\n",
              "count  5.000000e+03  5.000000e+03   5000.000000  4990.000000  5.000000e+03   \n",
              "mean   2.127070e+07  7.746262e+05  85723.025600     4.661317  9.402828e+03   \n",
              "std    2.398508e+06  3.185556e+05     38.061712    51.685230  1.729385e+05   \n",
              "min    3.042851e+06  1.690000e+05  85118.000000     0.000000  0.000000e+00   \n",
              "25%    2.140718e+07  5.850000e+05  85718.000000     0.580000  4.803605e+03   \n",
              "50%    2.161469e+07  6.750000e+05  85737.000000     0.990000  6.223760e+03   \n",
              "75%    2.180480e+07  8.350000e+05  85749.000000     1.757500  8.082830e+03   \n",
              "max    2.192856e+07  5.300000e+06  86323.000000  2154.000000  1.221508e+07   \n",
              "\n",
              "       year_built     bedrooms   fireplaces  \n",
              "count  5000.00000  5000.000000  4975.000000  \n",
              "mean   1992.32800     3.933800     1.885226  \n",
              "std      65.48614     1.245362     1.136578  \n",
              "min       0.00000     1.000000     0.000000  \n",
              "25%    1987.00000     3.000000     1.000000  \n",
              "50%    1999.00000     4.000000     2.000000  \n",
              "75%    2006.00000     4.000000     3.000000  \n",
              "max    2019.00000    36.000000     9.000000  "
            ],
            "text/html": [
              "\n",
              "  <div id=\"df-ca3d1cb6-d03e-47e0-809d-c162992959da\">\n",
              "    <div class=\"colab-df-container\">\n",
              "      <div>\n",
              "<style scoped>\n",
              "    .dataframe tbody tr th:only-of-type {\n",
              "        vertical-align: middle;\n",
              "    }\n",
              "\n",
              "    .dataframe tbody tr th {\n",
              "        vertical-align: top;\n",
              "    }\n",
              "\n",
              "    .dataframe thead th {\n",
              "        text-align: right;\n",
              "    }\n",
              "</style>\n",
              "<table border=\"1\" class=\"dataframe\">\n",
              "  <thead>\n",
              "    <tr style=\"text-align: right;\">\n",
              "      <th></th>\n",
              "      <th>MLS</th>\n",
              "      <th>sold_price</th>\n",
              "      <th>zipcode</th>\n",
              "      <th>lot_acres</th>\n",
              "      <th>taxes</th>\n",
              "      <th>year_built</th>\n",
              "      <th>bedrooms</th>\n",
              "      <th>fireplaces</th>\n",
              "    </tr>\n",
              "  </thead>\n",
              "  <tbody>\n",
              "    <tr>\n",
              "      <th>count</th>\n",
              "      <td>5.000000e+03</td>\n",
              "      <td>5.000000e+03</td>\n",
              "      <td>5000.000000</td>\n",
              "      <td>4990.000000</td>\n",
              "      <td>5.000000e+03</td>\n",
              "      <td>5000.00000</td>\n",
              "      <td>5000.000000</td>\n",
              "      <td>4975.000000</td>\n",
              "    </tr>\n",
              "    <tr>\n",
              "      <th>mean</th>\n",
              "      <td>2.127070e+07</td>\n",
              "      <td>7.746262e+05</td>\n",
              "      <td>85723.025600</td>\n",
              "      <td>4.661317</td>\n",
              "      <td>9.402828e+03</td>\n",
              "      <td>1992.32800</td>\n",
              "      <td>3.933800</td>\n",
              "      <td>1.885226</td>\n",
              "    </tr>\n",
              "    <tr>\n",
              "      <th>std</th>\n",
              "      <td>2.398508e+06</td>\n",
              "      <td>3.185556e+05</td>\n",
              "      <td>38.061712</td>\n",
              "      <td>51.685230</td>\n",
              "      <td>1.729385e+05</td>\n",
              "      <td>65.48614</td>\n",
              "      <td>1.245362</td>\n",
              "      <td>1.136578</td>\n",
              "    </tr>\n",
              "    <tr>\n",
              "      <th>min</th>\n",
              "      <td>3.042851e+06</td>\n",
              "      <td>1.690000e+05</td>\n",
              "      <td>85118.000000</td>\n",
              "      <td>0.000000</td>\n",
              "      <td>0.000000e+00</td>\n",
              "      <td>0.00000</td>\n",
              "      <td>1.000000</td>\n",
              "      <td>0.000000</td>\n",
              "    </tr>\n",
              "    <tr>\n",
              "      <th>25%</th>\n",
              "      <td>2.140718e+07</td>\n",
              "      <td>5.850000e+05</td>\n",
              "      <td>85718.000000</td>\n",
              "      <td>0.580000</td>\n",
              "      <td>4.803605e+03</td>\n",
              "      <td>1987.00000</td>\n",
              "      <td>3.000000</td>\n",
              "      <td>1.000000</td>\n",
              "    </tr>\n",
              "    <tr>\n",
              "      <th>50%</th>\n",
              "      <td>2.161469e+07</td>\n",
              "      <td>6.750000e+05</td>\n",
              "      <td>85737.000000</td>\n",
              "      <td>0.990000</td>\n",
              "      <td>6.223760e+03</td>\n",
              "      <td>1999.00000</td>\n",
              "      <td>4.000000</td>\n",
              "      <td>2.000000</td>\n",
              "    </tr>\n",
              "    <tr>\n",
              "      <th>75%</th>\n",
              "      <td>2.180480e+07</td>\n",
              "      <td>8.350000e+05</td>\n",
              "      <td>85749.000000</td>\n",
              "      <td>1.757500</td>\n",
              "      <td>8.082830e+03</td>\n",
              "      <td>2006.00000</td>\n",
              "      <td>4.000000</td>\n",
              "      <td>3.000000</td>\n",
              "    </tr>\n",
              "    <tr>\n",
              "      <th>max</th>\n",
              "      <td>2.192856e+07</td>\n",
              "      <td>5.300000e+06</td>\n",
              "      <td>86323.000000</td>\n",
              "      <td>2154.000000</td>\n",
              "      <td>1.221508e+07</td>\n",
              "      <td>2019.00000</td>\n",
              "      <td>36.000000</td>\n",
              "      <td>9.000000</td>\n",
              "    </tr>\n",
              "  </tbody>\n",
              "</table>\n",
              "</div>\n",
              "      <button class=\"colab-df-convert\" onclick=\"convertToInteractive('df-ca3d1cb6-d03e-47e0-809d-c162992959da')\"\n",
              "              title=\"Convert this dataframe to an interactive table.\"\n",
              "              style=\"display:none;\">\n",
              "        \n",
              "  <svg xmlns=\"http://www.w3.org/2000/svg\" height=\"24px\"viewBox=\"0 0 24 24\"\n",
              "       width=\"24px\">\n",
              "    <path d=\"M0 0h24v24H0V0z\" fill=\"none\"/>\n",
              "    <path d=\"M18.56 5.44l.94 2.06.94-2.06 2.06-.94-2.06-.94-.94-2.06-.94 2.06-2.06.94zm-11 1L8.5 8.5l.94-2.06 2.06-.94-2.06-.94L8.5 2.5l-.94 2.06-2.06.94zm10 10l.94 2.06.94-2.06 2.06-.94-2.06-.94-.94-2.06-.94 2.06-2.06.94z\"/><path d=\"M17.41 7.96l-1.37-1.37c-.4-.4-.92-.59-1.43-.59-.52 0-1.04.2-1.43.59L10.3 9.45l-7.72 7.72c-.78.78-.78 2.05 0 2.83L4 21.41c.39.39.9.59 1.41.59.51 0 1.02-.2 1.41-.59l7.78-7.78 2.81-2.81c.8-.78.8-2.07 0-2.86zM5.41 20L4 18.59l7.72-7.72 1.47 1.35L5.41 20z\"/>\n",
              "  </svg>\n",
              "      </button>\n",
              "      \n",
              "  <style>\n",
              "    .colab-df-container {\n",
              "      display:flex;\n",
              "      flex-wrap:wrap;\n",
              "      gap: 12px;\n",
              "    }\n",
              "\n",
              "    .colab-df-convert {\n",
              "      background-color: #E8F0FE;\n",
              "      border: none;\n",
              "      border-radius: 50%;\n",
              "      cursor: pointer;\n",
              "      display: none;\n",
              "      fill: #1967D2;\n",
              "      height: 32px;\n",
              "      padding: 0 0 0 0;\n",
              "      width: 32px;\n",
              "    }\n",
              "\n",
              "    .colab-df-convert:hover {\n",
              "      background-color: #E2EBFA;\n",
              "      box-shadow: 0px 1px 2px rgba(60, 64, 67, 0.3), 0px 1px 3px 1px rgba(60, 64, 67, 0.15);\n",
              "      fill: #174EA6;\n",
              "    }\n",
              "\n",
              "    [theme=dark] .colab-df-convert {\n",
              "      background-color: #3B4455;\n",
              "      fill: #D2E3FC;\n",
              "    }\n",
              "\n",
              "    [theme=dark] .colab-df-convert:hover {\n",
              "      background-color: #434B5C;\n",
              "      box-shadow: 0px 1px 3px 1px rgba(0, 0, 0, 0.15);\n",
              "      filter: drop-shadow(0px 1px 2px rgba(0, 0, 0, 0.3));\n",
              "      fill: #FFFFFF;\n",
              "    }\n",
              "  </style>\n",
              "\n",
              "      <script>\n",
              "        const buttonEl =\n",
              "          document.querySelector('#df-ca3d1cb6-d03e-47e0-809d-c162992959da button.colab-df-convert');\n",
              "        buttonEl.style.display =\n",
              "          google.colab.kernel.accessAllowed ? 'block' : 'none';\n",
              "\n",
              "        async function convertToInteractive(key) {\n",
              "          const element = document.querySelector('#df-ca3d1cb6-d03e-47e0-809d-c162992959da');\n",
              "          const dataTable =\n",
              "            await google.colab.kernel.invokeFunction('convertToInteractive',\n",
              "                                                     [key], {});\n",
              "          if (!dataTable) return;\n",
              "\n",
              "          const docLinkHtml = 'Like what you see? Visit the ' +\n",
              "            '<a target=\"_blank\" href=https://colab.research.google.com/notebooks/data_table.ipynb>data table notebook</a>'\n",
              "            + ' to learn more about interactive tables.';\n",
              "          element.innerHTML = '';\n",
              "          dataTable['output_type'] = 'display_data';\n",
              "          await google.colab.output.renderOutput(dataTable, element);\n",
              "          const docLink = document.createElement('div');\n",
              "          docLink.innerHTML = docLinkHtml;\n",
              "          element.appendChild(docLink);\n",
              "        }\n",
              "      </script>\n",
              "    </div>\n",
              "  </div>\n",
              "  "
            ]
          },
          "metadata": {},
          "execution_count": 349
        }
      ]
    },
    {
      "cell_type": "code",
      "source": [
        "corr = data.corr()\n",
        "corr"
      ],
      "metadata": {
        "colab": {
          "base_uri": "https://localhost:8080/",
          "height": 300
        },
        "id": "H0gy3zSAMHuc",
        "outputId": "6c34e3e0-f4b7-4e68-ed6b-d725e9ced6d1"
      },
      "execution_count": 350,
      "outputs": [
        {
          "output_type": "execute_result",
          "data": {
            "text/plain": [
              "                 MLS  sold_price   zipcode  lot_acres     taxes  year_built  \\\n",
              "MLS         1.000000    0.031019  0.323165  -0.084742  0.003306   -0.003144   \n",
              "sold_price  0.031019    1.000000 -0.039925   0.332357  0.023326   -0.014064   \n",
              "zipcode     0.323165   -0.039925  1.000000  -0.127783 -0.001265    0.037776   \n",
              "lot_acres  -0.084742    0.332357 -0.127783   1.000000 -0.000571   -0.039552   \n",
              "taxes       0.003306    0.023326 -0.001265  -0.000571  1.000000    0.000021   \n",
              "year_built -0.003144   -0.014064  0.037776  -0.039552  0.000021    1.000000   \n",
              "bedrooms   -0.012254    0.115932  0.049982   0.069277  0.005259   -0.086302   \n",
              "fireplaces -0.062502    0.384388 -0.017290   0.086382  0.022555   -0.032150   \n",
              "\n",
              "            bedrooms  fireplaces  \n",
              "MLS        -0.012254   -0.062502  \n",
              "sold_price  0.115932    0.384388  \n",
              "zipcode     0.049982   -0.017290  \n",
              "lot_acres   0.069277    0.086382  \n",
              "taxes       0.005259    0.022555  \n",
              "year_built -0.086302   -0.032150  \n",
              "bedrooms    1.000000    0.145481  \n",
              "fireplaces  0.145481    1.000000  "
            ],
            "text/html": [
              "\n",
              "  <div id=\"df-7d626c86-8202-4ff6-923e-2c4029a074f2\">\n",
              "    <div class=\"colab-df-container\">\n",
              "      <div>\n",
              "<style scoped>\n",
              "    .dataframe tbody tr th:only-of-type {\n",
              "        vertical-align: middle;\n",
              "    }\n",
              "\n",
              "    .dataframe tbody tr th {\n",
              "        vertical-align: top;\n",
              "    }\n",
              "\n",
              "    .dataframe thead th {\n",
              "        text-align: right;\n",
              "    }\n",
              "</style>\n",
              "<table border=\"1\" class=\"dataframe\">\n",
              "  <thead>\n",
              "    <tr style=\"text-align: right;\">\n",
              "      <th></th>\n",
              "      <th>MLS</th>\n",
              "      <th>sold_price</th>\n",
              "      <th>zipcode</th>\n",
              "      <th>lot_acres</th>\n",
              "      <th>taxes</th>\n",
              "      <th>year_built</th>\n",
              "      <th>bedrooms</th>\n",
              "      <th>fireplaces</th>\n",
              "    </tr>\n",
              "  </thead>\n",
              "  <tbody>\n",
              "    <tr>\n",
              "      <th>MLS</th>\n",
              "      <td>1.000000</td>\n",
              "      <td>0.031019</td>\n",
              "      <td>0.323165</td>\n",
              "      <td>-0.084742</td>\n",
              "      <td>0.003306</td>\n",
              "      <td>-0.003144</td>\n",
              "      <td>-0.012254</td>\n",
              "      <td>-0.062502</td>\n",
              "    </tr>\n",
              "    <tr>\n",
              "      <th>sold_price</th>\n",
              "      <td>0.031019</td>\n",
              "      <td>1.000000</td>\n",
              "      <td>-0.039925</td>\n",
              "      <td>0.332357</td>\n",
              "      <td>0.023326</td>\n",
              "      <td>-0.014064</td>\n",
              "      <td>0.115932</td>\n",
              "      <td>0.384388</td>\n",
              "    </tr>\n",
              "    <tr>\n",
              "      <th>zipcode</th>\n",
              "      <td>0.323165</td>\n",
              "      <td>-0.039925</td>\n",
              "      <td>1.000000</td>\n",
              "      <td>-0.127783</td>\n",
              "      <td>-0.001265</td>\n",
              "      <td>0.037776</td>\n",
              "      <td>0.049982</td>\n",
              "      <td>-0.017290</td>\n",
              "    </tr>\n",
              "    <tr>\n",
              "      <th>lot_acres</th>\n",
              "      <td>-0.084742</td>\n",
              "      <td>0.332357</td>\n",
              "      <td>-0.127783</td>\n",
              "      <td>1.000000</td>\n",
              "      <td>-0.000571</td>\n",
              "      <td>-0.039552</td>\n",
              "      <td>0.069277</td>\n",
              "      <td>0.086382</td>\n",
              "    </tr>\n",
              "    <tr>\n",
              "      <th>taxes</th>\n",
              "      <td>0.003306</td>\n",
              "      <td>0.023326</td>\n",
              "      <td>-0.001265</td>\n",
              "      <td>-0.000571</td>\n",
              "      <td>1.000000</td>\n",
              "      <td>0.000021</td>\n",
              "      <td>0.005259</td>\n",
              "      <td>0.022555</td>\n",
              "    </tr>\n",
              "    <tr>\n",
              "      <th>year_built</th>\n",
              "      <td>-0.003144</td>\n",
              "      <td>-0.014064</td>\n",
              "      <td>0.037776</td>\n",
              "      <td>-0.039552</td>\n",
              "      <td>0.000021</td>\n",
              "      <td>1.000000</td>\n",
              "      <td>-0.086302</td>\n",
              "      <td>-0.032150</td>\n",
              "    </tr>\n",
              "    <tr>\n",
              "      <th>bedrooms</th>\n",
              "      <td>-0.012254</td>\n",
              "      <td>0.115932</td>\n",
              "      <td>0.049982</td>\n",
              "      <td>0.069277</td>\n",
              "      <td>0.005259</td>\n",
              "      <td>-0.086302</td>\n",
              "      <td>1.000000</td>\n",
              "      <td>0.145481</td>\n",
              "    </tr>\n",
              "    <tr>\n",
              "      <th>fireplaces</th>\n",
              "      <td>-0.062502</td>\n",
              "      <td>0.384388</td>\n",
              "      <td>-0.017290</td>\n",
              "      <td>0.086382</td>\n",
              "      <td>0.022555</td>\n",
              "      <td>-0.032150</td>\n",
              "      <td>0.145481</td>\n",
              "      <td>1.000000</td>\n",
              "    </tr>\n",
              "  </tbody>\n",
              "</table>\n",
              "</div>\n",
              "      <button class=\"colab-df-convert\" onclick=\"convertToInteractive('df-7d626c86-8202-4ff6-923e-2c4029a074f2')\"\n",
              "              title=\"Convert this dataframe to an interactive table.\"\n",
              "              style=\"display:none;\">\n",
              "        \n",
              "  <svg xmlns=\"http://www.w3.org/2000/svg\" height=\"24px\"viewBox=\"0 0 24 24\"\n",
              "       width=\"24px\">\n",
              "    <path d=\"M0 0h24v24H0V0z\" fill=\"none\"/>\n",
              "    <path d=\"M18.56 5.44l.94 2.06.94-2.06 2.06-.94-2.06-.94-.94-2.06-.94 2.06-2.06.94zm-11 1L8.5 8.5l.94-2.06 2.06-.94-2.06-.94L8.5 2.5l-.94 2.06-2.06.94zm10 10l.94 2.06.94-2.06 2.06-.94-2.06-.94-.94-2.06-.94 2.06-2.06.94z\"/><path d=\"M17.41 7.96l-1.37-1.37c-.4-.4-.92-.59-1.43-.59-.52 0-1.04.2-1.43.59L10.3 9.45l-7.72 7.72c-.78.78-.78 2.05 0 2.83L4 21.41c.39.39.9.59 1.41.59.51 0 1.02-.2 1.41-.59l7.78-7.78 2.81-2.81c.8-.78.8-2.07 0-2.86zM5.41 20L4 18.59l7.72-7.72 1.47 1.35L5.41 20z\"/>\n",
              "  </svg>\n",
              "      </button>\n",
              "      \n",
              "  <style>\n",
              "    .colab-df-container {\n",
              "      display:flex;\n",
              "      flex-wrap:wrap;\n",
              "      gap: 12px;\n",
              "    }\n",
              "\n",
              "    .colab-df-convert {\n",
              "      background-color: #E8F0FE;\n",
              "      border: none;\n",
              "      border-radius: 50%;\n",
              "      cursor: pointer;\n",
              "      display: none;\n",
              "      fill: #1967D2;\n",
              "      height: 32px;\n",
              "      padding: 0 0 0 0;\n",
              "      width: 32px;\n",
              "    }\n",
              "\n",
              "    .colab-df-convert:hover {\n",
              "      background-color: #E2EBFA;\n",
              "      box-shadow: 0px 1px 2px rgba(60, 64, 67, 0.3), 0px 1px 3px 1px rgba(60, 64, 67, 0.15);\n",
              "      fill: #174EA6;\n",
              "    }\n",
              "\n",
              "    [theme=dark] .colab-df-convert {\n",
              "      background-color: #3B4455;\n",
              "      fill: #D2E3FC;\n",
              "    }\n",
              "\n",
              "    [theme=dark] .colab-df-convert:hover {\n",
              "      background-color: #434B5C;\n",
              "      box-shadow: 0px 1px 3px 1px rgba(0, 0, 0, 0.15);\n",
              "      filter: drop-shadow(0px 1px 2px rgba(0, 0, 0, 0.3));\n",
              "      fill: #FFFFFF;\n",
              "    }\n",
              "  </style>\n",
              "\n",
              "      <script>\n",
              "        const buttonEl =\n",
              "          document.querySelector('#df-7d626c86-8202-4ff6-923e-2c4029a074f2 button.colab-df-convert');\n",
              "        buttonEl.style.display =\n",
              "          google.colab.kernel.accessAllowed ? 'block' : 'none';\n",
              "\n",
              "        async function convertToInteractive(key) {\n",
              "          const element = document.querySelector('#df-7d626c86-8202-4ff6-923e-2c4029a074f2');\n",
              "          const dataTable =\n",
              "            await google.colab.kernel.invokeFunction('convertToInteractive',\n",
              "                                                     [key], {});\n",
              "          if (!dataTable) return;\n",
              "\n",
              "          const docLinkHtml = 'Like what you see? Visit the ' +\n",
              "            '<a target=\"_blank\" href=https://colab.research.google.com/notebooks/data_table.ipynb>data table notebook</a>'\n",
              "            + ' to learn more about interactive tables.';\n",
              "          element.innerHTML = '';\n",
              "          dataTable['output_type'] = 'display_data';\n",
              "          await google.colab.output.renderOutput(dataTable, element);\n",
              "          const docLink = document.createElement('div');\n",
              "          docLink.innerHTML = docLinkHtml;\n",
              "          element.appendChild(docLink);\n",
              "        }\n",
              "      </script>\n",
              "    </div>\n",
              "  </div>\n",
              "  "
            ]
          },
          "metadata": {},
          "execution_count": 350
        }
      ]
    },
    {
      "cell_type": "code",
      "source": [
        "#plt.matshow(data)\n",
        "# I need change object values to float value"
      ],
      "metadata": {
        "id": "LmI8-JL9MqGW"
      },
      "execution_count": 351,
      "outputs": []
    },
    {
      "cell_type": "code",
      "source": [
        "data['bathrooms'].value_counts()"
      ],
      "metadata": {
        "colab": {
          "base_uri": "https://localhost:8080/",
          "height": 0
        },
        "id": "_LzsJCqNx0ox",
        "outputId": "276155e7-d7b9-4528-8692-31be55e4b12e"
      },
      "execution_count": 352,
      "outputs": [
        {
          "output_type": "execute_result",
          "data": {
            "text/plain": [
              "3       1993\n",
              "4       1842\n",
              "5        654\n",
              "6        207\n",
              "2        189\n",
              "7         58\n",
              "8         19\n",
              "9          8\n",
              "3.5        7\n",
              "None       6\n",
              "1          3\n",
              "2.5        3\n",
              "35         3\n",
              "11         2\n",
              "10         1\n",
              "14         1\n",
              "18         1\n",
              "4.5        1\n",
              "15         1\n",
              "36         1\n",
              "Name: bathrooms, dtype: int64"
            ]
          },
          "metadata": {},
          "execution_count": 352
        }
      ]
    },
    {
      "cell_type": "code",
      "source": [
        "data['bathrooms'].replace('None', np.nan, inplace=True)\n",
        "datax= data['bathrooms'].median()\n",
        "data.fillna(datax, inplace= True)"
      ],
      "metadata": {
        "id": "W6_5nxxKAUlv"
      },
      "execution_count": 353,
      "outputs": []
    },
    {
      "cell_type": "code",
      "source": [
        "data['bathrooms'].value_counts()"
      ],
      "metadata": {
        "colab": {
          "base_uri": "https://localhost:8080/",
          "height": 0
        },
        "id": "OYOY3FkFAUeh",
        "outputId": "70d9e5da-2a40-49a2-c4fa-e8718c531fb4"
      },
      "execution_count": 354,
      "outputs": [
        {
          "output_type": "execute_result",
          "data": {
            "text/plain": [
              "3      1993\n",
              "4      1842\n",
              "5       654\n",
              "6       207\n",
              "2       189\n",
              "7        58\n",
              "8        19\n",
              "9         8\n",
              "3.5       7\n",
              "4.0       6\n",
              "1         3\n",
              "2.5       3\n",
              "35        3\n",
              "11        2\n",
              "10        1\n",
              "14        1\n",
              "18        1\n",
              "4.5       1\n",
              "15        1\n",
              "36        1\n",
              "Name: bathrooms, dtype: int64"
            ]
          },
          "metadata": {},
          "execution_count": 354
        }
      ]
    },
    {
      "cell_type": "code",
      "source": [
        "data['sqrt_ft'].value_counts()"
      ],
      "metadata": {
        "colab": {
          "base_uri": "https://localhost:8080/",
          "height": 0
        },
        "id": "rqPlxeAS-Aix",
        "outputId": "c54f7145-13df-40b1-9ccc-69310b6db93c"
      },
      "execution_count": 355,
      "outputs": [
        {
          "output_type": "execute_result",
          "data": {
            "text/plain": [
              "None    56\n",
              "3541    50\n",
              "3052    25\n",
              "3420    18\n",
              "3002    16\n",
              "        ..\n",
              "4362     1\n",
              "5586     1\n",
              "5117     1\n",
              "3793     1\n",
              "1772     1\n",
              "Name: sqrt_ft, Length: 2362, dtype: int64"
            ]
          },
          "metadata": {},
          "execution_count": 355
        }
      ]
    },
    {
      "cell_type": "code",
      "source": [
        "data['sqrt_ft'].replace('None', np.nan, inplace=True)\n",
        "datax= data['sqrt_ft'].median()\n",
        "data.fillna(datax, inplace= True)"
      ],
      "metadata": {
        "id": "YH2NOr8sNT7_"
      },
      "execution_count": 356,
      "outputs": []
    },
    {
      "cell_type": "code",
      "source": [
        "data['sqrt_ft'].value_counts()"
      ],
      "metadata": {
        "colab": {
          "base_uri": "https://localhost:8080/",
          "height": 0
        },
        "id": "WCQZr0xhNauu",
        "outputId": "c65e0a43-2ed9-4f3a-f161-28f984401fe0"
      },
      "execution_count": 357,
      "outputs": [
        {
          "output_type": "execute_result",
          "data": {
            "text/plain": [
              "3512.0    56\n",
              "3541      50\n",
              "3052      25\n",
              "3420      18\n",
              "3002      16\n",
              "          ..\n",
              "4362       1\n",
              "5586       1\n",
              "5117       1\n",
              "3793       1\n",
              "1772       1\n",
              "Name: sqrt_ft, Length: 2362, dtype: int64"
            ]
          },
          "metadata": {},
          "execution_count": 357
        }
      ]
    },
    {
      "cell_type": "code",
      "source": [
        "data['garage'].value_counts()"
      ],
      "metadata": {
        "colab": {
          "base_uri": "https://localhost:8080/",
          "height": 0
        },
        "id": "nnYBo1fD-GMq",
        "outputId": "4c9fe4a2-2040-47cf-da18-c91f1f72c2e4"
      },
      "execution_count": 358,
      "outputs": [
        {
          "output_type": "execute_result",
          "data": {
            "text/plain": [
              "3       2797\n",
              "2       1337\n",
              "4        383\n",
              "0        184\n",
              "5         88\n",
              "6         61\n",
              "2.5       48\n",
              "1         30\n",
              "3.5       16\n",
              "8         14\n",
              "7         13\n",
              "None       7\n",
              "9          6\n",
              "4.5        4\n",
              "12         3\n",
              "10         3\n",
              "15         1\n",
              "22         1\n",
              "30         1\n",
              "11         1\n",
              "20         1\n",
              "13         1\n",
              "Name: garage, dtype: int64"
            ]
          },
          "metadata": {},
          "execution_count": 358
        }
      ]
    },
    {
      "cell_type": "code",
      "source": [
        "data['garage'].replace('None', np.nan, inplace=True)\n",
        "datax= data['garage'].median()\n",
        "data.fillna(datax, inplace= True)"
      ],
      "metadata": {
        "id": "0C7QxbmkNjFq"
      },
      "execution_count": 359,
      "outputs": []
    },
    {
      "cell_type": "code",
      "source": [
        "data['garage'].value_counts()"
      ],
      "metadata": {
        "colab": {
          "base_uri": "https://localhost:8080/",
          "height": 0
        },
        "id": "vriyclYrNn9T",
        "outputId": "281aa9bc-fd05-4fd2-e951-3e549c32a6ac"
      },
      "execution_count": 360,
      "outputs": [
        {
          "output_type": "execute_result",
          "data": {
            "text/plain": [
              "3      2797\n",
              "2      1337\n",
              "4       383\n",
              "0       184\n",
              "5        88\n",
              "6        61\n",
              "2.5      48\n",
              "1        30\n",
              "3.5      16\n",
              "8        14\n",
              "7        13\n",
              "3.0       7\n",
              "9         6\n",
              "4.5       4\n",
              "12        3\n",
              "10        3\n",
              "15        1\n",
              "22        1\n",
              "30        1\n",
              "11        1\n",
              "20        1\n",
              "13        1\n",
              "Name: garage, dtype: int64"
            ]
          },
          "metadata": {},
          "execution_count": 360
        }
      ]
    },
    {
      "cell_type": "code",
      "source": [
        "data['HOA'].value_counts()"
      ],
      "metadata": {
        "colab": {
          "base_uri": "https://localhost:8080/",
          "height": 0
        },
        "id": "ef9E9H0Y-GDh",
        "outputId": "341ec488-bdff-45de-9b61-f93c6d639592"
      },
      "execution_count": 361,
      "outputs": [
        {
          "output_type": "execute_result",
          "data": {
            "text/plain": [
              "0         824\n",
              "None      562\n",
              "5         123\n",
              "100       107\n",
              "50         85\n",
              "         ... \n",
              "178         1\n",
              "69.16       1\n",
              "332.67      1\n",
              "43.01       1\n",
              "78.65       1\n",
              "Name: HOA, Length: 378, dtype: int64"
            ]
          },
          "metadata": {},
          "execution_count": 361
        }
      ]
    },
    {
      "cell_type": "code",
      "source": [
        "data['HOA'].replace('None', np.nan, inplace=True)"
      ],
      "metadata": {
        "id": "RJi7OTnPOBd2"
      },
      "execution_count": 362,
      "outputs": []
    },
    {
      "cell_type": "code",
      "source": [
        "data['HOA'].value_counts()"
      ],
      "metadata": {
        "colab": {
          "base_uri": "https://localhost:8080/",
          "height": 0
        },
        "id": "ms-L7r_hOLG1",
        "outputId": "e1208933-181a-495b-b8aa-525300401ba1"
      },
      "execution_count": 363,
      "outputs": [
        {
          "output_type": "execute_result",
          "data": {
            "text/plain": [
              "0         824\n",
              "5         123\n",
              "100       107\n",
              "50         85\n",
              "40         72\n",
              "         ... \n",
              "178         1\n",
              "69.16       1\n",
              "332.67      1\n",
              "43.01       1\n",
              "78.65       1\n",
              "Name: HOA, Length: 377, dtype: int64"
            ]
          },
          "metadata": {},
          "execution_count": 363
        }
      ]
    },
    {
      "cell_type": "code",
      "source": [
        "for HOA in data:\n",
        "  data['HOA'].unique()"
      ],
      "metadata": {
        "id": "RBVwIXZvOw0s"
      },
      "execution_count": 364,
      "outputs": []
    },
    {
      "cell_type": "code",
      "source": [
        "data['HOA'] = data['HOA'].replace(',','', regex=True)\n",
        "datax= data['HOA'].median()\n",
        "data.fillna(datax, inplace= True)"
      ],
      "metadata": {
        "id": "DadMziL_QBba"
      },
      "execution_count": 365,
      "outputs": []
    },
    {
      "cell_type": "code",
      "source": [
        "data['HOA'].value_counts()"
      ],
      "metadata": {
        "colab": {
          "base_uri": "https://localhost:8080/",
          "height": 0
        },
        "id": "RT7A0uPr8VCI",
        "outputId": "f2edc11b-af69-491d-884b-2a4f96ad0ef5"
      },
      "execution_count": 366,
      "outputs": [
        {
          "output_type": "execute_result",
          "data": {
            "text/plain": [
              "0         824\n",
              "55.0      562\n",
              "5         123\n",
              "100       107\n",
              "50         85\n",
              "         ... \n",
              "188.33      1\n",
              "149.5       1\n",
              "73.72       1\n",
              "50.42       1\n",
              "78.65       1\n",
              "Name: HOA, Length: 371, dtype: int64"
            ]
          },
          "metadata": {},
          "execution_count": 366
        }
      ]
    },
    {
      "cell_type": "code",
      "source": [
        "sns.heatmap(data = corr)"
      ],
      "metadata": {
        "colab": {
          "base_uri": "https://localhost:8080/",
          "height": 327
        },
        "id": "-khhP6R_0DXL",
        "outputId": "68b644c9-c603-4e3a-8e79-cd890ceecd8e"
      },
      "execution_count": 367,
      "outputs": [
        {
          "output_type": "execute_result",
          "data": {
            "text/plain": [
              "<matplotlib.axes._subplots.AxesSubplot at 0x7f40217ab7d0>"
            ]
          },
          "metadata": {},
          "execution_count": 367
        },
        {
          "output_type": "display_data",
          "data": {
            "text/plain": [
              "<Figure size 432x288 with 2 Axes>"
            ],
            "image/png": "[encoded data removed]"
          },
          "metadata": {
            "needs_background": "light"
          }
        }
      ]
    },
    {
      "cell_type": "code",
      "source": [
        "data.head()"
      ],
      "metadata": {
        "id": "xxtXe6SwDsYg",
        "colab": {
          "base_uri": "https://localhost:8080/",
          "height": 320
        },
        "outputId": "d2c725e3-682c-495c-cf4b-ff68e7845e32"
      },
      "execution_count": 368,
      "outputs": [
        {
          "output_type": "execute_result",
          "data": {
            "text/plain": [
              "        MLS  sold_price  zipcode     longitude    latitude  lot_acres  \\\n",
              "0  21530491   5300000.0    85637    -1.103.782  31.356.362    2154.00   \n",
              "1  21529082   4200000.0    85646  -111.045.371  31.594.213    1707.00   \n",
              "2   3054672   4200000.0    85646  -111.040.707  31.594.844    1707.00   \n",
              "3  21919321   4500000.0    85646  -111.035.925  31.645.878     636.67   \n",
              "4  21306357   3411450.0    85750  -110.813.768  32.285.162       3.21   \n",
              "\n",
              "      taxes  year_built  bedrooms bathrooms sqrt_ft garage  \\\n",
              "0   5272.00        1941        13        10   10500      0   \n",
              "1  10422.36        1997         2         2    7300      0   \n",
              "2  10482.00        1997         2         3  3512.0    3.0   \n",
              "3   8418.58        1930         7         5    9019      4   \n",
              "4  15393.00        1995         4         6    6396      3   \n",
              "\n",
              "                                    kitchen_features  fireplaces  \\\n",
              "0            Dishwasher, Freezer, Refrigerator, Oven         6.0   \n",
              "1                       Dishwasher, Garbage Disposal         5.0   \n",
              "2         Dishwasher, Garbage Disposal, Refrigerator         5.0   \n",
              "3  Dishwasher, Double Sink, Pantry: Butler, Refri...         4.0   \n",
              "4  Dishwasher, Garbage Disposal, Refrigerator, Mi...         5.0   \n",
              "\n",
              "                 floor_covering   HOA  \n",
              "0            Mexican Tile, Wood     0  \n",
              "1          Natural Stone, Other     0  \n",
              "2    Natural Stone, Other: Rock  55.0  \n",
              "3  Ceramic Tile, Laminate, Wood  55.0  \n",
              "4              Carpet, Concrete    55  "
            ],
            "text/html": [
              "\n",
              "  <div id=\"df-1d7bf135-2b96-42bb-873c-123a69e31395\">\n",
              "    <div class=\"colab-df-container\">\n",
              "      <div>\n",
              "<style scoped>\n",
              "    .dataframe tbody tr th:only-of-type {\n",
              "        vertical-align: middle;\n",
              "    }\n",
              "\n",
              "    .dataframe tbody tr th {\n",
              "        vertical-align: top;\n",
              "    }\n",
              "\n",
              "    .dataframe thead th {\n",
              "        text-align: right;\n",
              "    }\n",
              "</style>\n",
              "<table border=\"1\" class=\"dataframe\">\n",
              "  <thead>\n",
              "    <tr style=\"text-align: right;\">\n",
              "      <th></th>\n",
              "      <th>MLS</th>\n",
              "      <th>sold_price</th>\n",
              "      <th>zipcode</th>\n",
              "      <th>longitude</th>\n",
              "      <th>latitude</th>\n",
              "      <th>lot_acres</th>\n",
              "      <th>taxes</th>\n",
              "      <th>year_built</th>\n",
              "      <th>bedrooms</th>\n",
              "      <th>bathrooms</th>\n",
              "      <th>sqrt_ft</th>\n",
              "      <th>garage</th>\n",
              "      <th>kitchen_features</th>\n",
              "      <th>fireplaces</th>\n",
              "      <th>floor_covering</th>\n",
              "      <th>HOA</th>\n",
              "    </tr>\n",
              "  </thead>\n",
              "  <tbody>\n",
              "    <tr>\n",
              "      <th>0</th>\n",
              "      <td>21530491</td>\n",
              "      <td>5300000.0</td>\n",
              "      <td>85637</td>\n",
              "      <td>-1.103.782</td>\n",
              "      <td>31.356.362</td>\n",
              "      <td>2154.00</td>\n",
              "      <td>5272.00</td>\n",
              "      <td>1941</td>\n",
              "      <td>13</td>\n",
              "      <td>10</td>\n",
              "      <td>10500</td>\n",
              "      <td>0</td>\n",
              "      <td>Dishwasher, Freezer, Refrigerator, Oven</td>\n",
              "      <td>6.0</td>\n",
              "      <td>Mexican Tile, Wood</td>\n",
              "      <td>0</td>\n",
              "    </tr>\n",
              "    <tr>\n",
              "      <th>1</th>\n",
              "      <td>21529082</td>\n",
              "      <td>4200000.0</td>\n",
              "      <td>85646</td>\n",
              "      <td>-111.045.371</td>\n",
              "      <td>31.594.213</td>\n",
              "      <td>1707.00</td>\n",
              "      <td>10422.36</td>\n",
              "      <td>1997</td>\n",
              "      <td>2</td>\n",
              "      <td>2</td>\n",
              "      <td>7300</td>\n",
              "      <td>0</td>\n",
              "      <td>Dishwasher, Garbage Disposal</td>\n",
              "      <td>5.0</td>\n",
              "      <td>Natural Stone, Other</td>\n",
              "      <td>0</td>\n",
              "    </tr>\n",
              "    <tr>\n",
              "      <th>2</th>\n",
              "      <td>3054672</td>\n",
              "      <td>4200000.0</td>\n",
              "      <td>85646</td>\n",
              "      <td>-111.040.707</td>\n",
              "      <td>31.594.844</td>\n",
              "      <td>1707.00</td>\n",
              "      <td>10482.00</td>\n",
              "      <td>1997</td>\n",
              "      <td>2</td>\n",
              "      <td>3</td>\n",
              "      <td>3512.0</td>\n",
              "      <td>3.0</td>\n",
              "      <td>Dishwasher, Garbage Disposal, Refrigerator</td>\n",
              "      <td>5.0</td>\n",
              "      <td>Natural Stone, Other: Rock</td>\n",
              "      <td>55.0</td>\n",
              "    </tr>\n",
              "    <tr>\n",
              "      <th>3</th>\n",
              "      <td>21919321</td>\n",
              "      <td>4500000.0</td>\n",
              "      <td>85646</td>\n",
              "      <td>-111.035.925</td>\n",
              "      <td>31.645.878</td>\n",
              "      <td>636.67</td>\n",
              "      <td>8418.58</td>\n",
              "      <td>1930</td>\n",
              "      <td>7</td>\n",
              "      <td>5</td>\n",
              "      <td>9019</td>\n",
              "      <td>4</td>\n",
              "      <td>Dishwasher, Double Sink, Pantry: Butler, Refri...</td>\n",
              "      <td>4.0</td>\n",
              "      <td>Ceramic Tile, Laminate, Wood</td>\n",
              "      <td>55.0</td>\n",
              "    </tr>\n",
              "    <tr>\n",
              "      <th>4</th>\n",
              "      <td>21306357</td>\n",
              "      <td>3411450.0</td>\n",
              "      <td>85750</td>\n",
              "      <td>-110.813.768</td>\n",
              "      <td>32.285.162</td>\n",
              "      <td>3.21</td>\n",
              "      <td>15393.00</td>\n",
              "      <td>1995</td>\n",
              "      <td>4</td>\n",
              "      <td>6</td>\n",
              "      <td>6396</td>\n",
              "      <td>3</td>\n",
              "      <td>Dishwasher, Garbage Disposal, Refrigerator, Mi...</td>\n",
              "      <td>5.0</td>\n",
              "      <td>Carpet, Concrete</td>\n",
              "      <td>55</td>\n",
              "    </tr>\n",
              "  </tbody>\n",
              "</table>\n",
              "</div>\n",
              "      <button class=\"colab-df-convert\" onclick=\"convertToInteractive('df-1d7bf135-2b96-42bb-873c-123a69e31395')\"\n",
              "              title=\"Convert this dataframe to an interactive table.\"\n",
              "              style=\"display:none;\">\n",
              "        \n",
              "  <svg xmlns=\"http://www.w3.org/2000/svg\" height=\"24px\"viewBox=\"0 0 24 24\"\n",
              "       width=\"24px\">\n",
              "    <path d=\"M0 0h24v24H0V0z\" fill=\"none\"/>\n",
              "    <path d=\"M18.56 5.44l.94 2.06.94-2.06 2.06-.94-2.06-.94-.94-2.06-.94 2.06-2.06.94zm-11 1L8.5 8.5l.94-2.06 2.06-.94-2.06-.94L8.5 2.5l-.94 2.06-2.06.94zm10 10l.94 2.06.94-2.06 2.06-.94-2.06-.94-.94-2.06-.94 2.06-2.06.94z\"/><path d=\"M17.41 7.96l-1.37-1.37c-.4-.4-.92-.59-1.43-.59-.52 0-1.04.2-1.43.59L10.3 9.45l-7.72 7.72c-.78.78-.78 2.05 0 2.83L4 21.41c.39.39.9.59 1.41.59.51 0 1.02-.2 1.41-.59l7.78-7.78 2.81-2.81c.8-.78.8-2.07 0-2.86zM5.41 20L4 18.59l7.72-7.72 1.47 1.35L5.41 20z\"/>\n",
              "  </svg>\n",
              "      </button>\n",
              "      \n",
              "  <style>\n",
              "    .colab-df-container {\n",
              "      display:flex;\n",
              "      flex-wrap:wrap;\n",
              "      gap: 12px;\n",
              "    }\n",
              "\n",
              "    .colab-df-convert {\n",
              "      background-color: #E8F0FE;\n",
              "      border: none;\n",
              "      border-radius: 50%;\n",
              "      cursor: pointer;\n",
              "      display: none;\n",
              "      fill: #1967D2;\n",
              "      height: 32px;\n",
              "      padding: 0 0 0 0;\n",
              "      width: 32px;\n",
              "    }\n",
              "\n",
              "    .colab-df-convert:hover {\n",
              "      background-color: #E2EBFA;\n",
              "      box-shadow: 0px 1px 2px rgba(60, 64, 67, 0.3), 0px 1px 3px 1px rgba(60, 64, 67, 0.15);\n",
              "      fill: #174EA6;\n",
              "    }\n",
              "\n",
              "    [theme=dark] .colab-df-convert {\n",
              "      background-color: #3B4455;\n",
              "      fill: #D2E3FC;\n",
              "    }\n",
              "\n",
              "    [theme=dark] .colab-df-convert:hover {\n",
              "      background-color: #434B5C;\n",
              "      box-shadow: 0px 1px 3px 1px rgba(0, 0, 0, 0.15);\n",
              "      filter: drop-shadow(0px 1px 2px rgba(0, 0, 0, 0.3));\n",
              "      fill: #FFFFFF;\n",
              "    }\n",
              "  </style>\n",
              "\n",
              "      <script>\n",
              "        const buttonEl =\n",
              "          document.querySelector('#df-1d7bf135-2b96-42bb-873c-123a69e31395 button.colab-df-convert');\n",
              "        buttonEl.style.display =\n",
              "          google.colab.kernel.accessAllowed ? 'block' : 'none';\n",
              "\n",
              "        async function convertToInteractive(key) {\n",
              "          const element = document.querySelector('#df-1d7bf135-2b96-42bb-873c-123a69e31395');\n",
              "          const dataTable =\n",
              "            await google.colab.kernel.invokeFunction('convertToInteractive',\n",
              "                                                     [key], {});\n",
              "          if (!dataTable) return;\n",
              "\n",
              "          const docLinkHtml = 'Like what you see? Visit the ' +\n",
              "            '<a target=\"_blank\" href=https://colab.research.google.com/notebooks/data_table.ipynb>data table notebook</a>'\n",
              "            + ' to learn more about interactive tables.';\n",
              "          element.innerHTML = '';\n",
              "          dataTable['output_type'] = 'display_data';\n",
              "          await google.colab.output.renderOutput(dataTable, element);\n",
              "          const docLink = document.createElement('div');\n",
              "          docLink.innerHTML = docLinkHtml;\n",
              "          element.appendChild(docLink);\n",
              "        }\n",
              "      </script>\n",
              "    </div>\n",
              "  </div>\n",
              "  "
            ]
          },
          "metadata": {},
          "execution_count": 368
        }
      ]
    },
    {
      "cell_type": "code",
      "source": [
        "data['sqrt_ft'] = data.sqrt_ft.astype(float)\n",
        "data['bathrooms'] = data.bathrooms.astype(float)\n",
        "data['garage'] = data.garage.astype(float)\n",
        "data['HOA'] = data.HOA.astype(float)\n",
        "#data['zipcode'] = data.zipcode.astype(float)\n",
        "#data['bedrooms'] = data.bedrooms.astype(float)"
      ],
      "metadata": {
        "id": "vRAbZKCzUbQ0"
      },
      "execution_count": 369,
      "outputs": []
    },
    {
      "cell_type": "code",
      "source": [
        "data.dtypes"
      ],
      "metadata": {
        "colab": {
          "base_uri": "https://localhost:8080/",
          "height": 0
        },
        "id": "tcRDWAFcUMsw",
        "outputId": "fdcd2fb4-90b2-4bd8-e50b-51246c9d0814"
      },
      "execution_count": 370,
      "outputs": [
        {
          "output_type": "execute_result",
          "data": {
            "text/plain": [
              "MLS                   int64\n",
              "sold_price          float64\n",
              "zipcode               int64\n",
              "longitude            object\n",
              "latitude             object\n",
              "lot_acres           float64\n",
              "taxes               float64\n",
              "year_built            int64\n",
              "bedrooms              int64\n",
              "bathrooms           float64\n",
              "sqrt_ft             float64\n",
              "garage              float64\n",
              "kitchen_features     object\n",
              "fireplaces          float64\n",
              "floor_covering       object\n",
              "HOA                 float64\n",
              "dtype: object"
            ]
          },
          "metadata": {},
          "execution_count": 370
        }
      ]
    },
    {
      "cell_type": "code",
      "source": [
        "data['floor_covering'].value_counts()"
      ],
      "metadata": {
        "colab": {
          "base_uri": "https://localhost:8080/",
          "height": 0
        },
        "id": "0FXpyuXgURRW",
        "outputId": "f523bad1-9cdc-48be-e573-285d7f88f1e7"
      },
      "execution_count": 371,
      "outputs": [
        {
          "output_type": "execute_result",
          "data": {
            "text/plain": [
              "Carpet, Ceramic Tile                           1235\n",
              "Carpet, Natural Stone                           579\n",
              "Carpet, Ceramic Tile, Wood                      258\n",
              "Ceramic Tile                                    247\n",
              "Concrete                                        242\n",
              "                                               ... \n",
              "Carpet, Concrete, Wood, Other: travertine         1\n",
              "Concrete, Wood, Other: Mesquite wood floors       1\n",
              "Carpet, Ceramic Tile, Wood, Other: Slate          1\n",
              "Carpet, Other: brick pavers                       1\n",
              "Concrete, Other: Cork                             1\n",
              "Name: floor_covering, Length: 311, dtype: int64"
            ]
          },
          "metadata": {},
          "execution_count": 371
        }
      ]
    },
    {
      "cell_type": "code",
      "source": [
        "data.head()"
      ],
      "metadata": {
        "colab": {
          "base_uri": "https://localhost:8080/",
          "height": 320
        },
        "id": "dKC4-14fU0NK",
        "outputId": "dac93085-26cd-415a-e09e-cebb6e46b1f4"
      },
      "execution_count": 372,
      "outputs": [
        {
          "output_type": "execute_result",
          "data": {
            "text/plain": [
              "        MLS  sold_price  zipcode     longitude    latitude  lot_acres  \\\n",
              "0  21530491   5300000.0    85637    -1.103.782  31.356.362    2154.00   \n",
              "1  21529082   4200000.0    85646  -111.045.371  31.594.213    1707.00   \n",
              "2   3054672   4200000.0    85646  -111.040.707  31.594.844    1707.00   \n",
              "3  21919321   4500000.0    85646  -111.035.925  31.645.878     636.67   \n",
              "4  21306357   3411450.0    85750  -110.813.768  32.285.162       3.21   \n",
              "\n",
              "      taxes  year_built  bedrooms  bathrooms  sqrt_ft  garage  \\\n",
              "0   5272.00        1941        13       10.0  10500.0     0.0   \n",
              "1  10422.36        1997         2        2.0   7300.0     0.0   \n",
              "2  10482.00        1997         2        3.0   3512.0     3.0   \n",
              "3   8418.58        1930         7        5.0   9019.0     4.0   \n",
              "4  15393.00        1995         4        6.0   6396.0     3.0   \n",
              "\n",
              "                                    kitchen_features  fireplaces  \\\n",
              "0            Dishwasher, Freezer, Refrigerator, Oven         6.0   \n",
              "1                       Dishwasher, Garbage Disposal         5.0   \n",
              "2         Dishwasher, Garbage Disposal, Refrigerator         5.0   \n",
              "3  Dishwasher, Double Sink, Pantry: Butler, Refri...         4.0   \n",
              "4  Dishwasher, Garbage Disposal, Refrigerator, Mi...         5.0   \n",
              "\n",
              "                 floor_covering   HOA  \n",
              "0            Mexican Tile, Wood   0.0  \n",
              "1          Natural Stone, Other   0.0  \n",
              "2    Natural Stone, Other: Rock  55.0  \n",
              "3  Ceramic Tile, Laminate, Wood  55.0  \n",
              "4              Carpet, Concrete  55.0  "
            ],
            "text/html": [
              "\n",
              "  <div id=\"df-d155afc8-a57c-47d7-b83f-f688242a0ece\">\n",
              "    <div class=\"colab-df-container\">\n",
              "      <div>\n",
              "<style scoped>\n",
              "    .dataframe tbody tr th:only-of-type {\n",
              "        vertical-align: middle;\n",
              "    }\n",
              "\n",
              "    .dataframe tbody tr th {\n",
              "        vertical-align: top;\n",
              "    }\n",
              "\n",
              "    .dataframe thead th {\n",
              "        text-align: right;\n",
              "    }\n",
              "</style>\n",
              "<table border=\"1\" class=\"dataframe\">\n",
              "  <thead>\n",
              "    <tr style=\"text-align: right;\">\n",
              "      <th></th>\n",
              "      <th>MLS</th>\n",
              "      <th>sold_price</th>\n",
              "      <th>zipcode</th>\n",
              "      <th>longitude</th>\n",
              "      <th>latitude</th>\n",
              "      <th>lot_acres</th>\n",
              "      <th>taxes</th>\n",
              "      <th>year_built</th>\n",
              "      <th>bedrooms</th>\n",
              "      <th>bathrooms</th>\n",
              "      <th>sqrt_ft</th>\n",
              "      <th>garage</th>\n",
              "      <th>kitchen_features</th>\n",
              "      <th>fireplaces</th>\n",
              "      <th>floor_covering</th>\n",
              "      <th>HOA</th>\n",
              "    </tr>\n",
              "  </thead>\n",
              "  <tbody>\n",
              "    <tr>\n",
              "      <th>0</th>\n",
              "      <td>21530491</td>\n",
              "      <td>5300000.0</td>\n",
              "      <td>85637</td>\n",
              "      <td>-1.103.782</td>\n",
              "      <td>31.356.362</td>\n",
              "      <td>2154.00</td>\n",
              "      <td>5272.00</td>\n",
              "      <td>1941</td>\n",
              "      <td>13</td>\n",
              "      <td>10.0</td>\n",
              "      <td>10500.0</td>\n",
              "      <td>0.0</td>\n",
              "      <td>Dishwasher, Freezer, Refrigerator, Oven</td>\n",
              "      <td>6.0</td>\n",
              "      <td>Mexican Tile, Wood</td>\n",
              "      <td>0.0</td>\n",
              "    </tr>\n",
              "    <tr>\n",
              "      <th>1</th>\n",
              "      <td>21529082</td>\n",
              "      <td>4200000.0</td>\n",
              "      <td>85646</td>\n",
              "      <td>-111.045.371</td>\n",
              "      <td>31.594.213</td>\n",
              "      <td>1707.00</td>\n",
              "      <td>10422.36</td>\n",
              "      <td>1997</td>\n",
              "      <td>2</td>\n",
              "      <td>2.0</td>\n",
              "      <td>7300.0</td>\n",
              "      <td>0.0</td>\n",
              "      <td>Dishwasher, Garbage Disposal</td>\n",
              "      <td>5.0</td>\n",
              "      <td>Natural Stone, Other</td>\n",
              "      <td>0.0</td>\n",
              "    </tr>\n",
              "    <tr>\n",
              "      <th>2</th>\n",
              "      <td>3054672</td>\n",
              "      <td>4200000.0</td>\n",
              "      <td>85646</td>\n",
              "      <td>-111.040.707</td>\n",
              "      <td>31.594.844</td>\n",
              "      <td>1707.00</td>\n",
              "      <td>10482.00</td>\n",
              "      <td>1997</td>\n",
              "      <td>2</td>\n",
              "      <td>3.0</td>\n",
              "      <td>3512.0</td>\n",
              "      <td>3.0</td>\n",
              "      <td>Dishwasher, Garbage Disposal, Refrigerator</td>\n",
              "      <td>5.0</td>\n",
              "      <td>Natural Stone, Other: Rock</td>\n",
              "      <td>55.0</td>\n",
              "    </tr>\n",
              "    <tr>\n",
              "      <th>3</th>\n",
              "      <td>21919321</td>\n",
              "      <td>4500000.0</td>\n",
              "      <td>85646</td>\n",
              "      <td>-111.035.925</td>\n",
              "      <td>31.645.878</td>\n",
              "      <td>636.67</td>\n",
              "      <td>8418.58</td>\n",
              "      <td>1930</td>\n",
              "      <td>7</td>\n",
              "      <td>5.0</td>\n",
              "      <td>9019.0</td>\n",
              "      <td>4.0</td>\n",
              "      <td>Dishwasher, Double Sink, Pantry: Butler, Refri...</td>\n",
              "      <td>4.0</td>\n",
              "      <td>Ceramic Tile, Laminate, Wood</td>\n",
              "      <td>55.0</td>\n",
              "    </tr>\n",
              "    <tr>\n",
              "      <th>4</th>\n",
              "      <td>21306357</td>\n",
              "      <td>3411450.0</td>\n",
              "      <td>85750</td>\n",
              "      <td>-110.813.768</td>\n",
              "      <td>32.285.162</td>\n",
              "      <td>3.21</td>\n",
              "      <td>15393.00</td>\n",
              "      <td>1995</td>\n",
              "      <td>4</td>\n",
              "      <td>6.0</td>\n",
              "      <td>6396.0</td>\n",
              "      <td>3.0</td>\n",
              "      <td>Dishwasher, Garbage Disposal, Refrigerator, Mi...</td>\n",
              "      <td>5.0</td>\n",
              "      <td>Carpet, Concrete</td>\n",
              "      <td>55.0</td>\n",
              "    </tr>\n",
              "  </tbody>\n",
              "</table>\n",
              "</div>\n",
              "      <button class=\"colab-df-convert\" onclick=\"convertToInteractive('df-d155afc8-a57c-47d7-b83f-f688242a0ece')\"\n",
              "              title=\"Convert this dataframe to an interactive table.\"\n",
              "              style=\"display:none;\">\n",
              "        \n",
              "  <svg xmlns=\"http://www.w3.org/2000/svg\" height=\"24px\"viewBox=\"0 0 24 24\"\n",
              "       width=\"24px\">\n",
              "    <path d=\"M0 0h24v24H0V0z\" fill=\"none\"/>\n",
              "    <path d=\"M18.56 5.44l.94 2.06.94-2.06 2.06-.94-2.06-.94-.94-2.06-.94 2.06-2.06.94zm-11 1L8.5 8.5l.94-2.06 2.06-.94-2.06-.94L8.5 2.5l-.94 2.06-2.06.94zm10 10l.94 2.06.94-2.06 2.06-.94-2.06-.94-.94-2.06-.94 2.06-2.06.94z\"/><path d=\"M17.41 7.96l-1.37-1.37c-.4-.4-.92-.59-1.43-.59-.52 0-1.04.2-1.43.59L10.3 9.45l-7.72 7.72c-.78.78-.78 2.05 0 2.83L4 21.41c.39.39.9.59 1.41.59.51 0 1.02-.2 1.41-.59l7.78-7.78 2.81-2.81c.8-.78.8-2.07 0-2.86zM5.41 20L4 18.59l7.72-7.72 1.47 1.35L5.41 20z\"/>\n",
              "  </svg>\n",
              "      </button>\n",
              "      \n",
              "  <style>\n",
              "    .colab-df-container {\n",
              "      display:flex;\n",
              "      flex-wrap:wrap;\n",
              "      gap: 12px;\n",
              "    }\n",
              "\n",
              "    .colab-df-convert {\n",
              "      background-color: #E8F0FE;\n",
              "      border: none;\n",
              "      border-radius: 50%;\n",
              "      cursor: pointer;\n",
              "      display: none;\n",
              "      fill: #1967D2;\n",
              "      height: 32px;\n",
              "      padding: 0 0 0 0;\n",
              "      width: 32px;\n",
              "    }\n",
              "\n",
              "    .colab-df-convert:hover {\n",
              "      background-color: #E2EBFA;\n",
              "      box-shadow: 0px 1px 2px rgba(60, 64, 67, 0.3), 0px 1px 3px 1px rgba(60, 64, 67, 0.15);\n",
              "      fill: #174EA6;\n",
              "    }\n",
              "\n",
              "    [theme=dark] .colab-df-convert {\n",
              "      background-color: #3B4455;\n",
              "      fill: #D2E3FC;\n",
              "    }\n",
              "\n",
              "    [theme=dark] .colab-df-convert:hover {\n",
              "      background-color: #434B5C;\n",
              "      box-shadow: 0px 1px 3px 1px rgba(0, 0, 0, 0.15);\n",
              "      filter: drop-shadow(0px 1px 2px rgba(0, 0, 0, 0.3));\n",
              "      fill: #FFFFFF;\n",
              "    }\n",
              "  </style>\n",
              "\n",
              "      <script>\n",
              "        const buttonEl =\n",
              "          document.querySelector('#df-d155afc8-a57c-47d7-b83f-f688242a0ece button.colab-df-convert');\n",
              "        buttonEl.style.display =\n",
              "          google.colab.kernel.accessAllowed ? 'block' : 'none';\n",
              "\n",
              "        async function convertToInteractive(key) {\n",
              "          const element = document.querySelector('#df-d155afc8-a57c-47d7-b83f-f688242a0ece');\n",
              "          const dataTable =\n",
              "            await google.colab.kernel.invokeFunction('convertToInteractive',\n",
              "                                                     [key], {});\n",
              "          if (!dataTable) return;\n",
              "\n",
              "          const docLinkHtml = 'Like what you see? Visit the ' +\n",
              "            '<a target=\"_blank\" href=https://colab.research.google.com/notebooks/data_table.ipynb>data table notebook</a>'\n",
              "            + ' to learn more about interactive tables.';\n",
              "          element.innerHTML = '';\n",
              "          dataTable['output_type'] = 'display_data';\n",
              "          await google.colab.output.renderOutput(dataTable, element);\n",
              "          const docLink = document.createElement('div');\n",
              "          docLink.innerHTML = docLinkHtml;\n",
              "          element.appendChild(docLink);\n",
              "        }\n",
              "      </script>\n",
              "    </div>\n",
              "  </div>\n",
              "  "
            ]
          },
          "metadata": {},
          "execution_count": 372
        }
      ]
    },
    {
      "cell_type": "code",
      "source": [
        "data.describe()"
      ],
      "metadata": {
        "colab": {
          "base_uri": "https://localhost:8080/",
          "height": 300
        },
        "id": "Y-ZgFSrSba4g",
        "outputId": "04504a89-1256-4010-fdcb-3b1bfef4b2e7"
      },
      "execution_count": 373,
      "outputs": [
        {
          "output_type": "execute_result",
          "data": {
            "text/plain": [
              "                MLS    sold_price       zipcode    lot_acres         taxes  \\\n",
              "count  5.000000e+03  5.000000e+03   5000.000000  5000.000000  5.000000e+03   \n",
              "mean   2.127070e+07  7.746262e+05  85723.025600     4.659994  9.402828e+03   \n",
              "std    2.398508e+06  3.185556e+05     38.061712    51.633517  1.729385e+05   \n",
              "min    3.042851e+06  1.690000e+05  85118.000000     0.000000  0.000000e+00   \n",
              "25%    2.140718e+07  5.850000e+05  85718.000000     0.580000  4.803605e+03   \n",
              "50%    2.161469e+07  6.750000e+05  85737.000000     0.990000  6.223760e+03   \n",
              "75%    2.180480e+07  8.350000e+05  85749.000000     1.770000  8.082830e+03   \n",
              "max    2.192856e+07  5.300000e+06  86323.000000  2154.000000  1.221508e+07   \n",
              "\n",
              "       year_built     bedrooms    bathrooms       sqrt_ft       garage  \\\n",
              "count  5000.00000  5000.000000  5000.000000   5000.000000  5000.000000   \n",
              "mean   1992.32800     3.933800     3.830100   3714.077920     2.816400   \n",
              "std      65.48614     1.245362     1.386243   1114.596305     1.192131   \n",
              "min       0.00000     1.000000     1.000000   1100.000000     0.000000   \n",
              "25%    1987.00000     3.000000     3.000000   3051.000000     2.000000   \n",
              "50%    1999.00000     4.000000     4.000000   3512.000000     3.000000   \n",
              "75%    2006.00000     4.000000     4.000000   4120.000000     3.000000   \n",
              "max    2019.00000    36.000000    36.000000  22408.000000    30.000000   \n",
              "\n",
              "        fireplaces          HOA  \n",
              "count  5000.000000  5000.000000  \n",
              "mean      1.895800    82.274618  \n",
              "std       1.143505   151.842160  \n",
              "min       0.000000     0.000000  \n",
              "25%       1.000000    13.750000  \n",
              "50%       2.000000    55.000000  \n",
              "75%       3.000000   122.000000  \n",
              "max       9.000000  8333.000000  "
            ],
            "text/html": [
              "\n",
              "  <div id=\"df-171f38c0-ad04-41ad-8e35-89c045a11bcf\">\n",
              "    <div class=\"colab-df-container\">\n",
              "      <div>\n",
              "<style scoped>\n",
              "    .dataframe tbody tr th:only-of-type {\n",
              "        vertical-align: middle;\n",
              "    }\n",
              "\n",
              "    .dataframe tbody tr th {\n",
              "        vertical-align: top;\n",
              "    }\n",
              "\n",
              "    .dataframe thead th {\n",
              "        text-align: right;\n",
              "    }\n",
              "</style>\n",
              "<table border=\"1\" class=\"dataframe\">\n",
              "  <thead>\n",
              "    <tr style=\"text-align: right;\">\n",
              "      <th></th>\n",
              "      <th>MLS</th>\n",
              "      <th>sold_price</th>\n",
              "      <th>zipcode</th>\n",
              "      <th>lot_acres</th>\n",
              "      <th>taxes</th>\n",
              "      <th>year_built</th>\n",
              "      <th>bedrooms</th>\n",
              "      <th>bathrooms</th>\n",
              "      <th>sqrt_ft</th>\n",
              "      <th>garage</th>\n",
              "      <th>fireplaces</th>\n",
              "      <th>HOA</th>\n",
              "    </tr>\n",
              "  </thead>\n",
              "  <tbody>\n",
              "    <tr>\n",
              "      <th>count</th>\n",
              "      <td>5.000000e+03</td>\n",
              "      <td>5.000000e+03</td>\n",
              "      <td>5000.000000</td>\n",
              "      <td>5000.000000</td>\n",
              "      <td>5.000000e+03</td>\n",
              "      <td>5000.00000</td>\n",
              "      <td>5000.000000</td>\n",
              "      <td>5000.000000</td>\n",
              "      <td>5000.000000</td>\n",
              "      <td>5000.000000</td>\n",
              "      <td>5000.000000</td>\n",
              "      <td>5000.000000</td>\n",
              "    </tr>\n",
              "    <tr>\n",
              "      <th>mean</th>\n",
              "      <td>2.127070e+07</td>\n",
              "      <td>7.746262e+05</td>\n",
              "      <td>85723.025600</td>\n",
              "      <td>4.659994</td>\n",
              "      <td>9.402828e+03</td>\n",
              "      <td>1992.32800</td>\n",
              "      <td>3.933800</td>\n",
              "      <td>3.830100</td>\n",
              "      <td>3714.077920</td>\n",
              "      <td>2.816400</td>\n",
              "      <td>1.895800</td>\n",
              "      <td>82.274618</td>\n",
              "    </tr>\n",
              "    <tr>\n",
              "      <th>std</th>\n",
              "      <td>2.398508e+06</td>\n",
              "      <td>3.185556e+05</td>\n",
              "      <td>38.061712</td>\n",
              "      <td>51.633517</td>\n",
              "      <td>1.729385e+05</td>\n",
              "      <td>65.48614</td>\n",
              "      <td>1.245362</td>\n",
              "      <td>1.386243</td>\n",
              "      <td>1114.596305</td>\n",
              "      <td>1.192131</td>\n",
              "      <td>1.143505</td>\n",
              "      <td>151.842160</td>\n",
              "    </tr>\n",
              "    <tr>\n",
              "      <th>min</th>\n",
              "      <td>3.042851e+06</td>\n",
              "      <td>1.690000e+05</td>\n",
              "      <td>85118.000000</td>\n",
              "      <td>0.000000</td>\n",
              "      <td>0.000000e+00</td>\n",
              "      <td>0.00000</td>\n",
              "      <td>1.000000</td>\n",
              "      <td>1.000000</td>\n",
              "      <td>1100.000000</td>\n",
              "      <td>0.000000</td>\n",
              "      <td>0.000000</td>\n",
              "      <td>0.000000</td>\n",
              "    </tr>\n",
              "    <tr>\n",
              "      <th>25%</th>\n",
              "      <td>2.140718e+07</td>\n",
              "      <td>5.850000e+05</td>\n",
              "      <td>85718.000000</td>\n",
              "      <td>0.580000</td>\n",
              "      <td>4.803605e+03</td>\n",
              "      <td>1987.00000</td>\n",
              "      <td>3.000000</td>\n",
              "      <td>3.000000</td>\n",
              "      <td>3051.000000</td>\n",
              "      <td>2.000000</td>\n",
              "      <td>1.000000</td>\n",
              "      <td>13.750000</td>\n",
              "    </tr>\n",
              "    <tr>\n",
              "      <th>50%</th>\n",
              "      <td>2.161469e+07</td>\n",
              "      <td>6.750000e+05</td>\n",
              "      <td>85737.000000</td>\n",
              "      <td>0.990000</td>\n",
              "      <td>6.223760e+03</td>\n",
              "      <td>1999.00000</td>\n",
              "      <td>4.000000</td>\n",
              "      <td>4.000000</td>\n",
              "      <td>3512.000000</td>\n",
              "      <td>3.000000</td>\n",
              "      <td>2.000000</td>\n",
              "      <td>55.000000</td>\n",
              "    </tr>\n",
              "    <tr>\n",
              "      <th>75%</th>\n",
              "      <td>2.180480e+07</td>\n",
              "      <td>8.350000e+05</td>\n",
              "      <td>85749.000000</td>\n",
              "      <td>1.770000</td>\n",
              "      <td>8.082830e+03</td>\n",
              "      <td>2006.00000</td>\n",
              "      <td>4.000000</td>\n",
              "      <td>4.000000</td>\n",
              "      <td>4120.000000</td>\n",
              "      <td>3.000000</td>\n",
              "      <td>3.000000</td>\n",
              "      <td>122.000000</td>\n",
              "    </tr>\n",
              "    <tr>\n",
              "      <th>max</th>\n",
              "      <td>2.192856e+07</td>\n",
              "      <td>5.300000e+06</td>\n",
              "      <td>86323.000000</td>\n",
              "      <td>2154.000000</td>\n",
              "      <td>1.221508e+07</td>\n",
              "      <td>2019.00000</td>\n",
              "      <td>36.000000</td>\n",
              "      <td>36.000000</td>\n",
              "      <td>22408.000000</td>\n",
              "      <td>30.000000</td>\n",
              "      <td>9.000000</td>\n",
              "      <td>8333.000000</td>\n",
              "    </tr>\n",
              "  </tbody>\n",
              "</table>\n",
              "</div>\n",
              "      <button class=\"colab-df-convert\" onclick=\"convertToInteractive('df-171f38c0-ad04-41ad-8e35-89c045a11bcf')\"\n",
              "              title=\"Convert this dataframe to an interactive table.\"\n",
              "              style=\"display:none;\">\n",
              "        \n",
              "  <svg xmlns=\"http://www.w3.org/2000/svg\" height=\"24px\"viewBox=\"0 0 24 24\"\n",
              "       width=\"24px\">\n",
              "    <path d=\"M0 0h24v24H0V0z\" fill=\"none\"/>\n",
              "    <path d=\"M18.56 5.44l.94 2.06.94-2.06 2.06-.94-2.06-.94-.94-2.06-.94 2.06-2.06.94zm-11 1L8.5 8.5l.94-2.06 2.06-.94-2.06-.94L8.5 2.5l-.94 2.06-2.06.94zm10 10l.94 2.06.94-2.06 2.06-.94-2.06-.94-.94-2.06-.94 2.06-2.06.94z\"/><path d=\"M17.41 7.96l-1.37-1.37c-.4-.4-.92-.59-1.43-.59-.52 0-1.04.2-1.43.59L10.3 9.45l-7.72 7.72c-.78.78-.78 2.05 0 2.83L4 21.41c.39.39.9.59 1.41.59.51 0 1.02-.2 1.41-.59l7.78-7.78 2.81-2.81c.8-.78.8-2.07 0-2.86zM5.41 20L4 18.59l7.72-7.72 1.47 1.35L5.41 20z\"/>\n",
              "  </svg>\n",
              "      </button>\n",
              "      \n",
              "  <style>\n",
              "    .colab-df-container {\n",
              "      display:flex;\n",
              "      flex-wrap:wrap;\n",
              "      gap: 12px;\n",
              "    }\n",
              "\n",
              "    .colab-df-convert {\n",
              "      background-color: #E8F0FE;\n",
              "      border: none;\n",
              "      border-radius: 50%;\n",
              "      cursor: pointer;\n",
              "      display: none;\n",
              "      fill: #1967D2;\n",
              "      height: 32px;\n",
              "      padding: 0 0 0 0;\n",
              "      width: 32px;\n",
              "    }\n",
              "\n",
              "    .colab-df-convert:hover {\n",
              "      background-color: #E2EBFA;\n",
              "      box-shadow: 0px 1px 2px rgba(60, 64, 67, 0.3), 0px 1px 3px 1px rgba(60, 64, 67, 0.15);\n",
              "      fill: #174EA6;\n",
              "    }\n",
              "\n",
              "    [theme=dark] .colab-df-convert {\n",
              "      background-color: #3B4455;\n",
              "      fill: #D2E3FC;\n",
              "    }\n",
              "\n",
              "    [theme=dark] .colab-df-convert:hover {\n",
              "      background-color: #434B5C;\n",
              "      box-shadow: 0px 1px 3px 1px rgba(0, 0, 0, 0.15);\n",
              "      filter: drop-shadow(0px 1px 2px rgba(0, 0, 0, 0.3));\n",
              "      fill: #FFFFFF;\n",
              "    }\n",
              "  </style>\n",
              "\n",
              "      <script>\n",
              "        const buttonEl =\n",
              "          document.querySelector('#df-171f38c0-ad04-41ad-8e35-89c045a11bcf button.colab-df-convert');\n",
              "        buttonEl.style.display =\n",
              "          google.colab.kernel.accessAllowed ? 'block' : 'none';\n",
              "\n",
              "        async function convertToInteractive(key) {\n",
              "          const element = document.querySelector('#df-171f38c0-ad04-41ad-8e35-89c045a11bcf');\n",
              "          const dataTable =\n",
              "            await google.colab.kernel.invokeFunction('convertToInteractive',\n",
              "                                                     [key], {});\n",
              "          if (!dataTable) return;\n",
              "\n",
              "          const docLinkHtml = 'Like what you see? Visit the ' +\n",
              "            '<a target=\"_blank\" href=https://colab.research.google.com/notebooks/data_table.ipynb>data table notebook</a>'\n",
              "            + ' to learn more about interactive tables.';\n",
              "          element.innerHTML = '';\n",
              "          dataTable['output_type'] = 'display_data';\n",
              "          await google.colab.output.renderOutput(dataTable, element);\n",
              "          const docLink = document.createElement('div');\n",
              "          docLink.innerHTML = docLinkHtml;\n",
              "          element.appendChild(docLink);\n",
              "        }\n",
              "      </script>\n",
              "    </div>\n",
              "  </div>\n",
              "  "
            ]
          },
          "metadata": {},
          "execution_count": 373
        }
      ]
    },
    {
      "cell_type": "code",
      "source": [
        "def class_price(sold_price):\n",
        "  if sold_price <=500000:\n",
        "    return 1\n",
        "  if sold_price <=1500000 >=500001:\n",
        "    return 2\n",
        "  if sold_price <=5000000 >=1500001:\n",
        "    return 3\n",
        "  if sold_price <=10000000 >=5000001:\n",
        "    return 4\n"
      ],
      "metadata": {
        "id": "soS6E4nEW6MO"
      },
      "execution_count": 374,
      "outputs": []
    },
    {
      "cell_type": "code",
      "source": [
        "data['class_price'] = data [[\"sold_price\"]].apply (lambda x : class_price(*x), axis=1)"
      ],
      "metadata": {
        "id": "3A81gR_weS6D"
      },
      "execution_count": 375,
      "outputs": []
    },
    {
      "cell_type": "code",
      "source": [
        "data.head()"
      ],
      "metadata": {
        "colab": {
          "base_uri": "https://localhost:8080/",
          "height": 372
        },
        "id": "oWHK1sIyg3_K",
        "outputId": "c512a150-2514-4565-d361-6d8f8f92a68b"
      },
      "execution_count": 376,
      "outputs": [
        {
          "output_type": "execute_result",
          "data": {
            "text/plain": [
              "        MLS  sold_price  zipcode     longitude    latitude  lot_acres  \\\n",
              "0  21530491   5300000.0    85637    -1.103.782  31.356.362    2154.00   \n",
              "1  21529082   4200000.0    85646  -111.045.371  31.594.213    1707.00   \n",
              "2   3054672   4200000.0    85646  -111.040.707  31.594.844    1707.00   \n",
              "3  21919321   4500000.0    85646  -111.035.925  31.645.878     636.67   \n",
              "4  21306357   3411450.0    85750  -110.813.768  32.285.162       3.21   \n",
              "\n",
              "      taxes  year_built  bedrooms  bathrooms  sqrt_ft  garage  \\\n",
              "0   5272.00        1941        13       10.0  10500.0     0.0   \n",
              "1  10422.36        1997         2        2.0   7300.0     0.0   \n",
              "2  10482.00        1997         2        3.0   3512.0     3.0   \n",
              "3   8418.58        1930         7        5.0   9019.0     4.0   \n",
              "4  15393.00        1995         4        6.0   6396.0     3.0   \n",
              "\n",
              "                                    kitchen_features  fireplaces  \\\n",
              "0            Dishwasher, Freezer, Refrigerator, Oven         6.0   \n",
              "1                       Dishwasher, Garbage Disposal         5.0   \n",
              "2         Dishwasher, Garbage Disposal, Refrigerator         5.0   \n",
              "3  Dishwasher, Double Sink, Pantry: Butler, Refri...         4.0   \n",
              "4  Dishwasher, Garbage Disposal, Refrigerator, Mi...         5.0   \n",
              "\n",
              "                 floor_covering   HOA  class_price  \n",
              "0            Mexican Tile, Wood   0.0            4  \n",
              "1          Natural Stone, Other   0.0            3  \n",
              "2    Natural Stone, Other: Rock  55.0            3  \n",
              "3  Ceramic Tile, Laminate, Wood  55.0            3  \n",
              "4              Carpet, Concrete  55.0            3  "
            ],
            "text/html": [
              "\n",
              "  <div id=\"df-d141481d-be45-4264-9ca6-392865294005\">\n",
              "    <div class=\"colab-df-container\">\n",
              "      <div>\n",
              "<style scoped>\n",
              "    .dataframe tbody tr th:only-of-type {\n",
              "        vertical-align: middle;\n",
              "    }\n",
              "\n",
              "    .dataframe tbody tr th {\n",
              "        vertical-align: top;\n",
              "    }\n",
              "\n",
              "    .dataframe thead th {\n",
              "        text-align: right;\n",
              "    }\n",
              "</style>\n",
              "<table border=\"1\" class=\"dataframe\">\n",
              "  <thead>\n",
              "    <tr style=\"text-align: right;\">\n",
              "      <th></th>\n",
              "      <th>MLS</th>\n",
              "      <th>sold_price</th>\n",
              "      <th>zipcode</th>\n",
              "      <th>longitude</th>\n",
              "      <th>latitude</th>\n",
              "      <th>lot_acres</th>\n",
              "      <th>taxes</th>\n",
              "      <th>year_built</th>\n",
              "      <th>bedrooms</th>\n",
              "      <th>bathrooms</th>\n",
              "      <th>sqrt_ft</th>\n",
              "      <th>garage</th>\n",
              "      <th>kitchen_features</th>\n",
              "      <th>fireplaces</th>\n",
              "      <th>floor_covering</th>\n",
              "      <th>HOA</th>\n",
              "      <th>class_price</th>\n",
              "    </tr>\n",
              "  </thead>\n",
              "  <tbody>\n",
              "    <tr>\n",
              "      <th>0</th>\n",
              "      <td>21530491</td>\n",
              "      <td>5300000.0</td>\n",
              "      <td>85637</td>\n",
              "      <td>-1.103.782</td>\n",
              "      <td>31.356.362</td>\n",
              "      <td>2154.00</td>\n",
              "      <td>5272.00</td>\n",
              "      <td>1941</td>\n",
              "      <td>13</td>\n",
              "      <td>10.0</td>\n",
              "      <td>10500.0</td>\n",
              "      <td>0.0</td>\n",
              "      <td>Dishwasher, Freezer, Refrigerator, Oven</td>\n",
              "      <td>6.0</td>\n",
              "      <td>Mexican Tile, Wood</td>\n",
              "      <td>0.0</td>\n",
              "      <td>4</td>\n",
              "    </tr>\n",
              "    <tr>\n",
              "      <th>1</th>\n",
              "      <td>21529082</td>\n",
              "      <td>4200000.0</td>\n",
              "      <td>85646</td>\n",
              "      <td>-111.045.371</td>\n",
              "      <td>31.594.213</td>\n",
              "      <td>1707.00</td>\n",
              "      <td>10422.36</td>\n",
              "      <td>1997</td>\n",
              "      <td>2</td>\n",
              "      <td>2.0</td>\n",
              "      <td>7300.0</td>\n",
              "      <td>0.0</td>\n",
              "      <td>Dishwasher, Garbage Disposal</td>\n",
              "      <td>5.0</td>\n",
              "      <td>Natural Stone, Other</td>\n",
              "      <td>0.0</td>\n",
              "      <td>3</td>\n",
              "    </tr>\n",
              "    <tr>\n",
              "      <th>2</th>\n",
              "      <td>3054672</td>\n",
              "      <td>4200000.0</td>\n",
              "      <td>85646</td>\n",
              "      <td>-111.040.707</td>\n",
              "      <td>31.594.844</td>\n",
              "      <td>1707.00</td>\n",
              "      <td>10482.00</td>\n",
              "      <td>1997</td>\n",
              "      <td>2</td>\n",
              "      <td>3.0</td>\n",
              "      <td>3512.0</td>\n",
              "      <td>3.0</td>\n",
              "      <td>Dishwasher, Garbage Disposal, Refrigerator</td>\n",
              "      <td>5.0</td>\n",
              "      <td>Natural Stone, Other: Rock</td>\n",
              "      <td>55.0</td>\n",
              "      <td>3</td>\n",
              "    </tr>\n",
              "    <tr>\n",
              "      <th>3</th>\n",
              "      <td>21919321</td>\n",
              "      <td>4500000.0</td>\n",
              "      <td>85646</td>\n",
              "      <td>-111.035.925</td>\n",
              "      <td>31.645.878</td>\n",
              "      <td>636.67</td>\n",
              "      <td>8418.58</td>\n",
              "      <td>1930</td>\n",
              "      <td>7</td>\n",
              "      <td>5.0</td>\n",
              "      <td>9019.0</td>\n",
              "      <td>4.0</td>\n",
              "      <td>Dishwasher, Double Sink, Pantry: Butler, Refri...</td>\n",
              "      <td>4.0</td>\n",
              "      <td>Ceramic Tile, Laminate, Wood</td>\n",
              "      <td>55.0</td>\n",
              "      <td>3</td>\n",
              "    </tr>\n",
              "    <tr>\n",
              "      <th>4</th>\n",
              "      <td>21306357</td>\n",
              "      <td>3411450.0</td>\n",
              "      <td>85750</td>\n",
              "      <td>-110.813.768</td>\n",
              "      <td>32.285.162</td>\n",
              "      <td>3.21</td>\n",
              "      <td>15393.00</td>\n",
              "      <td>1995</td>\n",
              "      <td>4</td>\n",
              "      <td>6.0</td>\n",
              "      <td>6396.0</td>\n",
              "      <td>3.0</td>\n",
              "      <td>Dishwasher, Garbage Disposal, Refrigerator, Mi...</td>\n",
              "      <td>5.0</td>\n",
              "      <td>Carpet, Concrete</td>\n",
              "      <td>55.0</td>\n",
              "      <td>3</td>\n",
              "    </tr>\n",
              "  </tbody>\n",
              "</table>\n",
              "</div>\n",
              "      <button class=\"colab-df-convert\" onclick=\"convertToInteractive('df-d141481d-be45-4264-9ca6-392865294005')\"\n",
              "              title=\"Convert this dataframe to an interactive table.\"\n",
              "              style=\"display:none;\">\n",
              "        \n",
              "  <svg xmlns=\"http://www.w3.org/2000/svg\" height=\"24px\"viewBox=\"0 0 24 24\"\n",
              "       width=\"24px\">\n",
              "    <path d=\"M0 0h24v24H0V0z\" fill=\"none\"/>\n",
              "    <path d=\"M18.56 5.44l.94 2.06.94-2.06 2.06-.94-2.06-.94-.94-2.06-.94 2.06-2.06.94zm-11 1L8.5 8.5l.94-2.06 2.06-.94-2.06-.94L8.5 2.5l-.94 2.06-2.06.94zm10 10l.94 2.06.94-2.06 2.06-.94-2.06-.94-.94-2.06-.94 2.06-2.06.94z\"/><path d=\"M17.41 7.96l-1.37-1.37c-.4-.4-.92-.59-1.43-.59-.52 0-1.04.2-1.43.59L10.3 9.45l-7.72 7.72c-.78.78-.78 2.05 0 2.83L4 21.41c.39.39.9.59 1.41.59.51 0 1.02-.2 1.41-.59l7.78-7.78 2.81-2.81c.8-.78.8-2.07 0-2.86zM5.41 20L4 18.59l7.72-7.72 1.47 1.35L5.41 20z\"/>\n",
              "  </svg>\n",
              "      </button>\n",
              "      \n",
              "  <style>\n",
              "    .colab-df-container {\n",
              "      display:flex;\n",
              "      flex-wrap:wrap;\n",
              "      gap: 12px;\n",
              "    }\n",
              "\n",
              "    .colab-df-convert {\n",
              "      background-color: #E8F0FE;\n",
              "      border: none;\n",
              "      border-radius: 50%;\n",
              "      cursor: pointer;\n",
              "      display: none;\n",
              "      fill: #1967D2;\n",
              "      height: 32px;\n",
              "      padding: 0 0 0 0;\n",
              "      width: 32px;\n",
              "    }\n",
              "\n",
              "    .colab-df-convert:hover {\n",
              "      background-color: #E2EBFA;\n",
              "      box-shadow: 0px 1px 2px rgba(60, 64, 67, 0.3), 0px 1px 3px 1px rgba(60, 64, 67, 0.15);\n",
              "      fill: #174EA6;\n",
              "    }\n",
              "\n",
              "    [theme=dark] .colab-df-convert {\n",
              "      background-color: #3B4455;\n",
              "      fill: #D2E3FC;\n",
              "    }\n",
              "\n",
              "    [theme=dark] .colab-df-convert:hover {\n",
              "      background-color: #434B5C;\n",
              "      box-shadow: 0px 1px 3px 1px rgba(0, 0, 0, 0.15);\n",
              "      filter: drop-shadow(0px 1px 2px rgba(0, 0, 0, 0.3));\n",
              "      fill: #FFFFFF;\n",
              "    }\n",
              "  </style>\n",
              "\n",
              "      <script>\n",
              "        const buttonEl =\n",
              "          document.querySelector('#df-d141481d-be45-4264-9ca6-392865294005 button.colab-df-convert');\n",
              "        buttonEl.style.display =\n",
              "          google.colab.kernel.accessAllowed ? 'block' : 'none';\n",
              "\n",
              "        async function convertToInteractive(key) {\n",
              "          const element = document.querySelector('#df-d141481d-be45-4264-9ca6-392865294005');\n",
              "          const dataTable =\n",
              "            await google.colab.kernel.invokeFunction('convertToInteractive',\n",
              "                                                     [key], {});\n",
              "          if (!dataTable) return;\n",
              "\n",
              "          const docLinkHtml = 'Like what you see? Visit the ' +\n",
              "            '<a target=\"_blank\" href=https://colab.research.google.com/notebooks/data_table.ipynb>data table notebook</a>'\n",
              "            + ' to learn more about interactive tables.';\n",
              "          element.innerHTML = '';\n",
              "          dataTable['output_type'] = 'display_data';\n",
              "          await google.colab.output.renderOutput(dataTable, element);\n",
              "          const docLink = document.createElement('div');\n",
              "          docLink.innerHTML = docLinkHtml;\n",
              "          element.appendChild(docLink);\n",
              "        }\n",
              "      </script>\n",
              "    </div>\n",
              "  </div>\n",
              "  "
            ]
          },
          "metadata": {},
          "execution_count": 376
        }
      ]
    },
    {
      "cell_type": "code",
      "source": [
        "data['floor_covering'].value_counts()"
      ],
      "metadata": {
        "colab": {
          "base_uri": "https://localhost:8080/",
          "height": 0
        },
        "id": "JAex3_ntTy0K",
        "outputId": "777e59b5-6c07-4645-cf96-2b54705c0e54"
      },
      "execution_count": 377,
      "outputs": [
        {
          "output_type": "execute_result",
          "data": {
            "text/plain": [
              "Carpet, Ceramic Tile                           1235\n",
              "Carpet, Natural Stone                           579\n",
              "Carpet, Ceramic Tile, Wood                      258\n",
              "Ceramic Tile                                    247\n",
              "Concrete                                        242\n",
              "                                               ... \n",
              "Carpet, Concrete, Wood, Other: travertine         1\n",
              "Concrete, Wood, Other: Mesquite wood floors       1\n",
              "Carpet, Ceramic Tile, Wood, Other: Slate          1\n",
              "Carpet, Other: brick pavers                       1\n",
              "Concrete, Other: Cork                             1\n",
              "Name: floor_covering, Length: 311, dtype: int64"
            ]
          },
          "metadata": {},
          "execution_count": 377
        }
      ]
    },
    {
      "cell_type": "code",
      "source": [
        "plt.scatter(data['sold_price'], data['year_built'])\n",
        "plt.xlabel('sold_price')\n",
        "plt.ylabel('year_built')\n",
        "plt.show()"
      ],
      "metadata": {
        "colab": {
          "base_uri": "https://localhost:8080/",
          "height": 280
        },
        "id": "vGx8PlnVLdct",
        "outputId": "d6da9a89-5c92-40fb-97b0-aae676fe91b0"
      },
      "execution_count": 378,
      "outputs": [
        {
          "output_type": "display_data",
          "data": {
            "text/plain": [
              "<Figure size 432x288 with 1 Axes>"
            ],
            "image/png": "[encoded data removed]"
          },
          "metadata": {
            "needs_background": "light"
          }
        }
      ]
    },
    {
      "cell_type": "code",
      "source": [
        "data['year_built'].value_counts()"
      ],
      "metadata": {
        "colab": {
          "base_uri": "https://localhost:8080/",
          "height": 0
        },
        "id": "c5uRHszGOK0D",
        "outputId": "a814107e-bfc4-4fd7-a483-c307eb92118e"
      },
      "execution_count": 379,
      "outputs": [
        {
          "output_type": "execute_result",
          "data": {
            "text/plain": [
              "2006    247\n",
              "2007    236\n",
              "2002    235\n",
              "2005    230\n",
              "2004    202\n",
              "       ... \n",
              "1913      1\n",
              "1923      1\n",
              "1907      1\n",
              "1911      1\n",
              "1927      1\n",
              "Name: year_built, Length: 112, dtype: int64"
            ]
          },
          "metadata": {},
          "execution_count": 379
        }
      ]
    },
    {
      "cell_type": "code",
      "source": [
        "X= data[['sold_price', 'zipcode', 'bedrooms', 'bathrooms', 'sqrt_ft', 'class_price']].copy()"
      ],
      "metadata": {
        "id": "xrPuxG1WOXoF"
      },
      "execution_count": 380,
      "outputs": []
    },
    {
      "cell_type": "code",
      "source": [
        "X"
      ],
      "metadata": {
        "colab": {
          "base_uri": "https://localhost:8080/",
          "height": 424
        },
        "id": "Dv7ZtVNwpAvH",
        "outputId": "eb3d0893-5ea9-44db-a5cc-9c45167d7b7e"
      },
      "execution_count": 381,
      "outputs": [
        {
          "output_type": "execute_result",
          "data": {
            "text/plain": [
              "      sold_price  zipcode  bedrooms  bathrooms  sqrt_ft  class_price\n",
              "0      5300000.0    85637        13       10.0  10500.0            4\n",
              "1      4200000.0    85646         2        2.0   7300.0            3\n",
              "2      4200000.0    85646         2        3.0   3512.0            3\n",
              "3      4500000.0    85646         7        5.0   9019.0            3\n",
              "4      3411450.0    85750         4        6.0   6396.0            3\n",
              "...          ...      ...       ...        ...      ...          ...\n",
              "4995    495000.0    85641         5        3.0   3601.0            1\n",
              "4996    550000.0    85750         4        3.0   2318.0            2\n",
              "4997    475000.0    85192         3        2.0   1772.0            1\n",
              "4998    550000.0    85745         4        4.0   3724.0            2\n",
              "4999    450000.0    85621         4        4.0   4317.0            1\n",
              "\n",
              "[5000 rows x 6 columns]"
            ],
            "text/html": [
              "\n",
              "  <div id=\"df-d7b028d4-a306-4db1-940d-c31525070535\">\n",
              "    <div class=\"colab-df-container\">\n",
              "      <div>\n",
              "<style scoped>\n",
              "    .dataframe tbody tr th:only-of-type {\n",
              "        vertical-align: middle;\n",
              "    }\n",
              "\n",
              "    .dataframe tbody tr th {\n",
              "        vertical-align: top;\n",
              "    }\n",
              "\n",
              "    .dataframe thead th {\n",
              "        text-align: right;\n",
              "    }\n",
              "</style>\n",
              "<table border=\"1\" class=\"dataframe\">\n",
              "  <thead>\n",
              "    <tr style=\"text-align: right;\">\n",
              "      <th></th>\n",
              "      <th>sold_price</th>\n",
              "      <th>zipcode</th>\n",
              "      <th>bedrooms</th>\n",
              "      <th>bathrooms</th>\n",
              "      <th>sqrt_ft</th>\n",
              "      <th>class_price</th>\n",
              "    </tr>\n",
              "  </thead>\n",
              "  <tbody>\n",
              "    <tr>\n",
              "      <th>0</th>\n",
              "      <td>5300000.0</td>\n",
              "      <td>85637</td>\n",
              "      <td>13</td>\n",
              "      <td>10.0</td>\n",
              "      <td>10500.0</td>\n",
              "      <td>4</td>\n",
              "    </tr>\n",
              "    <tr>\n",
              "      <th>1</th>\n",
              "      <td>4200000.0</td>\n",
              "      <td>85646</td>\n",
              "      <td>2</td>\n",
              "      <td>2.0</td>\n",
              "      <td>7300.0</td>\n",
              "      <td>3</td>\n",
              "    </tr>\n",
              "    <tr>\n",
              "      <th>2</th>\n",
              "      <td>4200000.0</td>\n",
              "      <td>85646</td>\n",
              "      <td>2</td>\n",
              "      <td>3.0</td>\n",
              "      <td>3512.0</td>\n",
              "      <td>3</td>\n",
              "    </tr>\n",
              "    <tr>\n",
              "      <th>3</th>\n",
              "      <td>4500000.0</td>\n",
              "      <td>85646</td>\n",
              "      <td>7</td>\n",
              "      <td>5.0</td>\n",
              "      <td>9019.0</td>\n",
              "      <td>3</td>\n",
              "    </tr>\n",
              "    <tr>\n",
              "      <th>4</th>\n",
              "      <td>3411450.0</td>\n",
              "      <td>85750</td>\n",
              "      <td>4</td>\n",
              "      <td>6.0</td>\n",
              "      <td>6396.0</td>\n",
              "      <td>3</td>\n",
              "    </tr>\n",
              "    <tr>\n",
              "      <th>...</th>\n",
              "      <td>...</td>\n",
              "      <td>...</td>\n",
              "      <td>...</td>\n",
              "      <td>...</td>\n",
              "      <td>...</td>\n",
              "      <td>...</td>\n",
              "    </tr>\n",
              "    <tr>\n",
              "      <th>4995</th>\n",
              "      <td>495000.0</td>\n",
              "      <td>85641</td>\n",
              "      <td>5</td>\n",
              "      <td>3.0</td>\n",
              "      <td>3601.0</td>\n",
              "      <td>1</td>\n",
              "    </tr>\n",
              "    <tr>\n",
              "      <th>4996</th>\n",
              "      <td>550000.0</td>\n",
              "      <td>85750</td>\n",
              "      <td>4</td>\n",
              "      <td>3.0</td>\n",
              "      <td>2318.0</td>\n",
              "      <td>2</td>\n",
              "    </tr>\n",
              "    <tr>\n",
              "      <th>4997</th>\n",
              "      <td>475000.0</td>\n",
              "      <td>85192</td>\n",
              "      <td>3</td>\n",
              "      <td>2.0</td>\n",
              "      <td>1772.0</td>\n",
              "      <td>1</td>\n",
              "    </tr>\n",
              "    <tr>\n",
              "      <th>4998</th>\n",
              "      <td>550000.0</td>\n",
              "      <td>85745</td>\n",
              "      <td>4</td>\n",
              "      <td>4.0</td>\n",
              "      <td>3724.0</td>\n",
              "      <td>2</td>\n",
              "    </tr>\n",
              "    <tr>\n",
              "      <th>4999</th>\n",
              "      <td>450000.0</td>\n",
              "      <td>85621</td>\n",
              "      <td>4</td>\n",
              "      <td>4.0</td>\n",
              "      <td>4317.0</td>\n",
              "      <td>1</td>\n",
              "    </tr>\n",
              "  </tbody>\n",
              "</table>\n",
              "<p>5000 rows × 6 columns</p>\n",
              "</div>\n",
              "      <button class=\"colab-df-convert\" onclick=\"convertToInteractive('df-d7b028d4-a306-4db1-940d-c31525070535')\"\n",
              "              title=\"Convert this dataframe to an interactive table.\"\n",
              "              style=\"display:none;\">\n",
              "        \n",
              "  <svg xmlns=\"http://www.w3.org/2000/svg\" height=\"24px\"viewBox=\"0 0 24 24\"\n",
              "       width=\"24px\">\n",
              "    <path d=\"M0 0h24v24H0V0z\" fill=\"none\"/>\n",
              "    <path d=\"M18.56 5.44l.94 2.06.94-2.06 2.06-.94-2.06-.94-.94-2.06-.94 2.06-2.06.94zm-11 1L8.5 8.5l.94-2.06 2.06-.94-2.06-.94L8.5 2.5l-.94 2.06-2.06.94zm10 10l.94 2.06.94-2.06 2.06-.94-2.06-.94-.94-2.06-.94 2.06-2.06.94z\"/><path d=\"M17.41 7.96l-1.37-1.37c-.4-.4-.92-.59-1.43-.59-.52 0-1.04.2-1.43.59L10.3 9.45l-7.72 7.72c-.78.78-.78 2.05 0 2.83L4 21.41c.39.39.9.59 1.41.59.51 0 1.02-.2 1.41-.59l7.78-7.78 2.81-2.81c.8-.78.8-2.07 0-2.86zM5.41 20L4 18.59l7.72-7.72 1.47 1.35L5.41 20z\"/>\n",
              "  </svg>\n",
              "      </button>\n",
              "      \n",
              "  <style>\n",
              "    .colab-df-container {\n",
              "      display:flex;\n",
              "      flex-wrap:wrap;\n",
              "      gap: 12px;\n",
              "    }\n",
              "\n",
              "    .colab-df-convert {\n",
              "      background-color: #E8F0FE;\n",
              "      border: none;\n",
              "      border-radius: 50%;\n",
              "      cursor: pointer;\n",
              "      display: none;\n",
              "      fill: #1967D2;\n",
              "      height: 32px;\n",
              "      padding: 0 0 0 0;\n",
              "      width: 32px;\n",
              "    }\n",
              "\n",
              "    .colab-df-convert:hover {\n",
              "      background-color: #E2EBFA;\n",
              "      box-shadow: 0px 1px 2px rgba(60, 64, 67, 0.3), 0px 1px 3px 1px rgba(60, 64, 67, 0.15);\n",
              "      fill: #174EA6;\n",
              "    }\n",
              "\n",
              "    [theme=dark] .colab-df-convert {\n",
              "      background-color: #3B4455;\n",
              "      fill: #D2E3FC;\n",
              "    }\n",
              "\n",
              "    [theme=dark] .colab-df-convert:hover {\n",
              "      background-color: #434B5C;\n",
              "      box-shadow: 0px 1px 3px 1px rgba(0, 0, 0, 0.15);\n",
              "      filter: drop-shadow(0px 1px 2px rgba(0, 0, 0, 0.3));\n",
              "      fill: #FFFFFF;\n",
              "    }\n",
              "  </style>\n",
              "\n",
              "      <script>\n",
              "        const buttonEl =\n",
              "          document.querySelector('#df-d7b028d4-a306-4db1-940d-c31525070535 button.colab-df-convert');\n",
              "        buttonEl.style.display =\n",
              "          google.colab.kernel.accessAllowed ? 'block' : 'none';\n",
              "\n",
              "        async function convertToInteractive(key) {\n",
              "          const element = document.querySelector('#df-d7b028d4-a306-4db1-940d-c31525070535');\n",
              "          const dataTable =\n",
              "            await google.colab.kernel.invokeFunction('convertToInteractive',\n",
              "                                                     [key], {});\n",
              "          if (!dataTable) return;\n",
              "\n",
              "          const docLinkHtml = 'Like what you see? Visit the ' +\n",
              "            '<a target=\"_blank\" href=https://colab.research.google.com/notebooks/data_table.ipynb>data table notebook</a>'\n",
              "            + ' to learn more about interactive tables.';\n",
              "          element.innerHTML = '';\n",
              "          dataTable['output_type'] = 'display_data';\n",
              "          await google.colab.output.renderOutput(dataTable, element);\n",
              "          const docLink = document.createElement('div');\n",
              "          docLink.innerHTML = docLinkHtml;\n",
              "          element.appendChild(docLink);\n",
              "        }\n",
              "      </script>\n",
              "    </div>\n",
              "  </div>\n",
              "  "
            ]
          },
          "metadata": {},
          "execution_count": 381
        }
      ]
    },
    {
      "cell_type": "code",
      "source": [
        "data['class_price'].describe()"
      ],
      "metadata": {
        "colab": {
          "base_uri": "https://localhost:8080/",
          "height": 0
        },
        "id": "8TXqriT5z1Gb",
        "outputId": "41f9006d-1c17-4ac6-8d32-21db8f0dae70"
      },
      "execution_count": 382,
      "outputs": [
        {
          "output_type": "execute_result",
          "data": {
            "text/plain": [
              "count    5000.000000\n",
              "mean        2.021600\n",
              "std         0.212468\n",
              "min         1.000000\n",
              "25%         2.000000\n",
              "50%         2.000000\n",
              "75%         2.000000\n",
              "max         4.000000\n",
              "Name: class_price, dtype: float64"
            ]
          },
          "metadata": {},
          "execution_count": 382
        }
      ]
    },
    {
      "cell_type": "code",
      "source": [
        "data['class_price'].value_counts()"
      ],
      "metadata": {
        "colab": {
          "base_uri": "https://localhost:8080/",
          "height": 0
        },
        "id": "4ZFoPqIE0DnS",
        "outputId": "0d4b06e2-8e2c-4e81-9a52-9fbf7d0e9a95"
      },
      "execution_count": 383,
      "outputs": [
        {
          "output_type": "execute_result",
          "data": {
            "text/plain": [
              "2    4775\n",
              "3     165\n",
              "1      59\n",
              "4       1\n",
              "Name: class_price, dtype: int64"
            ]
          },
          "metadata": {},
          "execution_count": 383
        }
      ]
    },
    {
      "cell_type": "code",
      "source": [
        "X = X.to_numpy()"
      ],
      "metadata": {
        "id": "GZ1BQBBEUbNy"
      },
      "execution_count": 384,
      "outputs": []
    },
    {
      "cell_type": "code",
      "source": [
        "X"
      ],
      "metadata": {
        "colab": {
          "base_uri": "https://localhost:8080/",
          "height": 0
        },
        "id": "zRvD4536UmlV",
        "outputId": "4657365a-808a-4b9b-8220-851fc580ed11"
      },
      "execution_count": 385,
      "outputs": [
        {
          "output_type": "execute_result",
          "data": {
            "text/plain": [
              "array([[5.3000e+06, 8.5637e+04, 1.3000e+01, 1.0000e+01, 1.0500e+04,\n",
              "        4.0000e+00],\n",
              "       [4.2000e+06, 8.5646e+04, 2.0000e+00, 2.0000e+00, 7.3000e+03,\n",
              "        3.0000e+00],\n",
              "       [4.2000e+06, 8.5646e+04, 2.0000e+00, 3.0000e+00, 3.5120e+03,\n",
              "        3.0000e+00],\n",
              "       ...,\n",
              "       [4.7500e+05, 8.5192e+04, 3.0000e+00, 2.0000e+00, 1.7720e+03,\n",
              "        1.0000e+00],\n",
              "       [5.5000e+05, 8.5745e+04, 4.0000e+00, 4.0000e+00, 3.7240e+03,\n",
              "        2.0000e+00],\n",
              "       [4.5000e+05, 8.5621e+04, 4.0000e+00, 4.0000e+00, 4.3170e+03,\n",
              "        1.0000e+00]])"
            ]
          },
          "metadata": {},
          "execution_count": 385
        }
      ]
    },
    {
      "cell_type": "code",
      "source": [
        "X[:,0]"
      ],
      "metadata": {
        "colab": {
          "base_uri": "https://localhost:8080/",
          "height": 0
        },
        "id": "AuNsCl8qVfL2",
        "outputId": "d9b35a79-8882-40a4-fefc-0765a79a6c5b"
      },
      "execution_count": 386,
      "outputs": [
        {
          "output_type": "execute_result",
          "data": {
            "text/plain": [
              "array([5300000., 4200000., 4200000., ...,  475000.,  550000.,  450000.])"
            ]
          },
          "metadata": {},
          "execution_count": 386
        }
      ]
    },
    {
      "cell_type": "code",
      "source": [
        "y=X[:,0]"
      ],
      "metadata": {
        "id": "LUKu5RboUugb"
      },
      "execution_count": 387,
      "outputs": []
    },
    {
      "cell_type": "code",
      "source": [
        "X=X[:,1:]"
      ],
      "metadata": {
        "id": "4IMISrPpVGVF"
      },
      "execution_count": 388,
      "outputs": []
    },
    {
      "cell_type": "code",
      "source": [
        "X"
      ],
      "metadata": {
        "colab": {
          "base_uri": "https://localhost:8080/",
          "height": 0
        },
        "id": "1Wh9854oVI0S",
        "outputId": "fc0091de-90a6-4124-85c6-856caa7aaf44"
      },
      "execution_count": 389,
      "outputs": [
        {
          "output_type": "execute_result",
          "data": {
            "text/plain": [
              "array([[8.5637e+04, 1.3000e+01, 1.0000e+01, 1.0500e+04, 4.0000e+00],\n",
              "       [8.5646e+04, 2.0000e+00, 2.0000e+00, 7.3000e+03, 3.0000e+00],\n",
              "       [8.5646e+04, 2.0000e+00, 3.0000e+00, 3.5120e+03, 3.0000e+00],\n",
              "       ...,\n",
              "       [8.5192e+04, 3.0000e+00, 2.0000e+00, 1.7720e+03, 1.0000e+00],\n",
              "       [8.5745e+04, 4.0000e+00, 4.0000e+00, 3.7240e+03, 2.0000e+00],\n",
              "       [8.5621e+04, 4.0000e+00, 4.0000e+00, 4.3170e+03, 1.0000e+00]])"
            ]
          },
          "metadata": {},
          "execution_count": 389
        }
      ]
    },
    {
      "cell_type": "code",
      "source": [
        "y"
      ],
      "metadata": {
        "colab": {
          "base_uri": "https://localhost:8080/",
          "height": 0
        },
        "id": "mE23b9zZr4k0",
        "outputId": "812f4083-badf-445c-b6c9-692daaee8d6b"
      },
      "execution_count": 390,
      "outputs": [
        {
          "output_type": "execute_result",
          "data": {
            "text/plain": [
              "array([5300000., 4200000., 4200000., ...,  475000.,  550000.,  450000.])"
            ]
          },
          "metadata": {},
          "execution_count": 390
        }
      ]
    },
    {
      "cell_type": "code",
      "source": [
        "y.shape"
      ],
      "metadata": {
        "colab": {
          "base_uri": "https://localhost:8080/",
          "height": 0
        },
        "id": "4kPaz-J0XQW1",
        "outputId": "786b5ba0-1322-4032-b3db-cd0b1aa113a2"
      },
      "execution_count": 391,
      "outputs": [
        {
          "output_type": "execute_result",
          "data": {
            "text/plain": [
              "(5000,)"
            ]
          },
          "metadata": {},
          "execution_count": 391
        }
      ]
    },
    {
      "cell_type": "code",
      "source": [
        "X.shape"
      ],
      "metadata": {
        "colab": {
          "base_uri": "https://localhost:8080/",
          "height": 0
        },
        "id": "GoCxCAiOXW9m",
        "outputId": "2157fe75-d196-4d89-c9dd-bccf9d84dbdf"
      },
      "execution_count": 392,
      "outputs": [
        {
          "output_type": "execute_result",
          "data": {
            "text/plain": [
              "(5000, 5)"
            ]
          },
          "metadata": {},
          "execution_count": 392
        }
      ]
    },
    {
      "cell_type": "code",
      "source": [
        "class KNNClassifire():\n",
        "\n",
        "  def fit(self, X , y):\n",
        "    self.X=X\n",
        "    self.y=y.astype(int)\n",
        "\n",
        "  def predict(self, X, K, epsilon= 1e-3):\n",
        "\n",
        "    N=len(X)\n",
        "    y_hat = np.zeros(N)\n",
        "\n",
        "    for i in range(N):\n",
        "      dist2 = np.sum((self.X-X[i])**2, axis=1)\n",
        "      idxt = np.argsort(dist2)[:K]\n",
        "      gamma_k = 1/(np.sqrt(dist2[idxt]+epsilon))\n",
        "      y_hat[i] = np.bincount(self.y[idxt], weights = gamma_k).argmax()\n",
        "\n",
        "    return y_hat"
      ],
      "metadata": {
        "id": "v1DU6GDAPyId"
      },
      "execution_count": 393,
      "outputs": []
    },
    {
      "cell_type": "code",
      "source": [
        "def accuracy(y, y_hat):\n",
        "  return np.mean(y==y_hat)"
      ],
      "metadata": {
        "id": "kxZ6pOFJP2uF"
      },
      "execution_count": 394,
      "outputs": []
    },
    {
      "cell_type": "code",
      "source": [
        "knn = KNNClassifire()"
      ],
      "metadata": {
        "id": "sKX1tnGfP8jA"
      },
      "execution_count": 395,
      "outputs": []
    },
    {
      "cell_type": "code",
      "source": [
        "knn.fit(X, y)"
      ],
      "metadata": {
        "id": "6e7k9KPBP_rW"
      },
      "execution_count": 396,
      "outputs": []
    },
    {
      "cell_type": "code",
      "source": [
        "y_hatknn = knn.predict(X, 10)"
      ],
      "metadata": {
        "id": "1gluhpNgQFIp"
      },
      "execution_count": 397,
      "outputs": []
    },
    {
      "cell_type": "code",
      "source": [
        "accuracy(y, y_hatknn)"
      ],
      "metadata": {
        "colab": {
          "base_uri": "https://localhost:8080/",
          "height": 0
        },
        "id": "htrZS-s9kRI8",
        "outputId": "624af5be-0243-43df-a525-668cdecf05c0"
      },
      "execution_count": 398,
      "outputs": [
        {
          "output_type": "execute_result",
          "data": {
            "text/plain": [
              "0.8804"
            ]
          },
          "metadata": {},
          "execution_count": 398
        }
      ]
    },
    {
      "cell_type": "markdown",
      "source": [
        "### KNN"
      ],
      "metadata": {
        "id": "8c6ixyU5lMHe"
      }
    },
    {
      "cell_type": "code",
      "source": [
        "def OLS(Y, Y_hat, N):\n",
        "  return (1/(2^N)*np.sum((Y-Y_hat)**2))\n",
        "\n",
        "def R2(Y, Y_hat):\n",
        "  return (1-(np.sum((Y-Y_hat)**2)/np.sum((Y-np.mean(Y))**2)))\n"
      ],
      "metadata": {
        "id": "2JYgLeCwCWMX"
      },
      "execution_count": 399,
      "outputs": []
    },
    {
      "cell_type": "code",
      "source": [
        "class OurLinearRegression():\n",
        "\n",
        "  def fit(self, X, y, eta=1e-3, epochs =1e3, show_curve=False):\n",
        "\n",
        "    epochs = int(epochs)\n",
        "    N, D = X.shape\n",
        "    Y=y\n",
        "\n",
        "    #Stochastic Gradient Descent:\n",
        "    #Initialize the weights\n",
        "    self.W = np.random.randn(D)\n",
        "\n",
        "    J= np.zeros(epochs)\n",
        "\n",
        "    #Gradient Descent Step\n",
        "\n",
        "    for epoch in range(epochs):\n",
        "      Y_hat = self.predict(X)\n",
        "      J[epoch] = OLS(Y, Y_hat, N) # calculate erro/loss\n",
        "      # Weights update rule\n",
        "      self.W -= eta*(1/N)*(X.T@(Y_hat-Y))\n",
        "\n",
        "    if show_curve:\n",
        "      plt.figure()\n",
        "      plt.plot(J)\n",
        "      plt.xlabel(\"epochs\")\n",
        "      plt.ylabel(\"$\\mathcal{J}$\")\n",
        "      plt.title(\"Training Curve\")\n",
        "      plt.show()\n",
        "\n",
        "  def predict(self, X):\n",
        "    return X@self.W\n"
      ],
      "metadata": {
        "id": "wbPfufupiffT"
      },
      "execution_count": 400,
      "outputs": []
    },
    {
      "cell_type": "code",
      "source": [
        "myReg= OurLinearRegression()"
      ],
      "metadata": {
        "id": "2T-34ZOYlRaY"
      },
      "execution_count": 401,
      "outputs": []
    },
    {
      "cell_type": "code",
      "source": [
        "myReg.fit(X,y, epochs=1e4, eta=1e-13, show_curve=True)"
      ],
      "metadata": {
        "colab": {
          "base_uri": "https://localhost:8080/",
          "height": 295
        },
        "id": "zCiChC0RlaXc",
        "outputId": "1600c96c-ec2d-45ce-dbcf-4f0ed591dc95"
      },
      "execution_count": 402,
      "outputs": [
        {
          "output_type": "display_data",
          "data": {
            "text/plain": [
              "<Figure size 432x288 with 1 Axes>"
            ],
            "image/png": "[encoded data removed]"
          },
          "metadata": {
            "needs_background": "light"
          }
        }
      ]
    },
    {
      "cell_type": "code",
      "source": [
        "Xtest = np.array(X)"
      ],
      "metadata": {
        "id": "GWWyMo7FlzlX"
      },
      "execution_count": 403,
      "outputs": []
    },
    {
      "cell_type": "code",
      "source": [
        "myReg.predict(Xtest)"
      ],
      "metadata": {
        "colab": {
          "base_uri": "https://localhost:8080/",
          "height": 0
        },
        "id": "_ftrWGeLxPMz",
        "outputId": "e7ec6c60-f3c0-4bf0-8222-6669939b6a0f"
      },
      "execution_count": 404,
      "outputs": [
        {
          "output_type": "execute_result",
          "data": {
            "text/plain": [
              "array([773058.05102073, 773302.25166466, 773466.77591262, ...,\n",
              "       769434.98546544, 774345.48229166, 773198.39207182])"
            ]
          },
          "metadata": {},
          "execution_count": 404
        }
      ]
    },
    {
      "cell_type": "code",
      "source": [],
      "metadata": {
        "id": "VpZ27jHN07X1"
      },
      "execution_count": 404,
      "outputs": []
    }
  ]
}